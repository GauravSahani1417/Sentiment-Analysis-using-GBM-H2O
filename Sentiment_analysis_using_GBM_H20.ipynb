{
  "nbformat": 4,
  "nbformat_minor": 0,
  "metadata": {
    "colab": {
      "name": "Sentiment analysis using GBM/H20.ipynb",
      "provenance": [],
      "collapsed_sections": [],
      "authorship_tag": "ABX9TyPqE52NNjItVHqYXco1jRr+",
      "include_colab_link": true
    },
    "kernelspec": {
      "name": "python3",
      "display_name": "Python 3"
    },
    "accelerator": "GPU",
    "widgets": {
      "application/vnd.jupyter.widget-state+json": {
        "a3d59a5987624e88b049d44ee809b31f": {
          "model_module": "@jupyter-widgets/controls",
          "model_name": "HBoxModel",
          "state": {
            "_view_name": "HBoxView",
            "_dom_classes": [],
            "_model_name": "HBoxModel",
            "_view_module": "@jupyter-widgets/controls",
            "_model_module_version": "1.5.0",
            "_view_count": null,
            "_view_module_version": "1.5.0",
            "box_style": "",
            "layout": "IPY_MODEL_768d922bf9304c4baa6051a0b2ea59f9",
            "_model_module": "@jupyter-widgets/controls",
            "children": [
              "IPY_MODEL_8b0ffb77813749aeb60e88bb7f724072",
              "IPY_MODEL_ba4f012dabed4d6bb7d1e749fcc33a04"
            ]
          }
        },
        "768d922bf9304c4baa6051a0b2ea59f9": {
          "model_module": "@jupyter-widgets/base",
          "model_name": "LayoutModel",
          "state": {
            "_view_name": "LayoutView",
            "grid_template_rows": null,
            "right": null,
            "justify_content": null,
            "_view_module": "@jupyter-widgets/base",
            "overflow": null,
            "_model_module_version": "1.2.0",
            "_view_count": null,
            "flex_flow": null,
            "width": null,
            "min_width": null,
            "border": null,
            "align_items": null,
            "bottom": null,
            "_model_module": "@jupyter-widgets/base",
            "top": null,
            "grid_column": null,
            "overflow_y": null,
            "overflow_x": null,
            "grid_auto_flow": null,
            "grid_area": null,
            "grid_template_columns": null,
            "flex": null,
            "_model_name": "LayoutModel",
            "justify_items": null,
            "grid_row": null,
            "max_height": null,
            "align_content": null,
            "visibility": null,
            "align_self": null,
            "height": null,
            "min_height": null,
            "padding": null,
            "grid_auto_rows": null,
            "grid_gap": null,
            "max_width": null,
            "order": null,
            "_view_module_version": "1.2.0",
            "grid_template_areas": null,
            "object_position": null,
            "object_fit": null,
            "grid_auto_columns": null,
            "margin": null,
            "display": null,
            "left": null
          }
        },
        "8b0ffb77813749aeb60e88bb7f724072": {
          "model_module": "@jupyter-widgets/controls",
          "model_name": "FloatProgressModel",
          "state": {
            "_view_name": "ProgressView",
            "style": "IPY_MODEL_d33ad174ac2941e7a56abf6bb28d1e27",
            "_dom_classes": [],
            "description": "Dl Completed...: 100%",
            "_model_name": "FloatProgressModel",
            "bar_style": "success",
            "max": 1,
            "_view_module": "@jupyter-widgets/controls",
            "_model_module_version": "1.5.0",
            "value": 1,
            "_view_count": null,
            "_view_module_version": "1.5.0",
            "orientation": "horizontal",
            "min": 0,
            "description_tooltip": null,
            "_model_module": "@jupyter-widgets/controls",
            "layout": "IPY_MODEL_5e24c55990df4b57b34a350d929ebc1a"
          }
        },
        "ba4f012dabed4d6bb7d1e749fcc33a04": {
          "model_module": "@jupyter-widgets/controls",
          "model_name": "HTMLModel",
          "state": {
            "_view_name": "HTMLView",
            "style": "IPY_MODEL_71ca62e85e7f426bb1a5497137cd369e",
            "_dom_classes": [],
            "description": "",
            "_model_name": "HTMLModel",
            "placeholder": "​",
            "_view_module": "@jupyter-widgets/controls",
            "_model_module_version": "1.5.0",
            "value": " 1/1 [00:02&lt;00:00,  2.14s/ url]",
            "_view_count": null,
            "_view_module_version": "1.5.0",
            "description_tooltip": null,
            "_model_module": "@jupyter-widgets/controls",
            "layout": "IPY_MODEL_60a924d113ba4ed48bca1c0618c91c3f"
          }
        },
        "d33ad174ac2941e7a56abf6bb28d1e27": {
          "model_module": "@jupyter-widgets/controls",
          "model_name": "ProgressStyleModel",
          "state": {
            "_view_name": "StyleView",
            "_model_name": "ProgressStyleModel",
            "description_width": "initial",
            "_view_module": "@jupyter-widgets/base",
            "_model_module_version": "1.5.0",
            "_view_count": null,
            "_view_module_version": "1.2.0",
            "bar_color": null,
            "_model_module": "@jupyter-widgets/controls"
          }
        },
        "5e24c55990df4b57b34a350d929ebc1a": {
          "model_module": "@jupyter-widgets/base",
          "model_name": "LayoutModel",
          "state": {
            "_view_name": "LayoutView",
            "grid_template_rows": null,
            "right": null,
            "justify_content": null,
            "_view_module": "@jupyter-widgets/base",
            "overflow": null,
            "_model_module_version": "1.2.0",
            "_view_count": null,
            "flex_flow": null,
            "width": null,
            "min_width": null,
            "border": null,
            "align_items": null,
            "bottom": null,
            "_model_module": "@jupyter-widgets/base",
            "top": null,
            "grid_column": null,
            "overflow_y": null,
            "overflow_x": null,
            "grid_auto_flow": null,
            "grid_area": null,
            "grid_template_columns": null,
            "flex": null,
            "_model_name": "LayoutModel",
            "justify_items": null,
            "grid_row": null,
            "max_height": null,
            "align_content": null,
            "visibility": null,
            "align_self": null,
            "height": null,
            "min_height": null,
            "padding": null,
            "grid_auto_rows": null,
            "grid_gap": null,
            "max_width": null,
            "order": null,
            "_view_module_version": "1.2.0",
            "grid_template_areas": null,
            "object_position": null,
            "object_fit": null,
            "grid_auto_columns": null,
            "margin": null,
            "display": null,
            "left": null
          }
        },
        "71ca62e85e7f426bb1a5497137cd369e": {
          "model_module": "@jupyter-widgets/controls",
          "model_name": "DescriptionStyleModel",
          "state": {
            "_view_name": "StyleView",
            "_model_name": "DescriptionStyleModel",
            "description_width": "",
            "_view_module": "@jupyter-widgets/base",
            "_model_module_version": "1.5.0",
            "_view_count": null,
            "_view_module_version": "1.2.0",
            "_model_module": "@jupyter-widgets/controls"
          }
        },
        "60a924d113ba4ed48bca1c0618c91c3f": {
          "model_module": "@jupyter-widgets/base",
          "model_name": "LayoutModel",
          "state": {
            "_view_name": "LayoutView",
            "grid_template_rows": null,
            "right": null,
            "justify_content": null,
            "_view_module": "@jupyter-widgets/base",
            "overflow": null,
            "_model_module_version": "1.2.0",
            "_view_count": null,
            "flex_flow": null,
            "width": null,
            "min_width": null,
            "border": null,
            "align_items": null,
            "bottom": null,
            "_model_module": "@jupyter-widgets/base",
            "top": null,
            "grid_column": null,
            "overflow_y": null,
            "overflow_x": null,
            "grid_auto_flow": null,
            "grid_area": null,
            "grid_template_columns": null,
            "flex": null,
            "_model_name": "LayoutModel",
            "justify_items": null,
            "grid_row": null,
            "max_height": null,
            "align_content": null,
            "visibility": null,
            "align_self": null,
            "height": null,
            "min_height": null,
            "padding": null,
            "grid_auto_rows": null,
            "grid_gap": null,
            "max_width": null,
            "order": null,
            "_view_module_version": "1.2.0",
            "grid_template_areas": null,
            "object_position": null,
            "object_fit": null,
            "grid_auto_columns": null,
            "margin": null,
            "display": null,
            "left": null
          }
        },
        "026e105119fc431c947d510d214f9c3f": {
          "model_module": "@jupyter-widgets/controls",
          "model_name": "HBoxModel",
          "state": {
            "_view_name": "HBoxView",
            "_dom_classes": [],
            "_model_name": "HBoxModel",
            "_view_module": "@jupyter-widgets/controls",
            "_model_module_version": "1.5.0",
            "_view_count": null,
            "_view_module_version": "1.5.0",
            "box_style": "",
            "layout": "IPY_MODEL_e6f2d75a0b5e4f29a55fcbdc11985ff5",
            "_model_module": "@jupyter-widgets/controls",
            "children": [
              "IPY_MODEL_1c2fa14c6f15448dbe1208ca78de0b0d",
              "IPY_MODEL_c47cc2973ea040bdabf7f154604d216c"
            ]
          }
        },
        "e6f2d75a0b5e4f29a55fcbdc11985ff5": {
          "model_module": "@jupyter-widgets/base",
          "model_name": "LayoutModel",
          "state": {
            "_view_name": "LayoutView",
            "grid_template_rows": null,
            "right": null,
            "justify_content": null,
            "_view_module": "@jupyter-widgets/base",
            "overflow": null,
            "_model_module_version": "1.2.0",
            "_view_count": null,
            "flex_flow": null,
            "width": null,
            "min_width": null,
            "border": null,
            "align_items": null,
            "bottom": null,
            "_model_module": "@jupyter-widgets/base",
            "top": null,
            "grid_column": null,
            "overflow_y": null,
            "overflow_x": null,
            "grid_auto_flow": null,
            "grid_area": null,
            "grid_template_columns": null,
            "flex": null,
            "_model_name": "LayoutModel",
            "justify_items": null,
            "grid_row": null,
            "max_height": null,
            "align_content": null,
            "visibility": null,
            "align_self": null,
            "height": null,
            "min_height": null,
            "padding": null,
            "grid_auto_rows": null,
            "grid_gap": null,
            "max_width": null,
            "order": null,
            "_view_module_version": "1.2.0",
            "grid_template_areas": null,
            "object_position": null,
            "object_fit": null,
            "grid_auto_columns": null,
            "margin": null,
            "display": null,
            "left": null
          }
        },
        "1c2fa14c6f15448dbe1208ca78de0b0d": {
          "model_module": "@jupyter-widgets/controls",
          "model_name": "FloatProgressModel",
          "state": {
            "_view_name": "ProgressView",
            "style": "IPY_MODEL_4b4ae95b84be43e1acdb9d178df4cb49",
            "_dom_classes": [],
            "description": "Dl Size...: 100%",
            "_model_name": "FloatProgressModel",
            "bar_style": "success",
            "max": 1,
            "_view_module": "@jupyter-widgets/controls",
            "_model_module_version": "1.5.0",
            "value": 1,
            "_view_count": null,
            "_view_module_version": "1.5.0",
            "orientation": "horizontal",
            "min": 0,
            "description_tooltip": null,
            "_model_module": "@jupyter-widgets/controls",
            "layout": "IPY_MODEL_ff9e53a7eafa4e1cafb9f0d9d4be9dd8"
          }
        },
        "c47cc2973ea040bdabf7f154604d216c": {
          "model_module": "@jupyter-widgets/controls",
          "model_name": "HTMLModel",
          "state": {
            "_view_name": "HTMLView",
            "style": "IPY_MODEL_dce9e5b951da48d3a2a71ffd9388332d",
            "_dom_classes": [],
            "description": "",
            "_model_name": "HTMLModel",
            "placeholder": "​",
            "_view_module": "@jupyter-widgets/controls",
            "_model_module_version": "1.5.0",
            "value": " 16/16 [00:02&lt;00:00,  7.58 MiB/s]",
            "_view_count": null,
            "_view_module_version": "1.5.0",
            "description_tooltip": null,
            "_model_module": "@jupyter-widgets/controls",
            "layout": "IPY_MODEL_395a90635bab4f68a1041ead69631356"
          }
        },
        "4b4ae95b84be43e1acdb9d178df4cb49": {
          "model_module": "@jupyter-widgets/controls",
          "model_name": "ProgressStyleModel",
          "state": {
            "_view_name": "StyleView",
            "_model_name": "ProgressStyleModel",
            "description_width": "initial",
            "_view_module": "@jupyter-widgets/base",
            "_model_module_version": "1.5.0",
            "_view_count": null,
            "_view_module_version": "1.2.0",
            "bar_color": null,
            "_model_module": "@jupyter-widgets/controls"
          }
        },
        "ff9e53a7eafa4e1cafb9f0d9d4be9dd8": {
          "model_module": "@jupyter-widgets/base",
          "model_name": "LayoutModel",
          "state": {
            "_view_name": "LayoutView",
            "grid_template_rows": null,
            "right": null,
            "justify_content": null,
            "_view_module": "@jupyter-widgets/base",
            "overflow": null,
            "_model_module_version": "1.2.0",
            "_view_count": null,
            "flex_flow": null,
            "width": null,
            "min_width": null,
            "border": null,
            "align_items": null,
            "bottom": null,
            "_model_module": "@jupyter-widgets/base",
            "top": null,
            "grid_column": null,
            "overflow_y": null,
            "overflow_x": null,
            "grid_auto_flow": null,
            "grid_area": null,
            "grid_template_columns": null,
            "flex": null,
            "_model_name": "LayoutModel",
            "justify_items": null,
            "grid_row": null,
            "max_height": null,
            "align_content": null,
            "visibility": null,
            "align_self": null,
            "height": null,
            "min_height": null,
            "padding": null,
            "grid_auto_rows": null,
            "grid_gap": null,
            "max_width": null,
            "order": null,
            "_view_module_version": "1.2.0",
            "grid_template_areas": null,
            "object_position": null,
            "object_fit": null,
            "grid_auto_columns": null,
            "margin": null,
            "display": null,
            "left": null
          }
        },
        "dce9e5b951da48d3a2a71ffd9388332d": {
          "model_module": "@jupyter-widgets/controls",
          "model_name": "DescriptionStyleModel",
          "state": {
            "_view_name": "StyleView",
            "_model_name": "DescriptionStyleModel",
            "description_width": "",
            "_view_module": "@jupyter-widgets/base",
            "_model_module_version": "1.5.0",
            "_view_count": null,
            "_view_module_version": "1.2.0",
            "_model_module": "@jupyter-widgets/controls"
          }
        },
        "395a90635bab4f68a1041ead69631356": {
          "model_module": "@jupyter-widgets/base",
          "model_name": "LayoutModel",
          "state": {
            "_view_name": "LayoutView",
            "grid_template_rows": null,
            "right": null,
            "justify_content": null,
            "_view_module": "@jupyter-widgets/base",
            "overflow": null,
            "_model_module_version": "1.2.0",
            "_view_count": null,
            "flex_flow": null,
            "width": null,
            "min_width": null,
            "border": null,
            "align_items": null,
            "bottom": null,
            "_model_module": "@jupyter-widgets/base",
            "top": null,
            "grid_column": null,
            "overflow_y": null,
            "overflow_x": null,
            "grid_auto_flow": null,
            "grid_area": null,
            "grid_template_columns": null,
            "flex": null,
            "_model_name": "LayoutModel",
            "justify_items": null,
            "grid_row": null,
            "max_height": null,
            "align_content": null,
            "visibility": null,
            "align_self": null,
            "height": null,
            "min_height": null,
            "padding": null,
            "grid_auto_rows": null,
            "grid_gap": null,
            "max_width": null,
            "order": null,
            "_view_module_version": "1.2.0",
            "grid_template_areas": null,
            "object_position": null,
            "object_fit": null,
            "grid_auto_columns": null,
            "margin": null,
            "display": null,
            "left": null
          }
        },
        "9fd084d135ba45c99f2f3cc95d9129bb": {
          "model_module": "@jupyter-widgets/controls",
          "model_name": "HBoxModel",
          "state": {
            "_view_name": "HBoxView",
            "_dom_classes": [],
            "_model_name": "HBoxModel",
            "_view_module": "@jupyter-widgets/controls",
            "_model_module_version": "1.5.0",
            "_view_count": null,
            "_view_module_version": "1.5.0",
            "box_style": "",
            "layout": "IPY_MODEL_acb986731eb14698bb35592bbd65c50a",
            "_model_module": "@jupyter-widgets/controls",
            "children": [
              "IPY_MODEL_58bcb7a980a54bb8952d405fb3c4c212",
              "IPY_MODEL_b6e1b24a68ab4445947df9db4c9d3c58"
            ]
          }
        },
        "acb986731eb14698bb35592bbd65c50a": {
          "model_module": "@jupyter-widgets/base",
          "model_name": "LayoutModel",
          "state": {
            "_view_name": "LayoutView",
            "grid_template_rows": null,
            "right": null,
            "justify_content": null,
            "_view_module": "@jupyter-widgets/base",
            "overflow": null,
            "_model_module_version": "1.2.0",
            "_view_count": null,
            "flex_flow": null,
            "width": null,
            "min_width": null,
            "border": null,
            "align_items": null,
            "bottom": null,
            "_model_module": "@jupyter-widgets/base",
            "top": null,
            "grid_column": null,
            "overflow_y": null,
            "overflow_x": null,
            "grid_auto_flow": null,
            "grid_area": null,
            "grid_template_columns": null,
            "flex": null,
            "_model_name": "LayoutModel",
            "justify_items": null,
            "grid_row": null,
            "max_height": null,
            "align_content": null,
            "visibility": null,
            "align_self": null,
            "height": null,
            "min_height": null,
            "padding": null,
            "grid_auto_rows": null,
            "grid_gap": null,
            "max_width": null,
            "order": null,
            "_view_module_version": "1.2.0",
            "grid_template_areas": null,
            "object_position": null,
            "object_fit": null,
            "grid_auto_columns": null,
            "margin": null,
            "display": null,
            "left": null
          }
        },
        "58bcb7a980a54bb8952d405fb3c4c212": {
          "model_module": "@jupyter-widgets/controls",
          "model_name": "FloatProgressModel",
          "state": {
            "_view_name": "ProgressView",
            "style": "IPY_MODEL_2831b52df2ff46509de3b8ea9b315d68",
            "_dom_classes": [],
            "description": "Extraction completed...: 100%",
            "_model_name": "FloatProgressModel",
            "bar_style": "success",
            "max": 1,
            "_view_module": "@jupyter-widgets/controls",
            "_model_module_version": "1.5.0",
            "value": 1,
            "_view_count": null,
            "_view_module_version": "1.5.0",
            "orientation": "horizontal",
            "min": 0,
            "description_tooltip": null,
            "_model_module": "@jupyter-widgets/controls",
            "layout": "IPY_MODEL_1890f06c475b4a31b4710b435764f130"
          }
        },
        "b6e1b24a68ab4445947df9db4c9d3c58": {
          "model_module": "@jupyter-widgets/controls",
          "model_name": "HTMLModel",
          "state": {
            "_view_name": "HTMLView",
            "style": "IPY_MODEL_b47536ca8da44619bbb8a00fe3448ea2",
            "_dom_classes": [],
            "description": "",
            "_model_name": "HTMLModel",
            "placeholder": "​",
            "_view_module": "@jupyter-widgets/controls",
            "_model_module_version": "1.5.0",
            "value": " 1/1 [00:02&lt;00:00,  2.07s/ file]",
            "_view_count": null,
            "_view_module_version": "1.5.0",
            "description_tooltip": null,
            "_model_module": "@jupyter-widgets/controls",
            "layout": "IPY_MODEL_e2723ca59e674f3fb4e81b6490ee1977"
          }
        },
        "2831b52df2ff46509de3b8ea9b315d68": {
          "model_module": "@jupyter-widgets/controls",
          "model_name": "ProgressStyleModel",
          "state": {
            "_view_name": "StyleView",
            "_model_name": "ProgressStyleModel",
            "description_width": "initial",
            "_view_module": "@jupyter-widgets/base",
            "_model_module_version": "1.5.0",
            "_view_count": null,
            "_view_module_version": "1.2.0",
            "bar_color": null,
            "_model_module": "@jupyter-widgets/controls"
          }
        },
        "1890f06c475b4a31b4710b435764f130": {
          "model_module": "@jupyter-widgets/base",
          "model_name": "LayoutModel",
          "state": {
            "_view_name": "LayoutView",
            "grid_template_rows": null,
            "right": null,
            "justify_content": null,
            "_view_module": "@jupyter-widgets/base",
            "overflow": null,
            "_model_module_version": "1.2.0",
            "_view_count": null,
            "flex_flow": null,
            "width": null,
            "min_width": null,
            "border": null,
            "align_items": null,
            "bottom": null,
            "_model_module": "@jupyter-widgets/base",
            "top": null,
            "grid_column": null,
            "overflow_y": null,
            "overflow_x": null,
            "grid_auto_flow": null,
            "grid_area": null,
            "grid_template_columns": null,
            "flex": null,
            "_model_name": "LayoutModel",
            "justify_items": null,
            "grid_row": null,
            "max_height": null,
            "align_content": null,
            "visibility": null,
            "align_self": null,
            "height": null,
            "min_height": null,
            "padding": null,
            "grid_auto_rows": null,
            "grid_gap": null,
            "max_width": null,
            "order": null,
            "_view_module_version": "1.2.0",
            "grid_template_areas": null,
            "object_position": null,
            "object_fit": null,
            "grid_auto_columns": null,
            "margin": null,
            "display": null,
            "left": null
          }
        },
        "b47536ca8da44619bbb8a00fe3448ea2": {
          "model_module": "@jupyter-widgets/controls",
          "model_name": "DescriptionStyleModel",
          "state": {
            "_view_name": "StyleView",
            "_model_name": "DescriptionStyleModel",
            "description_width": "",
            "_view_module": "@jupyter-widgets/base",
            "_model_module_version": "1.5.0",
            "_view_count": null,
            "_view_module_version": "1.2.0",
            "_model_module": "@jupyter-widgets/controls"
          }
        },
        "e2723ca59e674f3fb4e81b6490ee1977": {
          "model_module": "@jupyter-widgets/base",
          "model_name": "LayoutModel",
          "state": {
            "_view_name": "LayoutView",
            "grid_template_rows": null,
            "right": null,
            "justify_content": null,
            "_view_module": "@jupyter-widgets/base",
            "overflow": null,
            "_model_module_version": "1.2.0",
            "_view_count": null,
            "flex_flow": null,
            "width": null,
            "min_width": null,
            "border": null,
            "align_items": null,
            "bottom": null,
            "_model_module": "@jupyter-widgets/base",
            "top": null,
            "grid_column": null,
            "overflow_y": null,
            "overflow_x": null,
            "grid_auto_flow": null,
            "grid_area": null,
            "grid_template_columns": null,
            "flex": null,
            "_model_name": "LayoutModel",
            "justify_items": null,
            "grid_row": null,
            "max_height": null,
            "align_content": null,
            "visibility": null,
            "align_self": null,
            "height": null,
            "min_height": null,
            "padding": null,
            "grid_auto_rows": null,
            "grid_gap": null,
            "max_width": null,
            "order": null,
            "_view_module_version": "1.2.0",
            "grid_template_areas": null,
            "object_position": null,
            "object_fit": null,
            "grid_auto_columns": null,
            "margin": null,
            "display": null,
            "left": null
          }
        },
        "09011bbb13384601875a53b16462298a": {
          "model_module": "@jupyter-widgets/controls",
          "model_name": "HBoxModel",
          "state": {
            "_view_name": "HBoxView",
            "_dom_classes": [],
            "_model_name": "HBoxModel",
            "_view_module": "@jupyter-widgets/controls",
            "_model_module_version": "1.5.0",
            "_view_count": null,
            "_view_module_version": "1.5.0",
            "box_style": "",
            "layout": "IPY_MODEL_238daa40fdf94a49b0fa9f2a3b323709",
            "_model_module": "@jupyter-widgets/controls",
            "children": [
              "IPY_MODEL_7bdccfbc1e684f89a11872fba4401b73",
              "IPY_MODEL_4b1450d1d11f453eaebdb09d6eceaa8f"
            ]
          }
        },
        "238daa40fdf94a49b0fa9f2a3b323709": {
          "model_module": "@jupyter-widgets/base",
          "model_name": "LayoutModel",
          "state": {
            "_view_name": "LayoutView",
            "grid_template_rows": null,
            "right": null,
            "justify_content": null,
            "_view_module": "@jupyter-widgets/base",
            "overflow": null,
            "_model_module_version": "1.2.0",
            "_view_count": null,
            "flex_flow": null,
            "width": null,
            "min_width": null,
            "border": null,
            "align_items": null,
            "bottom": null,
            "_model_module": "@jupyter-widgets/base",
            "top": null,
            "grid_column": null,
            "overflow_y": null,
            "overflow_x": null,
            "grid_auto_flow": null,
            "grid_area": null,
            "grid_template_columns": null,
            "flex": null,
            "_model_name": "LayoutModel",
            "justify_items": null,
            "grid_row": null,
            "max_height": null,
            "align_content": null,
            "visibility": null,
            "align_self": null,
            "height": null,
            "min_height": null,
            "padding": null,
            "grid_auto_rows": null,
            "grid_gap": null,
            "max_width": null,
            "order": null,
            "_view_module_version": "1.2.0",
            "grid_template_areas": null,
            "object_position": null,
            "object_fit": null,
            "grid_auto_columns": null,
            "margin": null,
            "display": null,
            "left": null
          }
        },
        "7bdccfbc1e684f89a11872fba4401b73": {
          "model_module": "@jupyter-widgets/controls",
          "model_name": "FloatProgressModel",
          "state": {
            "_view_name": "ProgressView",
            "style": "IPY_MODEL_f3cba401f5a14efc9d6e1cbadd4e5fda",
            "_dom_classes": [],
            "description": "",
            "_model_name": "FloatProgressModel",
            "bar_style": "info",
            "max": 1,
            "_view_module": "@jupyter-widgets/controls",
            "_model_module_version": "1.5.0",
            "value": 1,
            "_view_count": null,
            "_view_module_version": "1.5.0",
            "orientation": "horizontal",
            "min": 0,
            "description_tooltip": null,
            "_model_module": "@jupyter-widgets/controls",
            "layout": "IPY_MODEL_46217c46c46e4db8800e8c387c7adf58"
          }
        },
        "4b1450d1d11f453eaebdb09d6eceaa8f": {
          "model_module": "@jupyter-widgets/controls",
          "model_name": "HTMLModel",
          "state": {
            "_view_name": "HTMLView",
            "style": "IPY_MODEL_ee4df89180dd4b509895107f6ede229f",
            "_dom_classes": [],
            "description": "",
            "_model_name": "HTMLModel",
            "placeholder": "​",
            "_view_module": "@jupyter-widgets/controls",
            "_model_module_version": "1.5.0",
            "value": " 85981/0 [01:15&lt;00:00, 1230.84 examples/s]",
            "_view_count": null,
            "_view_module_version": "1.5.0",
            "description_tooltip": null,
            "_model_module": "@jupyter-widgets/controls",
            "layout": "IPY_MODEL_87c5a63b9dca4af1bee2847c1508bb21"
          }
        },
        "f3cba401f5a14efc9d6e1cbadd4e5fda": {
          "model_module": "@jupyter-widgets/controls",
          "model_name": "ProgressStyleModel",
          "state": {
            "_view_name": "StyleView",
            "_model_name": "ProgressStyleModel",
            "description_width": "initial",
            "_view_module": "@jupyter-widgets/base",
            "_model_module_version": "1.5.0",
            "_view_count": null,
            "_view_module_version": "1.2.0",
            "bar_color": null,
            "_model_module": "@jupyter-widgets/controls"
          }
        },
        "46217c46c46e4db8800e8c387c7adf58": {
          "model_module": "@jupyter-widgets/base",
          "model_name": "LayoutModel",
          "state": {
            "_view_name": "LayoutView",
            "grid_template_rows": null,
            "right": null,
            "justify_content": null,
            "_view_module": "@jupyter-widgets/base",
            "overflow": null,
            "_model_module_version": "1.2.0",
            "_view_count": null,
            "flex_flow": null,
            "width": null,
            "min_width": null,
            "border": null,
            "align_items": null,
            "bottom": null,
            "_model_module": "@jupyter-widgets/base",
            "top": null,
            "grid_column": null,
            "overflow_y": null,
            "overflow_x": null,
            "grid_auto_flow": null,
            "grid_area": null,
            "grid_template_columns": null,
            "flex": null,
            "_model_name": "LayoutModel",
            "justify_items": null,
            "grid_row": null,
            "max_height": null,
            "align_content": null,
            "visibility": null,
            "align_self": null,
            "height": null,
            "min_height": null,
            "padding": null,
            "grid_auto_rows": null,
            "grid_gap": null,
            "max_width": null,
            "order": null,
            "_view_module_version": "1.2.0",
            "grid_template_areas": null,
            "object_position": null,
            "object_fit": null,
            "grid_auto_columns": null,
            "margin": null,
            "display": null,
            "left": null
          }
        },
        "ee4df89180dd4b509895107f6ede229f": {
          "model_module": "@jupyter-widgets/controls",
          "model_name": "DescriptionStyleModel",
          "state": {
            "_view_name": "StyleView",
            "_model_name": "DescriptionStyleModel",
            "description_width": "",
            "_view_module": "@jupyter-widgets/base",
            "_model_module_version": "1.5.0",
            "_view_count": null,
            "_view_module_version": "1.2.0",
            "_model_module": "@jupyter-widgets/controls"
          }
        },
        "87c5a63b9dca4af1bee2847c1508bb21": {
          "model_module": "@jupyter-widgets/base",
          "model_name": "LayoutModel",
          "state": {
            "_view_name": "LayoutView",
            "grid_template_rows": null,
            "right": null,
            "justify_content": null,
            "_view_module": "@jupyter-widgets/base",
            "overflow": null,
            "_model_module_version": "1.2.0",
            "_view_count": null,
            "flex_flow": null,
            "width": null,
            "min_width": null,
            "border": null,
            "align_items": null,
            "bottom": null,
            "_model_module": "@jupyter-widgets/base",
            "top": null,
            "grid_column": null,
            "overflow_y": null,
            "overflow_x": null,
            "grid_auto_flow": null,
            "grid_area": null,
            "grid_template_columns": null,
            "flex": null,
            "_model_name": "LayoutModel",
            "justify_items": null,
            "grid_row": null,
            "max_height": null,
            "align_content": null,
            "visibility": null,
            "align_self": null,
            "height": null,
            "min_height": null,
            "padding": null,
            "grid_auto_rows": null,
            "grid_gap": null,
            "max_width": null,
            "order": null,
            "_view_module_version": "1.2.0",
            "grid_template_areas": null,
            "object_position": null,
            "object_fit": null,
            "grid_auto_columns": null,
            "margin": null,
            "display": null,
            "left": null
          }
        },
        "5afcd32119f442cba04d2f0adb82179f": {
          "model_module": "@jupyter-widgets/controls",
          "model_name": "HBoxModel",
          "state": {
            "_view_name": "HBoxView",
            "_dom_classes": [],
            "_model_name": "HBoxModel",
            "_view_module": "@jupyter-widgets/controls",
            "_model_module_version": "1.5.0",
            "_view_count": null,
            "_view_module_version": "1.5.0",
            "box_style": "",
            "layout": "IPY_MODEL_aed88b692566456b9a95fc8f11b732c2",
            "_model_module": "@jupyter-widgets/controls",
            "children": [
              "IPY_MODEL_096807edf0e844418005b70e7837dd67",
              "IPY_MODEL_c4560c0ad6564ab9a16d2d07f2abc48e"
            ]
          }
        },
        "aed88b692566456b9a95fc8f11b732c2": {
          "model_module": "@jupyter-widgets/base",
          "model_name": "LayoutModel",
          "state": {
            "_view_name": "LayoutView",
            "grid_template_rows": null,
            "right": null,
            "justify_content": null,
            "_view_module": "@jupyter-widgets/base",
            "overflow": null,
            "_model_module_version": "1.2.0",
            "_view_count": null,
            "flex_flow": null,
            "width": null,
            "min_width": null,
            "border": null,
            "align_items": null,
            "bottom": null,
            "_model_module": "@jupyter-widgets/base",
            "top": null,
            "grid_column": null,
            "overflow_y": null,
            "overflow_x": null,
            "grid_auto_flow": null,
            "grid_area": null,
            "grid_template_columns": null,
            "flex": null,
            "_model_name": "LayoutModel",
            "justify_items": null,
            "grid_row": null,
            "max_height": null,
            "align_content": null,
            "visibility": null,
            "align_self": null,
            "height": null,
            "min_height": null,
            "padding": null,
            "grid_auto_rows": null,
            "grid_gap": null,
            "max_width": null,
            "order": null,
            "_view_module_version": "1.2.0",
            "grid_template_areas": null,
            "object_position": null,
            "object_fit": null,
            "grid_auto_columns": null,
            "margin": null,
            "display": null,
            "left": null
          }
        },
        "096807edf0e844418005b70e7837dd67": {
          "model_module": "@jupyter-widgets/controls",
          "model_name": "FloatProgressModel",
          "state": {
            "_view_name": "ProgressView",
            "style": "IPY_MODEL_7ed26a1fe4cb43f6bace6201ee558ef1",
            "_dom_classes": [],
            "description": " 80%",
            "_model_name": "FloatProgressModel",
            "bar_style": "danger",
            "max": 85981,
            "_view_module": "@jupyter-widgets/controls",
            "_model_module_version": "1.5.0",
            "value": 69164,
            "_view_count": null,
            "_view_module_version": "1.5.0",
            "orientation": "horizontal",
            "min": 0,
            "description_tooltip": null,
            "_model_module": "@jupyter-widgets/controls",
            "layout": "IPY_MODEL_36253da3755348e6b27ce3a43afb50d5"
          }
        },
        "c4560c0ad6564ab9a16d2d07f2abc48e": {
          "model_module": "@jupyter-widgets/controls",
          "model_name": "HTMLModel",
          "state": {
            "_view_name": "HTMLView",
            "style": "IPY_MODEL_51517bfc2500451490059394bf308f30",
            "_dom_classes": [],
            "description": "",
            "_model_name": "HTMLModel",
            "placeholder": "​",
            "_view_module": "@jupyter-widgets/controls",
            "_model_module_version": "1.5.0",
            "value": " 69164/85981 [00:00&lt;14:15, 19.66 examples/s]",
            "_view_count": null,
            "_view_module_version": "1.5.0",
            "description_tooltip": null,
            "_model_module": "@jupyter-widgets/controls",
            "layout": "IPY_MODEL_dd4f809ce90e42d689145e23218f0bb4"
          }
        },
        "7ed26a1fe4cb43f6bace6201ee558ef1": {
          "model_module": "@jupyter-widgets/controls",
          "model_name": "ProgressStyleModel",
          "state": {
            "_view_name": "StyleView",
            "_model_name": "ProgressStyleModel",
            "description_width": "initial",
            "_view_module": "@jupyter-widgets/base",
            "_model_module_version": "1.5.0",
            "_view_count": null,
            "_view_module_version": "1.2.0",
            "bar_color": null,
            "_model_module": "@jupyter-widgets/controls"
          }
        },
        "36253da3755348e6b27ce3a43afb50d5": {
          "model_module": "@jupyter-widgets/base",
          "model_name": "LayoutModel",
          "state": {
            "_view_name": "LayoutView",
            "grid_template_rows": null,
            "right": null,
            "justify_content": null,
            "_view_module": "@jupyter-widgets/base",
            "overflow": null,
            "_model_module_version": "1.2.0",
            "_view_count": null,
            "flex_flow": null,
            "width": null,
            "min_width": null,
            "border": null,
            "align_items": null,
            "bottom": null,
            "_model_module": "@jupyter-widgets/base",
            "top": null,
            "grid_column": null,
            "overflow_y": null,
            "overflow_x": null,
            "grid_auto_flow": null,
            "grid_area": null,
            "grid_template_columns": null,
            "flex": null,
            "_model_name": "LayoutModel",
            "justify_items": null,
            "grid_row": null,
            "max_height": null,
            "align_content": null,
            "visibility": null,
            "align_self": null,
            "height": null,
            "min_height": null,
            "padding": null,
            "grid_auto_rows": null,
            "grid_gap": null,
            "max_width": null,
            "order": null,
            "_view_module_version": "1.2.0",
            "grid_template_areas": null,
            "object_position": null,
            "object_fit": null,
            "grid_auto_columns": null,
            "margin": null,
            "display": null,
            "left": null
          }
        },
        "51517bfc2500451490059394bf308f30": {
          "model_module": "@jupyter-widgets/controls",
          "model_name": "DescriptionStyleModel",
          "state": {
            "_view_name": "StyleView",
            "_model_name": "DescriptionStyleModel",
            "description_width": "",
            "_view_module": "@jupyter-widgets/base",
            "_model_module_version": "1.5.0",
            "_view_count": null,
            "_view_module_version": "1.2.0",
            "_model_module": "@jupyter-widgets/controls"
          }
        },
        "dd4f809ce90e42d689145e23218f0bb4": {
          "model_module": "@jupyter-widgets/base",
          "model_name": "LayoutModel",
          "state": {
            "_view_name": "LayoutView",
            "grid_template_rows": null,
            "right": null,
            "justify_content": null,
            "_view_module": "@jupyter-widgets/base",
            "overflow": null,
            "_model_module_version": "1.2.0",
            "_view_count": null,
            "flex_flow": null,
            "width": null,
            "min_width": null,
            "border": null,
            "align_items": null,
            "bottom": null,
            "_model_module": "@jupyter-widgets/base",
            "top": null,
            "grid_column": null,
            "overflow_y": null,
            "overflow_x": null,
            "grid_auto_flow": null,
            "grid_area": null,
            "grid_template_columns": null,
            "flex": null,
            "_model_name": "LayoutModel",
            "justify_items": null,
            "grid_row": null,
            "max_height": null,
            "align_content": null,
            "visibility": null,
            "align_self": null,
            "height": null,
            "min_height": null,
            "padding": null,
            "grid_auto_rows": null,
            "grid_gap": null,
            "max_width": null,
            "order": null,
            "_view_module_version": "1.2.0",
            "grid_template_areas": null,
            "object_position": null,
            "object_fit": null,
            "grid_auto_columns": null,
            "margin": null,
            "display": null,
            "left": null
          }
        },
        "8652258ea63f495190ecb1261053be20": {
          "model_module": "@jupyter-widgets/controls",
          "model_name": "HBoxModel",
          "state": {
            "_view_name": "HBoxView",
            "_dom_classes": [],
            "_model_name": "HBoxModel",
            "_view_module": "@jupyter-widgets/controls",
            "_model_module_version": "1.5.0",
            "_view_count": null,
            "_view_module_version": "1.5.0",
            "box_style": "",
            "layout": "IPY_MODEL_88cdc59aa7da42fe96bc9d211f5a0509",
            "_model_module": "@jupyter-widgets/controls",
            "children": [
              "IPY_MODEL_9df0d83896c64978aa970048dfa0e568",
              "IPY_MODEL_b2adeb15c1e945e09740d886f9ca7d27"
            ]
          }
        },
        "88cdc59aa7da42fe96bc9d211f5a0509": {
          "model_module": "@jupyter-widgets/base",
          "model_name": "LayoutModel",
          "state": {
            "_view_name": "LayoutView",
            "grid_template_rows": null,
            "right": null,
            "justify_content": null,
            "_view_module": "@jupyter-widgets/base",
            "overflow": null,
            "_model_module_version": "1.2.0",
            "_view_count": null,
            "flex_flow": null,
            "width": null,
            "min_width": null,
            "border": null,
            "align_items": null,
            "bottom": null,
            "_model_module": "@jupyter-widgets/base",
            "top": null,
            "grid_column": null,
            "overflow_y": null,
            "overflow_x": null,
            "grid_auto_flow": null,
            "grid_area": null,
            "grid_template_columns": null,
            "flex": null,
            "_model_name": "LayoutModel",
            "justify_items": null,
            "grid_row": null,
            "max_height": null,
            "align_content": null,
            "visibility": null,
            "align_self": null,
            "height": null,
            "min_height": null,
            "padding": null,
            "grid_auto_rows": null,
            "grid_gap": null,
            "max_width": null,
            "order": null,
            "_view_module_version": "1.2.0",
            "grid_template_areas": null,
            "object_position": null,
            "object_fit": null,
            "grid_auto_columns": null,
            "margin": null,
            "display": null,
            "left": null
          }
        },
        "9df0d83896c64978aa970048dfa0e568": {
          "model_module": "@jupyter-widgets/controls",
          "model_name": "FloatProgressModel",
          "state": {
            "_view_name": "ProgressView",
            "style": "IPY_MODEL_ab2e205a304d4e078e25417eaa564617",
            "_dom_classes": [],
            "description": "Computing statistics...: 100%",
            "_model_name": "FloatProgressModel",
            "bar_style": "success",
            "max": 1,
            "_view_module": "@jupyter-widgets/controls",
            "_model_module_version": "1.5.0",
            "value": 1,
            "_view_count": null,
            "_view_module_version": "1.5.0",
            "orientation": "horizontal",
            "min": 0,
            "description_tooltip": null,
            "_model_module": "@jupyter-widgets/controls",
            "layout": "IPY_MODEL_880e36d3473f4bacbfa78dae4bfc546a"
          }
        },
        "b2adeb15c1e945e09740d886f9ca7d27": {
          "model_module": "@jupyter-widgets/controls",
          "model_name": "HTMLModel",
          "state": {
            "_view_name": "HTMLView",
            "style": "IPY_MODEL_3e872a456d1b4a63ab2e543b0b3a48c0",
            "_dom_classes": [],
            "description": "",
            "_model_name": "HTMLModel",
            "placeholder": "​",
            "_view_module": "@jupyter-widgets/controls",
            "_model_module_version": "1.5.0",
            "value": " 1/1 [00:42&lt;00:00, 42.07s/ split]",
            "_view_count": null,
            "_view_module_version": "1.5.0",
            "description_tooltip": null,
            "_model_module": "@jupyter-widgets/controls",
            "layout": "IPY_MODEL_190c9d7f4ab549c68f42cf11c3c2fa01"
          }
        },
        "ab2e205a304d4e078e25417eaa564617": {
          "model_module": "@jupyter-widgets/controls",
          "model_name": "ProgressStyleModel",
          "state": {
            "_view_name": "StyleView",
            "_model_name": "ProgressStyleModel",
            "description_width": "initial",
            "_view_module": "@jupyter-widgets/base",
            "_model_module_version": "1.5.0",
            "_view_count": null,
            "_view_module_version": "1.2.0",
            "bar_color": null,
            "_model_module": "@jupyter-widgets/controls"
          }
        },
        "880e36d3473f4bacbfa78dae4bfc546a": {
          "model_module": "@jupyter-widgets/base",
          "model_name": "LayoutModel",
          "state": {
            "_view_name": "LayoutView",
            "grid_template_rows": null,
            "right": null,
            "justify_content": null,
            "_view_module": "@jupyter-widgets/base",
            "overflow": null,
            "_model_module_version": "1.2.0",
            "_view_count": null,
            "flex_flow": null,
            "width": null,
            "min_width": null,
            "border": null,
            "align_items": null,
            "bottom": null,
            "_model_module": "@jupyter-widgets/base",
            "top": null,
            "grid_column": null,
            "overflow_y": null,
            "overflow_x": null,
            "grid_auto_flow": null,
            "grid_area": null,
            "grid_template_columns": null,
            "flex": null,
            "_model_name": "LayoutModel",
            "justify_items": null,
            "grid_row": null,
            "max_height": null,
            "align_content": null,
            "visibility": null,
            "align_self": null,
            "height": null,
            "min_height": null,
            "padding": null,
            "grid_auto_rows": null,
            "grid_gap": null,
            "max_width": null,
            "order": null,
            "_view_module_version": "1.2.0",
            "grid_template_areas": null,
            "object_position": null,
            "object_fit": null,
            "grid_auto_columns": null,
            "margin": null,
            "display": null,
            "left": null
          }
        },
        "3e872a456d1b4a63ab2e543b0b3a48c0": {
          "model_module": "@jupyter-widgets/controls",
          "model_name": "DescriptionStyleModel",
          "state": {
            "_view_name": "StyleView",
            "_model_name": "DescriptionStyleModel",
            "description_width": "",
            "_view_module": "@jupyter-widgets/base",
            "_model_module_version": "1.5.0",
            "_view_count": null,
            "_view_module_version": "1.2.0",
            "_model_module": "@jupyter-widgets/controls"
          }
        },
        "190c9d7f4ab549c68f42cf11c3c2fa01": {
          "model_module": "@jupyter-widgets/base",
          "model_name": "LayoutModel",
          "state": {
            "_view_name": "LayoutView",
            "grid_template_rows": null,
            "right": null,
            "justify_content": null,
            "_view_module": "@jupyter-widgets/base",
            "overflow": null,
            "_model_module_version": "1.2.0",
            "_view_count": null,
            "flex_flow": null,
            "width": null,
            "min_width": null,
            "border": null,
            "align_items": null,
            "bottom": null,
            "_model_module": "@jupyter-widgets/base",
            "top": null,
            "grid_column": null,
            "overflow_y": null,
            "overflow_x": null,
            "grid_auto_flow": null,
            "grid_area": null,
            "grid_template_columns": null,
            "flex": null,
            "_model_name": "LayoutModel",
            "justify_items": null,
            "grid_row": null,
            "max_height": null,
            "align_content": null,
            "visibility": null,
            "align_self": null,
            "height": null,
            "min_height": null,
            "padding": null,
            "grid_auto_rows": null,
            "grid_gap": null,
            "max_width": null,
            "order": null,
            "_view_module_version": "1.2.0",
            "grid_template_areas": null,
            "object_position": null,
            "object_fit": null,
            "grid_auto_columns": null,
            "margin": null,
            "display": null,
            "left": null
          }
        },
        "b12470c03eeb46428b7b5cc9adf7c918": {
          "model_module": "@jupyter-widgets/controls",
          "model_name": "HBoxModel",
          "state": {
            "_view_name": "HBoxView",
            "_dom_classes": [],
            "_model_name": "HBoxModel",
            "_view_module": "@jupyter-widgets/controls",
            "_model_module_version": "1.5.0",
            "_view_count": null,
            "_view_module_version": "1.5.0",
            "box_style": "",
            "layout": "IPY_MODEL_815bfd68f469479bacd9382bd5516d9b",
            "_model_module": "@jupyter-widgets/controls",
            "children": [
              "IPY_MODEL_77b89affa6d94f2c82484278dcbdf24e",
              "IPY_MODEL_c28d848dcc1c4d478dc04edb487804de"
            ]
          }
        },
        "815bfd68f469479bacd9382bd5516d9b": {
          "model_module": "@jupyter-widgets/base",
          "model_name": "LayoutModel",
          "state": {
            "_view_name": "LayoutView",
            "grid_template_rows": null,
            "right": null,
            "justify_content": null,
            "_view_module": "@jupyter-widgets/base",
            "overflow": null,
            "_model_module_version": "1.2.0",
            "_view_count": null,
            "flex_flow": null,
            "width": null,
            "min_width": null,
            "border": null,
            "align_items": null,
            "bottom": null,
            "_model_module": "@jupyter-widgets/base",
            "top": null,
            "grid_column": null,
            "overflow_y": null,
            "overflow_x": null,
            "grid_auto_flow": null,
            "grid_area": null,
            "grid_template_columns": null,
            "flex": null,
            "_model_name": "LayoutModel",
            "justify_items": null,
            "grid_row": null,
            "max_height": null,
            "align_content": null,
            "visibility": null,
            "align_self": null,
            "height": null,
            "min_height": null,
            "padding": null,
            "grid_auto_rows": null,
            "grid_gap": null,
            "max_width": null,
            "order": null,
            "_view_module_version": "1.2.0",
            "grid_template_areas": null,
            "object_position": null,
            "object_fit": null,
            "grid_auto_columns": null,
            "margin": null,
            "display": null,
            "left": null
          }
        },
        "77b89affa6d94f2c82484278dcbdf24e": {
          "model_module": "@jupyter-widgets/controls",
          "model_name": "FloatProgressModel",
          "state": {
            "_view_name": "ProgressView",
            "style": "IPY_MODEL_5f78d225fff8496c8bfd48b66e36e4b7",
            "_dom_classes": [],
            "description": "",
            "_model_name": "FloatProgressModel",
            "bar_style": "info",
            "max": 1,
            "_view_module": "@jupyter-widgets/controls",
            "_model_module_version": "1.5.0",
            "value": 1,
            "_view_count": null,
            "_view_module_version": "1.5.0",
            "orientation": "horizontal",
            "min": 0,
            "description_tooltip": null,
            "_model_module": "@jupyter-widgets/controls",
            "layout": "IPY_MODEL_7a3151e15e794b00882fccaadb840164"
          }
        },
        "c28d848dcc1c4d478dc04edb487804de": {
          "model_module": "@jupyter-widgets/controls",
          "model_name": "HTMLModel",
          "state": {
            "_view_name": "HTMLView",
            "style": "IPY_MODEL_67b25c10a45b47819153fc35c4681694",
            "_dom_classes": [],
            "description": "",
            "_model_name": "HTMLModel",
            "placeholder": "​",
            "_view_module": "@jupyter-widgets/controls",
            "_model_module_version": "1.5.0",
            "value": " 85981/? [00:36&lt;00:00, 2480.78 examples/s]",
            "_view_count": null,
            "_view_module_version": "1.5.0",
            "description_tooltip": null,
            "_model_module": "@jupyter-widgets/controls",
            "layout": "IPY_MODEL_13074d8a75734af2995acdcb161f1716"
          }
        },
        "5f78d225fff8496c8bfd48b66e36e4b7": {
          "model_module": "@jupyter-widgets/controls",
          "model_name": "ProgressStyleModel",
          "state": {
            "_view_name": "StyleView",
            "_model_name": "ProgressStyleModel",
            "description_width": "initial",
            "_view_module": "@jupyter-widgets/base",
            "_model_module_version": "1.5.0",
            "_view_count": null,
            "_view_module_version": "1.2.0",
            "bar_color": null,
            "_model_module": "@jupyter-widgets/controls"
          }
        },
        "7a3151e15e794b00882fccaadb840164": {
          "model_module": "@jupyter-widgets/base",
          "model_name": "LayoutModel",
          "state": {
            "_view_name": "LayoutView",
            "grid_template_rows": null,
            "right": null,
            "justify_content": null,
            "_view_module": "@jupyter-widgets/base",
            "overflow": null,
            "_model_module_version": "1.2.0",
            "_view_count": null,
            "flex_flow": null,
            "width": null,
            "min_width": null,
            "border": null,
            "align_items": null,
            "bottom": null,
            "_model_module": "@jupyter-widgets/base",
            "top": null,
            "grid_column": null,
            "overflow_y": null,
            "overflow_x": null,
            "grid_auto_flow": null,
            "grid_area": null,
            "grid_template_columns": null,
            "flex": null,
            "_model_name": "LayoutModel",
            "justify_items": null,
            "grid_row": null,
            "max_height": null,
            "align_content": null,
            "visibility": null,
            "align_self": null,
            "height": null,
            "min_height": null,
            "padding": null,
            "grid_auto_rows": null,
            "grid_gap": null,
            "max_width": null,
            "order": null,
            "_view_module_version": "1.2.0",
            "grid_template_areas": null,
            "object_position": null,
            "object_fit": null,
            "grid_auto_columns": null,
            "margin": null,
            "display": null,
            "left": null
          }
        },
        "67b25c10a45b47819153fc35c4681694": {
          "model_module": "@jupyter-widgets/controls",
          "model_name": "DescriptionStyleModel",
          "state": {
            "_view_name": "StyleView",
            "_model_name": "DescriptionStyleModel",
            "description_width": "",
            "_view_module": "@jupyter-widgets/base",
            "_model_module_version": "1.5.0",
            "_view_count": null,
            "_view_module_version": "1.2.0",
            "_model_module": "@jupyter-widgets/controls"
          }
        },
        "13074d8a75734af2995acdcb161f1716": {
          "model_module": "@jupyter-widgets/base",
          "model_name": "LayoutModel",
          "state": {
            "_view_name": "LayoutView",
            "grid_template_rows": null,
            "right": null,
            "justify_content": null,
            "_view_module": "@jupyter-widgets/base",
            "overflow": null,
            "_model_module_version": "1.2.0",
            "_view_count": null,
            "flex_flow": null,
            "width": null,
            "min_width": null,
            "border": null,
            "align_items": null,
            "bottom": null,
            "_model_module": "@jupyter-widgets/base",
            "top": null,
            "grid_column": null,
            "overflow_y": null,
            "overflow_x": null,
            "grid_auto_flow": null,
            "grid_area": null,
            "grid_template_columns": null,
            "flex": null,
            "_model_name": "LayoutModel",
            "justify_items": null,
            "grid_row": null,
            "max_height": null,
            "align_content": null,
            "visibility": null,
            "align_self": null,
            "height": null,
            "min_height": null,
            "padding": null,
            "grid_auto_rows": null,
            "grid_gap": null,
            "max_width": null,
            "order": null,
            "_view_module_version": "1.2.0",
            "grid_template_areas": null,
            "object_position": null,
            "object_fit": null,
            "grid_auto_columns": null,
            "margin": null,
            "display": null,
            "left": null
          }
        }
      }
    }
  },
  "cells": [
    {
      "cell_type": "markdown",
      "metadata": {
        "id": "view-in-github",
        "colab_type": "text"
      },
      "source": [
        "<a href=\"https://colab.research.google.com/github/GauravSahani1417/Sentiment-Analysis-using-GBM-H2O/blob/master/Sentiment_analysis_using_GBM_H20.ipynb\" target=\"_parent\"><img src=\"https://colab.research.google.com/assets/colab-badge.svg\" alt=\"Open In Colab\"/></a>"
      ]
    },
    {
      "cell_type": "code",
      "metadata": {
        "id": "drrekTix_9HP",
        "colab_type": "code",
        "colab": {
          "base_uri": "https://localhost:8080/",
          "height": 218
        },
        "outputId": "b7f7b12e-9780-470a-b65f-6b3812cdc114"
      },
      "source": [
        "!apt-get install default-jre\n",
        "!java -version"
      ],
      "execution_count": 1,
      "outputs": [
        {
          "output_type": "stream",
          "text": [
            "Reading package lists... Done\n",
            "Building dependency tree       \n",
            "Reading state information... Done\n",
            "default-jre is already the newest version (2:1.11-68ubuntu1~18.04.1).\n",
            "default-jre set to manually installed.\n",
            "The following package was automatically installed and is no longer required:\n",
            "  libnvidia-common-440\n",
            "Use 'apt autoremove' to remove it.\n",
            "0 upgraded, 0 newly installed, 0 to remove and 35 not upgraded.\n",
            "openjdk version \"11.0.8\" 2020-07-14\n",
            "OpenJDK Runtime Environment (build 11.0.8+10-post-Ubuntu-0ubuntu118.04.1)\n",
            "OpenJDK 64-Bit Server VM (build 11.0.8+10-post-Ubuntu-0ubuntu118.04.1, mixed mode, sharing)\n"
          ],
          "name": "stdout"
        }
      ]
    },
    {
      "cell_type": "code",
      "metadata": {
        "id": "9UHd1bHQAXqk",
        "colab_type": "code",
        "colab": {
          "base_uri": "https://localhost:8080/",
          "height": 336
        },
        "outputId": "55bd789d-1c41-48e9-8507-4b882ef8b865"
      },
      "source": [
        "!pip install h2o==3.30.0.1"
      ],
      "execution_count": 2,
      "outputs": [
        {
          "output_type": "stream",
          "text": [
            "Collecting h2o==3.30.0.1\n",
            "\u001b[?25l  Downloading https://files.pythonhosted.org/packages/96/b2/b6f5e8c7fd1efe0f6d2640b34164b10b0e28231b89cc06542a6b3a3903a0/h2o-3.30.0.1.tar.gz (129.5MB)\n",
            "\u001b[K     |████████████████████████████████| 129.5MB 93kB/s \n",
            "\u001b[?25hRequirement already satisfied: requests in /usr/local/lib/python3.6/dist-packages (from h2o==3.30.0.1) (2.23.0)\n",
            "Requirement already satisfied: tabulate in /usr/local/lib/python3.6/dist-packages (from h2o==3.30.0.1) (0.8.7)\n",
            "Requirement already satisfied: future in /usr/local/lib/python3.6/dist-packages (from h2o==3.30.0.1) (0.16.0)\n",
            "Collecting colorama>=0.3.8\n",
            "  Downloading https://files.pythonhosted.org/packages/c9/dc/45cdef1b4d119eb96316b3117e6d5708a08029992b2fee2c143c7a0a5cc5/colorama-0.4.3-py2.py3-none-any.whl\n",
            "Requirement already satisfied: idna<3,>=2.5 in /usr/local/lib/python3.6/dist-packages (from requests->h2o==3.30.0.1) (2.10)\n",
            "Requirement already satisfied: chardet<4,>=3.0.2 in /usr/local/lib/python3.6/dist-packages (from requests->h2o==3.30.0.1) (3.0.4)\n",
            "Requirement already satisfied: urllib3!=1.25.0,!=1.25.1,<1.26,>=1.21.1 in /usr/local/lib/python3.6/dist-packages (from requests->h2o==3.30.0.1) (1.24.3)\n",
            "Requirement already satisfied: certifi>=2017.4.17 in /usr/local/lib/python3.6/dist-packages (from requests->h2o==3.30.0.1) (2020.6.20)\n",
            "Building wheels for collected packages: h2o\n",
            "  Building wheel for h2o (setup.py) ... \u001b[?25l\u001b[?25hdone\n",
            "  Created wheel for h2o: filename=h2o-3.30.0.1-py2.py3-none-any.whl size=129557718 sha256=164be14e229bd243b8fcde42c00d51960e6a7b4c9d56ba17c26cff7386ea79a3\n",
            "  Stored in directory: /root/.cache/pip/wheels/db/42/63/d118d7218432054da842f5d10bd4f99e978bde0931164e6c7a\n",
            "Successfully built h2o\n",
            "Installing collected packages: colorama, h2o\n",
            "Successfully installed colorama-0.4.3 h2o-3.30.0.1\n"
          ],
          "name": "stdout"
        }
      ]
    },
    {
      "cell_type": "code",
      "metadata": {
        "id": "GhSrfGr9Am4R",
        "colab_type": "code",
        "colab": {}
      },
      "source": [
        "import tensorflow_datasets as tfds\n",
        "import numpy as np\n",
        "import h2o"
      ],
      "execution_count": 3,
      "outputs": []
    },
    {
      "cell_type": "code",
      "metadata": {
        "id": "_vE5X2L-C6o1",
        "colab_type": "code",
        "colab": {
          "base_uri": "https://localhost:8080/",
          "height": 526
        },
        "outputId": "899ef1f3-a04e-48c0-b52e-b62ed7088e4e"
      },
      "source": [
        "h2o.init()"
      ],
      "execution_count": 4,
      "outputs": [
        {
          "output_type": "stream",
          "text": [
            "Checking whether there is an H2O instance running at http://localhost:54321 ..... not found.\n",
            "Attempting to start a local H2O server...\n",
            "  Java Version: openjdk version \"11.0.8\" 2020-07-14; OpenJDK Runtime Environment (build 11.0.8+10-post-Ubuntu-0ubuntu118.04.1); OpenJDK 64-Bit Server VM (build 11.0.8+10-post-Ubuntu-0ubuntu118.04.1, mixed mode, sharing)\n",
            "  Starting server from /usr/local/lib/python3.6/dist-packages/h2o/backend/bin/h2o.jar\n",
            "  Ice root: /tmp/tmpm7vj17l2\n",
            "  JVM stdout: /tmp/tmpm7vj17l2/h2o_unknownUser_started_from_python.out\n",
            "  JVM stderr: /tmp/tmpm7vj17l2/h2o_unknownUser_started_from_python.err\n",
            "  Server is running at http://127.0.0.1:54321\n",
            "Connecting to H2O server at http://127.0.0.1:54321 ... successful.\n",
            "Warning: Your H2O cluster version is too old (4 months and 24 days)! Please download and install the latest version from http://h2o.ai/download/\n"
          ],
          "name": "stdout"
        },
        {
          "output_type": "display_data",
          "data": {
            "text/html": [
              "<div style=\"overflow:auto\"><table style=\"width:50%\"><tr><td>H2O_cluster_uptime:</td>\n",
              "<td>02 secs</td></tr>\n",
              "<tr><td>H2O_cluster_timezone:</td>\n",
              "<td>Etc/UTC</td></tr>\n",
              "<tr><td>H2O_data_parsing_timezone:</td>\n",
              "<td>UTC</td></tr>\n",
              "<tr><td>H2O_cluster_version:</td>\n",
              "<td>3.30.0.1</td></tr>\n",
              "<tr><td>H2O_cluster_version_age:</td>\n",
              "<td>4 months and 24 days !!!</td></tr>\n",
              "<tr><td>H2O_cluster_name:</td>\n",
              "<td>H2O_from_python_unknownUser_r602gr</td></tr>\n",
              "<tr><td>H2O_cluster_total_nodes:</td>\n",
              "<td>1</td></tr>\n",
              "<tr><td>H2O_cluster_free_memory:</td>\n",
              "<td>3.180 Gb</td></tr>\n",
              "<tr><td>H2O_cluster_total_cores:</td>\n",
              "<td>2</td></tr>\n",
              "<tr><td>H2O_cluster_allowed_cores:</td>\n",
              "<td>2</td></tr>\n",
              "<tr><td>H2O_cluster_status:</td>\n",
              "<td>accepting new members, healthy</td></tr>\n",
              "<tr><td>H2O_connection_url:</td>\n",
              "<td>http://127.0.0.1:54321</td></tr>\n",
              "<tr><td>H2O_connection_proxy:</td>\n",
              "<td>{\"http\": null, \"https\": null}</td></tr>\n",
              "<tr><td>H2O_internal_security:</td>\n",
              "<td>False</td></tr>\n",
              "<tr><td>H2O_API_Extensions:</td>\n",
              "<td>Amazon S3, XGBoost, Algos, AutoML, Core V3, TargetEncoder, Core V4</td></tr>\n",
              "<tr><td>Python_version:</td>\n",
              "<td>3.6.9 final</td></tr></table></div>"
            ],
            "text/plain": [
              "--------------------------  ------------------------------------------------------------------\n",
              "H2O_cluster_uptime:         02 secs\n",
              "H2O_cluster_timezone:       Etc/UTC\n",
              "H2O_data_parsing_timezone:  UTC\n",
              "H2O_cluster_version:        3.30.0.1\n",
              "H2O_cluster_version_age:    4 months and 24 days !!!\n",
              "H2O_cluster_name:           H2O_from_python_unknownUser_r602gr\n",
              "H2O_cluster_total_nodes:    1\n",
              "H2O_cluster_free_memory:    3.180 Gb\n",
              "H2O_cluster_total_cores:    2\n",
              "H2O_cluster_allowed_cores:  2\n",
              "H2O_cluster_status:         accepting new members, healthy\n",
              "H2O_connection_url:         http://127.0.0.1:54321\n",
              "H2O_connection_proxy:       {\"http\": null, \"https\": null}\n",
              "H2O_internal_security:      False\n",
              "H2O_API_Extensions:         Amazon S3, XGBoost, Algos, AutoML, Core V3, TargetEncoder, Core V4\n",
              "Python_version:             3.6.9 final\n",
              "--------------------------  ------------------------------------------------------------------"
            ]
          },
          "metadata": {
            "tags": []
          }
        }
      ]
    },
    {
      "cell_type": "code",
      "metadata": {
        "id": "QDVrpqsqDTka",
        "colab_type": "code",
        "colab": {
          "base_uri": "https://localhost:8080/",
          "height": 415,
          "referenced_widgets": [
            "a3d59a5987624e88b049d44ee809b31f",
            "768d922bf9304c4baa6051a0b2ea59f9",
            "8b0ffb77813749aeb60e88bb7f724072",
            "ba4f012dabed4d6bb7d1e749fcc33a04",
            "d33ad174ac2941e7a56abf6bb28d1e27",
            "5e24c55990df4b57b34a350d929ebc1a",
            "71ca62e85e7f426bb1a5497137cd369e",
            "60a924d113ba4ed48bca1c0618c91c3f",
            "026e105119fc431c947d510d214f9c3f",
            "e6f2d75a0b5e4f29a55fcbdc11985ff5",
            "1c2fa14c6f15448dbe1208ca78de0b0d",
            "c47cc2973ea040bdabf7f154604d216c",
            "4b4ae95b84be43e1acdb9d178df4cb49",
            "ff9e53a7eafa4e1cafb9f0d9d4be9dd8",
            "dce9e5b951da48d3a2a71ffd9388332d",
            "395a90635bab4f68a1041ead69631356",
            "9fd084d135ba45c99f2f3cc95d9129bb",
            "acb986731eb14698bb35592bbd65c50a",
            "58bcb7a980a54bb8952d405fb3c4c212",
            "b6e1b24a68ab4445947df9db4c9d3c58",
            "2831b52df2ff46509de3b8ea9b315d68",
            "1890f06c475b4a31b4710b435764f130",
            "b47536ca8da44619bbb8a00fe3448ea2",
            "e2723ca59e674f3fb4e81b6490ee1977",
            "09011bbb13384601875a53b16462298a",
            "238daa40fdf94a49b0fa9f2a3b323709",
            "7bdccfbc1e684f89a11872fba4401b73",
            "4b1450d1d11f453eaebdb09d6eceaa8f",
            "f3cba401f5a14efc9d6e1cbadd4e5fda",
            "46217c46c46e4db8800e8c387c7adf58",
            "ee4df89180dd4b509895107f6ede229f",
            "87c5a63b9dca4af1bee2847c1508bb21",
            "5afcd32119f442cba04d2f0adb82179f",
            "aed88b692566456b9a95fc8f11b732c2",
            "096807edf0e844418005b70e7837dd67",
            "c4560c0ad6564ab9a16d2d07f2abc48e",
            "7ed26a1fe4cb43f6bace6201ee558ef1",
            "36253da3755348e6b27ce3a43afb50d5",
            "51517bfc2500451490059394bf308f30",
            "dd4f809ce90e42d689145e23218f0bb4",
            "8652258ea63f495190ecb1261053be20",
            "88cdc59aa7da42fe96bc9d211f5a0509",
            "9df0d83896c64978aa970048dfa0e568",
            "b2adeb15c1e945e09740d886f9ca7d27",
            "ab2e205a304d4e078e25417eaa564617",
            "880e36d3473f4bacbfa78dae4bfc546a",
            "3e872a456d1b4a63ab2e543b0b3a48c0",
            "190c9d7f4ab549c68f42cf11c3c2fa01",
            "b12470c03eeb46428b7b5cc9adf7c918",
            "815bfd68f469479bacd9382bd5516d9b",
            "77b89affa6d94f2c82484278dcbdf24e",
            "c28d848dcc1c4d478dc04edb487804de",
            "5f78d225fff8496c8bfd48b66e36e4b7",
            "7a3151e15e794b00882fccaadb840164",
            "67b25c10a45b47819153fc35c4681694",
            "13074d8a75734af2995acdcb161f1716"
          ]
        },
        "outputId": "464e442e-c9c1-4f5c-e526-2a05b8400f5f"
      },
      "source": [
        "dataset, info= tfds.load('amazon_us_reviews/Personal_Care_Appliances_v1_00', with_info=True, batch_size=-1)\n",
        "train_dataset= dataset['train']"
      ],
      "execution_count": 5,
      "outputs": [
        {
          "output_type": "stream",
          "text": [
            "Downloading and preparing dataset amazon_us_reviews/Personal_Care_Appliances_v1_00/0.1.0 (download: 16.82 MiB, generated: Unknown size, total: 16.82 MiB) to /root/tensorflow_datasets/amazon_us_reviews/Personal_Care_Appliances_v1_00/0.1.0...\n"
          ],
          "name": "stdout"
        },
        {
          "output_type": "display_data",
          "data": {
            "application/vnd.jupyter.widget-view+json": {
              "model_id": "a3d59a5987624e88b049d44ee809b31f",
              "version_minor": 0,
              "version_major": 2
            },
            "text/plain": [
              "HBox(children=(FloatProgress(value=1.0, bar_style='info', description='Dl Completed...', max=1.0, style=Progre…"
            ]
          },
          "metadata": {
            "tags": []
          }
        },
        {
          "output_type": "display_data",
          "data": {
            "application/vnd.jupyter.widget-view+json": {
              "model_id": "026e105119fc431c947d510d214f9c3f",
              "version_minor": 0,
              "version_major": 2
            },
            "text/plain": [
              "HBox(children=(FloatProgress(value=1.0, bar_style='info', description='Dl Size...', max=1.0, style=ProgressSty…"
            ]
          },
          "metadata": {
            "tags": []
          }
        },
        {
          "output_type": "display_data",
          "data": {
            "application/vnd.jupyter.widget-view+json": {
              "model_id": "9fd084d135ba45c99f2f3cc95d9129bb",
              "version_minor": 0,
              "version_major": 2
            },
            "text/plain": [
              "HBox(children=(FloatProgress(value=1.0, bar_style='info', description='Extraction completed...', max=1.0, styl…"
            ]
          },
          "metadata": {
            "tags": []
          }
        },
        {
          "output_type": "stream",
          "text": [
            "/usr/local/lib/python3.6/dist-packages/urllib3/connectionpool.py:847: InsecureRequestWarning: Unverified HTTPS request is being made. Adding certificate verification is strongly advised. See: https://urllib3.readthedocs.io/en/latest/advanced-usage.html#ssl-warnings\n",
            "  InsecureRequestWarning)\n"
          ],
          "name": "stderr"
        },
        {
          "output_type": "stream",
          "text": [
            "\n",
            "\n",
            "\n",
            "\n",
            "\n",
            "\n"
          ],
          "name": "stdout"
        },
        {
          "output_type": "display_data",
          "data": {
            "application/vnd.jupyter.widget-view+json": {
              "model_id": "09011bbb13384601875a53b16462298a",
              "version_minor": 0,
              "version_major": 2
            },
            "text/plain": [
              "HBox(children=(FloatProgress(value=1.0, bar_style='info', max=1.0), HTML(value='')))"
            ]
          },
          "metadata": {
            "tags": []
          }
        },
        {
          "output_type": "stream",
          "text": [
            "\rShuffling and writing examples to /root/tensorflow_datasets/amazon_us_reviews/Personal_Care_Appliances_v1_00/0.1.0.incompleteM3GI91/amazon_us_reviews-train.tfrecord\n"
          ],
          "name": "stdout"
        },
        {
          "output_type": "display_data",
          "data": {
            "application/vnd.jupyter.widget-view+json": {
              "model_id": "5afcd32119f442cba04d2f0adb82179f",
              "version_minor": 0,
              "version_major": 2
            },
            "text/plain": [
              "HBox(children=(FloatProgress(value=0.0, max=85981.0), HTML(value='')))"
            ]
          },
          "metadata": {
            "tags": []
          }
        },
        {
          "output_type": "display_data",
          "data": {
            "application/vnd.jupyter.widget-view+json": {
              "model_id": "8652258ea63f495190ecb1261053be20",
              "version_minor": 0,
              "version_major": 2
            },
            "text/plain": [
              "HBox(children=(FloatProgress(value=0.0, description='Computing statistics...', max=1.0, style=ProgressStyle(de…"
            ]
          },
          "metadata": {
            "tags": []
          }
        },
        {
          "output_type": "stream",
          "text": [
            "\r"
          ],
          "name": "stdout"
        },
        {
          "output_type": "display_data",
          "data": {
            "application/vnd.jupyter.widget-view+json": {
              "model_id": "b12470c03eeb46428b7b5cc9adf7c918",
              "version_minor": 0,
              "version_major": 2
            },
            "text/plain": [
              "HBox(children=(FloatProgress(value=1.0, bar_style='info', max=1.0), HTML(value='')))"
            ]
          },
          "metadata": {
            "tags": []
          }
        },
        {
          "output_type": "stream",
          "text": [
            "\r"
          ],
          "name": "stdout"
        },
        {
          "output_type": "stream",
          "text": [
            "ERROR:absl:Statistics generation doesn't work for nested structures yet\n"
          ],
          "name": "stderr"
        },
        {
          "output_type": "stream",
          "text": [
            "\n",
            "Dataset amazon_us_reviews downloaded and prepared to /root/tensorflow_datasets/amazon_us_reviews/Personal_Care_Appliances_v1_00/0.1.0. Subsequent calls will reuse this data.\n"
          ],
          "name": "stdout"
        }
      ]
    },
    {
      "cell_type": "code",
      "metadata": {
        "id": "CTXKf18uF70b",
        "colab_type": "code",
        "colab": {
          "base_uri": "https://localhost:8080/",
          "height": 944
        },
        "outputId": "e3efeb47-0b40-49cd-a595-44a7a3ec3456"
      },
      "source": [
        "info"
      ],
      "execution_count": 6,
      "outputs": [
        {
          "output_type": "execute_result",
          "data": {
            "text/plain": [
              "tfds.core.DatasetInfo(\n",
              "    name='amazon_us_reviews',\n",
              "    version=0.1.0,\n",
              "    description='Amazon Customer Reviews (a.k.a. Product Reviews) is one of Amazons iconic products. In a period of over two decades since the first review in 1995, millions of Amazon customers have contributed over a hundred million reviews to express opinions and describe their experiences regarding products on the Amazon.com website. This makes Amazon Customer Reviews a rich source of information for academic researchers in the fields of Natural Language Processing (NLP), Information Retrieval (IR), and Machine Learning (ML), amongst others. Accordingly, we are releasing this data to further research in multiple disciplines related to understanding customer product experiences. Specifically, this dataset was constructed to represent a sample of customer evaluations and opinions, variation in the perception of a product across geographical regions, and promotional intent or bias in reviews.\n",
              "\n",
              "Over 130+ million customer reviews are available to researchers as part of this release. The data is available in TSV files in the amazon-reviews-pds S3 bucket in AWS US East Region. Each line in the data files corresponds to an individual review (tab delimited, with no quote and escape characters).\n",
              "\n",
              "Each Dataset contains the following columns : \n",
              "  marketplace       - 2 letter country code of the marketplace where the review was written.\n",
              "  customer_id       - Random identifier that can be used to aggregate reviews written by a single author.\n",
              "  review_id         - The unique ID of the review.\n",
              "  product_id        - The unique Product ID the review pertains to. In the multilingual dataset the reviews\n",
              "                      for the same product in different countries can be grouped by the same product_id.\n",
              "  product_parent    - Random identifier that can be used to aggregate reviews for the same product.\n",
              "  product_title     - Title of the product.\n",
              "  product_category  - Broad product category that can be used to group reviews \n",
              "                      (also used to group the dataset into coherent parts).\n",
              "  star_rating       - The 1-5 star rating of the review.\n",
              "  helpful_votes     - Number of helpful votes.\n",
              "  total_votes       - Number of total votes the review received.\n",
              "  vine              - Review was written as part of the Vine program.\n",
              "  verified_purchase - The review is on a verified purchase.\n",
              "  review_headline   - The title of the review.\n",
              "  review_body       - The review text.\n",
              "  review_date       - The date the review was written.\n",
              "',\n",
              "    homepage='https://s3.amazonaws.com/amazon-reviews-pds/readme.html',\n",
              "    features=FeaturesDict({\n",
              "        'data': FeaturesDict({\n",
              "            'customer_id': tf.string,\n",
              "            'helpful_votes': tf.int32,\n",
              "            'marketplace': tf.string,\n",
              "            'product_category': tf.string,\n",
              "            'product_id': tf.string,\n",
              "            'product_parent': tf.string,\n",
              "            'product_title': tf.string,\n",
              "            'review_body': tf.string,\n",
              "            'review_date': tf.string,\n",
              "            'review_headline': tf.string,\n",
              "            'review_id': tf.string,\n",
              "            'star_rating': tf.int32,\n",
              "            'total_votes': tf.int32,\n",
              "            'verified_purchase': ClassLabel(shape=(), dtype=tf.int64, num_classes=2),\n",
              "            'vine': ClassLabel(shape=(), dtype=tf.int64, num_classes=2),\n",
              "        }),\n",
              "    }),\n",
              "    total_num_examples=85981,\n",
              "    splits={\n",
              "        'train': 85981,\n",
              "    },\n",
              "    supervised_keys=None,\n",
              "    citation=\"\"\"\"\"\",\n",
              "    redistribution_info=,\n",
              ")"
            ]
          },
          "metadata": {
            "tags": []
          },
          "execution_count": 6
        }
      ]
    },
    {
      "cell_type": "code",
      "metadata": {
        "id": "1abhcqttG406",
        "colab_type": "code",
        "colab": {}
      },
      "source": [
        "dataset=tfds.as_numpy(train_dataset)"
      ],
      "execution_count": 7,
      "outputs": []
    },
    {
      "cell_type": "code",
      "metadata": {
        "id": "O5D4V7W1HERy",
        "colab_type": "code",
        "colab": {
          "base_uri": "https://localhost:8080/",
          "height": 726
        },
        "outputId": "dc9744a8-8909-4920-9b05-35e9913f6328"
      },
      "source": [
        "dataset"
      ],
      "execution_count": 8,
      "outputs": [
        {
          "output_type": "execute_result",
          "data": {
            "text/plain": [
              "{'data': {'customer_id': array([b'13986323', b'50574716', b'50593972', ..., b'40719682',\n",
              "         b'35596948', b'29430209'], dtype=object),\n",
              "  'helpful_votes': array([0, 3, 0, ..., 0, 0, 0], dtype=int32),\n",
              "  'marketplace': array([b'US', b'US', b'US', ..., b'US', b'US', b'US'], dtype=object),\n",
              "  'product_category': array([b'Personal_Care_Appliances', b'Personal_Care_Appliances',\n",
              "         b'Personal_Care_Appliances', ..., b'Personal_Care_Appliances',\n",
              "         b'Personal_Care_Appliances', b'Personal_Care_Appliances'],\n",
              "        dtype=object),\n",
              "  'product_id': array([b'B00847JQZ6', b'B00N5HD340', b'B0077L1X24', ..., b'B000UZ8X2W',\n",
              "         b'B000NURPPK', b'B001EY5GNW'], dtype=object),\n",
              "  'product_parent': array([b'997683625', b'955577225', b'120764066', ..., b'96066145',\n",
              "         b'58591097', b'986877728'], dtype=object),\n",
              "  'product_title': array([b'SE - Reading Glass - Spring Loaded Hinges, 4.0x - RTS62400',\n",
              "         b'Straight Razor',\n",
              "         b'Philips Sonicare Flexcare & Healthy White Plastic Travel Handle Case New Bulk Package',\n",
              "         ...,\n",
              "         b'Remington R-9200 Microflex Ultra TCT Shaver [Health and Beauty]',\n",
              "         b'SUNBEAM Cool Mist HUMIDIFIER with PermaFilter # 1120 \\xe2\\x80\\x93 1 Ea',\n",
              "         b'Andis Blade Set for T-Outliner Trimmer'], dtype=object),\n",
              "  'review_body': array([b\"These glasses are an excellent value.  The fit is good and they are very comfortable.  Because of my legal blindness, there aren't a lot of options to try to see better, but I believe these help with my other visual aids, and because they are reasonably priced I can have more than one pair available.\",\n",
              "         b\"Always wanted to try straight razor shaving (as a DE safety razor user), and this was a cheap way for me to determine I was not into it.<br /><br />Because the blades are disposable and always sharp, I could put a new one in and reasonably rely upon that fact that cuts were probably due to my technique and not the blade.<br /><br />It's very hard to do straight razor shaving on yourself because the ANGLE is difficult to control without switching hands. Being very right-handed, I really couldn't do that. I bet I could shave someone else's face with it though.<br /><br />An immediate upside? Using a DE safety razor (slant edged even) seems SUPER safe now! I'm increased my speed with the DE due to that confidence, and I'd been using it for years now.\",\n",
              "         b'I usually either throw my toothbrush in a plastic bag with spare head so this product is very convenient for keeping all the parts apart, dry and undamaged, and i now keep it in my travel bag all the time ready to go.',\n",
              "         ...,\n",
              "         b\"I have had a Remington before but needed a new one when the batteries died and the cutters were all but gone.  It was cheaper to buy a new one.  The new one has a nice charge level but the trimmer didn't work when I got it.\",\n",
              "         b\"I was surprised that it really didn't do much compared to the 1950s version that I'd inherited. Keeping a wet wash cloth next to my bed for when I start coughing in the middle of the night works better.\",\n",
              "         b'The blades were an excellent fit for my T-line trimmers.  Within five minutes I had my trimmers cleaned, the blades installed, and was putting them to use.  I saw the blades in several locations for almost twice the price I paid, so this worked out to be an awesome deal.'],\n",
              "        dtype=object),\n",
              "  'review_date': array([b'2015-01-04', b'2015-08-05', b'2012-11-17', ..., b'2008-02-08',\n",
              "         b'2007-09-07', b'2012-07-26'], dtype=object),\n",
              "  'review_headline': array([b'These glasses are an excellent value. The fit is good and they are ...',\n",
              "         b'A fantastic way to cheaply try straight razor shaving.',\n",
              "         b'Great for travel', ..., b'Trimmer Not Working',\n",
              "         b'Loud and ineffectual', b'Excellent product, awesomoe price'],\n",
              "        dtype=object),\n",
              "  'review_id': array([b'R3VEUFVA9QJY55', b'R2DTQV5SMJ0CK7', b'R3OJ06NK99WLNJ', ...,\n",
              "         b'R1ZQ0XZXOD9N18', b'R1FJ9OU429X00Y', b'RI28R1W94N1R6'],\n",
              "        dtype=object),\n",
              "  'star_rating': array([4, 5, 4, ..., 3, 2, 5], dtype=int32),\n",
              "  'total_votes': array([0, 3, 0, ..., 0, 0, 0], dtype=int32),\n",
              "  'verified_purchase': array([0, 0, 0, ..., 1, 0, 0]),\n",
              "  'vine': array([1, 1, 1, ..., 1, 1, 1])}}"
            ]
          },
          "metadata": {
            "tags": []
          },
          "execution_count": 8
        }
      ]
    },
    {
      "cell_type": "code",
      "metadata": {
        "id": "gWGHcT39Hi_y",
        "colab_type": "code",
        "colab": {}
      },
      "source": [
        "helpful_votes= dataset['data']['helpful_votes']\n",
        "review_headline=dataset['data']['review_headline']\n",
        "review_body=dataset['data']['review_body']\n",
        "rating=dataset['data']['star_rating']"
      ],
      "execution_count": 9,
      "outputs": []
    },
    {
      "cell_type": "code",
      "metadata": {
        "id": "U2MmsML4Ii8T",
        "colab_type": "code",
        "colab": {
          "base_uri": "https://localhost:8080/",
          "height": 34
        },
        "outputId": "a5461457-378d-45ed-8dc4-87e4b62851e5"
      },
      "source": [
        "h2o_df=h2o.H2OFrame(np.hstack((helpful_votes[:,None],review_headline[:,None],review_body[:,None],rating[:,None])),\n",
        "                    column_names=['votes','headline','review','rating'], column_types=['numeric','string','string','numeric'])"
      ],
      "execution_count": 10,
      "outputs": [
        {
          "output_type": "stream",
          "text": [
            "Parse progress: |█████████████████████████████████████████████████████████| 100%\n"
          ],
          "name": "stdout"
        }
      ]
    },
    {
      "cell_type": "code",
      "metadata": {
        "id": "7GvayxALLZ9U",
        "colab_type": "code",
        "colab": {
          "base_uri": "https://localhost:8080/",
          "height": 709
        },
        "outputId": "664b7ca1-f38c-4e89-d45e-cdd59e1705a8"
      },
      "source": [
        "h2o_df"
      ],
      "execution_count": 11,
      "outputs": [
        {
          "output_type": "display_data",
          "data": {
            "text/html": [
              "<table>\n",
              "<thead>\n",
              "<tr><th style=\"text-align: right;\">  votes</th><th>headline                                                                 </th><th>review                                                                                                                                                                                                                                                                                                                                                                                                                                                                                                                                                                                                                                                                                                                                                                                                                                                                                                                                                                                                                                                                                                                            </th><th style=\"text-align: right;\">  rating</th></tr>\n",
              "</thead>\n",
              "<tbody>\n",
              "<tr><td style=\"text-align: right;\">      0</td><td>b&#x27;These glasses are an excellent value. The fit is good and they are ...&#x27;</td><td>b&quot;These glasses are an excellent value.  The fit is good and they are very comfortable.  Because of my legal blindness, there aren&#x27;t a lot of options to try to see better, but I believe these help with my other visual aids, and because they are reasonably priced I can have more than one pair available.&quot;                                                                                                                                                                                                                                                                                                                                                                                                                                                                                                                                                                                                                                                                                                                                                                                                                  </td><td style=\"text-align: right;\">       4</td></tr>\n",
              "<tr><td style=\"text-align: right;\">      3</td><td>b&#x27;A fantastic way to cheaply try straight razor shaving.&#x27;                </td><td>b&quot;Always wanted to try straight razor shaving (as a DE safety razor user), and this was a cheap way for me to determine I was not into it.&lt;br /&gt;&lt;br /&gt;Because the blades are disposable and always sharp, I could put a new one in and reasonably rely upon that fact that cuts were probably due to my technique and not the blade.&lt;br /&gt;&lt;br /&gt;It&#x27;s very hard to do straight razor shaving on yourself because the ANGLE is difficult to control without switching hands. Being very right-handed, I really couldn&#x27;t do that. I bet I could shave someone else&#x27;s face with it though.&lt;br /&gt;&lt;br /&gt;An immediate upside? Using a DE safety razor (slant edged even) seems SUPER safe now! I&#x27;m increased my speed with the DE due to that confidence, and I&#x27;d been using it for years now.&quot;                                                                                                                                                                                                                                                                                                                                          </td><td style=\"text-align: right;\">       5</td></tr>\n",
              "<tr><td style=\"text-align: right;\">      0</td><td>b&#x27;Great for travel&#x27;                                                      </td><td>b&#x27;I usually either throw my toothbrush in a plastic bag with spare head so this product is very convenient for keeping all the parts apart, dry and undamaged, and i now keep it in my travel bag all the time ready to go.&#x27;                                                                                                                                                                                                                                                                                                                                                                                                                                                                                                                                                                                                                                                                                                                                                                                                                                                                                                      </td><td style=\"text-align: right;\">       4</td></tr>\n",
              "<tr><td style=\"text-align: right;\">      0</td><td>b&#x27;Five Stars&#x27;                                                            </td><td>b&#x27;Top quality.&#x27;                                                                                                                                                                                                                                                                                                                                                                                                                                                                                                                                                                                                                                                                                                                                                                                                                                                                                                                                                                                                                                                                                                                   </td><td style=\"text-align: right;\">       5</td></tr>\n",
              "<tr><td style=\"text-align: right;\">      1</td><td>b&#x27;*Product sent not as shown&#x27;                                            </td><td>b&#x27;Today I received  1 Fl. Oz, Natures Balance AlkaMAX alkaline booster liquid unflavored (formally TriMedica) a glass brown bottle with eye dropper.&lt;br /&gt;Supplement Facts; Serving Size: 10 Drops (Approx. 0.5 mL). Servings per Container: Approx. 60&lt;br /&gt;Amount Per Serving % Daily Value&lt;br /&gt;Magnesium (as Magnesium Chloride) 40 mg 10%&lt;br /&gt;Chloride (as Magnesium Chloride) 64 mg 2%&lt;br /&gt;Other Ingredients: Deionized water and trace mineral complex.&lt;br /&gt;Directions: Add 10 drops to 8 oz. of water or other beverage daily as needed or as directed by your health care practitioner. Store in a cool, dry place.&lt;br /&gt;&lt;br /&gt;I have not used product as of yet with changed ingredients of original/as shown in AlkaMax alkaline support white squeeze bottle.&lt;br /&gt;but had to rate to post...heck this new may be better for all I know.&#x27;                                                                                                                                                                                                                                                                          </td><td style=\"text-align: right;\">       3</td></tr>\n",
              "<tr><td style=\"text-align: right;\">      6</td><td>b&#x27;Seems to work well!&#x27;                                                   </td><td>b&#x27;I recently picked this unit up at Bed and Bath where it was $99.00. With a 20% coupon the price was $80 (so comparison shop!) It\\&#x27;s easy to use and seems to work well. I agree with other reviewers about the noise level (loud like a tea kettle boiling), but I use this unit in the living room area so sleeping is not an issue. Having the 2 separate water reservoirs to fill is much easier, weight-wise, as I previously had another humidifier which had one large water reservoir and it was very heavy when full. The unit comes apart quite easily for cleaning and since frequent cleaning is recommended (I usually do it 1x per week, not daily) this is a definite plus. Additionally, one only needs to use vinegar to clean the inside reservoir, which is a lot cheaper than having to buy some kind of \\\\\\\\&quot;special\\\\\\\\&quot; cleaning solution. My one complaint is that it doesn\\&#x27;t, but should, have an automatic shut off when both tanks are empty.I have to remember to turn the unit off when I leave the house. My previous humidifiers all had this auto turn off; seems like every humidifier should.&#x27;</td><td style=\"text-align: right;\">       4</td></tr>\n",
              "<tr><td style=\"text-align: right;\">      8</td><td>b&#x27;deep heat?????&#x27;                                                        </td><td>b&#x27;Not sure what previous reviewer was talking about. The product uses ULTRASOUND waves for pain relief NOT heat.  After repeated use, the pain in my knee and shoulder was feeling great. I think you should re-read the description and reconsider your opinion. Great product sold by a great company.&#x27;                                                                                                                                                                                                                                                                                                                                                                                                                                                                                                                                                                                                                                                                                                                                                                                                                         </td><td style=\"text-align: right;\">       5</td></tr>\n",
              "<tr><td style=\"text-align: right;\">      2</td><td>b&#x27;Thermometer for a toddler&#x27;                                             </td><td>b&quot;The shippers were great....willing to consider speedier shipping options, but in the end the standard shipping arrived quickly enough. The thermometer is fun and easy to use, but with an inquisitive toddler, it would be nice to have the plastic cap attached to the body so that it doesn&#x27;t disappear.  Would buy it again from these sellers.&quot;                                                                                                                                                                                                                                                                                                                                                                                                                                                                                                                                                                                                                                                                                                                                                                            </td><td style=\"text-align: right;\">       4</td></tr>\n",
              "<tr><td style=\"text-align: right;\">      2</td><td>b&#x27;Wow!&#x27;                                                                  </td><td>b&quot;Man, for all you who know what I&#x27;m talking about, this is the best thing I&#x27;ve ever had on my back.  I suffer from back pain constantly and find myself waking up in the middle of the night pushing parts of my back and neck on the edges of walls on the corners of doors and sometimes lying down on tennis or racket balls to get pressure on those dang trigger points.  I opted for the body sticks package not knowing what they would do and it was a good thing.  They are like have racket balls on the ends of sticks to beat your muscle spasms and to lie down on them rolling around on your back. It is worth the money.  They use a device similar to this in physical therapy so if you get your doctor to write you a script for it, insurance may very well pay for it like mine did.  Even so, paid or not, buy this sucker.  Buy two, I thought, just in case it breaks and they for some reason stop manufacturing this thing.  Good stuff.&quot;                                                                                                                                                              </td><td style=\"text-align: right;\">       5</td></tr>\n",
              "<tr><td style=\"text-align: right;\">      1</td><td>b&#x27;Great cane for people with hand and wrist issues&#x27;                      </td><td>b&quot;I purchased this cane to assist me when I have to walk long distances.  I have rheumatoid arthritis that has particularly affected my low back and hips, and it sometimes makes walking difficult.  The problem with using a cane when you have RA is that RA doesn&#x27;t just affect your lower extremities.  My hands, wrists, and shoulders are also affected.  When I tried a normal cane, it was agonizingly painful for my hand and wrist in particular.  That made it not worth using, even though it did help my hip and back.  A friend with similar issues recommended this one, and the difference was amazing.  It is still a bit hard on my hand after awhile, but not to the point that would make it not worth using.  There really is no perfect solution for this circumstance short of a wheelchair, and I&#x27;m nowhere near ready for that yet!  The forearm rest makes it bearable to use this cane, and it does really help me to walk longer distances when I need to!  It is a great product, and I&#x27;m happy that I purchased it!&quot;                                                                               </td><td style=\"text-align: right;\">       4</td></tr>\n",
              "</tbody>\n",
              "</table>"
            ]
          },
          "metadata": {
            "tags": []
          }
        },
        {
          "output_type": "execute_result",
          "data": {
            "text/plain": [
              ""
            ]
          },
          "metadata": {
            "tags": []
          },
          "execution_count": 11
        }
      ]
    },
    {
      "cell_type": "code",
      "metadata": {
        "id": "PewI2hYFLiFf",
        "colab_type": "code",
        "colab": {}
      },
      "source": [
        "h2o_df[\"target\"]= (h2o_df[\"rating\"] >= 4).ifelse(\"1\",\"0\")"
      ],
      "execution_count": 12,
      "outputs": []
    },
    {
      "cell_type": "code",
      "metadata": {
        "id": "PwTHM1JNNk_O",
        "colab_type": "code",
        "colab": {
          "base_uri": "https://localhost:8080/",
          "height": 726
        },
        "outputId": "178543b8-4c61-4c44-94a7-316036cd6fd5"
      },
      "source": [
        "h2o_df"
      ],
      "execution_count": 13,
      "outputs": [
        {
          "output_type": "display_data",
          "data": {
            "text/html": [
              "<table>\n",
              "<thead>\n",
              "<tr><th style=\"text-align: right;\">  votes</th><th>headline                                                                 </th><th>review                                                                                                                                                                                                                                                                                                                                                                                                                                                                                                                                                                                                                                                                                                                                                                                                                                                                                                                                                                                                                                                                                                                            </th><th style=\"text-align: right;\">  rating</th><th style=\"text-align: right;\">  target</th></tr>\n",
              "</thead>\n",
              "<tbody>\n",
              "<tr><td style=\"text-align: right;\">      0</td><td>b&#x27;These glasses are an excellent value. The fit is good and they are ...&#x27;</td><td>b&quot;These glasses are an excellent value.  The fit is good and they are very comfortable.  Because of my legal blindness, there aren&#x27;t a lot of options to try to see better, but I believe these help with my other visual aids, and because they are reasonably priced I can have more than one pair available.&quot;                                                                                                                                                                                                                                                                                                                                                                                                                                                                                                                                                                                                                                                                                                                                                                                                                  </td><td style=\"text-align: right;\">       4</td><td style=\"text-align: right;\">       1</td></tr>\n",
              "<tr><td style=\"text-align: right;\">      3</td><td>b&#x27;A fantastic way to cheaply try straight razor shaving.&#x27;                </td><td>b&quot;Always wanted to try straight razor shaving (as a DE safety razor user), and this was a cheap way for me to determine I was not into it.&lt;br /&gt;&lt;br /&gt;Because the blades are disposable and always sharp, I could put a new one in and reasonably rely upon that fact that cuts were probably due to my technique and not the blade.&lt;br /&gt;&lt;br /&gt;It&#x27;s very hard to do straight razor shaving on yourself because the ANGLE is difficult to control without switching hands. Being very right-handed, I really couldn&#x27;t do that. I bet I could shave someone else&#x27;s face with it though.&lt;br /&gt;&lt;br /&gt;An immediate upside? Using a DE safety razor (slant edged even) seems SUPER safe now! I&#x27;m increased my speed with the DE due to that confidence, and I&#x27;d been using it for years now.&quot;                                                                                                                                                                                                                                                                                                                                          </td><td style=\"text-align: right;\">       5</td><td style=\"text-align: right;\">       1</td></tr>\n",
              "<tr><td style=\"text-align: right;\">      0</td><td>b&#x27;Great for travel&#x27;                                                      </td><td>b&#x27;I usually either throw my toothbrush in a plastic bag with spare head so this product is very convenient for keeping all the parts apart, dry and undamaged, and i now keep it in my travel bag all the time ready to go.&#x27;                                                                                                                                                                                                                                                                                                                                                                                                                                                                                                                                                                                                                                                                                                                                                                                                                                                                                                      </td><td style=\"text-align: right;\">       4</td><td style=\"text-align: right;\">       1</td></tr>\n",
              "<tr><td style=\"text-align: right;\">      0</td><td>b&#x27;Five Stars&#x27;                                                            </td><td>b&#x27;Top quality.&#x27;                                                                                                                                                                                                                                                                                                                                                                                                                                                                                                                                                                                                                                                                                                                                                                                                                                                                                                                                                                                                                                                                                                                   </td><td style=\"text-align: right;\">       5</td><td style=\"text-align: right;\">       1</td></tr>\n",
              "<tr><td style=\"text-align: right;\">      1</td><td>b&#x27;*Product sent not as shown&#x27;                                            </td><td>b&#x27;Today I received  1 Fl. Oz, Natures Balance AlkaMAX alkaline booster liquid unflavored (formally TriMedica) a glass brown bottle with eye dropper.&lt;br /&gt;Supplement Facts; Serving Size: 10 Drops (Approx. 0.5 mL). Servings per Container: Approx. 60&lt;br /&gt;Amount Per Serving % Daily Value&lt;br /&gt;Magnesium (as Magnesium Chloride) 40 mg 10%&lt;br /&gt;Chloride (as Magnesium Chloride) 64 mg 2%&lt;br /&gt;Other Ingredients: Deionized water and trace mineral complex.&lt;br /&gt;Directions: Add 10 drops to 8 oz. of water or other beverage daily as needed or as directed by your health care practitioner. Store in a cool, dry place.&lt;br /&gt;&lt;br /&gt;I have not used product as of yet with changed ingredients of original/as shown in AlkaMax alkaline support white squeeze bottle.&lt;br /&gt;but had to rate to post...heck this new may be better for all I know.&#x27;                                                                                                                                                                                                                                                                          </td><td style=\"text-align: right;\">       3</td><td style=\"text-align: right;\">       0</td></tr>\n",
              "<tr><td style=\"text-align: right;\">      6</td><td>b&#x27;Seems to work well!&#x27;                                                   </td><td>b&#x27;I recently picked this unit up at Bed and Bath where it was $99.00. With a 20% coupon the price was $80 (so comparison shop!) It\\&#x27;s easy to use and seems to work well. I agree with other reviewers about the noise level (loud like a tea kettle boiling), but I use this unit in the living room area so sleeping is not an issue. Having the 2 separate water reservoirs to fill is much easier, weight-wise, as I previously had another humidifier which had one large water reservoir and it was very heavy when full. The unit comes apart quite easily for cleaning and since frequent cleaning is recommended (I usually do it 1x per week, not daily) this is a definite plus. Additionally, one only needs to use vinegar to clean the inside reservoir, which is a lot cheaper than having to buy some kind of \\\\\\\\&quot;special\\\\\\\\&quot; cleaning solution. My one complaint is that it doesn\\&#x27;t, but should, have an automatic shut off when both tanks are empty.I have to remember to turn the unit off when I leave the house. My previous humidifiers all had this auto turn off; seems like every humidifier should.&#x27;</td><td style=\"text-align: right;\">       4</td><td style=\"text-align: right;\">       1</td></tr>\n",
              "<tr><td style=\"text-align: right;\">      8</td><td>b&#x27;deep heat?????&#x27;                                                        </td><td>b&#x27;Not sure what previous reviewer was talking about. The product uses ULTRASOUND waves for pain relief NOT heat.  After repeated use, the pain in my knee and shoulder was feeling great. I think you should re-read the description and reconsider your opinion. Great product sold by a great company.&#x27;                                                                                                                                                                                                                                                                                                                                                                                                                                                                                                                                                                                                                                                                                                                                                                                                                         </td><td style=\"text-align: right;\">       5</td><td style=\"text-align: right;\">       1</td></tr>\n",
              "<tr><td style=\"text-align: right;\">      2</td><td>b&#x27;Thermometer for a toddler&#x27;                                             </td><td>b&quot;The shippers were great....willing to consider speedier shipping options, but in the end the standard shipping arrived quickly enough. The thermometer is fun and easy to use, but with an inquisitive toddler, it would be nice to have the plastic cap attached to the body so that it doesn&#x27;t disappear.  Would buy it again from these sellers.&quot;                                                                                                                                                                                                                                                                                                                                                                                                                                                                                                                                                                                                                                                                                                                                                                            </td><td style=\"text-align: right;\">       4</td><td style=\"text-align: right;\">       1</td></tr>\n",
              "<tr><td style=\"text-align: right;\">      2</td><td>b&#x27;Wow!&#x27;                                                                  </td><td>b&quot;Man, for all you who know what I&#x27;m talking about, this is the best thing I&#x27;ve ever had on my back.  I suffer from back pain constantly and find myself waking up in the middle of the night pushing parts of my back and neck on the edges of walls on the corners of doors and sometimes lying down on tennis or racket balls to get pressure on those dang trigger points.  I opted for the body sticks package not knowing what they would do and it was a good thing.  They are like have racket balls on the ends of sticks to beat your muscle spasms and to lie down on them rolling around on your back. It is worth the money.  They use a device similar to this in physical therapy so if you get your doctor to write you a script for it, insurance may very well pay for it like mine did.  Even so, paid or not, buy this sucker.  Buy two, I thought, just in case it breaks and they for some reason stop manufacturing this thing.  Good stuff.&quot;                                                                                                                                                              </td><td style=\"text-align: right;\">       5</td><td style=\"text-align: right;\">       1</td></tr>\n",
              "<tr><td style=\"text-align: right;\">      1</td><td>b&#x27;Great cane for people with hand and wrist issues&#x27;                      </td><td>b&quot;I purchased this cane to assist me when I have to walk long distances.  I have rheumatoid arthritis that has particularly affected my low back and hips, and it sometimes makes walking difficult.  The problem with using a cane when you have RA is that RA doesn&#x27;t just affect your lower extremities.  My hands, wrists, and shoulders are also affected.  When I tried a normal cane, it was agonizingly painful for my hand and wrist in particular.  That made it not worth using, even though it did help my hip and back.  A friend with similar issues recommended this one, and the difference was amazing.  It is still a bit hard on my hand after awhile, but not to the point that would make it not worth using.  There really is no perfect solution for this circumstance short of a wheelchair, and I&#x27;m nowhere near ready for that yet!  The forearm rest makes it bearable to use this cane, and it does really help me to walk longer distances when I need to!  It is a great product, and I&#x27;m happy that I purchased it!&quot;                                                                               </td><td style=\"text-align: right;\">       4</td><td style=\"text-align: right;\">       1</td></tr>\n",
              "</tbody>\n",
              "</table>"
            ]
          },
          "metadata": {
            "tags": []
          }
        },
        {
          "output_type": "execute_result",
          "data": {
            "text/plain": [
              ""
            ]
          },
          "metadata": {
            "tags": []
          },
          "execution_count": 13
        }
      ]
    },
    {
      "cell_type": "code",
      "metadata": {
        "id": "ABnXq6ftNwdU",
        "colab_type": "code",
        "colab": {
          "base_uri": "https://localhost:8080/",
          "height": 34
        },
        "outputId": "80fe0aab-ec75-45b7-8bf4-4616fb8e1064"
      },
      "source": [
        "h2o_df.shape"
      ],
      "execution_count": 14,
      "outputs": [
        {
          "output_type": "execute_result",
          "data": {
            "text/plain": [
              "(85981, 5)"
            ]
          },
          "metadata": {
            "tags": []
          },
          "execution_count": 14
        }
      ]
    },
    {
      "cell_type": "code",
      "metadata": {
        "id": "KWML7WoQOL0X",
        "colab_type": "code",
        "colab": {
          "base_uri": "https://localhost:8080/",
          "height": 78
        },
        "outputId": "b53be2ce-aa6c-4a01-954f-3ba633083b4e"
      },
      "source": [
        "h2o_df[\"target\"].table()"
      ],
      "execution_count": 15,
      "outputs": [
        {
          "output_type": "display_data",
          "data": {
            "text/html": [
              "<table>\n",
              "<thead>\n",
              "<tr><th style=\"text-align: right;\">  target</th><th style=\"text-align: right;\">  Count</th></tr>\n",
              "</thead>\n",
              "<tbody>\n",
              "<tr><td style=\"text-align: right;\">       0</td><td style=\"text-align: right;\">  23427</td></tr>\n",
              "<tr><td style=\"text-align: right;\">       1</td><td style=\"text-align: right;\">  62554</td></tr>\n",
              "</tbody>\n",
              "</table>"
            ]
          },
          "metadata": {
            "tags": []
          }
        },
        {
          "output_type": "execute_result",
          "data": {
            "text/plain": [
              ""
            ]
          },
          "metadata": {
            "tags": []
          },
          "execution_count": 15
        }
      ]
    },
    {
      "cell_type": "code",
      "metadata": {
        "id": "xYN_jPppOWAE",
        "colab_type": "code",
        "colab": {
          "base_uri": "https://localhost:8080/",
          "height": 1000
        },
        "outputId": "f6223b50-08c5-4a96-e9f1-a6023ccdc13b"
      },
      "source": [
        "h2o_df.describe()"
      ],
      "execution_count": 16,
      "outputs": [
        {
          "output_type": "stream",
          "text": [
            "Rows:85981\n",
            "Cols:5\n",
            "\n",
            "\n"
          ],
          "name": "stdout"
        },
        {
          "output_type": "display_data",
          "data": {
            "text/html": [
              "<table>\n",
              "<thead>\n",
              "<tr><th>       </th><th>votes             </th><th>headline                                                                 </th><th>review                                                                                                                                                                                                                                                                                                                                                                                                                                                                                                                                                                                                                                                                                                                                                                                                                                                                                                                                                                                                                                                                                                                            </th><th>rating           </th><th>target  </th></tr>\n",
              "</thead>\n",
              "<tbody>\n",
              "<tr><td>type   </td><td>int               </td><td>string                                                                   </td><td>string                                                                                                                                                                                                                                                                                                                                                                                                                                                                                                                                                                                                                                                                                                                                                                                                                                                                                                                                                                                                                                                                                                                            </td><td>int              </td><td>enum    </td></tr>\n",
              "<tr><td>mins   </td><td>0.0               </td><td>NaN                                                                      </td><td>NaN                                                                                                                                                                                                                                                                                                                                                                                                                                                                                                                                                                                                                                                                                                                                                                                                                                                                                                                                                                                                                                                                                                                               </td><td>1.0              </td><td>        </td></tr>\n",
              "<tr><td>mean   </td><td>3.3494841883672   </td><td>NaN                                                                      </td><td>NaN                                                                                                                                                                                                                                                                                                                                                                                                                                                                                                                                                                                                                                                                                                                                                                                                                                                                                                                                                                                                                                                                                                                               </td><td>3.977401984159291</td><td>        </td></tr>\n",
              "<tr><td>maxs   </td><td>2785.0            </td><td>NaN                                                                      </td><td>NaN                                                                                                                                                                                                                                                                                                                                                                                                                                                                                                                                                                                                                                                                                                                                                                                                                                                                                                                                                                                                                                                                                                                               </td><td>5.0              </td><td>        </td></tr>\n",
              "<tr><td>sigma  </td><td>19.483167220712946</td><td>NaN                                                                      </td><td>NaN                                                                                                                                                                                                                                                                                                                                                                                                                                                                                                                                                                                                                                                                                                                                                                                                                                                                                                                                                                                                                                                                                                                               </td><td>1.433130291971473</td><td>        </td></tr>\n",
              "<tr><td>zeros  </td><td>44555             </td><td>0                                                                        </td><td>0                                                                                                                                                                                                                                                                                                                                                                                                                                                                                                                                                                                                                                                                                                                                                                                                                                                                                                                                                                                                                                                                                                                                 </td><td>0                </td><td>        </td></tr>\n",
              "<tr><td>missing</td><td>0                 </td><td>0                                                                        </td><td>0                                                                                                                                                                                                                                                                                                                                                                                                                                                                                                                                                                                                                                                                                                                                                                                                                                                                                                                                                                                                                                                                                                                                 </td><td>0                </td><td>0       </td></tr>\n",
              "<tr><td>0      </td><td>0.0               </td><td>b&#x27;These glasses are an excellent value. The fit is good and they are ...&#x27;</td><td>b&quot;These glasses are an excellent value.  The fit is good and they are very comfortable.  Because of my legal blindness, there aren&#x27;t a lot of options to try to see better, but I believe these help with my other visual aids, and because they are reasonably priced I can have more than one pair available.&quot;                                                                                                                                                                                                                                                                                                                                                                                                                                                                                                                                                                                                                                                                                                                                                                                                                  </td><td>4.0              </td><td>1       </td></tr>\n",
              "<tr><td>1      </td><td>3.0               </td><td>b&#x27;A fantastic way to cheaply try straight razor shaving.&#x27;                </td><td>b&quot;Always wanted to try straight razor shaving (as a DE safety razor user), and this was a cheap way for me to determine I was not into it.&lt;br /&gt;&lt;br /&gt;Because the blades are disposable and always sharp, I could put a new one in and reasonably rely upon that fact that cuts were probably due to my technique and not the blade.&lt;br /&gt;&lt;br /&gt;It&#x27;s very hard to do straight razor shaving on yourself because the ANGLE is difficult to control without switching hands. Being very right-handed, I really couldn&#x27;t do that. I bet I could shave someone else&#x27;s face with it though.&lt;br /&gt;&lt;br /&gt;An immediate upside? Using a DE safety razor (slant edged even) seems SUPER safe now! I&#x27;m increased my speed with the DE due to that confidence, and I&#x27;d been using it for years now.&quot;                                                                                                                                                                                                                                                                                                                                          </td><td>5.0              </td><td>1       </td></tr>\n",
              "<tr><td>2      </td><td>0.0               </td><td>b&#x27;Great for travel&#x27;                                                      </td><td>b&#x27;I usually either throw my toothbrush in a plastic bag with spare head so this product is very convenient for keeping all the parts apart, dry and undamaged, and i now keep it in my travel bag all the time ready to go.&#x27;                                                                                                                                                                                                                                                                                                                                                                                                                                                                                                                                                                                                                                                                                                                                                                                                                                                                                                      </td><td>4.0              </td><td>1       </td></tr>\n",
              "<tr><td>3      </td><td>0.0               </td><td>b&#x27;Five Stars&#x27;                                                            </td><td>b&#x27;Top quality.&#x27;                                                                                                                                                                                                                                                                                                                                                                                                                                                                                                                                                                                                                                                                                                                                                                                                                                                                                                                                                                                                                                                                                                                   </td><td>5.0              </td><td>1       </td></tr>\n",
              "<tr><td>4      </td><td>1.0               </td><td>b&#x27;*Product sent not as shown&#x27;                                            </td><td>b&#x27;Today I received  1 Fl. Oz, Natures Balance AlkaMAX alkaline booster liquid unflavored (formally TriMedica) a glass brown bottle with eye dropper.&lt;br /&gt;Supplement Facts; Serving Size: 10 Drops (Approx. 0.5 mL). Servings per Container: Approx. 60&lt;br /&gt;Amount Per Serving % Daily Value&lt;br /&gt;Magnesium (as Magnesium Chloride) 40 mg 10%&lt;br /&gt;Chloride (as Magnesium Chloride) 64 mg 2%&lt;br /&gt;Other Ingredients: Deionized water and trace mineral complex.&lt;br /&gt;Directions: Add 10 drops to 8 oz. of water or other beverage daily as needed or as directed by your health care practitioner. Store in a cool, dry place.&lt;br /&gt;&lt;br /&gt;I have not used product as of yet with changed ingredients of original/as shown in AlkaMax alkaline support white squeeze bottle.&lt;br /&gt;but had to rate to post...heck this new may be better for all I know.&#x27;                                                                                                                                                                                                                                                                          </td><td>3.0              </td><td>0       </td></tr>\n",
              "<tr><td>5      </td><td>6.0               </td><td>b&#x27;Seems to work well!&#x27;                                                   </td><td>b&#x27;I recently picked this unit up at Bed and Bath where it was $99.00. With a 20% coupon the price was $80 (so comparison shop!) It\\&#x27;s easy to use and seems to work well. I agree with other reviewers about the noise level (loud like a tea kettle boiling), but I use this unit in the living room area so sleeping is not an issue. Having the 2 separate water reservoirs to fill is much easier, weight-wise, as I previously had another humidifier which had one large water reservoir and it was very heavy when full. The unit comes apart quite easily for cleaning and since frequent cleaning is recommended (I usually do it 1x per week, not daily) this is a definite plus. Additionally, one only needs to use vinegar to clean the inside reservoir, which is a lot cheaper than having to buy some kind of \\\\\\\\&quot;special\\\\\\\\&quot; cleaning solution. My one complaint is that it doesn\\&#x27;t, but should, have an automatic shut off when both tanks are empty.I have to remember to turn the unit off when I leave the house. My previous humidifiers all had this auto turn off; seems like every humidifier should.&#x27;</td><td>4.0              </td><td>1       </td></tr>\n",
              "<tr><td>6      </td><td>8.0               </td><td>b&#x27;deep heat?????&#x27;                                                        </td><td>b&#x27;Not sure what previous reviewer was talking about. The product uses ULTRASOUND waves for pain relief NOT heat.  After repeated use, the pain in my knee and shoulder was feeling great. I think you should re-read the description and reconsider your opinion. Great product sold by a great company.&#x27;                                                                                                                                                                                                                                                                                                                                                                                                                                                                                                                                                                                                                                                                                                                                                                                                                         </td><td>5.0              </td><td>1       </td></tr>\n",
              "<tr><td>7      </td><td>2.0               </td><td>b&#x27;Thermometer for a toddler&#x27;                                             </td><td>b&quot;The shippers were great....willing to consider speedier shipping options, but in the end the standard shipping arrived quickly enough. The thermometer is fun and easy to use, but with an inquisitive toddler, it would be nice to have the plastic cap attached to the body so that it doesn&#x27;t disappear.  Would buy it again from these sellers.&quot;                                                                                                                                                                                                                                                                                                                                                                                                                                                                                                                                                                                                                                                                                                                                                                            </td><td>4.0              </td><td>1       </td></tr>\n",
              "<tr><td>8      </td><td>2.0               </td><td>b&#x27;Wow!&#x27;                                                                  </td><td>b&quot;Man, for all you who know what I&#x27;m talking about, this is the best thing I&#x27;ve ever had on my back.  I suffer from back pain constantly and find myself waking up in the middle of the night pushing parts of my back and neck on the edges of walls on the corners of doors and sometimes lying down on tennis or racket balls to get pressure on those dang trigger points.  I opted for the body sticks package not knowing what they would do and it was a good thing.  They are like have racket balls on the ends of sticks to beat your muscle spasms and to lie down on them rolling around on your back. It is worth the money.  They use a device similar to this in physical therapy so if you get your doctor to write you a script for it, insurance may very well pay for it like mine did.  Even so, paid or not, buy this sucker.  Buy two, I thought, just in case it breaks and they for some reason stop manufacturing this thing.  Good stuff.&quot;                                                                                                                                                              </td><td>5.0              </td><td>1       </td></tr>\n",
              "<tr><td>9      </td><td>1.0               </td><td>b&#x27;Great cane for people with hand and wrist issues&#x27;                      </td><td>b&quot;I purchased this cane to assist me when I have to walk long distances.  I have rheumatoid arthritis that has particularly affected my low back and hips, and it sometimes makes walking difficult.  The problem with using a cane when you have RA is that RA doesn&#x27;t just affect your lower extremities.  My hands, wrists, and shoulders are also affected.  When I tried a normal cane, it was agonizingly painful for my hand and wrist in particular.  That made it not worth using, even though it did help my hip and back.  A friend with similar issues recommended this one, and the difference was amazing.  It is still a bit hard on my hand after awhile, but not to the point that would make it not worth using.  There really is no perfect solution for this circumstance short of a wheelchair, and I&#x27;m nowhere near ready for that yet!  The forearm rest makes it bearable to use this cane, and it does really help me to walk longer distances when I need to!  It is a great product, and I&#x27;m happy that I purchased it!&quot;                                                                               </td><td>4.0              </td><td>1       </td></tr>\n",
              "</tbody>\n",
              "</table>"
            ]
          },
          "metadata": {
            "tags": []
          }
        }
      ]
    },
    {
      "cell_type": "code",
      "metadata": {
        "id": "8ntxlE1rOmKc",
        "colab_type": "code",
        "colab": {
          "base_uri": "https://localhost:8080/",
          "height": 50
        },
        "outputId": "bcaa9728-c7fd-480a-ff65-ba2a72ac247b"
      },
      "source": [
        "import nltk\n",
        "from nltk.corpus import stopwords\n",
        "nltk.download('stopwords')\n",
        "stop_words = set(stopwords.words('english'))"
      ],
      "execution_count": 17,
      "outputs": [
        {
          "output_type": "stream",
          "text": [
            "[nltk_data] Downloading package stopwords to /root/nltk_data...\n",
            "[nltk_data]   Unzipping corpora/stopwords.zip.\n"
          ],
          "name": "stdout"
        }
      ]
    },
    {
      "cell_type": "code",
      "metadata": {
        "id": "woO48jwoO_q0",
        "colab_type": "code",
        "colab": {}
      },
      "source": [
        "def tokenize(line):\n",
        "  tokenized = line.tokenize(\"\\\\W+\")\n",
        "  tokenized = tokenized.tolower()\n",
        "  tokenized = tokenized[(tokenized.nchar() >= 2) | (tokenized.isna()), :]\n",
        "  tokenized_filter = tokenized[(tokenized.isna()) | (~tokenized.isin(stop_words)), :]\n",
        "  return tokenized_filter"
      ],
      "execution_count": 18,
      "outputs": []
    },
    {
      "cell_type": "code",
      "metadata": {
        "id": "_B2-PJYKYO2E",
        "colab_type": "code",
        "colab": {}
      },
      "source": [
        "words_reviews = tokenize(h2o_df[\"review\"])"
      ],
      "execution_count": 19,
      "outputs": []
    },
    {
      "cell_type": "code",
      "metadata": {
        "id": "OsUWjCv_Y0-u",
        "colab_type": "code",
        "colab": {}
      },
      "source": [
        "words_headline = tokenize(h2o_df[\"headline\"])"
      ],
      "execution_count": 20,
      "outputs": []
    },
    {
      "cell_type": "code",
      "metadata": {
        "id": "BwsIUIonZT_j",
        "colab_type": "code",
        "colab": {
          "base_uri": "https://localhost:8080/",
          "height": 138
        },
        "outputId": "8a640747-6d10-499f-ec37-9783707b621f"
      },
      "source": [
        "words_reviews.head(5)"
      ],
      "execution_count": 21,
      "outputs": [
        {
          "output_type": "display_data",
          "data": {
            "text/html": [
              "<table>\n",
              "<thead>\n",
              "<tr><th>C1       </th></tr>\n",
              "</thead>\n",
              "<tbody>\n",
              "<tr><td>glasses  </td></tr>\n",
              "<tr><td>excellent</td></tr>\n",
              "<tr><td>value    </td></tr>\n",
              "<tr><td>fit      </td></tr>\n",
              "<tr><td>good     </td></tr>\n",
              "</tbody>\n",
              "</table>"
            ]
          },
          "metadata": {
            "tags": []
          }
        },
        {
          "output_type": "execute_result",
          "data": {
            "text/plain": [
              ""
            ]
          },
          "metadata": {
            "tags": []
          },
          "execution_count": 21
        }
      ]
    },
    {
      "cell_type": "code",
      "metadata": {
        "id": "gbAopTJTZYoi",
        "colab_type": "code",
        "colab": {
          "base_uri": "https://localhost:8080/",
          "height": 138
        },
        "outputId": "b65bcc48-23bc-40c3-b8f6-42bbfbdc36f9"
      },
      "source": [
        "words_headline.head(5)"
      ],
      "execution_count": 22,
      "outputs": [
        {
          "output_type": "display_data",
          "data": {
            "text/html": [
              "<table>\n",
              "<thead>\n",
              "<tr><th>C1       </th></tr>\n",
              "</thead>\n",
              "<tbody>\n",
              "<tr><td>glasses  </td></tr>\n",
              "<tr><td>excellent</td></tr>\n",
              "<tr><td>value    </td></tr>\n",
              "<tr><td>fit      </td></tr>\n",
              "<tr><td>good     </td></tr>\n",
              "</tbody>\n",
              "</table>"
            ]
          },
          "metadata": {
            "tags": []
          }
        },
        {
          "output_type": "execute_result",
          "data": {
            "text/plain": [
              ""
            ]
          },
          "metadata": {
            "tags": []
          },
          "execution_count": 22
        }
      ]
    },
    {
      "cell_type": "code",
      "metadata": {
        "id": "KGijTqWJZvTo",
        "colab_type": "code",
        "colab": {
          "base_uri": "https://localhost:8080/",
          "height": 34
        },
        "outputId": "7fe2a9c8-df80-47ab-dff0-546a97afe676"
      },
      "source": [
        "words_reviews.shape"
      ],
      "execution_count": 23,
      "outputs": [
        {
          "output_type": "execute_result",
          "data": {
            "text/plain": [
              "(2797601, 1)"
            ]
          },
          "metadata": {
            "tags": []
          },
          "execution_count": 23
        }
      ]
    },
    {
      "cell_type": "code",
      "metadata": {
        "id": "FoKEjz7vZ1Tw",
        "colab_type": "code",
        "colab": {
          "base_uri": "https://localhost:8080/",
          "height": 34
        },
        "outputId": "743443f0-c70c-44b6-92dc-444421e52464"
      },
      "source": [
        "words_headline.shape"
      ],
      "execution_count": 24,
      "outputs": [
        {
          "output_type": "execute_result",
          "data": {
            "text/plain": [
              "(319384, 1)"
            ]
          },
          "metadata": {
            "tags": []
          },
          "execution_count": 24
        }
      ]
    },
    {
      "cell_type": "code",
      "metadata": {
        "id": "ySgN1KFPZ3es",
        "colab_type": "code",
        "colab": {}
      },
      "source": [
        "from h2o.estimators.word2vec import H2OWord2vecEstimator\n",
        "from h2o.estimators import H2OGradientBoostingEstimator, H2OXGBoostEstimator"
      ],
      "execution_count": 25,
      "outputs": []
    },
    {
      "cell_type": "code",
      "metadata": {
        "id": "9ENk7kn3vgkf",
        "colab_type": "code",
        "colab": {
          "base_uri": "https://localhost:8080/",
          "height": 34
        },
        "outputId": "bac5cc5e-2069-4bf2-a1a0-44057b9da3c8"
      },
      "source": [
        "vec_model = H2OWord2vecEstimator(vec_size = 100, model_id = \"w2v_amazon.model\")\n",
        "vec_model.train(training_frame=words_reviews)"
      ],
      "execution_count": 26,
      "outputs": [
        {
          "output_type": "stream",
          "text": [
            "word2vec Model Build progress: |██████████████████████████████████████████| 100%\n"
          ],
          "name": "stdout"
        }
      ]
    },
    {
      "cell_type": "code",
      "metadata": {
        "id": "StTUE9S4vjgx",
        "colab_type": "code",
        "colab": {
          "base_uri": "https://localhost:8080/",
          "height": 35
        },
        "outputId": "2d7efc40-8368-4a2d-be95-4214e1149400"
      },
      "source": [
        "h2o.save_model(vec_model,path='./')"
      ],
      "execution_count": 27,
      "outputs": [
        {
          "output_type": "execute_result",
          "data": {
            "application/vnd.google.colaboratory.intrinsic+json": {
              "type": "string"
            },
            "text/plain": [
              "'/content/w2v_amazon.model'"
            ]
          },
          "metadata": {
            "tags": []
          },
          "execution_count": 27
        }
      ]
    },
    {
      "cell_type": "code",
      "metadata": {
        "id": "OYRAKeWpwmNf",
        "colab_type": "code",
        "colab": {}
      },
      "source": [
        "vec_model=h2o.load_model(\"w2v_amazon.model\")"
      ],
      "execution_count": 28,
      "outputs": []
    },
    {
      "cell_type": "code",
      "metadata": {
        "id": "pbjDScw6wzy6",
        "colab_type": "code",
        "colab": {
          "base_uri": "https://localhost:8080/",
          "height": 101
        },
        "outputId": "64f9febb-da8d-4a6c-e290-4d3e06446232"
      },
      "source": [
        "vec_model.find_synonyms(\"perfumes\", count = 5)"
      ],
      "execution_count": 29,
      "outputs": [
        {
          "output_type": "execute_result",
          "data": {
            "text/plain": [
              "OrderedDict([('fragrances', 0.7245827317237854),\n",
              "             ('febreze', 0.7180761098861694),\n",
              "             ('perfumey', 0.7137331962585449),\n",
              "             ('scents', 0.7105090618133545),\n",
              "             ('patchouli', 0.6969985961914062)])"
            ]
          },
          "metadata": {
            "tags": []
          },
          "execution_count": 29
        }
      ]
    },
    {
      "cell_type": "code",
      "metadata": {
        "id": "xKIR9bDexiWk",
        "colab_type": "code",
        "colab": {
          "base_uri": "https://localhost:8080/",
          "height": 101
        },
        "outputId": "d133b632-69d8-4f1f-a5ac-5a6b06176f2e"
      },
      "source": [
        "vec_model.find_synonyms(\"toothpaste\", count = 5)"
      ],
      "execution_count": 30,
      "outputs": [
        {
          "output_type": "execute_result",
          "data": {
            "text/plain": [
              "OrderedDict([('listerine', 0.7312268614768982),\n",
              "             ('whitening', 0.7212122082710266),\n",
              "             ('mouthwash', 0.7114166021347046),\n",
              "             ('plax', 0.7019121050834656),\n",
              "             ('paste', 0.7009233236312866)])"
            ]
          },
          "metadata": {
            "tags": []
          },
          "execution_count": 30
        }
      ]
    },
    {
      "cell_type": "code",
      "metadata": {
        "id": "OXPn1xNkxlug",
        "colab_type": "code",
        "colab": {
          "base_uri": "https://localhost:8080/",
          "height": 101
        },
        "outputId": "f1635725-b65d-4c3f-d19d-b2f251437353"
      },
      "source": [
        "vec_model.find_synonyms(\"game\", count = 5)"
      ],
      "execution_count": 35,
      "outputs": [
        {
          "output_type": "execute_result",
          "data": {
            "text/plain": [
              "OrderedDict([('play', 0.7591017484664917),\n",
              "             ('games', 0.7339029908180237),\n",
              "             ('playing', 0.6996085047721863),\n",
              "             ('pokeno', 0.6993801593780518),\n",
              "             ('fun', 0.6396149396896362)])"
            ]
          },
          "metadata": {
            "tags": []
          },
          "execution_count": 35
        }
      ]
    },
    {
      "cell_type": "code",
      "metadata": {
        "id": "wvPJBNXVxnrl",
        "colab_type": "code",
        "colab": {}
      },
      "source": [
        "review_vecs = vec_model.transform(words_reviews, aggregate_method = \"AVERAGE\")"
      ],
      "execution_count": 36,
      "outputs": []
    },
    {
      "cell_type": "code",
      "metadata": {
        "id": "mYkFm3jHx4zW",
        "colab_type": "code",
        "colab": {
          "base_uri": "https://localhost:8080/",
          "height": 34
        },
        "outputId": "4ecd3005-12ef-4698-95f7-512855d97a90"
      },
      "source": [
        "review_vecs.shape"
      ],
      "execution_count": 38,
      "outputs": [
        {
          "output_type": "execute_result",
          "data": {
            "text/plain": [
              "(85981, 100)"
            ]
          },
          "metadata": {
            "tags": []
          },
          "execution_count": 38
        }
      ]
    },
    {
      "cell_type": "code",
      "metadata": {
        "id": "IYtPlsCBx_Gy",
        "colab_type": "code",
        "colab": {
          "base_uri": "https://localhost:8080/",
          "height": 258
        },
        "outputId": "7207adb6-4931-419b-c774-137bdab0e83e"
      },
      "source": [
        "review_vecs.head()"
      ],
      "execution_count": 39,
      "outputs": [
        {
          "output_type": "display_data",
          "data": {
            "text/html": [
              "<table>\n",
              "<thead>\n",
              "<tr><th style=\"text-align: right;\">         C1</th><th style=\"text-align: right;\">         C2</th><th style=\"text-align: right;\">         C3</th><th style=\"text-align: right;\">         C4</th><th style=\"text-align: right;\">          C5</th><th style=\"text-align: right;\">        C6</th><th style=\"text-align: right;\">         C7</th><th style=\"text-align: right;\">         C8</th><th style=\"text-align: right;\">        C9</th><th style=\"text-align: right;\">       C10</th><th style=\"text-align: right;\">       C11</th><th style=\"text-align: right;\">        C12</th><th style=\"text-align: right;\">       C13</th><th style=\"text-align: right;\">       C14</th><th style=\"text-align: right;\">      C15</th><th style=\"text-align: right;\">        C16</th><th style=\"text-align: right;\">        C17</th><th style=\"text-align: right;\">        C18</th><th style=\"text-align: right;\">       C19</th><th style=\"text-align: right;\">       C20</th><th style=\"text-align: right;\">        C21</th><th style=\"text-align: right;\">       C22</th><th style=\"text-align: right;\">       C23</th><th style=\"text-align: right;\">       C24</th><th style=\"text-align: right;\">       C25</th><th style=\"text-align: right;\">        C26</th><th style=\"text-align: right;\">        C27</th><th style=\"text-align: right;\">       C28</th><th style=\"text-align: right;\">       C29</th><th style=\"text-align: right;\">        C30</th><th style=\"text-align: right;\">       C31</th><th style=\"text-align: right;\">      C32</th><th style=\"text-align: right;\">        C33</th><th style=\"text-align: right;\">       C34</th><th style=\"text-align: right;\">         C35</th><th style=\"text-align: right;\">        C36</th><th style=\"text-align: right;\">       C37</th><th style=\"text-align: right;\">        C38</th><th style=\"text-align: right;\">       C39</th><th style=\"text-align: right;\">         C40</th><th style=\"text-align: right;\">        C41</th><th style=\"text-align: right;\">        C42</th><th style=\"text-align: right;\">       C43</th><th style=\"text-align: right;\">      C44</th><th style=\"text-align: right;\">       C45</th><th style=\"text-align: right;\">         C46</th><th style=\"text-align: right;\">        C47</th><th style=\"text-align: right;\">       C48</th><th style=\"text-align: right;\">        C49</th><th style=\"text-align: right;\">       C50</th><th style=\"text-align: right;\">       C51</th><th style=\"text-align: right;\">      C52</th><th style=\"text-align: right;\">        C53</th><th style=\"text-align: right;\">       C54</th><th style=\"text-align: right;\">       C55</th><th style=\"text-align: right;\">         C56</th><th style=\"text-align: right;\">      C57</th><th style=\"text-align: right;\">       C58</th><th style=\"text-align: right;\">        C59</th><th style=\"text-align: right;\">       C60</th><th style=\"text-align: right;\">       C61</th><th style=\"text-align: right;\">        C62</th><th style=\"text-align: right;\">      C63</th><th style=\"text-align: right;\">        C64</th><th style=\"text-align: right;\">       C65</th><th style=\"text-align: right;\">        C66</th><th style=\"text-align: right;\">       C67</th><th style=\"text-align: right;\">       C68</th><th style=\"text-align: right;\">        C69</th><th style=\"text-align: right;\">        C70</th><th style=\"text-align: right;\">        C71</th><th style=\"text-align: right;\">       C72</th><th style=\"text-align: right;\">        C73</th><th style=\"text-align: right;\">        C74</th><th style=\"text-align: right;\">       C75</th><th style=\"text-align: right;\">        C76</th><th style=\"text-align: right;\">         C77</th><th style=\"text-align: right;\">        C78</th><th style=\"text-align: right;\">       C79</th><th style=\"text-align: right;\">       C80</th><th style=\"text-align: right;\">        C81</th><th style=\"text-align: right;\">        C82</th><th style=\"text-align: right;\">      C83</th><th style=\"text-align: right;\">       C84</th><th style=\"text-align: right;\">       C85</th><th style=\"text-align: right;\">        C86</th><th style=\"text-align: right;\">      C87</th><th style=\"text-align: right;\">        C88</th><th style=\"text-align: right;\">       C89</th><th style=\"text-align: right;\">      C90</th><th style=\"text-align: right;\">       C91</th><th style=\"text-align: right;\">        C92</th><th style=\"text-align: right;\">        C93</th><th style=\"text-align: right;\">      C94</th><th style=\"text-align: right;\">       C95</th><th style=\"text-align: right;\">        C96</th><th style=\"text-align: right;\">        C97</th><th style=\"text-align: right;\">       C98</th><th style=\"text-align: right;\">       C99</th><th style=\"text-align: right;\">      C100</th></tr>\n",
              "</thead>\n",
              "<tbody>\n",
              "<tr><td style=\"text-align: right;\">-0.0223054 </td><td style=\"text-align: right;\">-0.097403  </td><td style=\"text-align: right;\">-0.0902446 </td><td style=\"text-align: right;\"> 0.0415447 </td><td style=\"text-align: right;\">-0.000602854</td><td style=\"text-align: right;\">-0.155336 </td><td style=\"text-align: right;\"> 0.0898385 </td><td style=\"text-align: right;\">-0.00791429</td><td style=\"text-align: right;\">-0.0352954</td><td style=\"text-align: right;\">-0.0655031</td><td style=\"text-align: right;\"> 0.151506 </td><td style=\"text-align: right;\">-0.0129329 </td><td style=\"text-align: right;\">-0.0307159</td><td style=\"text-align: right;\">-0.0395665</td><td style=\"text-align: right;\">0.255093 </td><td style=\"text-align: right;\">-0.0891762 </td><td style=\"text-align: right;\"> 0.00159779</td><td style=\"text-align: right;\">-0.0997844 </td><td style=\"text-align: right;\">-0.143443 </td><td style=\"text-align: right;\">-0.174569 </td><td style=\"text-align: right;\"> 0.0331017 </td><td style=\"text-align: right;\"> 0.123965 </td><td style=\"text-align: right;\"> 0.0497346</td><td style=\"text-align: right;\">-0.0340244</td><td style=\"text-align: right;\"> 0.0782553</td><td style=\"text-align: right;\">-0.00260607</td><td style=\"text-align: right;\">-0.0907684 </td><td style=\"text-align: right;\">-0.144671 </td><td style=\"text-align: right;\"> 0.0119615</td><td style=\"text-align: right;\">-0.0638019 </td><td style=\"text-align: right;\"> 0.0298206</td><td style=\"text-align: right;\">0.0424338</td><td style=\"text-align: right;\">-0.178381  </td><td style=\"text-align: right;\"> 0.0466796</td><td style=\"text-align: right;\"> 0.0305532  </td><td style=\"text-align: right;\">-0.118479  </td><td style=\"text-align: right;\">-0.0498394</td><td style=\"text-align: right;\">-0.0137169 </td><td style=\"text-align: right;\"> 0.0248918</td><td style=\"text-align: right;\"> 0.0198951  </td><td style=\"text-align: right;\">-0.0356314 </td><td style=\"text-align: right;\"> 0.00913305</td><td style=\"text-align: right;\"> 0.0299729</td><td style=\"text-align: right;\">0.141106 </td><td style=\"text-align: right;\">-0.168193 </td><td style=\"text-align: right;\">-0.0343686  </td><td style=\"text-align: right;\"> 0.111217  </td><td style=\"text-align: right;\"> 0.0585724</td><td style=\"text-align: right;\"> 0.202082  </td><td style=\"text-align: right;\">-0.120071 </td><td style=\"text-align: right;\">-0.0236533</td><td style=\"text-align: right;\">0.17221  </td><td style=\"text-align: right;\"> 0.0215457 </td><td style=\"text-align: right;\"> 0.0125799</td><td style=\"text-align: right;\">-0.172928 </td><td style=\"text-align: right;\"> 0.0168013  </td><td style=\"text-align: right;\">-0.178447</td><td style=\"text-align: right;\">-0.0335994</td><td style=\"text-align: right;\">-0.0803279 </td><td style=\"text-align: right;\">-0.0463177</td><td style=\"text-align: right;\"> 0.020263 </td><td style=\"text-align: right;\"> 0.0645335 </td><td style=\"text-align: right;\">0.0630409</td><td style=\"text-align: right;\">-0.0488939 </td><td style=\"text-align: right;\">-0.157298 </td><td style=\"text-align: right;\"> 0.0816818 </td><td style=\"text-align: right;\">-0.020394 </td><td style=\"text-align: right;\"> 0.169327 </td><td style=\"text-align: right;\">-0.0426057 </td><td style=\"text-align: right;\"> 0.0779309 </td><td style=\"text-align: right;\"> 0.039201  </td><td style=\"text-align: right;\">-0.0651404</td><td style=\"text-align: right;\">-0.069881  </td><td style=\"text-align: right;\"> 0.0636406 </td><td style=\"text-align: right;\">-0.214784 </td><td style=\"text-align: right;\">-0.0604335 </td><td style=\"text-align: right;\"> 0.0558199  </td><td style=\"text-align: right;\"> 0.0157014 </td><td style=\"text-align: right;\">-0.0408238</td><td style=\"text-align: right;\">-0.0793816</td><td style=\"text-align: right;\"> 0.140054  </td><td style=\"text-align: right;\">-0.0168977 </td><td style=\"text-align: right;\">0.100993 </td><td style=\"text-align: right;\">-0.125157 </td><td style=\"text-align: right;\">-0.128134 </td><td style=\"text-align: right;\">-0.00453497</td><td style=\"text-align: right;\">0.0818559</td><td style=\"text-align: right;\"> 0.1113    </td><td style=\"text-align: right;\">-0.122983 </td><td style=\"text-align: right;\">0.0622663</td><td style=\"text-align: right;\">-0.11818  </td><td style=\"text-align: right;\">-0.0154305 </td><td style=\"text-align: right;\">-0.0434444 </td><td style=\"text-align: right;\">0.105345 </td><td style=\"text-align: right;\">-0.0827423</td><td style=\"text-align: right;\"> 0.0181928 </td><td style=\"text-align: right;\"> 0.0166681 </td><td style=\"text-align: right;\"> 0.102492 </td><td style=\"text-align: right;\">0.0082405 </td><td style=\"text-align: right;\"> 0.0483725</td></tr>\n",
              "<tr><td style=\"text-align: right;\">-0.107511  </td><td style=\"text-align: right;\">-0.0126846 </td><td style=\"text-align: right;\">-0.096559  </td><td style=\"text-align: right;\">-0.0340658 </td><td style=\"text-align: right;\">-0.205121   </td><td style=\"text-align: right;\">-0.234747 </td><td style=\"text-align: right;\">-0.208153  </td><td style=\"text-align: right;\">-0.0615555 </td><td style=\"text-align: right;\">-0.16989  </td><td style=\"text-align: right;\">-0.0746852</td><td style=\"text-align: right;\"> 0.0167632</td><td style=\"text-align: right;\"> 0.066778  </td><td style=\"text-align: right;\"> 0.0346558</td><td style=\"text-align: right;\">-0.0648843</td><td style=\"text-align: right;\">0.212056 </td><td style=\"text-align: right;\">-0.0377561 </td><td style=\"text-align: right;\"> 0.0882356 </td><td style=\"text-align: right;\"> 0.0460584 </td><td style=\"text-align: right;\">-0.0762372</td><td style=\"text-align: right;\">-0.113578 </td><td style=\"text-align: right;\">-0.183544  </td><td style=\"text-align: right;\">-0.0391418</td><td style=\"text-align: right;\"> 0.0417602</td><td style=\"text-align: right;\"> 0.0412221</td><td style=\"text-align: right;\"> 0.0726909</td><td style=\"text-align: right;\">-0.153522  </td><td style=\"text-align: right;\">-0.20301   </td><td style=\"text-align: right;\">-0.121132 </td><td style=\"text-align: right;\">-0.0309457</td><td style=\"text-align: right;\"> 0.00419275</td><td style=\"text-align: right;\">-0.0211458</td><td style=\"text-align: right;\">0.124747 </td><td style=\"text-align: right;\">-0.0105071 </td><td style=\"text-align: right;\"> 0.053246 </td><td style=\"text-align: right;\">-0.000928475</td><td style=\"text-align: right;\"> 0.00325405</td><td style=\"text-align: right;\"> 0.0408215</td><td style=\"text-align: right;\">-0.0413378 </td><td style=\"text-align: right;\"> 0.0124793</td><td style=\"text-align: right;\">-0.0185724  </td><td style=\"text-align: right;\">-0.116819  </td><td style=\"text-align: right;\"> 0.0674913 </td><td style=\"text-align: right;\">-0.0214319</td><td style=\"text-align: right;\">0.126133 </td><td style=\"text-align: right;\">-0.119262 </td><td style=\"text-align: right;\">-0.0305301  </td><td style=\"text-align: right;\"> 0.0754631 </td><td style=\"text-align: right;\">-0.112755 </td><td style=\"text-align: right;\"> 0.0379799 </td><td style=\"text-align: right;\"> 0.0369178</td><td style=\"text-align: right;\"> 0.0791458</td><td style=\"text-align: right;\">0.0952401</td><td style=\"text-align: right;\">-0.0107511 </td><td style=\"text-align: right;\">-0.117731 </td><td style=\"text-align: right;\">-0.192922 </td><td style=\"text-align: right;\"> 0.0448207  </td><td style=\"text-align: right;\">-0.216944</td><td style=\"text-align: right;\"> 0.0123216</td><td style=\"text-align: right;\">-0.0782549 </td><td style=\"text-align: right;\">-0.0636979</td><td style=\"text-align: right;\">-0.0015354</td><td style=\"text-align: right;\">-0.00404434</td><td style=\"text-align: right;\">0.0660226</td><td style=\"text-align: right;\">-0.00123272</td><td style=\"text-align: right;\">-0.16883  </td><td style=\"text-align: right;\"> 0.10859   </td><td style=\"text-align: right;\"> 0.0530704</td><td style=\"text-align: right;\">-0.0753458</td><td style=\"text-align: right;\"> 0.030885  </td><td style=\"text-align: right;\">-0.0533182 </td><td style=\"text-align: right;\">-0.0295383 </td><td style=\"text-align: right;\">-0.0179188</td><td style=\"text-align: right;\">-0.0869747 </td><td style=\"text-align: right;\"> 0.0523148 </td><td style=\"text-align: right;\">-0.184258 </td><td style=\"text-align: right;\">-0.00484966</td><td style=\"text-align: right;\"> 0.0606801  </td><td style=\"text-align: right;\">-0.0281541 </td><td style=\"text-align: right;\">-0.017817 </td><td style=\"text-align: right;\"> 0.0139462</td><td style=\"text-align: right;\">-0.0264891 </td><td style=\"text-align: right;\">-0.063101  </td><td style=\"text-align: right;\">0.0422784</td><td style=\"text-align: right;\">-0.134539 </td><td style=\"text-align: right;\">-0.0332137</td><td style=\"text-align: right;\">-0.0768777 </td><td style=\"text-align: right;\">0.142283 </td><td style=\"text-align: right;\"> 0.086025  </td><td style=\"text-align: right;\">-0.0436606</td><td style=\"text-align: right;\">0.114164 </td><td style=\"text-align: right;\">-0.155337 </td><td style=\"text-align: right;\">-0.00846325</td><td style=\"text-align: right;\"> 0.0176193 </td><td style=\"text-align: right;\">0.0261915</td><td style=\"text-align: right;\">-0.0832959</td><td style=\"text-align: right;\"> 0.0530141 </td><td style=\"text-align: right;\">-0.0159271 </td><td style=\"text-align: right;\"> 0.12684  </td><td style=\"text-align: right;\">0.150595  </td><td style=\"text-align: right;\"> 0.0653353</td></tr>\n",
              "<tr><td style=\"text-align: right;\">-0.172815  </td><td style=\"text-align: right;\">-0.0587656 </td><td style=\"text-align: right;\">-0.0889072 </td><td style=\"text-align: right;\"> 0.0497795 </td><td style=\"text-align: right;\"> 0.0114461  </td><td style=\"text-align: right;\">-0.104394 </td><td style=\"text-align: right;\">-0.0417466 </td><td style=\"text-align: right;\"> 0.00495517</td><td style=\"text-align: right;\">-0.069904 </td><td style=\"text-align: right;\">-0.126889 </td><td style=\"text-align: right;\"> 0.0956593</td><td style=\"text-align: right;\"> 0.00300087</td><td style=\"text-align: right;\"> 0.040877 </td><td style=\"text-align: right;\"> 0.0713547</td><td style=\"text-align: right;\">0.109928 </td><td style=\"text-align: right;\"> 0.107341  </td><td style=\"text-align: right;\">-0.0439956 </td><td style=\"text-align: right;\"> 0.0784169 </td><td style=\"text-align: right;\">-0.0473216</td><td style=\"text-align: right;\">-0.21542  </td><td style=\"text-align: right;\">-0.0878525 </td><td style=\"text-align: right;\"> 0.0303333</td><td style=\"text-align: right;\"> 0.0512189</td><td style=\"text-align: right;\"> 0.0334724</td><td style=\"text-align: right;\">-0.0405721</td><td style=\"text-align: right;\">-0.179878  </td><td style=\"text-align: right;\">-0.01899   </td><td style=\"text-align: right;\">-0.139355 </td><td style=\"text-align: right;\"> 0.105212 </td><td style=\"text-align: right;\">-0.148144  </td><td style=\"text-align: right;\"> 0.0994786</td><td style=\"text-align: right;\">0.170663 </td><td style=\"text-align: right;\">-0.0881245 </td><td style=\"text-align: right;\"> 0.0523938</td><td style=\"text-align: right;\"> 0.108103   </td><td style=\"text-align: right;\">-0.140714  </td><td style=\"text-align: right;\"> 0.0678852</td><td style=\"text-align: right;\">-0.131594  </td><td style=\"text-align: right;\">-0.139709 </td><td style=\"text-align: right;\"> 0.112271   </td><td style=\"text-align: right;\">-0.158751  </td><td style=\"text-align: right;\"> 0.0719815 </td><td style=\"text-align: right;\">-0.0353427</td><td style=\"text-align: right;\">0.079349 </td><td style=\"text-align: right;\">-0.0763726</td><td style=\"text-align: right;\"> 0.0862679  </td><td style=\"text-align: right;\"> 0.135778  </td><td style=\"text-align: right;\">-0.102849 </td><td style=\"text-align: right;\"> 0.0302586 </td><td style=\"text-align: right;\">-0.0396604</td><td style=\"text-align: right;\"> 0.129587 </td><td style=\"text-align: right;\">0.134783 </td><td style=\"text-align: right;\"> 0.0264353 </td><td style=\"text-align: right;\">-0.133374 </td><td style=\"text-align: right;\">-0.127687 </td><td style=\"text-align: right;\"> 0.0255274  </td><td style=\"text-align: right;\">-0.10975 </td><td style=\"text-align: right;\">-0.155122 </td><td style=\"text-align: right;\"> 0.0566256 </td><td style=\"text-align: right;\">-0.149231 </td><td style=\"text-align: right;\">-0.102032 </td><td style=\"text-align: right;\"> 0.155817  </td><td style=\"text-align: right;\">0.144932 </td><td style=\"text-align: right;\"> 0.121271  </td><td style=\"text-align: right;\">-0.0394657</td><td style=\"text-align: right;\"> 0.0739121 </td><td style=\"text-align: right;\">-0.121869 </td><td style=\"text-align: right;\"> 0.0751354</td><td style=\"text-align: right;\"> 0.117778  </td><td style=\"text-align: right;\">-0.0407588 </td><td style=\"text-align: right;\">-0.0237813 </td><td style=\"text-align: right;\">-0.121385 </td><td style=\"text-align: right;\"> 0.0483733 </td><td style=\"text-align: right;\"> 0.137392  </td><td style=\"text-align: right;\">-0.0253799</td><td style=\"text-align: right;\">-0.0723383 </td><td style=\"text-align: right;\"> 0.116652   </td><td style=\"text-align: right;\"> 0.120502  </td><td style=\"text-align: right;\">-0.0527462</td><td style=\"text-align: right;\"> 0.0253209</td><td style=\"text-align: right;\"> 0.0302687 </td><td style=\"text-align: right;\">-0.0675395 </td><td style=\"text-align: right;\">0.112218 </td><td style=\"text-align: right;\">-0.09267  </td><td style=\"text-align: right;\">-0.0583255</td><td style=\"text-align: right;\">-0.0912491 </td><td style=\"text-align: right;\">0.0524688</td><td style=\"text-align: right;\"> 0.0554571 </td><td style=\"text-align: right;\">-0.0509934</td><td style=\"text-align: right;\">0.116041 </td><td style=\"text-align: right;\">-0.0214648</td><td style=\"text-align: right;\"> 0.154934  </td><td style=\"text-align: right;\">-0.0616671 </td><td style=\"text-align: right;\">0.0680852</td><td style=\"text-align: right;\">-0.15759  </td><td style=\"text-align: right;\">-0.111854  </td><td style=\"text-align: right;\"> 0.0704045 </td><td style=\"text-align: right;\">-0.0133356</td><td style=\"text-align: right;\">0.140298  </td><td style=\"text-align: right;\">-0.110333 </td></tr>\n",
              "<tr><td style=\"text-align: right;\">-0.310827  </td><td style=\"text-align: right;\">-0.160608  </td><td style=\"text-align: right;\">-0.1274    </td><td style=\"text-align: right;\"> 0.0173114 </td><td style=\"text-align: right;\"> 0.0992162  </td><td style=\"text-align: right;\">-0.21487  </td><td style=\"text-align: right;\"> 0.0294656 </td><td style=\"text-align: right;\">-0.0276328 </td><td style=\"text-align: right;\">-0.13903  </td><td style=\"text-align: right;\">-0.165399 </td><td style=\"text-align: right;\"> 0.0354868</td><td style=\"text-align: right;\"> 0.00743709</td><td style=\"text-align: right;\">-0.156466 </td><td style=\"text-align: right;\"> 0.0548282</td><td style=\"text-align: right;\">0.0628496</td><td style=\"text-align: right;\"> 0.0436055 </td><td style=\"text-align: right;\"> 0.104     </td><td style=\"text-align: right;\">-0.118708  </td><td style=\"text-align: right;\">-0.0772754</td><td style=\"text-align: right;\">-0.370285 </td><td style=\"text-align: right;\">-0.00171005</td><td style=\"text-align: right;\"> 0.0167156</td><td style=\"text-align: right;\">-0.0387887</td><td style=\"text-align: right;\">-0.157198 </td><td style=\"text-align: right;\"> 0.180839 </td><td style=\"text-align: right;\"> 0.0631772 </td><td style=\"text-align: right;\">-0.158485  </td><td style=\"text-align: right;\"> 0.0408197</td><td style=\"text-align: right;\"> 0.166148 </td><td style=\"text-align: right;\"> 0.0648308 </td><td style=\"text-align: right;\">-0.0866678</td><td style=\"text-align: right;\">0.090499 </td><td style=\"text-align: right;\"> 0.0595605 </td><td style=\"text-align: right;\">-0.0112761</td><td style=\"text-align: right;\"> 0.145485   </td><td style=\"text-align: right;\"> 0.213908  </td><td style=\"text-align: right;\">-0.097934 </td><td style=\"text-align: right;\">-0.0825539 </td><td style=\"text-align: right;\">-0.219183 </td><td style=\"text-align: right;\"> 0.0768907  </td><td style=\"text-align: right;\"> 0.0639737 </td><td style=\"text-align: right;\">-0.0663617 </td><td style=\"text-align: right;\"> 0.111291 </td><td style=\"text-align: right;\">0.0269483</td><td style=\"text-align: right;\">-0.290576 </td><td style=\"text-align: right;\"> 0.0677275  </td><td style=\"text-align: right;\"> 0.0669747 </td><td style=\"text-align: right;\">-0.232135 </td><td style=\"text-align: right;\">-0.00572447</td><td style=\"text-align: right;\">-0.105835 </td><td style=\"text-align: right;\">-0.0298688</td><td style=\"text-align: right;\">0.313886 </td><td style=\"text-align: right;\"> 0.144445  </td><td style=\"text-align: right;\">-0.275253 </td><td style=\"text-align: right;\">-0.164498 </td><td style=\"text-align: right;\">-0.152943   </td><td style=\"text-align: right;\">-0.200945</td><td style=\"text-align: right;\"> 0.0558273</td><td style=\"text-align: right;\">-0.0575803 </td><td style=\"text-align: right;\"> 0.0114271</td><td style=\"text-align: right;\">-0.125954 </td><td style=\"text-align: right;\"> 0.152885  </td><td style=\"text-align: right;\">0.281458 </td><td style=\"text-align: right;\"> 0.0923846 </td><td style=\"text-align: right;\">-0.0783901</td><td style=\"text-align: right;\"> 0.00265348</td><td style=\"text-align: right;\"> 0.142614 </td><td style=\"text-align: right;\"> 0.0293402</td><td style=\"text-align: right;\">-0.061695  </td><td style=\"text-align: right;\"> 0.243551  </td><td style=\"text-align: right;\">-0.136037  </td><td style=\"text-align: right;\">-0.059607 </td><td style=\"text-align: right;\">-0.0687882 </td><td style=\"text-align: right;\"> 0.103979  </td><td style=\"text-align: right;\">-0.199887 </td><td style=\"text-align: right;\">-0.0501023 </td><td style=\"text-align: right;\"> 0.257136   </td><td style=\"text-align: right;\"> 0.122893  </td><td style=\"text-align: right;\">-0.0812215</td><td style=\"text-align: right;\"> 0.183653 </td><td style=\"text-align: right;\"> 0.047506  </td><td style=\"text-align: right;\"> 0.176205  </td><td style=\"text-align: right;\">0.0143862</td><td style=\"text-align: right;\">-0.125763 </td><td style=\"text-align: right;\">-0.0291094</td><td style=\"text-align: right;\"> 0.0912375 </td><td style=\"text-align: right;\">0.0548747</td><td style=\"text-align: right;\"> 0.0944186 </td><td style=\"text-align: right;\">-0.0265309</td><td style=\"text-align: right;\">0.165091 </td><td style=\"text-align: right;\"> 0.0439272</td><td style=\"text-align: right;\">-0.031927  </td><td style=\"text-align: right;\">-0.199789  </td><td style=\"text-align: right;\">0.355327 </td><td style=\"text-align: right;\">-0.105094 </td><td style=\"text-align: right;\"> 0.133785  </td><td style=\"text-align: right;\"> 0.0373113 </td><td style=\"text-align: right;\"> 0.198479 </td><td style=\"text-align: right;\">0.162912  </td><td style=\"text-align: right;\">-0.0727373</td></tr>\n",
              "<tr><td style=\"text-align: right;\">-0.00903655</td><td style=\"text-align: right;\">-0.0253567 </td><td style=\"text-align: right;\">-0.00494405</td><td style=\"text-align: right;\"> 0.00626514</td><td style=\"text-align: right;\"> 0.131414   </td><td style=\"text-align: right;\">-0.109395 </td><td style=\"text-align: right;\">-0.00473868</td><td style=\"text-align: right;\"> 0.0788463 </td><td style=\"text-align: right;\"> 0.0275241</td><td style=\"text-align: right;\">-0.113157 </td><td style=\"text-align: right;\"> 0.126383 </td><td style=\"text-align: right;\"> 0.0860847 </td><td style=\"text-align: right;\">-0.0770381</td><td style=\"text-align: right;\"> 0.0421612</td><td style=\"text-align: right;\">0.0559417</td><td style=\"text-align: right;\"> 0.055557  </td><td style=\"text-align: right;\"> 0.0237766 </td><td style=\"text-align: right;\"> 0.109108  </td><td style=\"text-align: right;\">-0.0338206</td><td style=\"text-align: right;\"> 0.01657  </td><td style=\"text-align: right;\">-0.0564186 </td><td style=\"text-align: right;\">-0.127234 </td><td style=\"text-align: right;\">-0.073103 </td><td style=\"text-align: right;\"> 0.0669444</td><td style=\"text-align: right;\">-0.0905245</td><td style=\"text-align: right;\"> 0.034314  </td><td style=\"text-align: right;\">-0.159686  </td><td style=\"text-align: right;\">-0.107026 </td><td style=\"text-align: right;\"> 0.0597512</td><td style=\"text-align: right;\">-0.0719245 </td><td style=\"text-align: right;\"> 0.178934 </td><td style=\"text-align: right;\">0.257192 </td><td style=\"text-align: right;\">-0.148003  </td><td style=\"text-align: right;\"> 0.141521 </td><td style=\"text-align: right;\">-0.076624   </td><td style=\"text-align: right;\">-0.0414647 </td><td style=\"text-align: right;\"> 0.0236792</td><td style=\"text-align: right;\">-0.134808  </td><td style=\"text-align: right;\">-0.172939 </td><td style=\"text-align: right;\">-0.0576639  </td><td style=\"text-align: right;\">-0.113476  </td><td style=\"text-align: right;\"> 0.011008  </td><td style=\"text-align: right;\"> 0.108475 </td><td style=\"text-align: right;\">0.267594 </td><td style=\"text-align: right;\">-0.0744766</td><td style=\"text-align: right;\">-0.0929624  </td><td style=\"text-align: right;\"> 0.00113948</td><td style=\"text-align: right;\"> 0.0601175</td><td style=\"text-align: right;\"> 0.117734  </td><td style=\"text-align: right;\">-0.0234827</td><td style=\"text-align: right;\">-0.121909 </td><td style=\"text-align: right;\">0.0894875</td><td style=\"text-align: right;\"> 0.0652853 </td><td style=\"text-align: right;\">-0.0736613</td><td style=\"text-align: right;\">-0.10772  </td><td style=\"text-align: right;\"> 0.0587148  </td><td style=\"text-align: right;\">-0.176323</td><td style=\"text-align: right;\">-0.121361 </td><td style=\"text-align: right;\"> 0.00616967</td><td style=\"text-align: right;\">-0.0268212</td><td style=\"text-align: right;\"> 0.0260295</td><td style=\"text-align: right;\"> 0.120866  </td><td style=\"text-align: right;\">0.0971529</td><td style=\"text-align: right;\">-0.0587863 </td><td style=\"text-align: right;\">-0.10428  </td><td style=\"text-align: right;\">-0.15477   </td><td style=\"text-align: right;\"> 0.117864 </td><td style=\"text-align: right;\"> 0.152536 </td><td style=\"text-align: right;\">-0.0377076 </td><td style=\"text-align: right;\">-0.183933  </td><td style=\"text-align: right;\">-0.0860289 </td><td style=\"text-align: right;\">-0.0826109</td><td style=\"text-align: right;\"> 0.104963  </td><td style=\"text-align: right;\"> 0.189023  </td><td style=\"text-align: right;\">-0.169084 </td><td style=\"text-align: right;\">-0.166634  </td><td style=\"text-align: right;\">-0.000557473</td><td style=\"text-align: right;\">-0.0233066 </td><td style=\"text-align: right;\"> 0.11605  </td><td style=\"text-align: right;\">-0.0866745</td><td style=\"text-align: right;\"> 0.0702089 </td><td style=\"text-align: right;\"> 0.0293469 </td><td style=\"text-align: right;\">0.0908583</td><td style=\"text-align: right;\">-0.0481588</td><td style=\"text-align: right;\">-0.0555113</td><td style=\"text-align: right;\">-0.00149253</td><td style=\"text-align: right;\">0.0144749</td><td style=\"text-align: right;\"> 0.203332  </td><td style=\"text-align: right;\"> 0.10715  </td><td style=\"text-align: right;\">0.191666 </td><td style=\"text-align: right;\">-0.111055 </td><td style=\"text-align: right;\"> 0.0780266 </td><td style=\"text-align: right;\">-0.0758129 </td><td style=\"text-align: right;\">0.156245 </td><td style=\"text-align: right;\"> 0.0879951</td><td style=\"text-align: right;\"> 0.0404993 </td><td style=\"text-align: right;\">-0.0786247 </td><td style=\"text-align: right;\"> 0.177025 </td><td style=\"text-align: right;\">0.0825289 </td><td style=\"text-align: right;\">-0.0812524</td></tr>\n",
              "<tr><td style=\"text-align: right;\">-0.0700123 </td><td style=\"text-align: right;\">-0.0755902 </td><td style=\"text-align: right;\">-0.0441099 </td><td style=\"text-align: right;\"> 0.114852  </td><td style=\"text-align: right;\"> 0.0179222  </td><td style=\"text-align: right;\">-0.0657074</td><td style=\"text-align: right;\">-0.0816291 </td><td style=\"text-align: right;\">-0.0217387 </td><td style=\"text-align: right;\">-0.0773562</td><td style=\"text-align: right;\">-0.0925149</td><td style=\"text-align: right;\"> 0.0656858</td><td style=\"text-align: right;\"> 0.0678702 </td><td style=\"text-align: right;\">-0.0106703</td><td style=\"text-align: right;\">-0.0337555</td><td style=\"text-align: right;\">0.0646884</td><td style=\"text-align: right;\"> 0.0373544 </td><td style=\"text-align: right;\">-0.0783837 </td><td style=\"text-align: right;\"> 0.0582447 </td><td style=\"text-align: right;\"> 0.0361225</td><td style=\"text-align: right;\">-0.0694977</td><td style=\"text-align: right;\">-0.0672691 </td><td style=\"text-align: right;\"> 0.10625  </td><td style=\"text-align: right;\">-0.0152559</td><td style=\"text-align: right;\"> 0.0413629</td><td style=\"text-align: right;\"> 0.0345047</td><td style=\"text-align: right;\">-0.0671647 </td><td style=\"text-align: right;\">-0.0133872 </td><td style=\"text-align: right;\">-0.18897  </td><td style=\"text-align: right;\"> 0.0698947</td><td style=\"text-align: right;\">-0.0836058 </td><td style=\"text-align: right;\"> 0.0560247</td><td style=\"text-align: right;\">0.191988 </td><td style=\"text-align: right;\">-0.0502634 </td><td style=\"text-align: right;\"> 0.0122876</td><td style=\"text-align: right;\"> 0.0357647  </td><td style=\"text-align: right;\">-0.081288  </td><td style=\"text-align: right;\">-0.0310883</td><td style=\"text-align: right;\">-0.222141  </td><td style=\"text-align: right;\">-0.0880815</td><td style=\"text-align: right;\">-0.0416519  </td><td style=\"text-align: right;\">-0.0792918 </td><td style=\"text-align: right;\"> 0.0146957 </td><td style=\"text-align: right;\"> 0.0303462</td><td style=\"text-align: right;\">0.196525 </td><td style=\"text-align: right;\">-0.14988  </td><td style=\"text-align: right;\">-0.0345581  </td><td style=\"text-align: right;\">-0.0213494 </td><td style=\"text-align: right;\"> 0.0113084</td><td style=\"text-align: right;\"> 0.0878097 </td><td style=\"text-align: right;\">-0.042217 </td><td style=\"text-align: right;\">-0.0179971</td><td style=\"text-align: right;\">0.132255 </td><td style=\"text-align: right;\"> 0.112736  </td><td style=\"text-align: right;\">-0.162002 </td><td style=\"text-align: right;\">-0.160944 </td><td style=\"text-align: right;\"> 0.0416077  </td><td style=\"text-align: right;\">-0.15637 </td><td style=\"text-align: right;\">-0.101512 </td><td style=\"text-align: right;\"> 0.0648536 </td><td style=\"text-align: right;\">-0.112224 </td><td style=\"text-align: right;\">-0.0645472</td><td style=\"text-align: right;\"> 0.0757341 </td><td style=\"text-align: right;\">0.0987148</td><td style=\"text-align: right;\">-0.0306532 </td><td style=\"text-align: right;\">-0.0436045</td><td style=\"text-align: right;\"> 0.0583583 </td><td style=\"text-align: right;\"> 0.0531949</td><td style=\"text-align: right;\"> 0.0175965</td><td style=\"text-align: right;\">-0.087538  </td><td style=\"text-align: right;\">-0.0395171 </td><td style=\"text-align: right;\">-0.0165688 </td><td style=\"text-align: right;\">-0.0919945</td><td style=\"text-align: right;\"> 0.082564  </td><td style=\"text-align: right;\"> 0.00260392</td><td style=\"text-align: right;\">-0.0554851</td><td style=\"text-align: right;\">-0.0573758 </td><td style=\"text-align: right;\"> 0.0547042  </td><td style=\"text-align: right;\"> 0.104837  </td><td style=\"text-align: right;\"> 0.0324786</td><td style=\"text-align: right;\">-0.0866499</td><td style=\"text-align: right;\">-0.00104786</td><td style=\"text-align: right;\">-0.00241115</td><td style=\"text-align: right;\">0.120915 </td><td style=\"text-align: right;\">-0.0649063</td><td style=\"text-align: right;\">-0.0613906</td><td style=\"text-align: right;\">-0.066647  </td><td style=\"text-align: right;\">0.123555 </td><td style=\"text-align: right;\"> 0.0546419 </td><td style=\"text-align: right;\">-0.0261739</td><td style=\"text-align: right;\">0.18747  </td><td style=\"text-align: right;\">-0.109922 </td><td style=\"text-align: right;\"> 0.0994844 </td><td style=\"text-align: right;\">-0.0492771 </td><td style=\"text-align: right;\">0.111745 </td><td style=\"text-align: right;\">-0.0736841</td><td style=\"text-align: right;\"> 0.0114081 </td><td style=\"text-align: right;\">-0.00857411</td><td style=\"text-align: right;\"> 0.105202 </td><td style=\"text-align: right;\">0.0998995 </td><td style=\"text-align: right;\">-0.0485713</td></tr>\n",
              "<tr><td style=\"text-align: right;\"> 0.0840595 </td><td style=\"text-align: right;\"> 0.0317886 </td><td style=\"text-align: right;\">-0.1149    </td><td style=\"text-align: right;\"> 0.0947545 </td><td style=\"text-align: right;\"> 0.0398061  </td><td style=\"text-align: right;\">-0.0974046</td><td style=\"text-align: right;\">-0.0450777 </td><td style=\"text-align: right;\">-0.0990161 </td><td style=\"text-align: right;\">-0.0290951</td><td style=\"text-align: right;\">-0.149748 </td><td style=\"text-align: right;\">-0.0119095</td><td style=\"text-align: right;\"> 0.10379   </td><td style=\"text-align: right;\"> 0.0485063</td><td style=\"text-align: right;\">-0.0293204</td><td style=\"text-align: right;\">0.144991 </td><td style=\"text-align: right;\">-0.0563021 </td><td style=\"text-align: right;\"> 0.0414489 </td><td style=\"text-align: right;\"> 0.056878  </td><td style=\"text-align: right;\">-0.15167  </td><td style=\"text-align: right;\">-0.0786006</td><td style=\"text-align: right;\"> 0.0159198 </td><td style=\"text-align: right;\"> 0.0795398</td><td style=\"text-align: right;\"> 0.11442  </td><td style=\"text-align: right;\"> 0.0639463</td><td style=\"text-align: right;\"> 0.0343668</td><td style=\"text-align: right;\"> 0.0619479 </td><td style=\"text-align: right;\"> 0.00264803</td><td style=\"text-align: right;\">-0.252737 </td><td style=\"text-align: right;\">-0.0914874</td><td style=\"text-align: right;\">-0.102676  </td><td style=\"text-align: right;\"> 0.025669 </td><td style=\"text-align: right;\">0.0823435</td><td style=\"text-align: right;\"> 0.00164884</td><td style=\"text-align: right;\">-0.0171837</td><td style=\"text-align: right;\"> 0.0174331  </td><td style=\"text-align: right;\">-0.0762064 </td><td style=\"text-align: right;\">-0.0936401</td><td style=\"text-align: right;\">-0.00253468</td><td style=\"text-align: right;\"> 0.0246649</td><td style=\"text-align: right;\">-0.000505813</td><td style=\"text-align: right;\">-0.074779  </td><td style=\"text-align: right;\"> 0.132116  </td><td style=\"text-align: right;\"> 0.0538422</td><td style=\"text-align: right;\">0.135271 </td><td style=\"text-align: right;\">-0.0197144</td><td style=\"text-align: right;\">-0.0270327  </td><td style=\"text-align: right;\"> 0.132716  </td><td style=\"text-align: right;\"> 0.0378224</td><td style=\"text-align: right;\"> 0.0386385 </td><td style=\"text-align: right;\">-0.0566851</td><td style=\"text-align: right;\"> 0.0229601</td><td style=\"text-align: right;\">0.148181 </td><td style=\"text-align: right;\">-0.0353839 </td><td style=\"text-align: right;\">-0.153741 </td><td style=\"text-align: right;\">-0.1224   </td><td style=\"text-align: right;\"> 6.24577e-05</td><td style=\"text-align: right;\">-0.172379</td><td style=\"text-align: right;\">-0.0604564</td><td style=\"text-align: right;\"> 0.0472272 </td><td style=\"text-align: right;\">-0.0764659</td><td style=\"text-align: right;\"> 0.0475961</td><td style=\"text-align: right;\"> 0.129683  </td><td style=\"text-align: right;\">0.0306189</td><td style=\"text-align: right;\">-0.0130726 </td><td style=\"text-align: right;\">-0.0634564</td><td style=\"text-align: right;\">-0.0597532 </td><td style=\"text-align: right;\"> 0.0714917</td><td style=\"text-align: right;\"> 0.0409405</td><td style=\"text-align: right;\">-0.113003  </td><td style=\"text-align: right;\">-0.00936155</td><td style=\"text-align: right;\"> 0.0733388 </td><td style=\"text-align: right;\">-0.0602114</td><td style=\"text-align: right;\">-0.0275399 </td><td style=\"text-align: right;\"> 0.0545474 </td><td style=\"text-align: right;\"> 0.0165447</td><td style=\"text-align: right;\">-0.0336585 </td><td style=\"text-align: right;\">-0.0149745  </td><td style=\"text-align: right;\">-0.086931  </td><td style=\"text-align: right;\">-0.0519207</td><td style=\"text-align: right;\">-0.0800841</td><td style=\"text-align: right;\">-0.00913092</td><td style=\"text-align: right;\">-0.0203093 </td><td style=\"text-align: right;\">0.131352 </td><td style=\"text-align: right;\">-0.0835398</td><td style=\"text-align: right;\">-0.0801039</td><td style=\"text-align: right;\"> 0.0313949 </td><td style=\"text-align: right;\">0.265224 </td><td style=\"text-align: right;\"> 0.0817965 </td><td style=\"text-align: right;\">-0.0631238</td><td style=\"text-align: right;\">0.185527 </td><td style=\"text-align: right;\">-0.113298 </td><td style=\"text-align: right;\"> 0.0875401 </td><td style=\"text-align: right;\">-0.034366  </td><td style=\"text-align: right;\">0.148932 </td><td style=\"text-align: right;\">-0.0406646</td><td style=\"text-align: right;\"> 0.0206936 </td><td style=\"text-align: right;\">-0.0179154 </td><td style=\"text-align: right;\"> 0.161598 </td><td style=\"text-align: right;\">0.0667575 </td><td style=\"text-align: right;\"> 0.0707948</td></tr>\n",
              "<tr><td style=\"text-align: right;\">-0.0849908 </td><td style=\"text-align: right;\">-0.062714  </td><td style=\"text-align: right;\">-0.121164  </td><td style=\"text-align: right;\"> 0.106578  </td><td style=\"text-align: right;\">-0.0425393  </td><td style=\"text-align: right;\">-0.185519 </td><td style=\"text-align: right;\">-0.0505359 </td><td style=\"text-align: right;\">-0.0836633 </td><td style=\"text-align: right;\">-0.110553 </td><td style=\"text-align: right;\">-0.0236404</td><td style=\"text-align: right;\"> 0.0216428</td><td style=\"text-align: right;\"> 0.0220242 </td><td style=\"text-align: right;\">-0.0182792</td><td style=\"text-align: right;\"> 0.0563114</td><td style=\"text-align: right;\">0.102158 </td><td style=\"text-align: right;\">-0.00764907</td><td style=\"text-align: right;\"> 0.0884398 </td><td style=\"text-align: right;\"> 0.00739399</td><td style=\"text-align: right;\">-0.0720289</td><td style=\"text-align: right;\">-0.181937 </td><td style=\"text-align: right;\">-0.083894  </td><td style=\"text-align: right;\"> 0.0157597</td><td style=\"text-align: right;\"> 0.147528 </td><td style=\"text-align: right;\">-0.0085156</td><td style=\"text-align: right;\">-0.0096997</td><td style=\"text-align: right;\">-0.0139153 </td><td style=\"text-align: right;\">-0.0420663 </td><td style=\"text-align: right;\">-0.0745466</td><td style=\"text-align: right;\">-0.0717167</td><td style=\"text-align: right;\">-0.170344  </td><td style=\"text-align: right;\"> 0.0321518</td><td style=\"text-align: right;\">0.0957299</td><td style=\"text-align: right;\">-0.0925658 </td><td style=\"text-align: right;\"> 0.106943 </td><td style=\"text-align: right;\"> 0.0632964  </td><td style=\"text-align: right;\">-0.0953753 </td><td style=\"text-align: right;\">-0.0333437</td><td style=\"text-align: right;\">-0.0928539 </td><td style=\"text-align: right;\">-0.0713421</td><td style=\"text-align: right;\"> 0.105415   </td><td style=\"text-align: right;\">-0.00649964</td><td style=\"text-align: right;\">-0.0208706 </td><td style=\"text-align: right;\"> 0.077052 </td><td style=\"text-align: right;\">0.0896145</td><td style=\"text-align: right;\">-0.0909913</td><td style=\"text-align: right;\">-0.000885718</td><td style=\"text-align: right;\"> 0.0493907 </td><td style=\"text-align: right;\">-0.0328254</td><td style=\"text-align: right;\"> 0.00130843</td><td style=\"text-align: right;\">-0.0513432</td><td style=\"text-align: right;\"> 0.0321302</td><td style=\"text-align: right;\">0.120137 </td><td style=\"text-align: right;\"> 0.0116222 </td><td style=\"text-align: right;\">-0.0637078</td><td style=\"text-align: right;\">-0.142518 </td><td style=\"text-align: right;\">-0.0383079  </td><td style=\"text-align: right;\">-0.138323</td><td style=\"text-align: right;\">-0.0747884</td><td style=\"text-align: right;\"> 0.070589  </td><td style=\"text-align: right;\">-0.143215 </td><td style=\"text-align: right;\"> 0.0165615</td><td style=\"text-align: right;\"> 0.0967231 </td><td style=\"text-align: right;\">0.0590231</td><td style=\"text-align: right;\"> 0.0235435 </td><td style=\"text-align: right;\">-0.0565074</td><td style=\"text-align: right;\"> 0.0524896 </td><td style=\"text-align: right;\">-0.0726494</td><td style=\"text-align: right;\"> 0.127563 </td><td style=\"text-align: right;\">-0.0449377 </td><td style=\"text-align: right;\">-0.0170753 </td><td style=\"text-align: right;\">-0.037836  </td><td style=\"text-align: right;\">-0.0687208</td><td style=\"text-align: right;\"> 0.0508954 </td><td style=\"text-align: right;\"> 0.147309  </td><td style=\"text-align: right;\">-0.118728 </td><td style=\"text-align: right;\">-0.0855443 </td><td style=\"text-align: right;\"> 0.0772917  </td><td style=\"text-align: right;\"> 0.0420196 </td><td style=\"text-align: right;\">-0.0352316</td><td style=\"text-align: right;\">-0.140368 </td><td style=\"text-align: right;\"> 0.0315235 </td><td style=\"text-align: right;\">-0.10422   </td><td style=\"text-align: right;\">0.118639 </td><td style=\"text-align: right;\">-0.0210698</td><td style=\"text-align: right;\">-0.0627733</td><td style=\"text-align: right;\"> 0.0813124 </td><td style=\"text-align: right;\">0.100555 </td><td style=\"text-align: right;\"> 0.0463809 </td><td style=\"text-align: right;\">-0.0964949</td><td style=\"text-align: right;\">0.137309 </td><td style=\"text-align: right;\">-0.120406 </td><td style=\"text-align: right;\"> 0.0641728 </td><td style=\"text-align: right;\">-0.100043  </td><td style=\"text-align: right;\">0.194678 </td><td style=\"text-align: right;\">-0.0837309</td><td style=\"text-align: right;\"> 0.00120358</td><td style=\"text-align: right;\"> 0.0293834 </td><td style=\"text-align: right;\"> 0.0902609</td><td style=\"text-align: right;\">0.143333  </td><td style=\"text-align: right;\">-0.0131671</td></tr>\n",
              "<tr><td style=\"text-align: right;\">-0.110877  </td><td style=\"text-align: right;\">-0.00259527</td><td style=\"text-align: right;\">-0.152266  </td><td style=\"text-align: right;\"> 0.0485062 </td><td style=\"text-align: right;\">-0.0071582  </td><td style=\"text-align: right;\">-0.108389 </td><td style=\"text-align: right;\">-0.0428216 </td><td style=\"text-align: right;\">-0.0332419 </td><td style=\"text-align: right;\">-0.0438787</td><td style=\"text-align: right;\">-0.162783 </td><td style=\"text-align: right;\"> 0.0243054</td><td style=\"text-align: right;\"> 0.0216243 </td><td style=\"text-align: right;\"> 0.0919538</td><td style=\"text-align: right;\">-0.0218899</td><td style=\"text-align: right;\">0.0508308</td><td style=\"text-align: right;\">-0.0061505 </td><td style=\"text-align: right;\"> 0.0718847 </td><td style=\"text-align: right;\"> 0.0707027 </td><td style=\"text-align: right;\">-0.0446554</td><td style=\"text-align: right;\">-0.132158 </td><td style=\"text-align: right;\"> 0.0463972 </td><td style=\"text-align: right;\"> 0.0167101</td><td style=\"text-align: right;\"> 0.111317 </td><td style=\"text-align: right;\"> 0.0425385</td><td style=\"text-align: right;\"> 0.0728563</td><td style=\"text-align: right;\">-0.0751699 </td><td style=\"text-align: right;\">-0.0298243 </td><td style=\"text-align: right;\">-0.194423 </td><td style=\"text-align: right;\">-0.121894 </td><td style=\"text-align: right;\">-0.107325  </td><td style=\"text-align: right;\"> 0.037976 </td><td style=\"text-align: right;\">0.0925969</td><td style=\"text-align: right;\">-0.0259309 </td><td style=\"text-align: right;\"> 0.0874642</td><td style=\"text-align: right;\"> 0.00163731 </td><td style=\"text-align: right;\">-0.0350027 </td><td style=\"text-align: right;\">-0.162082 </td><td style=\"text-align: right;\"> 0.0194025 </td><td style=\"text-align: right;\">-0.0235276</td><td style=\"text-align: right;\">-0.0131249  </td><td style=\"text-align: right;\">-0.0891718 </td><td style=\"text-align: right;\"> 0.0309852 </td><td style=\"text-align: right;\"> 0.0074109</td><td style=\"text-align: right;\">0.15982  </td><td style=\"text-align: right;\"> 0.0271674</td><td style=\"text-align: right;\"> 0.00510577 </td><td style=\"text-align: right;\"> 0.0653896 </td><td style=\"text-align: right;\">-0.0637506</td><td style=\"text-align: right;\"> 0.0256428 </td><td style=\"text-align: right;\">-0.08005  </td><td style=\"text-align: right;\"> 0.062896 </td><td style=\"text-align: right;\">0.0884839</td><td style=\"text-align: right;\"> 0.00536357</td><td style=\"text-align: right;\">-0.183409 </td><td style=\"text-align: right;\">-0.0924869</td><td style=\"text-align: right;\">-0.00279895 </td><td style=\"text-align: right;\">-0.20265 </td><td style=\"text-align: right;\">-0.0522654</td><td style=\"text-align: right;\"> 0.0603872 </td><td style=\"text-align: right;\">-0.0356083</td><td style=\"text-align: right;\">-0.0178062</td><td style=\"text-align: right;\"> 0.0924892 </td><td style=\"text-align: right;\">0.081732 </td><td style=\"text-align: right;\"> 0.0663242 </td><td style=\"text-align: right;\">-0.070935 </td><td style=\"text-align: right;\"> 0.119916  </td><td style=\"text-align: right;\"> 0.0237384</td><td style=\"text-align: right;\"> 0.141392 </td><td style=\"text-align: right;\"> 0.0428572 </td><td style=\"text-align: right;\"> 0.0780684 </td><td style=\"text-align: right;\"> 0.00449282</td><td style=\"text-align: right;\"> 0.0443021</td><td style=\"text-align: right;\"> 0.00048576</td><td style=\"text-align: right;\">-0.0128713 </td><td style=\"text-align: right;\">-0.0219097</td><td style=\"text-align: right;\">-0.112279  </td><td style=\"text-align: right;\"> 0.030618   </td><td style=\"text-align: right;\"> 0.0766889 </td><td style=\"text-align: right;\">-0.0497343</td><td style=\"text-align: right;\">-0.100266 </td><td style=\"text-align: right;\"> 0.0179985 </td><td style=\"text-align: right;\">-0.0742389 </td><td style=\"text-align: right;\">0.139838 </td><td style=\"text-align: right;\">-0.0763072</td><td style=\"text-align: right;\">-0.0589854</td><td style=\"text-align: right;\">-0.0400702 </td><td style=\"text-align: right;\">0.20954  </td><td style=\"text-align: right;\"> 0.0414647 </td><td style=\"text-align: right;\">-0.0156734</td><td style=\"text-align: right;\">0.184692 </td><td style=\"text-align: right;\">-0.0807471</td><td style=\"text-align: right;\"> 0.0117417 </td><td style=\"text-align: right;\">-0.0547703 </td><td style=\"text-align: right;\">0.140357 </td><td style=\"text-align: right;\"> 0.0363618</td><td style=\"text-align: right;\"> 0.0326487 </td><td style=\"text-align: right;\"> 0.0121704 </td><td style=\"text-align: right;\"> 0.13324  </td><td style=\"text-align: right;\">0.0707054 </td><td style=\"text-align: right;\"> 0.0442247</td></tr>\n",
              "<tr><td style=\"text-align: right;\"> 0.0501256 </td><td style=\"text-align: right;\"> 0.0631809 </td><td style=\"text-align: right;\">-0.108242  </td><td style=\"text-align: right;\"> 0.0881713 </td><td style=\"text-align: right;\"> 0.0235702  </td><td style=\"text-align: right;\">-0.156785 </td><td style=\"text-align: right;\">-0.126152  </td><td style=\"text-align: right;\">-0.0477694 </td><td style=\"text-align: right;\">-0.0696486</td><td style=\"text-align: right;\">-0.11583  </td><td style=\"text-align: right;\"> 0.017121 </td><td style=\"text-align: right;\"> 0.0447815 </td><td style=\"text-align: right;\"> 0.0539602</td><td style=\"text-align: right;\"> 0.0686426</td><td style=\"text-align: right;\">0.106992 </td><td style=\"text-align: right;\">-0.037227  </td><td style=\"text-align: right;\"> 0.0944315 </td><td style=\"text-align: right;\"> 0.0599103 </td><td style=\"text-align: right;\">-0.0541336</td><td style=\"text-align: right;\">-0.0653078</td><td style=\"text-align: right;\"> 0.00850048</td><td style=\"text-align: right;\"> 0.0471315</td><td style=\"text-align: right;\"> 0.0485751</td><td style=\"text-align: right;\"> 0.0624131</td><td style=\"text-align: right;\"> 0.0553904</td><td style=\"text-align: right;\">-0.126661  </td><td style=\"text-align: right;\">-0.0235201 </td><td style=\"text-align: right;\">-0.139983 </td><td style=\"text-align: right;\">-0.145601 </td><td style=\"text-align: right;\">-0.145369  </td><td style=\"text-align: right;\"> 0.0424572</td><td style=\"text-align: right;\">0.066932 </td><td style=\"text-align: right;\">-0.127254  </td><td style=\"text-align: right;\"> 0.0503682</td><td style=\"text-align: right;\"> 0.0371654  </td><td style=\"text-align: right;\">-0.114708  </td><td style=\"text-align: right;\">-0.215906 </td><td style=\"text-align: right;\"> 0.0120843 </td><td style=\"text-align: right;\">-0.114349 </td><td style=\"text-align: right;\">-0.100395   </td><td style=\"text-align: right;\">-0.0254444 </td><td style=\"text-align: right;\"> 0.12955   </td><td style=\"text-align: right;\"> 0.0159476</td><td style=\"text-align: right;\">0.0874039</td><td style=\"text-align: right;\">-0.110772 </td><td style=\"text-align: right;\"> 0.0217159  </td><td style=\"text-align: right;\"> 0.0810927 </td><td style=\"text-align: right;\"> 0.0474274</td><td style=\"text-align: right;\"> 0.110689  </td><td style=\"text-align: right;\">-0.127671 </td><td style=\"text-align: right;\"> 0.132974 </td><td style=\"text-align: right;\">0.087483 </td><td style=\"text-align: right;\">-0.00963068</td><td style=\"text-align: right;\">-0.140291 </td><td style=\"text-align: right;\">-0.185115 </td><td style=\"text-align: right;\">-0.0174436  </td><td style=\"text-align: right;\">-0.178409</td><td style=\"text-align: right;\">-0.0994004</td><td style=\"text-align: right;\">-0.0101164 </td><td style=\"text-align: right;\"> 0.0251488</td><td style=\"text-align: right;\">-0.0923824</td><td style=\"text-align: right;\"> 0.0453529 </td><td style=\"text-align: right;\">0.0213113</td><td style=\"text-align: right;\">-0.00868963</td><td style=\"text-align: right;\">-0.109665 </td><td style=\"text-align: right;\"> 0.0882422 </td><td style=\"text-align: right;\"> 0.0129099</td><td style=\"text-align: right;\"> 0.0820866</td><td style=\"text-align: right;\">-0.00574698</td><td style=\"text-align: right;\">-0.0139316 </td><td style=\"text-align: right;\"> 0.0135031 </td><td style=\"text-align: right;\">-0.0779164</td><td style=\"text-align: right;\">-0.0493383 </td><td style=\"text-align: right;\"> 0.00124649</td><td style=\"text-align: right;\">-0.0837232</td><td style=\"text-align: right;\">-0.00983943</td><td style=\"text-align: right;\">-0.0327533  </td><td style=\"text-align: right;\"> 0.00825546</td><td style=\"text-align: right;\">-0.048973 </td><td style=\"text-align: right;\">-0.0820281</td><td style=\"text-align: right;\">-0.0452564 </td><td style=\"text-align: right;\"> 0.0242782 </td><td style=\"text-align: right;\">0.125325 </td><td style=\"text-align: right;\">-0.113046 </td><td style=\"text-align: right;\">-0.0515116</td><td style=\"text-align: right;\">-0.0471182 </td><td style=\"text-align: right;\">0.232736 </td><td style=\"text-align: right;\">-0.00376397</td><td style=\"text-align: right;\">-0.0917237</td><td style=\"text-align: right;\">0.119323 </td><td style=\"text-align: right;\">-0.0513691</td><td style=\"text-align: right;\">-0.0372052 </td><td style=\"text-align: right;\">-0.00736422</td><td style=\"text-align: right;\">0.1277   </td><td style=\"text-align: right;\"> 0.0305515</td><td style=\"text-align: right;\">-0.00751032</td><td style=\"text-align: right;\"> 0.00928484</td><td style=\"text-align: right;\"> 0.0992109</td><td style=\"text-align: right;\">0.00516429</td><td style=\"text-align: right;\"> 0.0977703</td></tr>\n",
              "</tbody>\n",
              "</table>"
            ]
          },
          "metadata": {
            "tags": []
          }
        },
        {
          "output_type": "execute_result",
          "data": {
            "text/plain": [
              ""
            ]
          },
          "metadata": {
            "tags": []
          },
          "execution_count": 39
        }
      ]
    },
    {
      "cell_type": "code",
      "metadata": {
        "id": "d4UJWXr-yCrZ",
        "colab_type": "code",
        "colab": {
          "base_uri": "https://localhost:8080/",
          "height": 1000
        },
        "outputId": "54d53f61-c470-44d3-d8c0-a7864a3702d3"
      },
      "source": [
        "h2o_df_ext=h2o_df.cbind(review_vecs)\n",
        "h2o_df_ext.head()"
      ],
      "execution_count": 56,
      "outputs": [
        {
          "output_type": "display_data",
          "data": {
            "text/html": [
              "<table>\n",
              "<thead>\n",
              "<tr><th style=\"text-align: right;\">  votes</th><th>headline                                                                 </th><th>review                                                                                                                                                                                                                                                                                                                                                                                                                                                                                                                                                                                                                                                                                                                                                                                                                                                                                                                                                                                                                                                                                                                            </th><th style=\"text-align: right;\">  rating</th><th style=\"text-align: right;\">  target</th><th style=\"text-align: right;\">         C1</th><th style=\"text-align: right;\">         C2</th><th style=\"text-align: right;\">         C3</th><th style=\"text-align: right;\">         C4</th><th style=\"text-align: right;\">          C5</th><th style=\"text-align: right;\">        C6</th><th style=\"text-align: right;\">         C7</th><th style=\"text-align: right;\">         C8</th><th style=\"text-align: right;\">        C9</th><th style=\"text-align: right;\">       C10</th><th style=\"text-align: right;\">       C11</th><th style=\"text-align: right;\">        C12</th><th style=\"text-align: right;\">       C13</th><th style=\"text-align: right;\">       C14</th><th style=\"text-align: right;\">      C15</th><th style=\"text-align: right;\">        C16</th><th style=\"text-align: right;\">        C17</th><th style=\"text-align: right;\">        C18</th><th style=\"text-align: right;\">       C19</th><th style=\"text-align: right;\">       C20</th><th style=\"text-align: right;\">        C21</th><th style=\"text-align: right;\">       C22</th><th style=\"text-align: right;\">       C23</th><th style=\"text-align: right;\">       C24</th><th style=\"text-align: right;\">       C25</th><th style=\"text-align: right;\">        C26</th><th style=\"text-align: right;\">        C27</th><th style=\"text-align: right;\">       C28</th><th style=\"text-align: right;\">       C29</th><th style=\"text-align: right;\">        C30</th><th style=\"text-align: right;\">       C31</th><th style=\"text-align: right;\">      C32</th><th style=\"text-align: right;\">        C33</th><th style=\"text-align: right;\">       C34</th><th style=\"text-align: right;\">         C35</th><th style=\"text-align: right;\">        C36</th><th style=\"text-align: right;\">       C37</th><th style=\"text-align: right;\">        C38</th><th style=\"text-align: right;\">       C39</th><th style=\"text-align: right;\">         C40</th><th style=\"text-align: right;\">        C41</th><th style=\"text-align: right;\">        C42</th><th style=\"text-align: right;\">       C43</th><th style=\"text-align: right;\">      C44</th><th style=\"text-align: right;\">       C45</th><th style=\"text-align: right;\">         C46</th><th style=\"text-align: right;\">        C47</th><th style=\"text-align: right;\">       C48</th><th style=\"text-align: right;\">        C49</th><th style=\"text-align: right;\">       C50</th><th style=\"text-align: right;\">       C51</th><th style=\"text-align: right;\">      C52</th><th style=\"text-align: right;\">        C53</th><th style=\"text-align: right;\">       C54</th><th style=\"text-align: right;\">       C55</th><th style=\"text-align: right;\">         C56</th><th style=\"text-align: right;\">      C57</th><th style=\"text-align: right;\">       C58</th><th style=\"text-align: right;\">        C59</th><th style=\"text-align: right;\">       C60</th><th style=\"text-align: right;\">       C61</th><th style=\"text-align: right;\">        C62</th><th style=\"text-align: right;\">      C63</th><th style=\"text-align: right;\">        C64</th><th style=\"text-align: right;\">       C65</th><th style=\"text-align: right;\">        C66</th><th style=\"text-align: right;\">       C67</th><th style=\"text-align: right;\">       C68</th><th style=\"text-align: right;\">        C69</th><th style=\"text-align: right;\">        C70</th><th style=\"text-align: right;\">        C71</th><th style=\"text-align: right;\">       C72</th><th style=\"text-align: right;\">        C73</th><th style=\"text-align: right;\">        C74</th><th style=\"text-align: right;\">       C75</th><th style=\"text-align: right;\">        C76</th><th style=\"text-align: right;\">         C77</th><th style=\"text-align: right;\">        C78</th><th style=\"text-align: right;\">       C79</th><th style=\"text-align: right;\">       C80</th><th style=\"text-align: right;\">        C81</th><th style=\"text-align: right;\">        C82</th><th style=\"text-align: right;\">      C83</th><th style=\"text-align: right;\">       C84</th><th style=\"text-align: right;\">       C85</th><th style=\"text-align: right;\">        C86</th><th style=\"text-align: right;\">      C87</th><th style=\"text-align: right;\">        C88</th><th style=\"text-align: right;\">       C89</th><th style=\"text-align: right;\">      C90</th><th style=\"text-align: right;\">       C91</th><th style=\"text-align: right;\">        C92</th><th style=\"text-align: right;\">        C93</th><th style=\"text-align: right;\">      C94</th><th style=\"text-align: right;\">       C95</th><th style=\"text-align: right;\">        C96</th><th style=\"text-align: right;\">        C97</th><th style=\"text-align: right;\">       C98</th><th style=\"text-align: right;\">       C99</th><th style=\"text-align: right;\">      C100</th></tr>\n",
              "</thead>\n",
              "<tbody>\n",
              "<tr><td style=\"text-align: right;\">      0</td><td>b&#x27;These glasses are an excellent value. The fit is good and they are ...&#x27;</td><td>b&quot;These glasses are an excellent value.  The fit is good and they are very comfortable.  Because of my legal blindness, there aren&#x27;t a lot of options to try to see better, but I believe these help with my other visual aids, and because they are reasonably priced I can have more than one pair available.&quot;                                                                                                                                                                                                                                                                                                                                                                                                                                                                                                                                                                                                                                                                                                                                                                                                                  </td><td style=\"text-align: right;\">       4</td><td style=\"text-align: right;\">       1</td><td style=\"text-align: right;\">-0.0223054 </td><td style=\"text-align: right;\">-0.097403  </td><td style=\"text-align: right;\">-0.0902446 </td><td style=\"text-align: right;\"> 0.0415447 </td><td style=\"text-align: right;\">-0.000602854</td><td style=\"text-align: right;\">-0.155336 </td><td style=\"text-align: right;\"> 0.0898385 </td><td style=\"text-align: right;\">-0.00791429</td><td style=\"text-align: right;\">-0.0352954</td><td style=\"text-align: right;\">-0.0655031</td><td style=\"text-align: right;\"> 0.151506 </td><td style=\"text-align: right;\">-0.0129329 </td><td style=\"text-align: right;\">-0.0307159</td><td style=\"text-align: right;\">-0.0395665</td><td style=\"text-align: right;\">0.255093 </td><td style=\"text-align: right;\">-0.0891762 </td><td style=\"text-align: right;\"> 0.00159779</td><td style=\"text-align: right;\">-0.0997844 </td><td style=\"text-align: right;\">-0.143443 </td><td style=\"text-align: right;\">-0.174569 </td><td style=\"text-align: right;\"> 0.0331017 </td><td style=\"text-align: right;\"> 0.123965 </td><td style=\"text-align: right;\"> 0.0497346</td><td style=\"text-align: right;\">-0.0340244</td><td style=\"text-align: right;\"> 0.0782553</td><td style=\"text-align: right;\">-0.00260607</td><td style=\"text-align: right;\">-0.0907684 </td><td style=\"text-align: right;\">-0.144671 </td><td style=\"text-align: right;\"> 0.0119615</td><td style=\"text-align: right;\">-0.0638019 </td><td style=\"text-align: right;\"> 0.0298206</td><td style=\"text-align: right;\">0.0424338</td><td style=\"text-align: right;\">-0.178381  </td><td style=\"text-align: right;\"> 0.0466796</td><td style=\"text-align: right;\"> 0.0305532  </td><td style=\"text-align: right;\">-0.118479  </td><td style=\"text-align: right;\">-0.0498394</td><td style=\"text-align: right;\">-0.0137169 </td><td style=\"text-align: right;\"> 0.0248918</td><td style=\"text-align: right;\"> 0.0198951  </td><td style=\"text-align: right;\">-0.0356314 </td><td style=\"text-align: right;\"> 0.00913305</td><td style=\"text-align: right;\"> 0.0299729</td><td style=\"text-align: right;\">0.141106 </td><td style=\"text-align: right;\">-0.168193 </td><td style=\"text-align: right;\">-0.0343686  </td><td style=\"text-align: right;\"> 0.111217  </td><td style=\"text-align: right;\"> 0.0585724</td><td style=\"text-align: right;\"> 0.202082  </td><td style=\"text-align: right;\">-0.120071 </td><td style=\"text-align: right;\">-0.0236533</td><td style=\"text-align: right;\">0.17221  </td><td style=\"text-align: right;\"> 0.0215457 </td><td style=\"text-align: right;\"> 0.0125799</td><td style=\"text-align: right;\">-0.172928 </td><td style=\"text-align: right;\"> 0.0168013  </td><td style=\"text-align: right;\">-0.178447</td><td style=\"text-align: right;\">-0.0335994</td><td style=\"text-align: right;\">-0.0803279 </td><td style=\"text-align: right;\">-0.0463177</td><td style=\"text-align: right;\"> 0.020263 </td><td style=\"text-align: right;\"> 0.0645335 </td><td style=\"text-align: right;\">0.0630409</td><td style=\"text-align: right;\">-0.0488939 </td><td style=\"text-align: right;\">-0.157298 </td><td style=\"text-align: right;\"> 0.0816818 </td><td style=\"text-align: right;\">-0.020394 </td><td style=\"text-align: right;\"> 0.169327 </td><td style=\"text-align: right;\">-0.0426057 </td><td style=\"text-align: right;\"> 0.0779309 </td><td style=\"text-align: right;\"> 0.039201  </td><td style=\"text-align: right;\">-0.0651404</td><td style=\"text-align: right;\">-0.069881  </td><td style=\"text-align: right;\"> 0.0636406 </td><td style=\"text-align: right;\">-0.214784 </td><td style=\"text-align: right;\">-0.0604335 </td><td style=\"text-align: right;\"> 0.0558199  </td><td style=\"text-align: right;\"> 0.0157014 </td><td style=\"text-align: right;\">-0.0408238</td><td style=\"text-align: right;\">-0.0793816</td><td style=\"text-align: right;\"> 0.140054  </td><td style=\"text-align: right;\">-0.0168977 </td><td style=\"text-align: right;\">0.100993 </td><td style=\"text-align: right;\">-0.125157 </td><td style=\"text-align: right;\">-0.128134 </td><td style=\"text-align: right;\">-0.00453497</td><td style=\"text-align: right;\">0.0818559</td><td style=\"text-align: right;\"> 0.1113    </td><td style=\"text-align: right;\">-0.122983 </td><td style=\"text-align: right;\">0.0622663</td><td style=\"text-align: right;\">-0.11818  </td><td style=\"text-align: right;\">-0.0154305 </td><td style=\"text-align: right;\">-0.0434444 </td><td style=\"text-align: right;\">0.105345 </td><td style=\"text-align: right;\">-0.0827423</td><td style=\"text-align: right;\"> 0.0181928 </td><td style=\"text-align: right;\"> 0.0166681 </td><td style=\"text-align: right;\"> 0.102492 </td><td style=\"text-align: right;\">0.0082405 </td><td style=\"text-align: right;\"> 0.0483725</td></tr>\n",
              "<tr><td style=\"text-align: right;\">      3</td><td>b&#x27;A fantastic way to cheaply try straight razor shaving.&#x27;                </td><td>b&quot;Always wanted to try straight razor shaving (as a DE safety razor user), and this was a cheap way for me to determine I was not into it.&lt;br /&gt;&lt;br /&gt;Because the blades are disposable and always sharp, I could put a new one in and reasonably rely upon that fact that cuts were probably due to my technique and not the blade.&lt;br /&gt;&lt;br /&gt;It&#x27;s very hard to do straight razor shaving on yourself because the ANGLE is difficult to control without switching hands. Being very right-handed, I really couldn&#x27;t do that. I bet I could shave someone else&#x27;s face with it though.&lt;br /&gt;&lt;br /&gt;An immediate upside? Using a DE safety razor (slant edged even) seems SUPER safe now! I&#x27;m increased my speed with the DE due to that confidence, and I&#x27;d been using it for years now.&quot;                                                                                                                                                                                                                                                                                                                                          </td><td style=\"text-align: right;\">       5</td><td style=\"text-align: right;\">       1</td><td style=\"text-align: right;\">-0.107511  </td><td style=\"text-align: right;\">-0.0126846 </td><td style=\"text-align: right;\">-0.096559  </td><td style=\"text-align: right;\">-0.0340658 </td><td style=\"text-align: right;\">-0.205121   </td><td style=\"text-align: right;\">-0.234747 </td><td style=\"text-align: right;\">-0.208153  </td><td style=\"text-align: right;\">-0.0615555 </td><td style=\"text-align: right;\">-0.16989  </td><td style=\"text-align: right;\">-0.0746852</td><td style=\"text-align: right;\"> 0.0167632</td><td style=\"text-align: right;\"> 0.066778  </td><td style=\"text-align: right;\"> 0.0346558</td><td style=\"text-align: right;\">-0.0648843</td><td style=\"text-align: right;\">0.212056 </td><td style=\"text-align: right;\">-0.0377561 </td><td style=\"text-align: right;\"> 0.0882356 </td><td style=\"text-align: right;\"> 0.0460584 </td><td style=\"text-align: right;\">-0.0762372</td><td style=\"text-align: right;\">-0.113578 </td><td style=\"text-align: right;\">-0.183544  </td><td style=\"text-align: right;\">-0.0391418</td><td style=\"text-align: right;\"> 0.0417602</td><td style=\"text-align: right;\"> 0.0412221</td><td style=\"text-align: right;\"> 0.0726909</td><td style=\"text-align: right;\">-0.153522  </td><td style=\"text-align: right;\">-0.20301   </td><td style=\"text-align: right;\">-0.121132 </td><td style=\"text-align: right;\">-0.0309457</td><td style=\"text-align: right;\"> 0.00419275</td><td style=\"text-align: right;\">-0.0211458</td><td style=\"text-align: right;\">0.124747 </td><td style=\"text-align: right;\">-0.0105071 </td><td style=\"text-align: right;\"> 0.053246 </td><td style=\"text-align: right;\">-0.000928475</td><td style=\"text-align: right;\"> 0.00325405</td><td style=\"text-align: right;\"> 0.0408215</td><td style=\"text-align: right;\">-0.0413378 </td><td style=\"text-align: right;\"> 0.0124793</td><td style=\"text-align: right;\">-0.0185724  </td><td style=\"text-align: right;\">-0.116819  </td><td style=\"text-align: right;\"> 0.0674913 </td><td style=\"text-align: right;\">-0.0214319</td><td style=\"text-align: right;\">0.126133 </td><td style=\"text-align: right;\">-0.119262 </td><td style=\"text-align: right;\">-0.0305301  </td><td style=\"text-align: right;\"> 0.0754631 </td><td style=\"text-align: right;\">-0.112755 </td><td style=\"text-align: right;\"> 0.0379799 </td><td style=\"text-align: right;\"> 0.0369178</td><td style=\"text-align: right;\"> 0.0791458</td><td style=\"text-align: right;\">0.0952401</td><td style=\"text-align: right;\">-0.0107511 </td><td style=\"text-align: right;\">-0.117731 </td><td style=\"text-align: right;\">-0.192922 </td><td style=\"text-align: right;\"> 0.0448207  </td><td style=\"text-align: right;\">-0.216944</td><td style=\"text-align: right;\"> 0.0123216</td><td style=\"text-align: right;\">-0.0782549 </td><td style=\"text-align: right;\">-0.0636979</td><td style=\"text-align: right;\">-0.0015354</td><td style=\"text-align: right;\">-0.00404434</td><td style=\"text-align: right;\">0.0660226</td><td style=\"text-align: right;\">-0.00123272</td><td style=\"text-align: right;\">-0.16883  </td><td style=\"text-align: right;\"> 0.10859   </td><td style=\"text-align: right;\"> 0.0530704</td><td style=\"text-align: right;\">-0.0753458</td><td style=\"text-align: right;\"> 0.030885  </td><td style=\"text-align: right;\">-0.0533182 </td><td style=\"text-align: right;\">-0.0295383 </td><td style=\"text-align: right;\">-0.0179188</td><td style=\"text-align: right;\">-0.0869747 </td><td style=\"text-align: right;\"> 0.0523148 </td><td style=\"text-align: right;\">-0.184258 </td><td style=\"text-align: right;\">-0.00484966</td><td style=\"text-align: right;\"> 0.0606801  </td><td style=\"text-align: right;\">-0.0281541 </td><td style=\"text-align: right;\">-0.017817 </td><td style=\"text-align: right;\"> 0.0139462</td><td style=\"text-align: right;\">-0.0264891 </td><td style=\"text-align: right;\">-0.063101  </td><td style=\"text-align: right;\">0.0422784</td><td style=\"text-align: right;\">-0.134539 </td><td style=\"text-align: right;\">-0.0332137</td><td style=\"text-align: right;\">-0.0768777 </td><td style=\"text-align: right;\">0.142283 </td><td style=\"text-align: right;\"> 0.086025  </td><td style=\"text-align: right;\">-0.0436606</td><td style=\"text-align: right;\">0.114164 </td><td style=\"text-align: right;\">-0.155337 </td><td style=\"text-align: right;\">-0.00846325</td><td style=\"text-align: right;\"> 0.0176193 </td><td style=\"text-align: right;\">0.0261915</td><td style=\"text-align: right;\">-0.0832959</td><td style=\"text-align: right;\"> 0.0530141 </td><td style=\"text-align: right;\">-0.0159271 </td><td style=\"text-align: right;\"> 0.12684  </td><td style=\"text-align: right;\">0.150595  </td><td style=\"text-align: right;\"> 0.0653353</td></tr>\n",
              "<tr><td style=\"text-align: right;\">      0</td><td>b&#x27;Great for travel&#x27;                                                      </td><td>b&#x27;I usually either throw my toothbrush in a plastic bag with spare head so this product is very convenient for keeping all the parts apart, dry and undamaged, and i now keep it in my travel bag all the time ready to go.&#x27;                                                                                                                                                                                                                                                                                                                                                                                                                                                                                                                                                                                                                                                                                                                                                                                                                                                                                                      </td><td style=\"text-align: right;\">       4</td><td style=\"text-align: right;\">       1</td><td style=\"text-align: right;\">-0.172815  </td><td style=\"text-align: right;\">-0.0587656 </td><td style=\"text-align: right;\">-0.0889072 </td><td style=\"text-align: right;\"> 0.0497795 </td><td style=\"text-align: right;\"> 0.0114461  </td><td style=\"text-align: right;\">-0.104394 </td><td style=\"text-align: right;\">-0.0417466 </td><td style=\"text-align: right;\"> 0.00495517</td><td style=\"text-align: right;\">-0.069904 </td><td style=\"text-align: right;\">-0.126889 </td><td style=\"text-align: right;\"> 0.0956593</td><td style=\"text-align: right;\"> 0.00300087</td><td style=\"text-align: right;\"> 0.040877 </td><td style=\"text-align: right;\"> 0.0713547</td><td style=\"text-align: right;\">0.109928 </td><td style=\"text-align: right;\"> 0.107341  </td><td style=\"text-align: right;\">-0.0439956 </td><td style=\"text-align: right;\"> 0.0784169 </td><td style=\"text-align: right;\">-0.0473216</td><td style=\"text-align: right;\">-0.21542  </td><td style=\"text-align: right;\">-0.0878525 </td><td style=\"text-align: right;\"> 0.0303333</td><td style=\"text-align: right;\"> 0.0512189</td><td style=\"text-align: right;\"> 0.0334724</td><td style=\"text-align: right;\">-0.0405721</td><td style=\"text-align: right;\">-0.179878  </td><td style=\"text-align: right;\">-0.01899   </td><td style=\"text-align: right;\">-0.139355 </td><td style=\"text-align: right;\"> 0.105212 </td><td style=\"text-align: right;\">-0.148144  </td><td style=\"text-align: right;\"> 0.0994786</td><td style=\"text-align: right;\">0.170663 </td><td style=\"text-align: right;\">-0.0881245 </td><td style=\"text-align: right;\"> 0.0523938</td><td style=\"text-align: right;\"> 0.108103   </td><td style=\"text-align: right;\">-0.140714  </td><td style=\"text-align: right;\"> 0.0678852</td><td style=\"text-align: right;\">-0.131594  </td><td style=\"text-align: right;\">-0.139709 </td><td style=\"text-align: right;\"> 0.112271   </td><td style=\"text-align: right;\">-0.158751  </td><td style=\"text-align: right;\"> 0.0719815 </td><td style=\"text-align: right;\">-0.0353427</td><td style=\"text-align: right;\">0.079349 </td><td style=\"text-align: right;\">-0.0763726</td><td style=\"text-align: right;\"> 0.0862679  </td><td style=\"text-align: right;\"> 0.135778  </td><td style=\"text-align: right;\">-0.102849 </td><td style=\"text-align: right;\"> 0.0302586 </td><td style=\"text-align: right;\">-0.0396604</td><td style=\"text-align: right;\"> 0.129587 </td><td style=\"text-align: right;\">0.134783 </td><td style=\"text-align: right;\"> 0.0264353 </td><td style=\"text-align: right;\">-0.133374 </td><td style=\"text-align: right;\">-0.127687 </td><td style=\"text-align: right;\"> 0.0255274  </td><td style=\"text-align: right;\">-0.10975 </td><td style=\"text-align: right;\">-0.155122 </td><td style=\"text-align: right;\"> 0.0566256 </td><td style=\"text-align: right;\">-0.149231 </td><td style=\"text-align: right;\">-0.102032 </td><td style=\"text-align: right;\"> 0.155817  </td><td style=\"text-align: right;\">0.144932 </td><td style=\"text-align: right;\"> 0.121271  </td><td style=\"text-align: right;\">-0.0394657</td><td style=\"text-align: right;\"> 0.0739121 </td><td style=\"text-align: right;\">-0.121869 </td><td style=\"text-align: right;\"> 0.0751354</td><td style=\"text-align: right;\"> 0.117778  </td><td style=\"text-align: right;\">-0.0407588 </td><td style=\"text-align: right;\">-0.0237813 </td><td style=\"text-align: right;\">-0.121385 </td><td style=\"text-align: right;\"> 0.0483733 </td><td style=\"text-align: right;\"> 0.137392  </td><td style=\"text-align: right;\">-0.0253799</td><td style=\"text-align: right;\">-0.0723383 </td><td style=\"text-align: right;\"> 0.116652   </td><td style=\"text-align: right;\"> 0.120502  </td><td style=\"text-align: right;\">-0.0527462</td><td style=\"text-align: right;\"> 0.0253209</td><td style=\"text-align: right;\"> 0.0302687 </td><td style=\"text-align: right;\">-0.0675395 </td><td style=\"text-align: right;\">0.112218 </td><td style=\"text-align: right;\">-0.09267  </td><td style=\"text-align: right;\">-0.0583255</td><td style=\"text-align: right;\">-0.0912491 </td><td style=\"text-align: right;\">0.0524688</td><td style=\"text-align: right;\"> 0.0554571 </td><td style=\"text-align: right;\">-0.0509934</td><td style=\"text-align: right;\">0.116041 </td><td style=\"text-align: right;\">-0.0214648</td><td style=\"text-align: right;\"> 0.154934  </td><td style=\"text-align: right;\">-0.0616671 </td><td style=\"text-align: right;\">0.0680852</td><td style=\"text-align: right;\">-0.15759  </td><td style=\"text-align: right;\">-0.111854  </td><td style=\"text-align: right;\"> 0.0704045 </td><td style=\"text-align: right;\">-0.0133356</td><td style=\"text-align: right;\">0.140298  </td><td style=\"text-align: right;\">-0.110333 </td></tr>\n",
              "<tr><td style=\"text-align: right;\">      0</td><td>b&#x27;Five Stars&#x27;                                                            </td><td>b&#x27;Top quality.&#x27;                                                                                                                                                                                                                                                                                                                                                                                                                                                                                                                                                                                                                                                                                                                                                                                                                                                                                                                                                                                                                                                                                                                   </td><td style=\"text-align: right;\">       5</td><td style=\"text-align: right;\">       1</td><td style=\"text-align: right;\">-0.310827  </td><td style=\"text-align: right;\">-0.160608  </td><td style=\"text-align: right;\">-0.1274    </td><td style=\"text-align: right;\"> 0.0173114 </td><td style=\"text-align: right;\"> 0.0992162  </td><td style=\"text-align: right;\">-0.21487  </td><td style=\"text-align: right;\"> 0.0294656 </td><td style=\"text-align: right;\">-0.0276328 </td><td style=\"text-align: right;\">-0.13903  </td><td style=\"text-align: right;\">-0.165399 </td><td style=\"text-align: right;\"> 0.0354868</td><td style=\"text-align: right;\"> 0.00743709</td><td style=\"text-align: right;\">-0.156466 </td><td style=\"text-align: right;\"> 0.0548282</td><td style=\"text-align: right;\">0.0628496</td><td style=\"text-align: right;\"> 0.0436055 </td><td style=\"text-align: right;\"> 0.104     </td><td style=\"text-align: right;\">-0.118708  </td><td style=\"text-align: right;\">-0.0772754</td><td style=\"text-align: right;\">-0.370285 </td><td style=\"text-align: right;\">-0.00171005</td><td style=\"text-align: right;\"> 0.0167156</td><td style=\"text-align: right;\">-0.0387887</td><td style=\"text-align: right;\">-0.157198 </td><td style=\"text-align: right;\"> 0.180839 </td><td style=\"text-align: right;\"> 0.0631772 </td><td style=\"text-align: right;\">-0.158485  </td><td style=\"text-align: right;\"> 0.0408197</td><td style=\"text-align: right;\"> 0.166148 </td><td style=\"text-align: right;\"> 0.0648308 </td><td style=\"text-align: right;\">-0.0866678</td><td style=\"text-align: right;\">0.090499 </td><td style=\"text-align: right;\"> 0.0595605 </td><td style=\"text-align: right;\">-0.0112761</td><td style=\"text-align: right;\"> 0.145485   </td><td style=\"text-align: right;\"> 0.213908  </td><td style=\"text-align: right;\">-0.097934 </td><td style=\"text-align: right;\">-0.0825539 </td><td style=\"text-align: right;\">-0.219183 </td><td style=\"text-align: right;\"> 0.0768907  </td><td style=\"text-align: right;\"> 0.0639737 </td><td style=\"text-align: right;\">-0.0663617 </td><td style=\"text-align: right;\"> 0.111291 </td><td style=\"text-align: right;\">0.0269483</td><td style=\"text-align: right;\">-0.290576 </td><td style=\"text-align: right;\"> 0.0677275  </td><td style=\"text-align: right;\"> 0.0669747 </td><td style=\"text-align: right;\">-0.232135 </td><td style=\"text-align: right;\">-0.00572447</td><td style=\"text-align: right;\">-0.105835 </td><td style=\"text-align: right;\">-0.0298688</td><td style=\"text-align: right;\">0.313886 </td><td style=\"text-align: right;\"> 0.144445  </td><td style=\"text-align: right;\">-0.275253 </td><td style=\"text-align: right;\">-0.164498 </td><td style=\"text-align: right;\">-0.152943   </td><td style=\"text-align: right;\">-0.200945</td><td style=\"text-align: right;\"> 0.0558273</td><td style=\"text-align: right;\">-0.0575803 </td><td style=\"text-align: right;\"> 0.0114271</td><td style=\"text-align: right;\">-0.125954 </td><td style=\"text-align: right;\"> 0.152885  </td><td style=\"text-align: right;\">0.281458 </td><td style=\"text-align: right;\"> 0.0923846 </td><td style=\"text-align: right;\">-0.0783901</td><td style=\"text-align: right;\"> 0.00265348</td><td style=\"text-align: right;\"> 0.142614 </td><td style=\"text-align: right;\"> 0.0293402</td><td style=\"text-align: right;\">-0.061695  </td><td style=\"text-align: right;\"> 0.243551  </td><td style=\"text-align: right;\">-0.136037  </td><td style=\"text-align: right;\">-0.059607 </td><td style=\"text-align: right;\">-0.0687882 </td><td style=\"text-align: right;\"> 0.103979  </td><td style=\"text-align: right;\">-0.199887 </td><td style=\"text-align: right;\">-0.0501023 </td><td style=\"text-align: right;\"> 0.257136   </td><td style=\"text-align: right;\"> 0.122893  </td><td style=\"text-align: right;\">-0.0812215</td><td style=\"text-align: right;\"> 0.183653 </td><td style=\"text-align: right;\"> 0.047506  </td><td style=\"text-align: right;\"> 0.176205  </td><td style=\"text-align: right;\">0.0143862</td><td style=\"text-align: right;\">-0.125763 </td><td style=\"text-align: right;\">-0.0291094</td><td style=\"text-align: right;\"> 0.0912375 </td><td style=\"text-align: right;\">0.0548747</td><td style=\"text-align: right;\"> 0.0944186 </td><td style=\"text-align: right;\">-0.0265309</td><td style=\"text-align: right;\">0.165091 </td><td style=\"text-align: right;\"> 0.0439272</td><td style=\"text-align: right;\">-0.031927  </td><td style=\"text-align: right;\">-0.199789  </td><td style=\"text-align: right;\">0.355327 </td><td style=\"text-align: right;\">-0.105094 </td><td style=\"text-align: right;\"> 0.133785  </td><td style=\"text-align: right;\"> 0.0373113 </td><td style=\"text-align: right;\"> 0.198479 </td><td style=\"text-align: right;\">0.162912  </td><td style=\"text-align: right;\">-0.0727373</td></tr>\n",
              "<tr><td style=\"text-align: right;\">      1</td><td>b&#x27;*Product sent not as shown&#x27;                                            </td><td>b&#x27;Today I received  1 Fl. Oz, Natures Balance AlkaMAX alkaline booster liquid unflavored (formally TriMedica) a glass brown bottle with eye dropper.&lt;br /&gt;Supplement Facts; Serving Size: 10 Drops (Approx. 0.5 mL). Servings per Container: Approx. 60&lt;br /&gt;Amount Per Serving % Daily Value&lt;br /&gt;Magnesium (as Magnesium Chloride) 40 mg 10%&lt;br /&gt;Chloride (as Magnesium Chloride) 64 mg 2%&lt;br /&gt;Other Ingredients: Deionized water and trace mineral complex.&lt;br /&gt;Directions: Add 10 drops to 8 oz. of water or other beverage daily as needed or as directed by your health care practitioner. Store in a cool, dry place.&lt;br /&gt;&lt;br /&gt;I have not used product as of yet with changed ingredients of original/as shown in AlkaMax alkaline support white squeeze bottle.&lt;br /&gt;but had to rate to post...heck this new may be better for all I know.&#x27;                                                                                                                                                                                                                                                                          </td><td style=\"text-align: right;\">       3</td><td style=\"text-align: right;\">       0</td><td style=\"text-align: right;\">-0.00903655</td><td style=\"text-align: right;\">-0.0253567 </td><td style=\"text-align: right;\">-0.00494405</td><td style=\"text-align: right;\"> 0.00626514</td><td style=\"text-align: right;\"> 0.131414   </td><td style=\"text-align: right;\">-0.109395 </td><td style=\"text-align: right;\">-0.00473868</td><td style=\"text-align: right;\"> 0.0788463 </td><td style=\"text-align: right;\"> 0.0275241</td><td style=\"text-align: right;\">-0.113157 </td><td style=\"text-align: right;\"> 0.126383 </td><td style=\"text-align: right;\"> 0.0860847 </td><td style=\"text-align: right;\">-0.0770381</td><td style=\"text-align: right;\"> 0.0421612</td><td style=\"text-align: right;\">0.0559417</td><td style=\"text-align: right;\"> 0.055557  </td><td style=\"text-align: right;\"> 0.0237766 </td><td style=\"text-align: right;\"> 0.109108  </td><td style=\"text-align: right;\">-0.0338206</td><td style=\"text-align: right;\"> 0.01657  </td><td style=\"text-align: right;\">-0.0564186 </td><td style=\"text-align: right;\">-0.127234 </td><td style=\"text-align: right;\">-0.073103 </td><td style=\"text-align: right;\"> 0.0669444</td><td style=\"text-align: right;\">-0.0905245</td><td style=\"text-align: right;\"> 0.034314  </td><td style=\"text-align: right;\">-0.159686  </td><td style=\"text-align: right;\">-0.107026 </td><td style=\"text-align: right;\"> 0.0597512</td><td style=\"text-align: right;\">-0.0719245 </td><td style=\"text-align: right;\"> 0.178934 </td><td style=\"text-align: right;\">0.257192 </td><td style=\"text-align: right;\">-0.148003  </td><td style=\"text-align: right;\"> 0.141521 </td><td style=\"text-align: right;\">-0.076624   </td><td style=\"text-align: right;\">-0.0414647 </td><td style=\"text-align: right;\"> 0.0236792</td><td style=\"text-align: right;\">-0.134808  </td><td style=\"text-align: right;\">-0.172939 </td><td style=\"text-align: right;\">-0.0576639  </td><td style=\"text-align: right;\">-0.113476  </td><td style=\"text-align: right;\"> 0.011008  </td><td style=\"text-align: right;\"> 0.108475 </td><td style=\"text-align: right;\">0.267594 </td><td style=\"text-align: right;\">-0.0744766</td><td style=\"text-align: right;\">-0.0929624  </td><td style=\"text-align: right;\"> 0.00113948</td><td style=\"text-align: right;\"> 0.0601175</td><td style=\"text-align: right;\"> 0.117734  </td><td style=\"text-align: right;\">-0.0234827</td><td style=\"text-align: right;\">-0.121909 </td><td style=\"text-align: right;\">0.0894875</td><td style=\"text-align: right;\"> 0.0652853 </td><td style=\"text-align: right;\">-0.0736613</td><td style=\"text-align: right;\">-0.10772  </td><td style=\"text-align: right;\"> 0.0587148  </td><td style=\"text-align: right;\">-0.176323</td><td style=\"text-align: right;\">-0.121361 </td><td style=\"text-align: right;\"> 0.00616967</td><td style=\"text-align: right;\">-0.0268212</td><td style=\"text-align: right;\"> 0.0260295</td><td style=\"text-align: right;\"> 0.120866  </td><td style=\"text-align: right;\">0.0971529</td><td style=\"text-align: right;\">-0.0587863 </td><td style=\"text-align: right;\">-0.10428  </td><td style=\"text-align: right;\">-0.15477   </td><td style=\"text-align: right;\"> 0.117864 </td><td style=\"text-align: right;\"> 0.152536 </td><td style=\"text-align: right;\">-0.0377076 </td><td style=\"text-align: right;\">-0.183933  </td><td style=\"text-align: right;\">-0.0860289 </td><td style=\"text-align: right;\">-0.0826109</td><td style=\"text-align: right;\"> 0.104963  </td><td style=\"text-align: right;\"> 0.189023  </td><td style=\"text-align: right;\">-0.169084 </td><td style=\"text-align: right;\">-0.166634  </td><td style=\"text-align: right;\">-0.000557473</td><td style=\"text-align: right;\">-0.0233066 </td><td style=\"text-align: right;\"> 0.11605  </td><td style=\"text-align: right;\">-0.0866745</td><td style=\"text-align: right;\"> 0.0702089 </td><td style=\"text-align: right;\"> 0.0293469 </td><td style=\"text-align: right;\">0.0908583</td><td style=\"text-align: right;\">-0.0481588</td><td style=\"text-align: right;\">-0.0555113</td><td style=\"text-align: right;\">-0.00149253</td><td style=\"text-align: right;\">0.0144749</td><td style=\"text-align: right;\"> 0.203332  </td><td style=\"text-align: right;\"> 0.10715  </td><td style=\"text-align: right;\">0.191666 </td><td style=\"text-align: right;\">-0.111055 </td><td style=\"text-align: right;\"> 0.0780266 </td><td style=\"text-align: right;\">-0.0758129 </td><td style=\"text-align: right;\">0.156245 </td><td style=\"text-align: right;\"> 0.0879951</td><td style=\"text-align: right;\"> 0.0404993 </td><td style=\"text-align: right;\">-0.0786247 </td><td style=\"text-align: right;\"> 0.177025 </td><td style=\"text-align: right;\">0.0825289 </td><td style=\"text-align: right;\">-0.0812524</td></tr>\n",
              "<tr><td style=\"text-align: right;\">      6</td><td>b&#x27;Seems to work well!&#x27;                                                   </td><td>b&#x27;I recently picked this unit up at Bed and Bath where it was $99.00. With a 20% coupon the price was $80 (so comparison shop!) It\\&#x27;s easy to use and seems to work well. I agree with other reviewers about the noise level (loud like a tea kettle boiling), but I use this unit in the living room area so sleeping is not an issue. Having the 2 separate water reservoirs to fill is much easier, weight-wise, as I previously had another humidifier which had one large water reservoir and it was very heavy when full. The unit comes apart quite easily for cleaning and since frequent cleaning is recommended (I usually do it 1x per week, not daily) this is a definite plus. Additionally, one only needs to use vinegar to clean the inside reservoir, which is a lot cheaper than having to buy some kind of \\\\\\\\&quot;special\\\\\\\\&quot; cleaning solution. My one complaint is that it doesn\\&#x27;t, but should, have an automatic shut off when both tanks are empty.I have to remember to turn the unit off when I leave the house. My previous humidifiers all had this auto turn off; seems like every humidifier should.&#x27;</td><td style=\"text-align: right;\">       4</td><td style=\"text-align: right;\">       1</td><td style=\"text-align: right;\">-0.0700123 </td><td style=\"text-align: right;\">-0.0755902 </td><td style=\"text-align: right;\">-0.0441099 </td><td style=\"text-align: right;\"> 0.114852  </td><td style=\"text-align: right;\"> 0.0179222  </td><td style=\"text-align: right;\">-0.0657074</td><td style=\"text-align: right;\">-0.0816291 </td><td style=\"text-align: right;\">-0.0217387 </td><td style=\"text-align: right;\">-0.0773562</td><td style=\"text-align: right;\">-0.0925149</td><td style=\"text-align: right;\"> 0.0656858</td><td style=\"text-align: right;\"> 0.0678702 </td><td style=\"text-align: right;\">-0.0106703</td><td style=\"text-align: right;\">-0.0337555</td><td style=\"text-align: right;\">0.0646884</td><td style=\"text-align: right;\"> 0.0373544 </td><td style=\"text-align: right;\">-0.0783837 </td><td style=\"text-align: right;\"> 0.0582447 </td><td style=\"text-align: right;\"> 0.0361225</td><td style=\"text-align: right;\">-0.0694977</td><td style=\"text-align: right;\">-0.0672691 </td><td style=\"text-align: right;\"> 0.10625  </td><td style=\"text-align: right;\">-0.0152559</td><td style=\"text-align: right;\"> 0.0413629</td><td style=\"text-align: right;\"> 0.0345047</td><td style=\"text-align: right;\">-0.0671647 </td><td style=\"text-align: right;\">-0.0133872 </td><td style=\"text-align: right;\">-0.18897  </td><td style=\"text-align: right;\"> 0.0698947</td><td style=\"text-align: right;\">-0.0836058 </td><td style=\"text-align: right;\"> 0.0560247</td><td style=\"text-align: right;\">0.191988 </td><td style=\"text-align: right;\">-0.0502634 </td><td style=\"text-align: right;\"> 0.0122876</td><td style=\"text-align: right;\"> 0.0357647  </td><td style=\"text-align: right;\">-0.081288  </td><td style=\"text-align: right;\">-0.0310883</td><td style=\"text-align: right;\">-0.222141  </td><td style=\"text-align: right;\">-0.0880815</td><td style=\"text-align: right;\">-0.0416519  </td><td style=\"text-align: right;\">-0.0792918 </td><td style=\"text-align: right;\"> 0.0146957 </td><td style=\"text-align: right;\"> 0.0303462</td><td style=\"text-align: right;\">0.196525 </td><td style=\"text-align: right;\">-0.14988  </td><td style=\"text-align: right;\">-0.0345581  </td><td style=\"text-align: right;\">-0.0213494 </td><td style=\"text-align: right;\"> 0.0113084</td><td style=\"text-align: right;\"> 0.0878097 </td><td style=\"text-align: right;\">-0.042217 </td><td style=\"text-align: right;\">-0.0179971</td><td style=\"text-align: right;\">0.132255 </td><td style=\"text-align: right;\"> 0.112736  </td><td style=\"text-align: right;\">-0.162002 </td><td style=\"text-align: right;\">-0.160944 </td><td style=\"text-align: right;\"> 0.0416077  </td><td style=\"text-align: right;\">-0.15637 </td><td style=\"text-align: right;\">-0.101512 </td><td style=\"text-align: right;\"> 0.0648536 </td><td style=\"text-align: right;\">-0.112224 </td><td style=\"text-align: right;\">-0.0645472</td><td style=\"text-align: right;\"> 0.0757341 </td><td style=\"text-align: right;\">0.0987148</td><td style=\"text-align: right;\">-0.0306532 </td><td style=\"text-align: right;\">-0.0436045</td><td style=\"text-align: right;\"> 0.0583583 </td><td style=\"text-align: right;\"> 0.0531949</td><td style=\"text-align: right;\"> 0.0175965</td><td style=\"text-align: right;\">-0.087538  </td><td style=\"text-align: right;\">-0.0395171 </td><td style=\"text-align: right;\">-0.0165688 </td><td style=\"text-align: right;\">-0.0919945</td><td style=\"text-align: right;\"> 0.082564  </td><td style=\"text-align: right;\"> 0.00260392</td><td style=\"text-align: right;\">-0.0554851</td><td style=\"text-align: right;\">-0.0573758 </td><td style=\"text-align: right;\"> 0.0547042  </td><td style=\"text-align: right;\"> 0.104837  </td><td style=\"text-align: right;\"> 0.0324786</td><td style=\"text-align: right;\">-0.0866499</td><td style=\"text-align: right;\">-0.00104786</td><td style=\"text-align: right;\">-0.00241115</td><td style=\"text-align: right;\">0.120915 </td><td style=\"text-align: right;\">-0.0649063</td><td style=\"text-align: right;\">-0.0613906</td><td style=\"text-align: right;\">-0.066647  </td><td style=\"text-align: right;\">0.123555 </td><td style=\"text-align: right;\"> 0.0546419 </td><td style=\"text-align: right;\">-0.0261739</td><td style=\"text-align: right;\">0.18747  </td><td style=\"text-align: right;\">-0.109922 </td><td style=\"text-align: right;\"> 0.0994844 </td><td style=\"text-align: right;\">-0.0492771 </td><td style=\"text-align: right;\">0.111745 </td><td style=\"text-align: right;\">-0.0736841</td><td style=\"text-align: right;\"> 0.0114081 </td><td style=\"text-align: right;\">-0.00857411</td><td style=\"text-align: right;\"> 0.105202 </td><td style=\"text-align: right;\">0.0998995 </td><td style=\"text-align: right;\">-0.0485713</td></tr>\n",
              "<tr><td style=\"text-align: right;\">      8</td><td>b&#x27;deep heat?????&#x27;                                                        </td><td>b&#x27;Not sure what previous reviewer was talking about. The product uses ULTRASOUND waves for pain relief NOT heat.  After repeated use, the pain in my knee and shoulder was feeling great. I think you should re-read the description and reconsider your opinion. Great product sold by a great company.&#x27;                                                                                                                                                                                                                                                                                                                                                                                                                                                                                                                                                                                                                                                                                                                                                                                                                         </td><td style=\"text-align: right;\">       5</td><td style=\"text-align: right;\">       1</td><td style=\"text-align: right;\"> 0.0840595 </td><td style=\"text-align: right;\"> 0.0317886 </td><td style=\"text-align: right;\">-0.1149    </td><td style=\"text-align: right;\"> 0.0947545 </td><td style=\"text-align: right;\"> 0.0398061  </td><td style=\"text-align: right;\">-0.0974046</td><td style=\"text-align: right;\">-0.0450777 </td><td style=\"text-align: right;\">-0.0990161 </td><td style=\"text-align: right;\">-0.0290951</td><td style=\"text-align: right;\">-0.149748 </td><td style=\"text-align: right;\">-0.0119095</td><td style=\"text-align: right;\"> 0.10379   </td><td style=\"text-align: right;\"> 0.0485063</td><td style=\"text-align: right;\">-0.0293204</td><td style=\"text-align: right;\">0.144991 </td><td style=\"text-align: right;\">-0.0563021 </td><td style=\"text-align: right;\"> 0.0414489 </td><td style=\"text-align: right;\"> 0.056878  </td><td style=\"text-align: right;\">-0.15167  </td><td style=\"text-align: right;\">-0.0786006</td><td style=\"text-align: right;\"> 0.0159198 </td><td style=\"text-align: right;\"> 0.0795398</td><td style=\"text-align: right;\"> 0.11442  </td><td style=\"text-align: right;\"> 0.0639463</td><td style=\"text-align: right;\"> 0.0343668</td><td style=\"text-align: right;\"> 0.0619479 </td><td style=\"text-align: right;\"> 0.00264803</td><td style=\"text-align: right;\">-0.252737 </td><td style=\"text-align: right;\">-0.0914874</td><td style=\"text-align: right;\">-0.102676  </td><td style=\"text-align: right;\"> 0.025669 </td><td style=\"text-align: right;\">0.0823435</td><td style=\"text-align: right;\"> 0.00164884</td><td style=\"text-align: right;\">-0.0171837</td><td style=\"text-align: right;\"> 0.0174331  </td><td style=\"text-align: right;\">-0.0762064 </td><td style=\"text-align: right;\">-0.0936401</td><td style=\"text-align: right;\">-0.00253468</td><td style=\"text-align: right;\"> 0.0246649</td><td style=\"text-align: right;\">-0.000505813</td><td style=\"text-align: right;\">-0.074779  </td><td style=\"text-align: right;\"> 0.132116  </td><td style=\"text-align: right;\"> 0.0538422</td><td style=\"text-align: right;\">0.135271 </td><td style=\"text-align: right;\">-0.0197144</td><td style=\"text-align: right;\">-0.0270327  </td><td style=\"text-align: right;\"> 0.132716  </td><td style=\"text-align: right;\"> 0.0378224</td><td style=\"text-align: right;\"> 0.0386385 </td><td style=\"text-align: right;\">-0.0566851</td><td style=\"text-align: right;\"> 0.0229601</td><td style=\"text-align: right;\">0.148181 </td><td style=\"text-align: right;\">-0.0353839 </td><td style=\"text-align: right;\">-0.153741 </td><td style=\"text-align: right;\">-0.1224   </td><td style=\"text-align: right;\"> 6.24577e-05</td><td style=\"text-align: right;\">-0.172379</td><td style=\"text-align: right;\">-0.0604564</td><td style=\"text-align: right;\"> 0.0472272 </td><td style=\"text-align: right;\">-0.0764659</td><td style=\"text-align: right;\"> 0.0475961</td><td style=\"text-align: right;\"> 0.129683  </td><td style=\"text-align: right;\">0.0306189</td><td style=\"text-align: right;\">-0.0130726 </td><td style=\"text-align: right;\">-0.0634564</td><td style=\"text-align: right;\">-0.0597532 </td><td style=\"text-align: right;\"> 0.0714917</td><td style=\"text-align: right;\"> 0.0409405</td><td style=\"text-align: right;\">-0.113003  </td><td style=\"text-align: right;\">-0.00936155</td><td style=\"text-align: right;\"> 0.0733388 </td><td style=\"text-align: right;\">-0.0602114</td><td style=\"text-align: right;\">-0.0275399 </td><td style=\"text-align: right;\"> 0.0545474 </td><td style=\"text-align: right;\"> 0.0165447</td><td style=\"text-align: right;\">-0.0336585 </td><td style=\"text-align: right;\">-0.0149745  </td><td style=\"text-align: right;\">-0.086931  </td><td style=\"text-align: right;\">-0.0519207</td><td style=\"text-align: right;\">-0.0800841</td><td style=\"text-align: right;\">-0.00913092</td><td style=\"text-align: right;\">-0.0203093 </td><td style=\"text-align: right;\">0.131352 </td><td style=\"text-align: right;\">-0.0835398</td><td style=\"text-align: right;\">-0.0801039</td><td style=\"text-align: right;\"> 0.0313949 </td><td style=\"text-align: right;\">0.265224 </td><td style=\"text-align: right;\"> 0.0817965 </td><td style=\"text-align: right;\">-0.0631238</td><td style=\"text-align: right;\">0.185527 </td><td style=\"text-align: right;\">-0.113298 </td><td style=\"text-align: right;\"> 0.0875401 </td><td style=\"text-align: right;\">-0.034366  </td><td style=\"text-align: right;\">0.148932 </td><td style=\"text-align: right;\">-0.0406646</td><td style=\"text-align: right;\"> 0.0206936 </td><td style=\"text-align: right;\">-0.0179154 </td><td style=\"text-align: right;\"> 0.161598 </td><td style=\"text-align: right;\">0.0667575 </td><td style=\"text-align: right;\"> 0.0707948</td></tr>\n",
              "<tr><td style=\"text-align: right;\">      2</td><td>b&#x27;Thermometer for a toddler&#x27;                                             </td><td>b&quot;The shippers were great....willing to consider speedier shipping options, but in the end the standard shipping arrived quickly enough. The thermometer is fun and easy to use, but with an inquisitive toddler, it would be nice to have the plastic cap attached to the body so that it doesn&#x27;t disappear.  Would buy it again from these sellers.&quot;                                                                                                                                                                                                                                                                                                                                                                                                                                                                                                                                                                                                                                                                                                                                                                            </td><td style=\"text-align: right;\">       4</td><td style=\"text-align: right;\">       1</td><td style=\"text-align: right;\">-0.0849908 </td><td style=\"text-align: right;\">-0.062714  </td><td style=\"text-align: right;\">-0.121164  </td><td style=\"text-align: right;\"> 0.106578  </td><td style=\"text-align: right;\">-0.0425393  </td><td style=\"text-align: right;\">-0.185519 </td><td style=\"text-align: right;\">-0.0505359 </td><td style=\"text-align: right;\">-0.0836633 </td><td style=\"text-align: right;\">-0.110553 </td><td style=\"text-align: right;\">-0.0236404</td><td style=\"text-align: right;\"> 0.0216428</td><td style=\"text-align: right;\"> 0.0220242 </td><td style=\"text-align: right;\">-0.0182792</td><td style=\"text-align: right;\"> 0.0563114</td><td style=\"text-align: right;\">0.102158 </td><td style=\"text-align: right;\">-0.00764907</td><td style=\"text-align: right;\"> 0.0884398 </td><td style=\"text-align: right;\"> 0.00739399</td><td style=\"text-align: right;\">-0.0720289</td><td style=\"text-align: right;\">-0.181937 </td><td style=\"text-align: right;\">-0.083894  </td><td style=\"text-align: right;\"> 0.0157597</td><td style=\"text-align: right;\"> 0.147528 </td><td style=\"text-align: right;\">-0.0085156</td><td style=\"text-align: right;\">-0.0096997</td><td style=\"text-align: right;\">-0.0139153 </td><td style=\"text-align: right;\">-0.0420663 </td><td style=\"text-align: right;\">-0.0745466</td><td style=\"text-align: right;\">-0.0717167</td><td style=\"text-align: right;\">-0.170344  </td><td style=\"text-align: right;\"> 0.0321518</td><td style=\"text-align: right;\">0.0957299</td><td style=\"text-align: right;\">-0.0925658 </td><td style=\"text-align: right;\"> 0.106943 </td><td style=\"text-align: right;\"> 0.0632964  </td><td style=\"text-align: right;\">-0.0953753 </td><td style=\"text-align: right;\">-0.0333437</td><td style=\"text-align: right;\">-0.0928539 </td><td style=\"text-align: right;\">-0.0713421</td><td style=\"text-align: right;\"> 0.105415   </td><td style=\"text-align: right;\">-0.00649964</td><td style=\"text-align: right;\">-0.0208706 </td><td style=\"text-align: right;\"> 0.077052 </td><td style=\"text-align: right;\">0.0896145</td><td style=\"text-align: right;\">-0.0909913</td><td style=\"text-align: right;\">-0.000885718</td><td style=\"text-align: right;\"> 0.0493907 </td><td style=\"text-align: right;\">-0.0328254</td><td style=\"text-align: right;\"> 0.00130843</td><td style=\"text-align: right;\">-0.0513432</td><td style=\"text-align: right;\"> 0.0321302</td><td style=\"text-align: right;\">0.120137 </td><td style=\"text-align: right;\"> 0.0116222 </td><td style=\"text-align: right;\">-0.0637078</td><td style=\"text-align: right;\">-0.142518 </td><td style=\"text-align: right;\">-0.0383079  </td><td style=\"text-align: right;\">-0.138323</td><td style=\"text-align: right;\">-0.0747884</td><td style=\"text-align: right;\"> 0.070589  </td><td style=\"text-align: right;\">-0.143215 </td><td style=\"text-align: right;\"> 0.0165615</td><td style=\"text-align: right;\"> 0.0967231 </td><td style=\"text-align: right;\">0.0590231</td><td style=\"text-align: right;\"> 0.0235435 </td><td style=\"text-align: right;\">-0.0565074</td><td style=\"text-align: right;\"> 0.0524896 </td><td style=\"text-align: right;\">-0.0726494</td><td style=\"text-align: right;\"> 0.127563 </td><td style=\"text-align: right;\">-0.0449377 </td><td style=\"text-align: right;\">-0.0170753 </td><td style=\"text-align: right;\">-0.037836  </td><td style=\"text-align: right;\">-0.0687208</td><td style=\"text-align: right;\"> 0.0508954 </td><td style=\"text-align: right;\"> 0.147309  </td><td style=\"text-align: right;\">-0.118728 </td><td style=\"text-align: right;\">-0.0855443 </td><td style=\"text-align: right;\"> 0.0772917  </td><td style=\"text-align: right;\"> 0.0420196 </td><td style=\"text-align: right;\">-0.0352316</td><td style=\"text-align: right;\">-0.140368 </td><td style=\"text-align: right;\"> 0.0315235 </td><td style=\"text-align: right;\">-0.10422   </td><td style=\"text-align: right;\">0.118639 </td><td style=\"text-align: right;\">-0.0210698</td><td style=\"text-align: right;\">-0.0627733</td><td style=\"text-align: right;\"> 0.0813124 </td><td style=\"text-align: right;\">0.100555 </td><td style=\"text-align: right;\"> 0.0463809 </td><td style=\"text-align: right;\">-0.0964949</td><td style=\"text-align: right;\">0.137309 </td><td style=\"text-align: right;\">-0.120406 </td><td style=\"text-align: right;\"> 0.0641728 </td><td style=\"text-align: right;\">-0.100043  </td><td style=\"text-align: right;\">0.194678 </td><td style=\"text-align: right;\">-0.0837309</td><td style=\"text-align: right;\"> 0.00120358</td><td style=\"text-align: right;\"> 0.0293834 </td><td style=\"text-align: right;\"> 0.0902609</td><td style=\"text-align: right;\">0.143333  </td><td style=\"text-align: right;\">-0.0131671</td></tr>\n",
              "<tr><td style=\"text-align: right;\">      2</td><td>b&#x27;Wow!&#x27;                                                                  </td><td>b&quot;Man, for all you who know what I&#x27;m talking about, this is the best thing I&#x27;ve ever had on my back.  I suffer from back pain constantly and find myself waking up in the middle of the night pushing parts of my back and neck on the edges of walls on the corners of doors and sometimes lying down on tennis or racket balls to get pressure on those dang trigger points.  I opted for the body sticks package not knowing what they would do and it was a good thing.  They are like have racket balls on the ends of sticks to beat your muscle spasms and to lie down on them rolling around on your back. It is worth the money.  They use a device similar to this in physical therapy so if you get your doctor to write you a script for it, insurance may very well pay for it like mine did.  Even so, paid or not, buy this sucker.  Buy two, I thought, just in case it breaks and they for some reason stop manufacturing this thing.  Good stuff.&quot;                                                                                                                                                              </td><td style=\"text-align: right;\">       5</td><td style=\"text-align: right;\">       1</td><td style=\"text-align: right;\">-0.110877  </td><td style=\"text-align: right;\">-0.00259527</td><td style=\"text-align: right;\">-0.152266  </td><td style=\"text-align: right;\"> 0.0485062 </td><td style=\"text-align: right;\">-0.0071582  </td><td style=\"text-align: right;\">-0.108389 </td><td style=\"text-align: right;\">-0.0428216 </td><td style=\"text-align: right;\">-0.0332419 </td><td style=\"text-align: right;\">-0.0438787</td><td style=\"text-align: right;\">-0.162783 </td><td style=\"text-align: right;\"> 0.0243054</td><td style=\"text-align: right;\"> 0.0216243 </td><td style=\"text-align: right;\"> 0.0919538</td><td style=\"text-align: right;\">-0.0218899</td><td style=\"text-align: right;\">0.0508308</td><td style=\"text-align: right;\">-0.0061505 </td><td style=\"text-align: right;\"> 0.0718847 </td><td style=\"text-align: right;\"> 0.0707027 </td><td style=\"text-align: right;\">-0.0446554</td><td style=\"text-align: right;\">-0.132158 </td><td style=\"text-align: right;\"> 0.0463972 </td><td style=\"text-align: right;\"> 0.0167101</td><td style=\"text-align: right;\"> 0.111317 </td><td style=\"text-align: right;\"> 0.0425385</td><td style=\"text-align: right;\"> 0.0728563</td><td style=\"text-align: right;\">-0.0751699 </td><td style=\"text-align: right;\">-0.0298243 </td><td style=\"text-align: right;\">-0.194423 </td><td style=\"text-align: right;\">-0.121894 </td><td style=\"text-align: right;\">-0.107325  </td><td style=\"text-align: right;\"> 0.037976 </td><td style=\"text-align: right;\">0.0925969</td><td style=\"text-align: right;\">-0.0259309 </td><td style=\"text-align: right;\"> 0.0874642</td><td style=\"text-align: right;\"> 0.00163731 </td><td style=\"text-align: right;\">-0.0350027 </td><td style=\"text-align: right;\">-0.162082 </td><td style=\"text-align: right;\"> 0.0194025 </td><td style=\"text-align: right;\">-0.0235276</td><td style=\"text-align: right;\">-0.0131249  </td><td style=\"text-align: right;\">-0.0891718 </td><td style=\"text-align: right;\"> 0.0309852 </td><td style=\"text-align: right;\"> 0.0074109</td><td style=\"text-align: right;\">0.15982  </td><td style=\"text-align: right;\"> 0.0271674</td><td style=\"text-align: right;\"> 0.00510577 </td><td style=\"text-align: right;\"> 0.0653896 </td><td style=\"text-align: right;\">-0.0637506</td><td style=\"text-align: right;\"> 0.0256428 </td><td style=\"text-align: right;\">-0.08005  </td><td style=\"text-align: right;\"> 0.062896 </td><td style=\"text-align: right;\">0.0884839</td><td style=\"text-align: right;\"> 0.00536357</td><td style=\"text-align: right;\">-0.183409 </td><td style=\"text-align: right;\">-0.0924869</td><td style=\"text-align: right;\">-0.00279895 </td><td style=\"text-align: right;\">-0.20265 </td><td style=\"text-align: right;\">-0.0522654</td><td style=\"text-align: right;\"> 0.0603872 </td><td style=\"text-align: right;\">-0.0356083</td><td style=\"text-align: right;\">-0.0178062</td><td style=\"text-align: right;\"> 0.0924892 </td><td style=\"text-align: right;\">0.081732 </td><td style=\"text-align: right;\"> 0.0663242 </td><td style=\"text-align: right;\">-0.070935 </td><td style=\"text-align: right;\"> 0.119916  </td><td style=\"text-align: right;\"> 0.0237384</td><td style=\"text-align: right;\"> 0.141392 </td><td style=\"text-align: right;\"> 0.0428572 </td><td style=\"text-align: right;\"> 0.0780684 </td><td style=\"text-align: right;\"> 0.00449282</td><td style=\"text-align: right;\"> 0.0443021</td><td style=\"text-align: right;\"> 0.00048576</td><td style=\"text-align: right;\">-0.0128713 </td><td style=\"text-align: right;\">-0.0219097</td><td style=\"text-align: right;\">-0.112279  </td><td style=\"text-align: right;\"> 0.030618   </td><td style=\"text-align: right;\"> 0.0766889 </td><td style=\"text-align: right;\">-0.0497343</td><td style=\"text-align: right;\">-0.100266 </td><td style=\"text-align: right;\"> 0.0179985 </td><td style=\"text-align: right;\">-0.0742389 </td><td style=\"text-align: right;\">0.139838 </td><td style=\"text-align: right;\">-0.0763072</td><td style=\"text-align: right;\">-0.0589854</td><td style=\"text-align: right;\">-0.0400702 </td><td style=\"text-align: right;\">0.20954  </td><td style=\"text-align: right;\"> 0.0414647 </td><td style=\"text-align: right;\">-0.0156734</td><td style=\"text-align: right;\">0.184692 </td><td style=\"text-align: right;\">-0.0807471</td><td style=\"text-align: right;\"> 0.0117417 </td><td style=\"text-align: right;\">-0.0547703 </td><td style=\"text-align: right;\">0.140357 </td><td style=\"text-align: right;\"> 0.0363618</td><td style=\"text-align: right;\"> 0.0326487 </td><td style=\"text-align: right;\"> 0.0121704 </td><td style=\"text-align: right;\"> 0.13324  </td><td style=\"text-align: right;\">0.0707054 </td><td style=\"text-align: right;\"> 0.0442247</td></tr>\n",
              "<tr><td style=\"text-align: right;\">      1</td><td>b&#x27;Great cane for people with hand and wrist issues&#x27;                      </td><td>b&quot;I purchased this cane to assist me when I have to walk long distances.  I have rheumatoid arthritis that has particularly affected my low back and hips, and it sometimes makes walking difficult.  The problem with using a cane when you have RA is that RA doesn&#x27;t just affect your lower extremities.  My hands, wrists, and shoulders are also affected.  When I tried a normal cane, it was agonizingly painful for my hand and wrist in particular.  That made it not worth using, even though it did help my hip and back.  A friend with similar issues recommended this one, and the difference was amazing.  It is still a bit hard on my hand after awhile, but not to the point that would make it not worth using.  There really is no perfect solution for this circumstance short of a wheelchair, and I&#x27;m nowhere near ready for that yet!  The forearm rest makes it bearable to use this cane, and it does really help me to walk longer distances when I need to!  It is a great product, and I&#x27;m happy that I purchased it!&quot;                                                                               </td><td style=\"text-align: right;\">       4</td><td style=\"text-align: right;\">       1</td><td style=\"text-align: right;\"> 0.0501256 </td><td style=\"text-align: right;\"> 0.0631809 </td><td style=\"text-align: right;\">-0.108242  </td><td style=\"text-align: right;\"> 0.0881713 </td><td style=\"text-align: right;\"> 0.0235702  </td><td style=\"text-align: right;\">-0.156785 </td><td style=\"text-align: right;\">-0.126152  </td><td style=\"text-align: right;\">-0.0477694 </td><td style=\"text-align: right;\">-0.0696486</td><td style=\"text-align: right;\">-0.11583  </td><td style=\"text-align: right;\"> 0.017121 </td><td style=\"text-align: right;\"> 0.0447815 </td><td style=\"text-align: right;\"> 0.0539602</td><td style=\"text-align: right;\"> 0.0686426</td><td style=\"text-align: right;\">0.106992 </td><td style=\"text-align: right;\">-0.037227  </td><td style=\"text-align: right;\"> 0.0944315 </td><td style=\"text-align: right;\"> 0.0599103 </td><td style=\"text-align: right;\">-0.0541336</td><td style=\"text-align: right;\">-0.0653078</td><td style=\"text-align: right;\"> 0.00850048</td><td style=\"text-align: right;\"> 0.0471315</td><td style=\"text-align: right;\"> 0.0485751</td><td style=\"text-align: right;\"> 0.0624131</td><td style=\"text-align: right;\"> 0.0553904</td><td style=\"text-align: right;\">-0.126661  </td><td style=\"text-align: right;\">-0.0235201 </td><td style=\"text-align: right;\">-0.139983 </td><td style=\"text-align: right;\">-0.145601 </td><td style=\"text-align: right;\">-0.145369  </td><td style=\"text-align: right;\"> 0.0424572</td><td style=\"text-align: right;\">0.066932 </td><td style=\"text-align: right;\">-0.127254  </td><td style=\"text-align: right;\"> 0.0503682</td><td style=\"text-align: right;\"> 0.0371654  </td><td style=\"text-align: right;\">-0.114708  </td><td style=\"text-align: right;\">-0.215906 </td><td style=\"text-align: right;\"> 0.0120843 </td><td style=\"text-align: right;\">-0.114349 </td><td style=\"text-align: right;\">-0.100395   </td><td style=\"text-align: right;\">-0.0254444 </td><td style=\"text-align: right;\"> 0.12955   </td><td style=\"text-align: right;\"> 0.0159476</td><td style=\"text-align: right;\">0.0874039</td><td style=\"text-align: right;\">-0.110772 </td><td style=\"text-align: right;\"> 0.0217159  </td><td style=\"text-align: right;\"> 0.0810927 </td><td style=\"text-align: right;\"> 0.0474274</td><td style=\"text-align: right;\"> 0.110689  </td><td style=\"text-align: right;\">-0.127671 </td><td style=\"text-align: right;\"> 0.132974 </td><td style=\"text-align: right;\">0.087483 </td><td style=\"text-align: right;\">-0.00963068</td><td style=\"text-align: right;\">-0.140291 </td><td style=\"text-align: right;\">-0.185115 </td><td style=\"text-align: right;\">-0.0174436  </td><td style=\"text-align: right;\">-0.178409</td><td style=\"text-align: right;\">-0.0994004</td><td style=\"text-align: right;\">-0.0101164 </td><td style=\"text-align: right;\"> 0.0251488</td><td style=\"text-align: right;\">-0.0923824</td><td style=\"text-align: right;\"> 0.0453529 </td><td style=\"text-align: right;\">0.0213113</td><td style=\"text-align: right;\">-0.00868963</td><td style=\"text-align: right;\">-0.109665 </td><td style=\"text-align: right;\"> 0.0882422 </td><td style=\"text-align: right;\"> 0.0129099</td><td style=\"text-align: right;\"> 0.0820866</td><td style=\"text-align: right;\">-0.00574698</td><td style=\"text-align: right;\">-0.0139316 </td><td style=\"text-align: right;\"> 0.0135031 </td><td style=\"text-align: right;\">-0.0779164</td><td style=\"text-align: right;\">-0.0493383 </td><td style=\"text-align: right;\"> 0.00124649</td><td style=\"text-align: right;\">-0.0837232</td><td style=\"text-align: right;\">-0.00983943</td><td style=\"text-align: right;\">-0.0327533  </td><td style=\"text-align: right;\"> 0.00825546</td><td style=\"text-align: right;\">-0.048973 </td><td style=\"text-align: right;\">-0.0820281</td><td style=\"text-align: right;\">-0.0452564 </td><td style=\"text-align: right;\"> 0.0242782 </td><td style=\"text-align: right;\">0.125325 </td><td style=\"text-align: right;\">-0.113046 </td><td style=\"text-align: right;\">-0.0515116</td><td style=\"text-align: right;\">-0.0471182 </td><td style=\"text-align: right;\">0.232736 </td><td style=\"text-align: right;\">-0.00376397</td><td style=\"text-align: right;\">-0.0917237</td><td style=\"text-align: right;\">0.119323 </td><td style=\"text-align: right;\">-0.0513691</td><td style=\"text-align: right;\">-0.0372052 </td><td style=\"text-align: right;\">-0.00736422</td><td style=\"text-align: right;\">0.1277   </td><td style=\"text-align: right;\"> 0.0305515</td><td style=\"text-align: right;\">-0.00751032</td><td style=\"text-align: right;\"> 0.00928484</td><td style=\"text-align: right;\"> 0.0992109</td><td style=\"text-align: right;\">0.00516429</td><td style=\"text-align: right;\"> 0.0977703</td></tr>\n",
              "</tbody>\n",
              "</table>"
            ]
          },
          "metadata": {
            "tags": []
          }
        },
        {
          "output_type": "execute_result",
          "data": {
            "text/plain": [
              ""
            ]
          },
          "metadata": {
            "tags": []
          },
          "execution_count": 56
        }
      ]
    },
    {
      "cell_type": "code",
      "metadata": {
        "id": "LBK-oIMsyLBO",
        "colab_type": "code",
        "colab": {}
      },
      "source": [
        "h2o_train,h2o_valid = h2o_df_ext.split_frame(ratios=[.8])"
      ],
      "execution_count": 41,
      "outputs": []
    },
    {
      "cell_type": "code",
      "metadata": {
        "id": "56Um64TpyTF2",
        "colab_type": "code",
        "colab": {
          "base_uri": "https://localhost:8080/",
          "height": 78
        },
        "outputId": "00ca29e3-342f-4b2e-bc8a-5117c7dcf9a0"
      },
      "source": [
        "h2o_valid['target'].table()"
      ],
      "execution_count": 42,
      "outputs": [
        {
          "output_type": "display_data",
          "data": {
            "text/html": [
              "<table>\n",
              "<thead>\n",
              "<tr><th style=\"text-align: right;\">  target</th><th style=\"text-align: right;\">  Count</th></tr>\n",
              "</thead>\n",
              "<tbody>\n",
              "<tr><td style=\"text-align: right;\">       0</td><td style=\"text-align: right;\">   4736</td></tr>\n",
              "<tr><td style=\"text-align: right;\">       1</td><td style=\"text-align: right;\">  12576</td></tr>\n",
              "</tbody>\n",
              "</table>"
            ]
          },
          "metadata": {
            "tags": []
          }
        },
        {
          "output_type": "execute_result",
          "data": {
            "text/plain": [
              ""
            ]
          },
          "metadata": {
            "tags": []
          },
          "execution_count": 42
        }
      ]
    },
    {
      "cell_type": "code",
      "metadata": {
        "id": "dh4xplBpydEu",
        "colab_type": "code",
        "colab": {}
      },
      "source": [
        "gbm_baseline = H2OGradientBoostingEstimator(stopping_metric = \"AUC\", stopping_tolerance = 0.001,\n",
        "                                              stopping_rounds = 5, score_tree_interval = 10                                             \n",
        "                                             )"
      ],
      "execution_count": 44,
      "outputs": []
    },
    {
      "cell_type": "code",
      "metadata": {
        "id": "dz-RaOhqzJlO",
        "colab_type": "code",
        "colab": {
          "base_uri": "https://localhost:8080/",
          "height": 34
        },
        "outputId": "17107aa1-b0a7-48ac-fec3-2269ca0f5daf"
      },
      "source": [
        "gbm_baseline.train(x=review_vecs.names, y='target', training_frame = h2o_train, validation_frame=h2o_valid)"
      ],
      "execution_count": 45,
      "outputs": [
        {
          "output_type": "stream",
          "text": [
            "gbm Model Build progress: |███████████████████████████████████████████████| 100%\n"
          ],
          "name": "stdout"
        }
      ]
    },
    {
      "cell_type": "code",
      "metadata": {
        "id": "m7WQo5nizM8c",
        "colab_type": "code",
        "colab": {
          "base_uri": "https://localhost:8080/",
          "height": 34
        },
        "outputId": "f393ffd2-c4dc-4ba9-b0e5-b60b9bc792a9"
      },
      "source": [
        "print(\"Baseline AUC: \" + str(round(gbm_baseline.auc(valid = True), 3)))"
      ],
      "execution_count": 46,
      "outputs": [
        {
          "output_type": "stream",
          "text": [
            "Baseline AUC: 0.876\n"
          ],
          "name": "stdout"
        }
      ]
    },
    {
      "cell_type": "code",
      "metadata": {
        "id": "B2TNu9j8zTGd",
        "colab_type": "code",
        "colab": {
          "base_uri": "https://localhost:8080/",
          "height": 170
        },
        "outputId": "7a40dbbe-49e0-456b-9bfb-49f5aa05ec98"
      },
      "source": [
        "gbm_baseline.confusion_matrix(valid=True)"
      ],
      "execution_count": 47,
      "outputs": [
        {
          "output_type": "stream",
          "text": [
            "\n",
            "Confusion Matrix (Act/Pred) for max f1 @ threshold = 0.5301900990975311: \n"
          ],
          "name": "stdout"
        },
        {
          "output_type": "display_data",
          "data": {
            "text/html": [
              "<div>\n",
              "<style scoped>\n",
              "    .dataframe tbody tr th:only-of-type {\n",
              "        vertical-align: middle;\n",
              "    }\n",
              "\n",
              "    .dataframe tbody tr th {\n",
              "        vertical-align: top;\n",
              "    }\n",
              "\n",
              "    .dataframe thead th {\n",
              "        text-align: right;\n",
              "    }\n",
              "</style>\n",
              "<table border=\"1\" class=\"dataframe\">\n",
              "  <thead>\n",
              "    <tr style=\"text-align: right;\">\n",
              "      <th></th>\n",
              "      <th></th>\n",
              "      <th>0</th>\n",
              "      <th>1</th>\n",
              "      <th>Error</th>\n",
              "      <th>Rate</th>\n",
              "    </tr>\n",
              "  </thead>\n",
              "  <tbody>\n",
              "    <tr>\n",
              "      <th>0</th>\n",
              "      <td>0</td>\n",
              "      <td>2565.0</td>\n",
              "      <td>2171.0</td>\n",
              "      <td>0.4584</td>\n",
              "      <td>(2171.0/4736.0)</td>\n",
              "    </tr>\n",
              "    <tr>\n",
              "      <th>1</th>\n",
              "      <td>1</td>\n",
              "      <td>744.0</td>\n",
              "      <td>11832.0</td>\n",
              "      <td>0.0592</td>\n",
              "      <td>(744.0/12576.0)</td>\n",
              "    </tr>\n",
              "    <tr>\n",
              "      <th>2</th>\n",
              "      <td>Total</td>\n",
              "      <td>3309.0</td>\n",
              "      <td>14003.0</td>\n",
              "      <td>0.1684</td>\n",
              "      <td>(2915.0/17312.0)</td>\n",
              "    </tr>\n",
              "  </tbody>\n",
              "</table>\n",
              "</div>"
            ],
            "text/plain": [
              "               0        1   Error               Rate\n",
              "0      0  2565.0   2171.0  0.4584    (2171.0/4736.0)\n",
              "1      1   744.0  11832.0  0.0592    (744.0/12576.0)\n",
              "2  Total  3309.0  14003.0  0.1684   (2915.0/17312.0)"
            ]
          },
          "metadata": {
            "tags": []
          }
        },
        {
          "output_type": "execute_result",
          "data": {
            "text/plain": [
              ""
            ]
          },
          "metadata": {
            "tags": []
          },
          "execution_count": 47
        }
      ]
    },
    {
      "cell_type": "code",
      "metadata": {
        "id": "f7YixOC1zVZ-",
        "colab_type": "code",
        "colab": {}
      },
      "source": [
        "gbm_balanced = H2OGradientBoostingEstimator(stopping_metric = \"AUC\", stopping_tolerance = 0.001,\n",
        "                                              stopping_rounds = 5, score_tree_interval = 10,\n",
        "                                              balance_classes= True\n",
        "                                             )"
      ],
      "execution_count": 48,
      "outputs": []
    },
    {
      "cell_type": "code",
      "metadata": {
        "id": "A2C22L4JzeFs",
        "colab_type": "code",
        "colab": {
          "base_uri": "https://localhost:8080/",
          "height": 34
        },
        "outputId": "7a3ef1dc-400b-47c6-fb35-95c24d039b7a"
      },
      "source": [
        "\n",
        "gbm_balanced.train(x=review_vecs.names, y='target', training_frame = h2o_train, validation_frame=h2o_valid"
      ],
      "execution_count": 49,
      "outputs": [
        {
          "output_type": "stream",
          "text": [
            "gbm Model Build progress: |███████████████████████████████████████████████| 100%\n"
          ],
          "name": "stdout"
        }
      ]
    },
    {
      "cell_type": "code",
      "metadata": {
        "id": "RrjQLI47zkC4",
        "colab_type": "code",
        "colab": {
          "base_uri": "https://localhost:8080/",
          "height": 34
        },
        "outputId": "8323511b-1125-414b-f238-ed61717b49d2"
      },
      "source": [
        "print(\" Balanced AUC: \" + str(round(gbm_balanced.auc(valid = True), 3)))"
      ],
      "execution_count": 50,
      "outputs": [
        {
          "output_type": "stream",
          "text": [
            " Balanced AUC: 0.875\n"
          ],
          "name": "stdout"
        }
      ]
    },
    {
      "cell_type": "code",
      "metadata": {
        "id": "aCjYKUwtzpJs",
        "colab_type": "code",
        "colab": {
          "base_uri": "https://localhost:8080/",
          "height": 170
        },
        "outputId": "f3a06989-bb42-4637-b720-76c4a55d76bc"
      },
      "source": [
        "gbm_balanced.confusion_matrix(valid=True)"
      ],
      "execution_count": 51,
      "outputs": [
        {
          "output_type": "stream",
          "text": [
            "\n",
            "Confusion Matrix (Act/Pred) for max f1 @ threshold = 0.5537920142194505: \n"
          ],
          "name": "stdout"
        },
        {
          "output_type": "display_data",
          "data": {
            "text/html": [
              "<div>\n",
              "<style scoped>\n",
              "    .dataframe tbody tr th:only-of-type {\n",
              "        vertical-align: middle;\n",
              "    }\n",
              "\n",
              "    .dataframe tbody tr th {\n",
              "        vertical-align: top;\n",
              "    }\n",
              "\n",
              "    .dataframe thead th {\n",
              "        text-align: right;\n",
              "    }\n",
              "</style>\n",
              "<table border=\"1\" class=\"dataframe\">\n",
              "  <thead>\n",
              "    <tr style=\"text-align: right;\">\n",
              "      <th></th>\n",
              "      <th></th>\n",
              "      <th>0</th>\n",
              "      <th>1</th>\n",
              "      <th>Error</th>\n",
              "      <th>Rate</th>\n",
              "    </tr>\n",
              "  </thead>\n",
              "  <tbody>\n",
              "    <tr>\n",
              "      <th>0</th>\n",
              "      <td>0</td>\n",
              "      <td>2614.0</td>\n",
              "      <td>2122.0</td>\n",
              "      <td>0.4481</td>\n",
              "      <td>(2122.0/4736.0)</td>\n",
              "    </tr>\n",
              "    <tr>\n",
              "      <th>1</th>\n",
              "      <td>1</td>\n",
              "      <td>811.0</td>\n",
              "      <td>11765.0</td>\n",
              "      <td>0.0645</td>\n",
              "      <td>(811.0/12576.0)</td>\n",
              "    </tr>\n",
              "    <tr>\n",
              "      <th>2</th>\n",
              "      <td>Total</td>\n",
              "      <td>3425.0</td>\n",
              "      <td>13887.0</td>\n",
              "      <td>0.1694</td>\n",
              "      <td>(2933.0/17312.0)</td>\n",
              "    </tr>\n",
              "  </tbody>\n",
              "</table>\n",
              "</div>"
            ],
            "text/plain": [
              "               0        1   Error               Rate\n",
              "0      0  2614.0   2122.0  0.4481    (2122.0/4736.0)\n",
              "1      1   811.0  11765.0  0.0645    (811.0/12576.0)\n",
              "2  Total  3425.0  13887.0  0.1694   (2933.0/17312.0)"
            ]
          },
          "metadata": {
            "tags": []
          }
        },
        {
          "output_type": "execute_result",
          "data": {
            "text/plain": [
              ""
            ]
          },
          "metadata": {
            "tags": []
          },
          "execution_count": 51
        }
      ]
    },
    {
      "cell_type": "code",
      "metadata": {
        "id": "qlA_cgNyzrra",
        "colab_type": "code",
        "colab": {}
      },
      "source": [
        "gbm_add_cols = H2OGradientBoostingEstimator(stopping_metric = \"AUC\", stopping_tolerance = 0.001,\n",
        "                                              stopping_rounds = 5, score_tree_interval = 10\n",
        "                                             )"
      ],
      "execution_count": 52,
      "outputs": []
    },
    {
      "cell_type": "code",
      "metadata": {
        "id": "1-J-QfiqzyMS",
        "colab_type": "code",
        "colab": {
          "base_uri": "https://localhost:8080/",
          "height": 34
        },
        "outputId": "17844f26-1a36-4f5e-dfb0-5510ffebf3dd"
      },
      "source": [
        "gbm_add_cols.train(x=['votes']+review_vecs.names, y='target', training_frame = h2o_train, validation_frame=h2o_valid)"
      ],
      "execution_count": 53,
      "outputs": [
        {
          "output_type": "stream",
          "text": [
            "gbm Model Build progress: |███████████████████████████████████████████████| 100%\n"
          ],
          "name": "stdout"
        }
      ]
    },
    {
      "cell_type": "code",
      "metadata": {
        "id": "4oxyzMHEz4UG",
        "colab_type": "code",
        "colab": {
          "base_uri": "https://localhost:8080/",
          "height": 34
        },
        "outputId": "34ebc81d-81b8-436c-a744-65ec15cc9fe7"
      },
      "source": [
        "print(\" Add Columns AUC: \" + str(round(gbm_add_cols.auc(valid = True), 3)))"
      ],
      "execution_count": 54,
      "outputs": [
        {
          "output_type": "stream",
          "text": [
            " Add Columns AUC: 0.876\n"
          ],
          "name": "stdout"
        }
      ]
    },
    {
      "cell_type": "code",
      "metadata": {
        "id": "OHyc08PXz7GD",
        "colab_type": "code",
        "colab": {
          "base_uri": "https://localhost:8080/",
          "height": 170
        },
        "outputId": "846ebc64-0331-4d49-f035-b3dd3978673e"
      },
      "source": [
        "gbm_add_cols.confusion_matrix(valid=True)"
      ],
      "execution_count": 55,
      "outputs": [
        {
          "output_type": "stream",
          "text": [
            "\n",
            "Confusion Matrix (Act/Pred) for max f1 @ threshold = 0.5102201757464332: \n"
          ],
          "name": "stdout"
        },
        {
          "output_type": "display_data",
          "data": {
            "text/html": [
              "<div>\n",
              "<style scoped>\n",
              "    .dataframe tbody tr th:only-of-type {\n",
              "        vertical-align: middle;\n",
              "    }\n",
              "\n",
              "    .dataframe tbody tr th {\n",
              "        vertical-align: top;\n",
              "    }\n",
              "\n",
              "    .dataframe thead th {\n",
              "        text-align: right;\n",
              "    }\n",
              "</style>\n",
              "<table border=\"1\" class=\"dataframe\">\n",
              "  <thead>\n",
              "    <tr style=\"text-align: right;\">\n",
              "      <th></th>\n",
              "      <th></th>\n",
              "      <th>0</th>\n",
              "      <th>1</th>\n",
              "      <th>Error</th>\n",
              "      <th>Rate</th>\n",
              "    </tr>\n",
              "  </thead>\n",
              "  <tbody>\n",
              "    <tr>\n",
              "      <th>0</th>\n",
              "      <td>0</td>\n",
              "      <td>2462.0</td>\n",
              "      <td>2274.0</td>\n",
              "      <td>0.4802</td>\n",
              "      <td>(2274.0/4736.0)</td>\n",
              "    </tr>\n",
              "    <tr>\n",
              "      <th>1</th>\n",
              "      <td>1</td>\n",
              "      <td>660.0</td>\n",
              "      <td>11916.0</td>\n",
              "      <td>0.0525</td>\n",
              "      <td>(660.0/12576.0)</td>\n",
              "    </tr>\n",
              "    <tr>\n",
              "      <th>2</th>\n",
              "      <td>Total</td>\n",
              "      <td>3122.0</td>\n",
              "      <td>14190.0</td>\n",
              "      <td>0.1695</td>\n",
              "      <td>(2934.0/17312.0)</td>\n",
              "    </tr>\n",
              "  </tbody>\n",
              "</table>\n",
              "</div>"
            ],
            "text/plain": [
              "               0        1   Error               Rate\n",
              "0      0  2462.0   2274.0  0.4802    (2274.0/4736.0)\n",
              "1      1   660.0  11916.0  0.0525    (660.0/12576.0)\n",
              "2  Total  3122.0  14190.0  0.1695   (2934.0/17312.0)"
            ]
          },
          "metadata": {
            "tags": []
          }
        },
        {
          "output_type": "execute_result",
          "data": {
            "text/plain": [
              ""
            ]
          },
          "metadata": {
            "tags": []
          },
          "execution_count": 55
        }
      ]
    },
    {
      "cell_type": "code",
      "metadata": {
        "id": "4ZuqfSYb0Ijc",
        "colab_type": "code",
        "colab": {}
      },
      "source": [
        "#Now adding headline column too, with our reviews\n",
        "headline_vecs = vec_model.transform(words_headline, aggregate_method = \"AVERAGE\")\n",
        "headline_vecs.names = [\"headline_\" + s for s in headline_vecs.names]"
      ],
      "execution_count": 57,
      "outputs": []
    },
    {
      "cell_type": "code",
      "metadata": {
        "id": "0A1bAMIJ6TjP",
        "colab_type": "code",
        "colab": {
          "base_uri": "https://localhost:8080/",
          "height": 258
        },
        "outputId": "c5bc112b-636e-4b30-ac47-4bae6345d718"
      },
      "source": [
        "headline_vecs.head()"
      ],
      "execution_count": 58,
      "outputs": [
        {
          "output_type": "display_data",
          "data": {
            "text/html": [
              "<table>\n",
              "<thead>\n",
              "<tr><th style=\"text-align: right;\">  headline_C1</th><th style=\"text-align: right;\">  headline_C2</th><th style=\"text-align: right;\">  headline_C3</th><th style=\"text-align: right;\">  headline_C4</th><th style=\"text-align: right;\">  headline_C5</th><th style=\"text-align: right;\">  headline_C6</th><th style=\"text-align: right;\">  headline_C7</th><th style=\"text-align: right;\">  headline_C8</th><th style=\"text-align: right;\">  headline_C9</th><th style=\"text-align: right;\">  headline_C10</th><th style=\"text-align: right;\">  headline_C11</th><th style=\"text-align: right;\">  headline_C12</th><th style=\"text-align: right;\">  headline_C13</th><th style=\"text-align: right;\">  headline_C14</th><th style=\"text-align: right;\">  headline_C15</th><th style=\"text-align: right;\">  headline_C16</th><th style=\"text-align: right;\">  headline_C17</th><th style=\"text-align: right;\">  headline_C18</th><th style=\"text-align: right;\">  headline_C19</th><th style=\"text-align: right;\">  headline_C20</th><th style=\"text-align: right;\">  headline_C21</th><th style=\"text-align: right;\">  headline_C22</th><th style=\"text-align: right;\">  headline_C23</th><th style=\"text-align: right;\">  headline_C24</th><th style=\"text-align: right;\">  headline_C25</th><th style=\"text-align: right;\">  headline_C26</th><th style=\"text-align: right;\">  headline_C27</th><th style=\"text-align: right;\">  headline_C28</th><th style=\"text-align: right;\">  headline_C29</th><th style=\"text-align: right;\">  headline_C30</th><th style=\"text-align: right;\">  headline_C31</th><th style=\"text-align: right;\">  headline_C32</th><th style=\"text-align: right;\">  headline_C33</th><th style=\"text-align: right;\">  headline_C34</th><th style=\"text-align: right;\">  headline_C35</th><th style=\"text-align: right;\">  headline_C36</th><th style=\"text-align: right;\">  headline_C37</th><th style=\"text-align: right;\">  headline_C38</th><th style=\"text-align: right;\">  headline_C39</th><th style=\"text-align: right;\">  headline_C40</th><th style=\"text-align: right;\">  headline_C41</th><th style=\"text-align: right;\">  headline_C42</th><th style=\"text-align: right;\">  headline_C43</th><th style=\"text-align: right;\">  headline_C44</th><th style=\"text-align: right;\">  headline_C45</th><th style=\"text-align: right;\">  headline_C46</th><th style=\"text-align: right;\">  headline_C47</th><th style=\"text-align: right;\">  headline_C48</th><th style=\"text-align: right;\">  headline_C49</th><th style=\"text-align: right;\">  headline_C50</th><th style=\"text-align: right;\">  headline_C51</th><th style=\"text-align: right;\">  headline_C52</th><th style=\"text-align: right;\">  headline_C53</th><th style=\"text-align: right;\">  headline_C54</th><th style=\"text-align: right;\">  headline_C55</th><th style=\"text-align: right;\">  headline_C56</th><th style=\"text-align: right;\">  headline_C57</th><th style=\"text-align: right;\">  headline_C58</th><th style=\"text-align: right;\">  headline_C59</th><th style=\"text-align: right;\">  headline_C60</th><th style=\"text-align: right;\">  headline_C61</th><th style=\"text-align: right;\">  headline_C62</th><th style=\"text-align: right;\">  headline_C63</th><th style=\"text-align: right;\">  headline_C64</th><th style=\"text-align: right;\">  headline_C65</th><th style=\"text-align: right;\">  headline_C66</th><th style=\"text-align: right;\">  headline_C67</th><th style=\"text-align: right;\">  headline_C68</th><th style=\"text-align: right;\">  headline_C69</th><th style=\"text-align: right;\">  headline_C70</th><th style=\"text-align: right;\">  headline_C71</th><th style=\"text-align: right;\">  headline_C72</th><th style=\"text-align: right;\">  headline_C73</th><th style=\"text-align: right;\">  headline_C74</th><th style=\"text-align: right;\">  headline_C75</th><th style=\"text-align: right;\">  headline_C76</th><th style=\"text-align: right;\">  headline_C77</th><th style=\"text-align: right;\">  headline_C78</th><th style=\"text-align: right;\">  headline_C79</th><th style=\"text-align: right;\">  headline_C80</th><th style=\"text-align: right;\">  headline_C81</th><th style=\"text-align: right;\">  headline_C82</th><th style=\"text-align: right;\">  headline_C83</th><th style=\"text-align: right;\">  headline_C84</th><th style=\"text-align: right;\">  headline_C85</th><th style=\"text-align: right;\">  headline_C86</th><th style=\"text-align: right;\">  headline_C87</th><th style=\"text-align: right;\">  headline_C88</th><th style=\"text-align: right;\">  headline_C89</th><th style=\"text-align: right;\">  headline_C90</th><th style=\"text-align: right;\">  headline_C91</th><th style=\"text-align: right;\">  headline_C92</th><th style=\"text-align: right;\">  headline_C93</th><th style=\"text-align: right;\">  headline_C94</th><th style=\"text-align: right;\">  headline_C95</th><th style=\"text-align: right;\">  headline_C96</th><th style=\"text-align: right;\">  headline_C97</th><th style=\"text-align: right;\">  headline_C98</th><th style=\"text-align: right;\">  headline_C99</th><th style=\"text-align: right;\">  headline_C100</th></tr>\n",
              "</thead>\n",
              "<tbody>\n",
              "<tr><td style=\"text-align: right;\">   -0.142587 </td><td style=\"text-align: right;\">  -0.207322  </td><td style=\"text-align: right;\">  -0.195126  </td><td style=\"text-align: right;\">   -0.0325131</td><td style=\"text-align: right;\">    0.122627 </td><td style=\"text-align: right;\">   -0.159321 </td><td style=\"text-align: right;\">    0.0811314</td><td style=\"text-align: right;\">   0.0242118 </td><td style=\"text-align: right;\">  -0.0598186 </td><td style=\"text-align: right;\">     0.0263764</td><td style=\"text-align: right;\">     0.171613 </td><td style=\"text-align: right;\">    -0.0666216</td><td style=\"text-align: right;\">     0.0211528</td><td style=\"text-align: right;\">    0.0135981 </td><td style=\"text-align: right;\">     0.369783 </td><td style=\"text-align: right;\">    -0.0611427</td><td style=\"text-align: right;\">     0.0640624</td><td style=\"text-align: right;\">   -0.298975  </td><td style=\"text-align: right;\">    -0.140003 </td><td style=\"text-align: right;\">   -0.253817  </td><td style=\"text-align: right;\">   0.0232456  </td><td style=\"text-align: right;\">     0.19695  </td><td style=\"text-align: right;\">    -0.166394 </td><td style=\"text-align: right;\">    -0.114844 </td><td style=\"text-align: right;\">     0.0958868</td><td style=\"text-align: right;\">    -0.053698 </td><td style=\"text-align: right;\">    -0.064121 </td><td style=\"text-align: right;\">    0.00901843</td><td style=\"text-align: right;\">   -0.0151919 </td><td style=\"text-align: right;\">   -0.00335059</td><td style=\"text-align: right;\">    -0.0445504</td><td style=\"text-align: right;\">   -0.0869199 </td><td style=\"text-align: right;\">    -0.259502 </td><td style=\"text-align: right;\">     0.0412746</td><td style=\"text-align: right;\">     0.0839988</td><td style=\"text-align: right;\">   -0.00690481</td><td style=\"text-align: right;\">   -0.0707252 </td><td style=\"text-align: right;\">   -0.00110433</td><td style=\"text-align: right;\">     0.0260201</td><td style=\"text-align: right;\">     0.0416519</td><td style=\"text-align: right;\">    -0.0135374</td><td style=\"text-align: right;\">    0.0614546 </td><td style=\"text-align: right;\">     0.114449 </td><td style=\"text-align: right;\">     0.110345 </td><td style=\"text-align: right;\">    -0.13459  </td><td style=\"text-align: right;\">    0.110868  </td><td style=\"text-align: right;\">     0.202625 </td><td style=\"text-align: right;\">    -0.0145109</td><td style=\"text-align: right;\">     0.133143 </td><td style=\"text-align: right;\">  -0.105128   </td><td style=\"text-align: right;\">    -0.108121 </td><td style=\"text-align: right;\">     0.266922 </td><td style=\"text-align: right;\">    0.110269  </td><td style=\"text-align: right;\">    0.060982  </td><td style=\"text-align: right;\">    -0.259914 </td><td style=\"text-align: right;\">    -0.0229419</td><td style=\"text-align: right;\">    -0.123633 </td><td style=\"text-align: right;\">    -0.0455505</td><td style=\"text-align: right;\">    -0.127575 </td><td style=\"text-align: right;\">   0.0565086  </td><td style=\"text-align: right;\">     0.0841078</td><td style=\"text-align: right;\">     0.100052 </td><td style=\"text-align: right;\">    0.14793   </td><td style=\"text-align: right;\">    -0.0425709</td><td style=\"text-align: right;\">     -0.169272</td><td style=\"text-align: right;\">    -0.105317 </td><td style=\"text-align: right;\">    -0.178574 </td><td style=\"text-align: right;\">     0.194598 </td><td style=\"text-align: right;\">   -0.0232016 </td><td style=\"text-align: right;\">    -0.0366197</td><td style=\"text-align: right;\">    -0.0084299</td><td style=\"text-align: right;\">    -0.138595 </td><td style=\"text-align: right;\">   -0.190717  </td><td style=\"text-align: right;\">     0.177817 </td><td style=\"text-align: right;\">    -0.358321 </td><td style=\"text-align: right;\">  -0.0456243  </td><td style=\"text-align: right;\">     0.0944748</td><td style=\"text-align: right;\">     0.0912351</td><td style=\"text-align: right;\">  -0.0984684  </td><td style=\"text-align: right;\">    0.0193783 </td><td style=\"text-align: right;\">     0.089072 </td><td style=\"text-align: right;\">    -0.109828 </td><td style=\"text-align: right;\">     0.16155  </td><td style=\"text-align: right;\">    -0.111235 </td><td style=\"text-align: right;\">   -0.183754  </td><td style=\"text-align: right;\">     0.090618 </td><td style=\"text-align: right;\">     0.0629192</td><td style=\"text-align: right;\">     0.203456 </td><td style=\"text-align: right;\">    -0.234743 </td><td style=\"text-align: right;\">     0.121867 </td><td style=\"text-align: right;\">    -0.145015 </td><td style=\"text-align: right;\">   -0.0483539 </td><td style=\"text-align: right;\">    -0.206076 </td><td style=\"text-align: right;\">     0.107533 </td><td style=\"text-align: right;\">    -0.154065 </td><td style=\"text-align: right;\">   -0.0986274 </td><td style=\"text-align: right;\">   -0.00810617</td><td style=\"text-align: right;\">     0.028561 </td><td style=\"text-align: right;\">     0.0222094</td><td style=\"text-align: right;\">     -0.0308867</td></tr>\n",
              "<tr><td style=\"text-align: right;\">   -0.0753051</td><td style=\"text-align: right;\">  -0.029736  </td><td style=\"text-align: right;\">  -0.0866247 </td><td style=\"text-align: right;\">    0.0452243</td><td style=\"text-align: right;\">   -0.171942 </td><td style=\"text-align: right;\">   -0.234882 </td><td style=\"text-align: right;\">   -0.232682 </td><td style=\"text-align: right;\">  -0.106724  </td><td style=\"text-align: right;\">  -0.0975142 </td><td style=\"text-align: right;\">    -0.169541 </td><td style=\"text-align: right;\">    -0.0493916</td><td style=\"text-align: right;\">     0.118106 </td><td style=\"text-align: right;\">     0.164532 </td><td style=\"text-align: right;\">    0.0607037 </td><td style=\"text-align: right;\">     0.221974 </td><td style=\"text-align: right;\">    -0.0457913</td><td style=\"text-align: right;\">     0.108774 </td><td style=\"text-align: right;\">    0.100701  </td><td style=\"text-align: right;\">    -0.0942214</td><td style=\"text-align: right;\">   -0.178402  </td><td style=\"text-align: right;\">  -0.107356   </td><td style=\"text-align: right;\">     0.0474268</td><td style=\"text-align: right;\">     0.0787934</td><td style=\"text-align: right;\">     0.0677089</td><td style=\"text-align: right;\">     0.0632699</td><td style=\"text-align: right;\">    -0.17356  </td><td style=\"text-align: right;\">    -0.266976 </td><td style=\"text-align: right;\">   -0.0970447 </td><td style=\"text-align: right;\">   -0.00549366</td><td style=\"text-align: right;\">    0.158572  </td><td style=\"text-align: right;\">    -0.0623787</td><td style=\"text-align: right;\">    0.18733   </td><td style=\"text-align: right;\">     0.0645387</td><td style=\"text-align: right;\">     0.0351733</td><td style=\"text-align: right;\">     0.0461669</td><td style=\"text-align: right;\">    0.0571764 </td><td style=\"text-align: right;\">    0.105794  </td><td style=\"text-align: right;\">   -0.116249  </td><td style=\"text-align: right;\">     0.0736771</td><td style=\"text-align: right;\">     0.0693784</td><td style=\"text-align: right;\">    -0.19697  </td><td style=\"text-align: right;\">    0.0226191 </td><td style=\"text-align: right;\">    -0.0385749</td><td style=\"text-align: right;\">     0.0907388</td><td style=\"text-align: right;\">    -0.0842025</td><td style=\"text-align: right;\">    0.0144077 </td><td style=\"text-align: right;\">     0.170383 </td><td style=\"text-align: right;\">    -0.208389 </td><td style=\"text-align: right;\">     0.0431261</td><td style=\"text-align: right;\">   0.0854874  </td><td style=\"text-align: right;\">     0.0143755</td><td style=\"text-align: right;\">     0.0766355</td><td style=\"text-align: right;\">    0.0404916 </td><td style=\"text-align: right;\">   -0.0246873 </td><td style=\"text-align: right;\">    -0.149412 </td><td style=\"text-align: right;\">    -0.11319  </td><td style=\"text-align: right;\">    -0.271795 </td><td style=\"text-align: right;\">     0.0803647</td><td style=\"text-align: right;\">    -0.0941988</td><td style=\"text-align: right;\">  -0.0657854  </td><td style=\"text-align: right;\">     0.0594988</td><td style=\"text-align: right;\">    -0.0483363</td><td style=\"text-align: right;\">    0.0152341 </td><td style=\"text-align: right;\">     0.0388135</td><td style=\"text-align: right;\">     -0.251932</td><td style=\"text-align: right;\">     0.133531 </td><td style=\"text-align: right;\">    -0.0275767</td><td style=\"text-align: right;\">    -0.0160121</td><td style=\"text-align: right;\">    0.0303643 </td><td style=\"text-align: right;\">    -0.101131 </td><td style=\"text-align: right;\">    -0.0414314</td><td style=\"text-align: right;\">     0.0351777</td><td style=\"text-align: right;\">   -0.0884434 </td><td style=\"text-align: right;\">     0.0747404</td><td style=\"text-align: right;\">    -0.243366 </td><td style=\"text-align: right;\">  -0.0620985  </td><td style=\"text-align: right;\">     0.168957 </td><td style=\"text-align: right;\">    -0.0246683</td><td style=\"text-align: right;\">  -0.0950542  </td><td style=\"text-align: right;\">    0.191417  </td><td style=\"text-align: right;\">     0.0586529</td><td style=\"text-align: right;\">    -0.128473 </td><td style=\"text-align: right;\">    -0.0367326</td><td style=\"text-align: right;\">    -0.158696 </td><td style=\"text-align: right;\">    0.0386317 </td><td style=\"text-align: right;\">    -0.161553 </td><td style=\"text-align: right;\">     0.200769 </td><td style=\"text-align: right;\">     0.100733 </td><td style=\"text-align: right;\">     0.0248522</td><td style=\"text-align: right;\">     0.194724 </td><td style=\"text-align: right;\">    -0.257885 </td><td style=\"text-align: right;\">    0.0225525 </td><td style=\"text-align: right;\">    -0.0999832</td><td style=\"text-align: right;\">     0.009002 </td><td style=\"text-align: right;\">    -0.0804036</td><td style=\"text-align: right;\">    0.0642708 </td><td style=\"text-align: right;\">    0.0790278 </td><td style=\"text-align: right;\">     0.0594839</td><td style=\"text-align: right;\">     0.217891 </td><td style=\"text-align: right;\">      0.0848228</td></tr>\n",
              "<tr><td style=\"text-align: right;\">    0.0159858</td><td style=\"text-align: right;\">  -0.130099  </td><td style=\"text-align: right;\">  -0.292608  </td><td style=\"text-align: right;\">    0.136071 </td><td style=\"text-align: right;\">    0.0495401</td><td style=\"text-align: right;\">   -0.0165489</td><td style=\"text-align: right;\">    0.037489 </td><td style=\"text-align: right;\">  -0.0100392 </td><td style=\"text-align: right;\">   0.0243967 </td><td style=\"text-align: right;\">     0.0676814</td><td style=\"text-align: right;\">     0.136345 </td><td style=\"text-align: right;\">    -0.102295 </td><td style=\"text-align: right;\">     0.117749 </td><td style=\"text-align: right;\">    0.035015  </td><td style=\"text-align: right;\">     0.0553645</td><td style=\"text-align: right;\">     0.13658  </td><td style=\"text-align: right;\">    -0.128237 </td><td style=\"text-align: right;\">   -0.0225042 </td><td style=\"text-align: right;\">    -0.0781563</td><td style=\"text-align: right;\">   -0.0813458 </td><td style=\"text-align: right;\">  -0.195139   </td><td style=\"text-align: right;\">     0.0510913</td><td style=\"text-align: right;\">    -0.177928 </td><td style=\"text-align: right;\">     0.18862  </td><td style=\"text-align: right;\">     0.177182 </td><td style=\"text-align: right;\">     0.0338801</td><td style=\"text-align: right;\">    -0.034505 </td><td style=\"text-align: right;\">   -0.0894634 </td><td style=\"text-align: right;\">    0.0867028 </td><td style=\"text-align: right;\">   -0.200403  </td><td style=\"text-align: right;\">    -0.111456 </td><td style=\"text-align: right;\">   -0.00582913</td><td style=\"text-align: right;\">    -0.369416 </td><td style=\"text-align: right;\">    -0.0566374</td><td style=\"text-align: right;\">     0.33573  </td><td style=\"text-align: right;\">   -0.0963549 </td><td style=\"text-align: right;\">    0.00683951</td><td style=\"text-align: right;\">   -0.140458  </td><td style=\"text-align: right;\">    -0.12345  </td><td style=\"text-align: right;\">     0.279402 </td><td style=\"text-align: right;\">    -0.244301 </td><td style=\"text-align: right;\">   -0.0503962 </td><td style=\"text-align: right;\">    -0.13131  </td><td style=\"text-align: right;\">     0.0326477</td><td style=\"text-align: right;\">    -0.153764 </td><td style=\"text-align: right;\">   -0.00215324</td><td style=\"text-align: right;\">     0.351761 </td><td style=\"text-align: right;\">    -0.0759095</td><td style=\"text-align: right;\">     0.19855  </td><td style=\"text-align: right;\">  -0.0247263  </td><td style=\"text-align: right;\">     0.243996 </td><td style=\"text-align: right;\">     0.0281044</td><td style=\"text-align: right;\">    0.0848695 </td><td style=\"text-align: right;\">    0.00600712</td><td style=\"text-align: right;\">    -0.176672 </td><td style=\"text-align: right;\">    -0.047064 </td><td style=\"text-align: right;\">    -0.245033 </td><td style=\"text-align: right;\">    -0.206481 </td><td style=\"text-align: right;\">     0.093054 </td><td style=\"text-align: right;\">  -0.148778   </td><td style=\"text-align: right;\">     0.0487734</td><td style=\"text-align: right;\">     0.112229 </td><td style=\"text-align: right;\">    0.234467  </td><td style=\"text-align: right;\">    -0.0106185</td><td style=\"text-align: right;\">      0.011115</td><td style=\"text-align: right;\">    -0.098115 </td><td style=\"text-align: right;\">    -0.102227 </td><td style=\"text-align: right;\">     0.0624942</td><td style=\"text-align: right;\">    0.00558738</td><td style=\"text-align: right;\">    -0.0430058</td><td style=\"text-align: right;\">    -0.0981975</td><td style=\"text-align: right;\">    -0.195521 </td><td style=\"text-align: right;\">   -0.0232906 </td><td style=\"text-align: right;\">     0.151758 </td><td style=\"text-align: right;\">     0.0803685</td><td style=\"text-align: right;\">  -0.0401689  </td><td style=\"text-align: right;\">     0.132255 </td><td style=\"text-align: right;\">     0.190483 </td><td style=\"text-align: right;\">  -0.158525   </td><td style=\"text-align: right;\">   -0.0120377 </td><td style=\"text-align: right;\">     0.0683431</td><td style=\"text-align: right;\">    -0.176084 </td><td style=\"text-align: right;\">     0.154417 </td><td style=\"text-align: right;\">    -0.0981588</td><td style=\"text-align: right;\">   -0.104148  </td><td style=\"text-align: right;\">    -0.280725 </td><td style=\"text-align: right;\">     0.331379 </td><td style=\"text-align: right;\">     0.315097 </td><td style=\"text-align: right;\">    -0.21498  </td><td style=\"text-align: right;\">     0.147214 </td><td style=\"text-align: right;\">    -0.0787417</td><td style=\"text-align: right;\">    0.190093  </td><td style=\"text-align: right;\">    -0.20008  </td><td style=\"text-align: right;\">     0.0708431</td><td style=\"text-align: right;\">    -0.0808615</td><td style=\"text-align: right;\">   -0.295076  </td><td style=\"text-align: right;\">    0.0470871 </td><td style=\"text-align: right;\">     0.0862201</td><td style=\"text-align: right;\">    -0.0588466</td><td style=\"text-align: right;\">     -0.241196 </td></tr>\n",
              "<tr><td style=\"text-align: right;\">   -0.163492 </td><td style=\"text-align: right;\">   0.227906  </td><td style=\"text-align: right;\">   0.343718  </td><td style=\"text-align: right;\">    0.115404 </td><td style=\"text-align: right;\">    0.099769 </td><td style=\"text-align: right;\">    0.317651 </td><td style=\"text-align: right;\">    0.169797 </td><td style=\"text-align: right;\">  -0.144071  </td><td style=\"text-align: right;\">  -0.0637036 </td><td style=\"text-align: right;\">    -0.198106 </td><td style=\"text-align: right;\">     0.185684 </td><td style=\"text-align: right;\">     0.20869  </td><td style=\"text-align: right;\">    -0.103908 </td><td style=\"text-align: right;\">    0.00807382</td><td style=\"text-align: right;\">    -0.0879187</td><td style=\"text-align: right;\">     0.256705 </td><td style=\"text-align: right;\">     0.0984654</td><td style=\"text-align: right;\">   -0.330611  </td><td style=\"text-align: right;\">    -0.0211544</td><td style=\"text-align: right;\">   -0.108807  </td><td style=\"text-align: right;\">   0.0193155  </td><td style=\"text-align: right;\">     0.0444877</td><td style=\"text-align: right;\">    -0.0887004</td><td style=\"text-align: right;\">    -0.0831728</td><td style=\"text-align: right;\">     0.262776 </td><td style=\"text-align: right;\">     0.0554914</td><td style=\"text-align: right;\">    -0.394176 </td><td style=\"text-align: right;\">    0.0436384 </td><td style=\"text-align: right;\">   -0.253982  </td><td style=\"text-align: right;\">    0.097633  </td><td style=\"text-align: right;\">     0.110637 </td><td style=\"text-align: right;\">    0.0311873 </td><td style=\"text-align: right;\">     0.2647   </td><td style=\"text-align: right;\">     0.289807 </td><td style=\"text-align: right;\">     0.0534869</td><td style=\"text-align: right;\">   -0.58494   </td><td style=\"text-align: right;\">    0.210906  </td><td style=\"text-align: right;\">    0.194954  </td><td style=\"text-align: right;\">     0.0737826</td><td style=\"text-align: right;\">     0.0803208</td><td style=\"text-align: right;\">    -0.323545 </td><td style=\"text-align: right;\">    0.231497  </td><td style=\"text-align: right;\">     0.299723 </td><td style=\"text-align: right;\">     0.165013 </td><td style=\"text-align: right;\">    -0.112519 </td><td style=\"text-align: right;\">   -0.0598674 </td><td style=\"text-align: right;\">     0.180259 </td><td style=\"text-align: right;\">    -0.112975 </td><td style=\"text-align: right;\">    -0.0708379</td><td style=\"text-align: right;\">  -0.0254223  </td><td style=\"text-align: right;\">    -0.165732 </td><td style=\"text-align: right;\">     0.152686 </td><td style=\"text-align: right;\">    0.069473  </td><td style=\"text-align: right;\">   -0.0987884 </td><td style=\"text-align: right;\">    -0.253572 </td><td style=\"text-align: right;\">    -0.0820571</td><td style=\"text-align: right;\">    -0.402326 </td><td style=\"text-align: right;\">     0.0570955</td><td style=\"text-align: right;\">    -0.181198 </td><td style=\"text-align: right;\">  -0.478283   </td><td style=\"text-align: right;\">    -0.263315 </td><td style=\"text-align: right;\">     0.280114 </td><td style=\"text-align: right;\">    0.00972638</td><td style=\"text-align: right;\">    -0.108035 </td><td style=\"text-align: right;\">      0.54481 </td><td style=\"text-align: right;\">    -0.030762 </td><td style=\"text-align: right;\">    -0.148161 </td><td style=\"text-align: right;\">    -0.0645242</td><td style=\"text-align: right;\">   -0.0651717 </td><td style=\"text-align: right;\">    -0.0786369</td><td style=\"text-align: right;\">     0.169278 </td><td style=\"text-align: right;\">    -0.636376 </td><td style=\"text-align: right;\">   -0.013607  </td><td style=\"text-align: right;\">     0.200184 </td><td style=\"text-align: right;\">    -0.379153 </td><td style=\"text-align: right;\">  -0.127044   </td><td style=\"text-align: right;\">     0.0323053</td><td style=\"text-align: right;\">    -0.305556 </td><td style=\"text-align: right;\">   0.0697777  </td><td style=\"text-align: right;\">   -0.145857  </td><td style=\"text-align: right;\">     0.19429  </td><td style=\"text-align: right;\">    -0.126272 </td><td style=\"text-align: right;\">    -0.126947 </td><td style=\"text-align: right;\">     0.0617282</td><td style=\"text-align: right;\">   -0.340992  </td><td style=\"text-align: right;\">     0.161228 </td><td style=\"text-align: right;\">     0.234744 </td><td style=\"text-align: right;\">    -0.0791148</td><td style=\"text-align: right;\">     0.245406 </td><td style=\"text-align: right;\">     0.373384 </td><td style=\"text-align: right;\">    -0.377758 </td><td style=\"text-align: right;\">   -0.233728  </td><td style=\"text-align: right;\">    -0.0925465</td><td style=\"text-align: right;\">    -0.0903181</td><td style=\"text-align: right;\">     0.438945 </td><td style=\"text-align: right;\">   -0.221212  </td><td style=\"text-align: right;\">    0.412024  </td><td style=\"text-align: right;\">     0.547271 </td><td style=\"text-align: right;\">     0.367762 </td><td style=\"text-align: right;\">      0.267793 </td></tr>\n",
              "<tr><td style=\"text-align: right;\">    0.120979 </td><td style=\"text-align: right;\">   0.0829748 </td><td style=\"text-align: right;\">   0.00620563</td><td style=\"text-align: right;\">    0.235714 </td><td style=\"text-align: right;\">    0.139916 </td><td style=\"text-align: right;\">   -0.106569 </td><td style=\"text-align: right;\">    0.148907 </td><td style=\"text-align: right;\">  -0.186155  </td><td style=\"text-align: right;\">   0.00624897</td><td style=\"text-align: right;\">    -0.238608 </td><td style=\"text-align: right;\">     0.0501071</td><td style=\"text-align: right;\">     0.219891 </td><td style=\"text-align: right;\">    -0.0231906</td><td style=\"text-align: right;\">    0.0311765 </td><td style=\"text-align: right;\">     0.0715004</td><td style=\"text-align: right;\">    -0.212322 </td><td style=\"text-align: right;\">     0.0430828</td><td style=\"text-align: right;\">    0.0502371 </td><td style=\"text-align: right;\">     0.0219896</td><td style=\"text-align: right;\">   -0.18375   </td><td style=\"text-align: right;\">  -0.000593603</td><td style=\"text-align: right;\">    -0.125209 </td><td style=\"text-align: right;\">     0.126269 </td><td style=\"text-align: right;\">    -0.0149627</td><td style=\"text-align: right;\">    -0.102425 </td><td style=\"text-align: right;\">     0.322089 </td><td style=\"text-align: right;\">    -0.103639 </td><td style=\"text-align: right;\">   -0.0578406 </td><td style=\"text-align: right;\">    0.00515002</td><td style=\"text-align: right;\">   -0.0602323 </td><td style=\"text-align: right;\">     0.124229 </td><td style=\"text-align: right;\">    0.00584132</td><td style=\"text-align: right;\">    -0.0704987</td><td style=\"text-align: right;\">    -0.069396 </td><td style=\"text-align: right;\">    -0.116577 </td><td style=\"text-align: right;\">   -0.236966  </td><td style=\"text-align: right;\">   -0.113808  </td><td style=\"text-align: right;\">    0.120964  </td><td style=\"text-align: right;\">     0.0161592</td><td style=\"text-align: right;\">     0.0663608</td><td style=\"text-align: right;\">     0.103697 </td><td style=\"text-align: right;\">   -0.0189221 </td><td style=\"text-align: right;\">     0.252153 </td><td style=\"text-align: right;\">     0.207364 </td><td style=\"text-align: right;\">     0.141745 </td><td style=\"text-align: right;\">    0.14385   </td><td style=\"text-align: right;\">    -0.0545072</td><td style=\"text-align: right;\">     0.072775 </td><td style=\"text-align: right;\">    -0.101649 </td><td style=\"text-align: right;\">  -0.000393887</td><td style=\"text-align: right;\">    -0.103998 </td><td style=\"text-align: right;\">     0.117507 </td><td style=\"text-align: right;\">    0.0246566 </td><td style=\"text-align: right;\">   -0.00938989</td><td style=\"text-align: right;\">    -0.162575 </td><td style=\"text-align: right;\">    -0.025051 </td><td style=\"text-align: right;\">    -0.182779 </td><td style=\"text-align: right;\">     0.0190634</td><td style=\"text-align: right;\">    -0.0272356</td><td style=\"text-align: right;\">  -0.332022   </td><td style=\"text-align: right;\">    -0.0132634</td><td style=\"text-align: right;\">     0.0846195</td><td style=\"text-align: right;\">    0.0595077 </td><td style=\"text-align: right;\">     0.0575317</td><td style=\"text-align: right;\">     -0.1298  </td><td style=\"text-align: right;\">    -0.0796421</td><td style=\"text-align: right;\">    -0.0477919</td><td style=\"text-align: right;\">     0.211294 </td><td style=\"text-align: right;\">   -0.0115874 </td><td style=\"text-align: right;\">    -0.152123 </td><td style=\"text-align: right;\">     0.158317 </td><td style=\"text-align: right;\">    -0.0646823</td><td style=\"text-align: right;\">   -0.134587  </td><td style=\"text-align: right;\">     0.105937 </td><td style=\"text-align: right;\">     0.0259681</td><td style=\"text-align: right;\">  -0.13421    </td><td style=\"text-align: right;\">     0.09089  </td><td style=\"text-align: right;\">    -0.0902111</td><td style=\"text-align: right;\">  -0.222519   </td><td style=\"text-align: right;\">    0.193557  </td><td style=\"text-align: right;\">     0.130661 </td><td style=\"text-align: right;\">    -0.128633 </td><td style=\"text-align: right;\">     0.0834356</td><td style=\"text-align: right;\">    -0.0995167</td><td style=\"text-align: right;\">   -0.266671  </td><td style=\"text-align: right;\">     0.105102 </td><td style=\"text-align: right;\">     0.0167775</td><td style=\"text-align: right;\">     0.107398 </td><td style=\"text-align: right;\">    -0.2842   </td><td style=\"text-align: right;\">     0.112822 </td><td style=\"text-align: right;\">    -0.152263 </td><td style=\"text-align: right;\">   -0.00529977</td><td style=\"text-align: right;\">     0.0379796</td><td style=\"text-align: right;\">     0.544932 </td><td style=\"text-align: right;\">    -0.250814 </td><td style=\"text-align: right;\">   -0.117135  </td><td style=\"text-align: right;\">   -0.101536  </td><td style=\"text-align: right;\">     0.217794 </td><td style=\"text-align: right;\">     0.254569 </td><td style=\"text-align: right;\">      0.119594 </td></tr>\n",
              "<tr><td style=\"text-align: right;\">   -0.140626 </td><td style=\"text-align: right;\">  -0.25491   </td><td style=\"text-align: right;\">  -0.11924   </td><td style=\"text-align: right;\">    0.260664 </td><td style=\"text-align: right;\">    0.246141 </td><td style=\"text-align: right;\">   -0.0687733</td><td style=\"text-align: right;\">   -0.195607 </td><td style=\"text-align: right;\">  -0.0318834 </td><td style=\"text-align: right;\">  -0.0679092 </td><td style=\"text-align: right;\">    -0.113408 </td><td style=\"text-align: right;\">     0.208079 </td><td style=\"text-align: right;\">     0.0576236</td><td style=\"text-align: right;\">     0.0844069</td><td style=\"text-align: right;\">   -0.0292689 </td><td style=\"text-align: right;\">     0.203864 </td><td style=\"text-align: right;\">    -0.158849 </td><td style=\"text-align: right;\">    -0.0546527</td><td style=\"text-align: right;\">    0.0428316 </td><td style=\"text-align: right;\">    -0.0729102</td><td style=\"text-align: right;\">   -0.155115  </td><td style=\"text-align: right;\">  -0.0505295  </td><td style=\"text-align: right;\">     0.0923113</td><td style=\"text-align: right;\">     0.0218914</td><td style=\"text-align: right;\">    -0.130164 </td><td style=\"text-align: right;\">     0.0657225</td><td style=\"text-align: right;\">    -0.0133251</td><td style=\"text-align: right;\">    -0.0839259</td><td style=\"text-align: right;\">   -0.0268477 </td><td style=\"text-align: right;\">   -0.0480479 </td><td style=\"text-align: right;\">    0.11718   </td><td style=\"text-align: right;\">     0.0853756</td><td style=\"text-align: right;\">   -0.0336284 </td><td style=\"text-align: right;\">    -0.119251 </td><td style=\"text-align: right;\">     0.0119533</td><td style=\"text-align: right;\">     0.0807213</td><td style=\"text-align: right;\">   -0.0318277 </td><td style=\"text-align: right;\">   -0.223547  </td><td style=\"text-align: right;\">   -0.0859483 </td><td style=\"text-align: right;\">    -0.0152153</td><td style=\"text-align: right;\">     0.171051 </td><td style=\"text-align: right;\">    -0.156245 </td><td style=\"text-align: right;\">    0.0603891 </td><td style=\"text-align: right;\">    -0.0218855</td><td style=\"text-align: right;\">     0.034061 </td><td style=\"text-align: right;\">    -0.0393275</td><td style=\"text-align: right;\">    0.0234857 </td><td style=\"text-align: right;\">     0.0411991</td><td style=\"text-align: right;\">     0.0732481</td><td style=\"text-align: right;\">     0.0949444</td><td style=\"text-align: right;\">  -0.0903191  </td><td style=\"text-align: right;\">     0.0279208</td><td style=\"text-align: right;\">     0.104066 </td><td style=\"text-align: right;\">    0.0842026 </td><td style=\"text-align: right;\">   -0.0799557 </td><td style=\"text-align: right;\">    -0.0171494</td><td style=\"text-align: right;\">     0.189929 </td><td style=\"text-align: right;\">    -0.0814502</td><td style=\"text-align: right;\">    -0.101632 </td><td style=\"text-align: right;\">    -0.0416616</td><td style=\"text-align: right;\">   0.074845   </td><td style=\"text-align: right;\">     0.0791772</td><td style=\"text-align: right;\">     0.059109 </td><td style=\"text-align: right;\">    0.156143  </td><td style=\"text-align: right;\">     0.0649848</td><td style=\"text-align: right;\">     -0.233657</td><td style=\"text-align: right;\">     0.0540461</td><td style=\"text-align: right;\">     0.151241 </td><td style=\"text-align: right;\">     0.173787 </td><td style=\"text-align: right;\">   -0.0857801 </td><td style=\"text-align: right;\">    -0.0572734</td><td style=\"text-align: right;\">     0.032547 </td><td style=\"text-align: right;\">    -0.185388 </td><td style=\"text-align: right;\">    0.00178564</td><td style=\"text-align: right;\">     0.0544838</td><td style=\"text-align: right;\">    -0.0914003</td><td style=\"text-align: right;\">  -0.0677825  </td><td style=\"text-align: right;\">     0.0110373</td><td style=\"text-align: right;\">     0.11155  </td><td style=\"text-align: right;\">  -0.000485164</td><td style=\"text-align: right;\">    0.00368561</td><td style=\"text-align: right;\">     0.0937775</td><td style=\"text-align: right;\">    -0.0323634</td><td style=\"text-align: right;\">     0.0139231</td><td style=\"text-align: right;\">    -0.0658518</td><td style=\"text-align: right;\">   -0.0951342 </td><td style=\"text-align: right;\">    -0.0833336</td><td style=\"text-align: right;\">     0.266806 </td><td style=\"text-align: right;\">     0.0166819</td><td style=\"text-align: right;\">    -0.0197855</td><td style=\"text-align: right;\">     0.196836 </td><td style=\"text-align: right;\">    -0.217558 </td><td style=\"text-align: right;\">    0.0452936 </td><td style=\"text-align: right;\">    -0.0912337</td><td style=\"text-align: right;\">     0.175194 </td><td style=\"text-align: right;\">    -0.038956 </td><td style=\"text-align: right;\">   -0.0210938 </td><td style=\"text-align: right;\">    0.171683  </td><td style=\"text-align: right;\">    -0.0604218</td><td style=\"text-align: right;\">     0.0554926</td><td style=\"text-align: right;\">      0.177162 </td></tr>\n",
              "<tr><td style=\"text-align: right;\">    0.299311 </td><td style=\"text-align: right;\">   0.0232813 </td><td style=\"text-align: right;\">  -0.431845  </td><td style=\"text-align: right;\">    0.0317446</td><td style=\"text-align: right;\">    0.0318922</td><td style=\"text-align: right;\">   -0.131417 </td><td style=\"text-align: right;\">   -0.0809407</td><td style=\"text-align: right;\">   0.243573  </td><td style=\"text-align: right;\">  -0.0385871 </td><td style=\"text-align: right;\">    -0.269517 </td><td style=\"text-align: right;\">    -0.189584 </td><td style=\"text-align: right;\">    -0.0964828</td><td style=\"text-align: right;\">     0.0386357</td><td style=\"text-align: right;\">    0.122704  </td><td style=\"text-align: right;\">     0.10685  </td><td style=\"text-align: right;\">     0.10513  </td><td style=\"text-align: right;\">     0.0733714</td><td style=\"text-align: right;\">   -0.304302  </td><td style=\"text-align: right;\">    -0.159484 </td><td style=\"text-align: right;\">    0.140032  </td><td style=\"text-align: right;\">   0.112795   </td><td style=\"text-align: right;\">     0.0167339</td><td style=\"text-align: right;\">    -0.0493411</td><td style=\"text-align: right;\">    -0.0643649</td><td style=\"text-align: right;\">     0.0345789</td><td style=\"text-align: right;\">     0.0114013</td><td style=\"text-align: right;\">     0.265888 </td><td style=\"text-align: right;\">   -0.213838  </td><td style=\"text-align: right;\">    0.0406624 </td><td style=\"text-align: right;\">   -0.144165  </td><td style=\"text-align: right;\">     0.215478 </td><td style=\"text-align: right;\">    0.0630156 </td><td style=\"text-align: right;\">     0.267403 </td><td style=\"text-align: right;\">     0.165976 </td><td style=\"text-align: right;\">     0.181256 </td><td style=\"text-align: right;\">   -0.0700189 </td><td style=\"text-align: right;\">   -0.291373  </td><td style=\"text-align: right;\">   -0.339512  </td><td style=\"text-align: right;\">     0.0986073</td><td style=\"text-align: right;\">    -0.0374243</td><td style=\"text-align: right;\">    -0.338471 </td><td style=\"text-align: right;\">    0.225302  </td><td style=\"text-align: right;\">    -0.170626 </td><td style=\"text-align: right;\">     0.11854  </td><td style=\"text-align: right;\">    -0.11664  </td><td style=\"text-align: right;\">   -0.105014  </td><td style=\"text-align: right;\">     0.19124  </td><td style=\"text-align: right;\">     0.0472556</td><td style=\"text-align: right;\">    -0.149348 </td><td style=\"text-align: right;\">   0.0229902  </td><td style=\"text-align: right;\">     0.0481453</td><td style=\"text-align: right;\">     0.223754 </td><td style=\"text-align: right;\">   -0.0306592 </td><td style=\"text-align: right;\">   -0.25777   </td><td style=\"text-align: right;\">    -0.293906 </td><td style=\"text-align: right;\">     0.493481 </td><td style=\"text-align: right;\">    -0.0765686</td><td style=\"text-align: right;\">    -0.265361 </td><td style=\"text-align: right;\">     0.0631294</td><td style=\"text-align: right;\">  -0.128462   </td><td style=\"text-align: right;\">     0.214689 </td><td style=\"text-align: right;\">     0.154513 </td><td style=\"text-align: right;\">    0.146466  </td><td style=\"text-align: right;\">    -0.143243 </td><td style=\"text-align: right;\">      0.198576</td><td style=\"text-align: right;\">     0.0250991</td><td style=\"text-align: right;\">     0.214719 </td><td style=\"text-align: right;\">     0.137103 </td><td style=\"text-align: right;\">    0.44273   </td><td style=\"text-align: right;\">     0.258633 </td><td style=\"text-align: right;\">     0.190277 </td><td style=\"text-align: right;\">     0.26416  </td><td style=\"text-align: right;\">    0.136906  </td><td style=\"text-align: right;\">    -0.0257348</td><td style=\"text-align: right;\">     0.0133232</td><td style=\"text-align: right;\">  -0.0519813  </td><td style=\"text-align: right;\">     0.0884682</td><td style=\"text-align: right;\">    -0.0168245</td><td style=\"text-align: right;\">   0.25061    </td><td style=\"text-align: right;\">   -0.064566  </td><td style=\"text-align: right;\">    -0.220488 </td><td style=\"text-align: right;\">     0.18126  </td><td style=\"text-align: right;\">     0.0825793</td><td style=\"text-align: right;\">    -0.0507196</td><td style=\"text-align: right;\">    0.0176986 </td><td style=\"text-align: right;\">     0.15905  </td><td style=\"text-align: right;\">     0.354624 </td><td style=\"text-align: right;\">    -0.30753  </td><td style=\"text-align: right;\">    -0.265513 </td><td style=\"text-align: right;\">     0.545701 </td><td style=\"text-align: right;\">    -0.27205  </td><td style=\"text-align: right;\">    0.0540399 </td><td style=\"text-align: right;\">    -0.183207 </td><td style=\"text-align: right;\">     0.19261  </td><td style=\"text-align: right;\">     0.273618 </td><td style=\"text-align: right;\">   -0.00504708</td><td style=\"text-align: right;\">   -0.170694  </td><td style=\"text-align: right;\">     0.337991 </td><td style=\"text-align: right;\">     0.162529 </td><td style=\"text-align: right;\">     -0.129925 </td></tr>\n",
              "<tr><td style=\"text-align: right;\">   -0.0714275</td><td style=\"text-align: right;\">   0.00554033</td><td style=\"text-align: right;\">  -0.39875   </td><td style=\"text-align: right;\">    0.0253764</td><td style=\"text-align: right;\">   -0.201058 </td><td style=\"text-align: right;\">   -0.092701 </td><td style=\"text-align: right;\">   -0.331389 </td><td style=\"text-align: right;\">  -0.418853  </td><td style=\"text-align: right;\">  -0.0557784 </td><td style=\"text-align: right;\">     0.233857 </td><td style=\"text-align: right;\">     0.309992 </td><td style=\"text-align: right;\">    -0.132375 </td><td style=\"text-align: right;\">    -0.180643 </td><td style=\"text-align: right;\">   -0.0503634 </td><td style=\"text-align: right;\">    -0.122035 </td><td style=\"text-align: right;\">    -0.151011 </td><td style=\"text-align: right;\">     0.24435  </td><td style=\"text-align: right;\">    0.00557573</td><td style=\"text-align: right;\">    -0.441932 </td><td style=\"text-align: right;\">   -0.00367953</td><td style=\"text-align: right;\">  -0.148467   </td><td style=\"text-align: right;\">    -0.0763268</td><td style=\"text-align: right;\">     0.70178  </td><td style=\"text-align: right;\">    -0.0192712</td><td style=\"text-align: right;\">     0.0386895</td><td style=\"text-align: right;\">    -0.466115 </td><td style=\"text-align: right;\">    -0.111533 </td><td style=\"text-align: right;\">   -0.00565983</td><td style=\"text-align: right;\">    0.139174  </td><td style=\"text-align: right;\">   -0.481665  </td><td style=\"text-align: right;\">    -0.181986 </td><td style=\"text-align: right;\">   -0.123128  </td><td style=\"text-align: right;\">    -0.348753 </td><td style=\"text-align: right;\">    -0.0979024</td><td style=\"text-align: right;\">    -0.0901397</td><td style=\"text-align: right;\">   -0.632769  </td><td style=\"text-align: right;\">    0.344429  </td><td style=\"text-align: right;\">    0.0113514 </td><td style=\"text-align: right;\">     0.151478 </td><td style=\"text-align: right;\">     0.288779 </td><td style=\"text-align: right;\">     0.0581275</td><td style=\"text-align: right;\">   -0.125319  </td><td style=\"text-align: right;\">    -0.166561 </td><td style=\"text-align: right;\">     0.237035 </td><td style=\"text-align: right;\">    -0.0770858</td><td style=\"text-align: right;\">   -0.0557369 </td><td style=\"text-align: right;\">    -0.418872 </td><td style=\"text-align: right;\">     0.0611035</td><td style=\"text-align: right;\">    -0.27578  </td><td style=\"text-align: right;\">   0.0208323  </td><td style=\"text-align: right;\">     0.166612 </td><td style=\"text-align: right;\">    -0.0984145</td><td style=\"text-align: right;\">    0.0159797 </td><td style=\"text-align: right;\">   -0.0671778 </td><td style=\"text-align: right;\">    -0.30028  </td><td style=\"text-align: right;\">     0.139302 </td><td style=\"text-align: right;\">    -0.0591148</td><td style=\"text-align: right;\">    -0.189158 </td><td style=\"text-align: right;\">     0.0701005</td><td style=\"text-align: right;\">   0.0551124  </td><td style=\"text-align: right;\">     0.335717 </td><td style=\"text-align: right;\">     0.335239 </td><td style=\"text-align: right;\">    0.0560688 </td><td style=\"text-align: right;\">     0.353229 </td><td style=\"text-align: right;\">      0.141279</td><td style=\"text-align: right;\">    -0.336376 </td><td style=\"text-align: right;\">    -0.428485 </td><td style=\"text-align: right;\">     0.362744 </td><td style=\"text-align: right;\">   -0.675442  </td><td style=\"text-align: right;\">    -0.195077 </td><td style=\"text-align: right;\">    -0.217799 </td><td style=\"text-align: right;\">     0.373304 </td><td style=\"text-align: right;\">    0.174249  </td><td style=\"text-align: right;\">     0.184251 </td><td style=\"text-align: right;\">    -0.149861 </td><td style=\"text-align: right;\">  -0.000720829</td><td style=\"text-align: right;\">    -0.310162 </td><td style=\"text-align: right;\">     0.215226 </td><td style=\"text-align: right;\">  -0.0426452  </td><td style=\"text-align: right;\">   -0.492803  </td><td style=\"text-align: right;\">    -0.214405 </td><td style=\"text-align: right;\">     0.105945 </td><td style=\"text-align: right;\">     0.185359 </td><td style=\"text-align: right;\">    -0.172777 </td><td style=\"text-align: right;\">    0.242552  </td><td style=\"text-align: right;\">    -0.0913973</td><td style=\"text-align: right;\">    -0.196888 </td><td style=\"text-align: right;\">    -0.34442  </td><td style=\"text-align: right;\">    -0.0287296</td><td style=\"text-align: right;\">     0.461449 </td><td style=\"text-align: right;\">    -0.614639 </td><td style=\"text-align: right;\">   -0.0661779 </td><td style=\"text-align: right;\">     0.11069  </td><td style=\"text-align: right;\">    -0.0386952</td><td style=\"text-align: right;\">    -0.236454 </td><td style=\"text-align: right;\">   -0.0982069 </td><td style=\"text-align: right;\">    0.346972  </td><td style=\"text-align: right;\">     0.113532 </td><td style=\"text-align: right;\">     0.449969 </td><td style=\"text-align: right;\">     -0.291495 </td></tr>\n",
              "<tr><td style=\"text-align: right;\">    0.0895982</td><td style=\"text-align: right;\">   0.185272  </td><td style=\"text-align: right;\">  -0.20441   </td><td style=\"text-align: right;\">   -0.0791383</td><td style=\"text-align: right;\">   -0.0330903</td><td style=\"text-align: right;\">   -0.437013 </td><td style=\"text-align: right;\">   -0.142393 </td><td style=\"text-align: right;\">  -0.399167  </td><td style=\"text-align: right;\">  -0.139596  </td><td style=\"text-align: right;\">     0.0127715</td><td style=\"text-align: right;\">    -0.184122 </td><td style=\"text-align: right;\">     0.187153 </td><td style=\"text-align: right;\">     0.0462934</td><td style=\"text-align: right;\">    0.102032  </td><td style=\"text-align: right;\">    -0.191505 </td><td style=\"text-align: right;\">    -0.355359 </td><td style=\"text-align: right;\">    -0.0621547</td><td style=\"text-align: right;\">   -0.115718  </td><td style=\"text-align: right;\">    -0.215226 </td><td style=\"text-align: right;\">   -0.316501  </td><td style=\"text-align: right;\">  -0.174092   </td><td style=\"text-align: right;\">    -0.0771427</td><td style=\"text-align: right;\">    -0.0415121</td><td style=\"text-align: right;\">     0.0437853</td><td style=\"text-align: right;\">     0.0681094</td><td style=\"text-align: right;\">     0.0707119</td><td style=\"text-align: right;\">     0.0158053</td><td style=\"text-align: right;\">   -0.308151  </td><td style=\"text-align: right;\">   -0.16832   </td><td style=\"text-align: right;\">   -0.0248247 </td><td style=\"text-align: right;\">     0.0842345</td><td style=\"text-align: right;\">    0.516124  </td><td style=\"text-align: right;\">     0.0759994</td><td style=\"text-align: right;\">     0.293275 </td><td style=\"text-align: right;\">     0.218589 </td><td style=\"text-align: right;\">    0.177702  </td><td style=\"text-align: right;\">    0.120153  </td><td style=\"text-align: right;\">    0.0864247 </td><td style=\"text-align: right;\">     0.146488 </td><td style=\"text-align: right;\">     0.171484 </td><td style=\"text-align: right;\">    -0.0189434</td><td style=\"text-align: right;\">    0.00363764</td><td style=\"text-align: right;\">    -0.0468599</td><td style=\"text-align: right;\">     0.128687 </td><td style=\"text-align: right;\">     0.179839 </td><td style=\"text-align: right;\">   -0.190009  </td><td style=\"text-align: right;\">    -0.0584695</td><td style=\"text-align: right;\">    -0.280561 </td><td style=\"text-align: right;\">     0.33264  </td><td style=\"text-align: right;\">   0.00649692 </td><td style=\"text-align: right;\">    -0.115309 </td><td style=\"text-align: right;\">     0.0893646</td><td style=\"text-align: right;\">    0.0989052 </td><td style=\"text-align: right;\">    0.187348  </td><td style=\"text-align: right;\">    -0.0910965</td><td style=\"text-align: right;\">    -0.0700785</td><td style=\"text-align: right;\">    -0.0587169</td><td style=\"text-align: right;\">    -0.0626242</td><td style=\"text-align: right;\">     0.172488 </td><td style=\"text-align: right;\">   0.0365008  </td><td style=\"text-align: right;\">     0.115521 </td><td style=\"text-align: right;\">    -0.18174  </td><td style=\"text-align: right;\">   -0.00118897</td><td style=\"text-align: right;\">     0.229697 </td><td style=\"text-align: right;\">      0.112766</td><td style=\"text-align: right;\">    -0.140614 </td><td style=\"text-align: right;\">     0.203142 </td><td style=\"text-align: right;\">     0.0664272</td><td style=\"text-align: right;\">    0.0143976 </td><td style=\"text-align: right;\">     0.191284 </td><td style=\"text-align: right;\">     0.0112243</td><td style=\"text-align: right;\">     0.158859 </td><td style=\"text-align: right;\">   -0.082991  </td><td style=\"text-align: right;\">     0.157081 </td><td style=\"text-align: right;\">    -0.209245 </td><td style=\"text-align: right;\">  -0.0974595  </td><td style=\"text-align: right;\">     0.211877 </td><td style=\"text-align: right;\">     0.131686 </td><td style=\"text-align: right;\">  -0.128591   </td><td style=\"text-align: right;\">    0.0427551 </td><td style=\"text-align: right;\">    -0.326828 </td><td style=\"text-align: right;\">     0.0142577</td><td style=\"text-align: right;\">     0.0972302</td><td style=\"text-align: right;\">    -0.252442 </td><td style=\"text-align: right;\">   -0.271342  </td><td style=\"text-align: right;\">    -0.0469866</td><td style=\"text-align: right;\">     0.340052 </td><td style=\"text-align: right;\">     0.191978 </td><td style=\"text-align: right;\">     0.244575 </td><td style=\"text-align: right;\">    -0.0905102</td><td style=\"text-align: right;\">    -0.453245 </td><td style=\"text-align: right;\">   -0.184185  </td><td style=\"text-align: right;\">     0.039533 </td><td style=\"text-align: right;\">     0.20211  </td><td style=\"text-align: right;\">     0.330094 </td><td style=\"text-align: right;\">    0.0837556 </td><td style=\"text-align: right;\">   -0.144539  </td><td style=\"text-align: right;\">     0.20698  </td><td style=\"text-align: right;\">     0.0150953</td><td style=\"text-align: right;\">      0.14299  </td></tr>\n",
              "<tr><td style=\"text-align: right;\">   -0.032432 </td><td style=\"text-align: right;\">   0.00310626</td><td style=\"text-align: right;\">  -0.107466  </td><td style=\"text-align: right;\">   -0.100089 </td><td style=\"text-align: right;\">    0.0440797</td><td style=\"text-align: right;\">   -0.118635 </td><td style=\"text-align: right;\">   -0.242906 </td><td style=\"text-align: right;\">   0.00917074</td><td style=\"text-align: right;\">  -0.0170642 </td><td style=\"text-align: right;\">    -0.152892 </td><td style=\"text-align: right;\">    -0.0390083</td><td style=\"text-align: right;\">     0.0566165</td><td style=\"text-align: right;\">     0.050621 </td><td style=\"text-align: right;\">    0.026811  </td><td style=\"text-align: right;\">     0.0613181</td><td style=\"text-align: right;\">    -0.0336189</td><td style=\"text-align: right;\">     0.153927 </td><td style=\"text-align: right;\">   -0.0747469 </td><td style=\"text-align: right;\">    -0.195946 </td><td style=\"text-align: right;\">   -0.156939  </td><td style=\"text-align: right;\">  -0.0132533  </td><td style=\"text-align: right;\">     0.033143 </td><td style=\"text-align: right;\">     0.0529023</td><td style=\"text-align: right;\">     0.169203 </td><td style=\"text-align: right;\">     0.0741362</td><td style=\"text-align: right;\">    -0.176502 </td><td style=\"text-align: right;\">    -0.0621804</td><td style=\"text-align: right;\">   -0.13791   </td><td style=\"text-align: right;\">   -0.209866  </td><td style=\"text-align: right;\">   -0.248011  </td><td style=\"text-align: right;\">    -0.0137401</td><td style=\"text-align: right;\">   -0.0309212 </td><td style=\"text-align: right;\">    -0.246803 </td><td style=\"text-align: right;\">    -0.0372501</td><td style=\"text-align: right;\">     0.0915166</td><td style=\"text-align: right;\">   -0.05712   </td><td style=\"text-align: right;\">   -0.201517  </td><td style=\"text-align: right;\">    0.0355246 </td><td style=\"text-align: right;\">    -0.0925261</td><td style=\"text-align: right;\">    -0.0334749</td><td style=\"text-align: right;\">     0.0527817</td><td style=\"text-align: right;\">    0.0817479 </td><td style=\"text-align: right;\">     0.0798486</td><td style=\"text-align: right;\">     0.110235 </td><td style=\"text-align: right;\">    -0.112949 </td><td style=\"text-align: right;\">   -0.102951  </td><td style=\"text-align: right;\">     0.0927637</td><td style=\"text-align: right;\">     0.0377661</td><td style=\"text-align: right;\">     0.029665 </td><td style=\"text-align: right;\">  -0.224522   </td><td style=\"text-align: right;\">     0.0582192</td><td style=\"text-align: right;\">     0.129522 </td><td style=\"text-align: right;\">   -0.00782007</td><td style=\"text-align: right;\">   -0.081475  </td><td style=\"text-align: right;\">    -0.226869 </td><td style=\"text-align: right;\">    -0.032975 </td><td style=\"text-align: right;\">    -0.165452 </td><td style=\"text-align: right;\">     0.0529351</td><td style=\"text-align: right;\">    -0.103326 </td><td style=\"text-align: right;\">   0.000558545</td><td style=\"text-align: right;\">    -0.110269 </td><td style=\"text-align: right;\">    -0.0257066</td><td style=\"text-align: right;\">   -0.0373881 </td><td style=\"text-align: right;\">    -0.182366 </td><td style=\"text-align: right;\">     -0.134821</td><td style=\"text-align: right;\">    -0.0065053</td><td style=\"text-align: right;\">    -0.0596934</td><td style=\"text-align: right;\">     0.0645834</td><td style=\"text-align: right;\">   -0.0182581 </td><td style=\"text-align: right;\">    -0.0624847</td><td style=\"text-align: right;\">    -0.0353856</td><td style=\"text-align: right;\">    -0.085403 </td><td style=\"text-align: right;\">   -0.135988  </td><td style=\"text-align: right;\">     0.0684918</td><td style=\"text-align: right;\">     0.0923969</td><td style=\"text-align: right;\">  -0.0543496  </td><td style=\"text-align: right;\">    -0.0290132</td><td style=\"text-align: right;\">     0.0379988</td><td style=\"text-align: right;\">  -0.100975   </td><td style=\"text-align: right;\">   -0.0945488 </td><td style=\"text-align: right;\">    -0.0867229</td><td style=\"text-align: right;\">     0.0373785</td><td style=\"text-align: right;\">     0.208128 </td><td style=\"text-align: right;\">    -0.210313 </td><td style=\"text-align: right;\">   -0.00943093</td><td style=\"text-align: right;\">    -0.0936037</td><td style=\"text-align: right;\">     0.344635 </td><td style=\"text-align: right;\">    -0.15407  </td><td style=\"text-align: right;\">    -0.162884 </td><td style=\"text-align: right;\">     0.200608 </td><td style=\"text-align: right;\">    -0.0211463</td><td style=\"text-align: right;\">    0.0490578 </td><td style=\"text-align: right;\">     0.0150974</td><td style=\"text-align: right;\">     0.215292 </td><td style=\"text-align: right;\">     0.0348326</td><td style=\"text-align: right;\">   -0.113397  </td><td style=\"text-align: right;\">    0.0864693 </td><td style=\"text-align: right;\">     0.0377774</td><td style=\"text-align: right;\">     0.015787 </td><td style=\"text-align: right;\">      0.130761 </td></tr>\n",
              "</tbody>\n",
              "</table>"
            ]
          },
          "metadata": {
            "tags": []
          }
        },
        {
          "output_type": "execute_result",
          "data": {
            "text/plain": [
              ""
            ]
          },
          "metadata": {
            "tags": []
          },
          "execution_count": 58
        }
      ]
    },
    {
      "cell_type": "code",
      "metadata": {
        "id": "El4wfGx16Xnj",
        "colab_type": "code",
        "colab": {}
      },
      "source": [
        "h2o_df_ext = h2o_df_ext.cbind(headline_vecs)"
      ],
      "execution_count": 59,
      "outputs": []
    },
    {
      "cell_type": "code",
      "metadata": {
        "id": "Yw_oRDbj6fM5",
        "colab_type": "code",
        "colab": {}
      },
      "source": [
        "h2o_train,h2o_valid = h2o_df_ext.split_frame(ratios=[.8])"
      ],
      "execution_count": 60,
      "outputs": []
    },
    {
      "cell_type": "code",
      "metadata": {
        "id": "GEhIKOAo6iX1",
        "colab_type": "code",
        "colab": {
          "base_uri": "https://localhost:8080/",
          "height": 1000
        },
        "outputId": "ec6aac87-534a-4419-cb16-203b483bfa0d"
      },
      "source": [
        "h2o_df_ext"
      ],
      "execution_count": 61,
      "outputs": [
        {
          "output_type": "display_data",
          "data": {
            "text/html": [
              "<table>\n",
              "<thead>\n",
              "<tr><th style=\"text-align: right;\">  votes</th><th>headline                                                                 </th><th>review                                                                                                                                                                                                                                                                                                                                                                                                                                                                                                                                                                                                                                                                                                                                                                                                                                                                                                                                                                                                                                                                                                                            </th><th style=\"text-align: right;\">  rating</th><th style=\"text-align: right;\">  target</th><th style=\"text-align: right;\">         C1</th><th style=\"text-align: right;\">         C2</th><th style=\"text-align: right;\">         C3</th><th style=\"text-align: right;\">         C4</th><th style=\"text-align: right;\">          C5</th><th style=\"text-align: right;\">        C6</th><th style=\"text-align: right;\">         C7</th><th style=\"text-align: right;\">         C8</th><th style=\"text-align: right;\">        C9</th><th style=\"text-align: right;\">       C10</th><th style=\"text-align: right;\">       C11</th><th style=\"text-align: right;\">        C12</th><th style=\"text-align: right;\">       C13</th><th style=\"text-align: right;\">       C14</th><th style=\"text-align: right;\">      C15</th><th style=\"text-align: right;\">        C16</th><th style=\"text-align: right;\">        C17</th><th style=\"text-align: right;\">        C18</th><th style=\"text-align: right;\">       C19</th><th style=\"text-align: right;\">       C20</th><th style=\"text-align: right;\">        C21</th><th style=\"text-align: right;\">       C22</th><th style=\"text-align: right;\">       C23</th><th style=\"text-align: right;\">       C24</th><th style=\"text-align: right;\">       C25</th><th style=\"text-align: right;\">        C26</th><th style=\"text-align: right;\">        C27</th><th style=\"text-align: right;\">       C28</th><th style=\"text-align: right;\">       C29</th><th style=\"text-align: right;\">        C30</th><th style=\"text-align: right;\">       C31</th><th style=\"text-align: right;\">      C32</th><th style=\"text-align: right;\">        C33</th><th style=\"text-align: right;\">       C34</th><th style=\"text-align: right;\">         C35</th><th style=\"text-align: right;\">        C36</th><th style=\"text-align: right;\">       C37</th><th style=\"text-align: right;\">        C38</th><th style=\"text-align: right;\">       C39</th><th style=\"text-align: right;\">         C40</th><th style=\"text-align: right;\">        C41</th><th style=\"text-align: right;\">        C42</th><th style=\"text-align: right;\">       C43</th><th style=\"text-align: right;\">      C44</th><th style=\"text-align: right;\">       C45</th><th style=\"text-align: right;\">         C46</th><th style=\"text-align: right;\">        C47</th><th style=\"text-align: right;\">       C48</th><th style=\"text-align: right;\">        C49</th><th style=\"text-align: right;\">       C50</th><th style=\"text-align: right;\">       C51</th><th style=\"text-align: right;\">      C52</th><th style=\"text-align: right;\">        C53</th><th style=\"text-align: right;\">       C54</th><th style=\"text-align: right;\">       C55</th><th style=\"text-align: right;\">         C56</th><th style=\"text-align: right;\">      C57</th><th style=\"text-align: right;\">       C58</th><th style=\"text-align: right;\">        C59</th><th style=\"text-align: right;\">       C60</th><th style=\"text-align: right;\">       C61</th><th style=\"text-align: right;\">        C62</th><th style=\"text-align: right;\">      C63</th><th style=\"text-align: right;\">        C64</th><th style=\"text-align: right;\">       C65</th><th style=\"text-align: right;\">        C66</th><th style=\"text-align: right;\">       C67</th><th style=\"text-align: right;\">       C68</th><th style=\"text-align: right;\">        C69</th><th style=\"text-align: right;\">        C70</th><th style=\"text-align: right;\">        C71</th><th style=\"text-align: right;\">       C72</th><th style=\"text-align: right;\">        C73</th><th style=\"text-align: right;\">        C74</th><th style=\"text-align: right;\">       C75</th><th style=\"text-align: right;\">        C76</th><th style=\"text-align: right;\">         C77</th><th style=\"text-align: right;\">        C78</th><th style=\"text-align: right;\">       C79</th><th style=\"text-align: right;\">       C80</th><th style=\"text-align: right;\">        C81</th><th style=\"text-align: right;\">        C82</th><th style=\"text-align: right;\">      C83</th><th style=\"text-align: right;\">       C84</th><th style=\"text-align: right;\">       C85</th><th style=\"text-align: right;\">        C86</th><th style=\"text-align: right;\">      C87</th><th style=\"text-align: right;\">        C88</th><th style=\"text-align: right;\">       C89</th><th style=\"text-align: right;\">      C90</th><th style=\"text-align: right;\">       C91</th><th style=\"text-align: right;\">        C92</th><th style=\"text-align: right;\">        C93</th><th style=\"text-align: right;\">      C94</th><th style=\"text-align: right;\">       C95</th><th style=\"text-align: right;\">        C96</th><th style=\"text-align: right;\">        C97</th><th style=\"text-align: right;\">       C98</th><th style=\"text-align: right;\">       C99</th><th style=\"text-align: right;\">      C100</th><th style=\"text-align: right;\">  headline_C1</th><th style=\"text-align: right;\">  headline_C2</th><th style=\"text-align: right;\">  headline_C3</th><th style=\"text-align: right;\">  headline_C4</th><th style=\"text-align: right;\">  headline_C5</th><th style=\"text-align: right;\">  headline_C6</th><th style=\"text-align: right;\">  headline_C7</th><th style=\"text-align: right;\">  headline_C8</th><th style=\"text-align: right;\">  headline_C9</th><th style=\"text-align: right;\">  headline_C10</th><th style=\"text-align: right;\">  headline_C11</th><th style=\"text-align: right;\">  headline_C12</th><th style=\"text-align: right;\">  headline_C13</th><th style=\"text-align: right;\">  headline_C14</th><th style=\"text-align: right;\">  headline_C15</th><th style=\"text-align: right;\">  headline_C16</th><th style=\"text-align: right;\">  headline_C17</th><th style=\"text-align: right;\">  headline_C18</th><th style=\"text-align: right;\">  headline_C19</th><th style=\"text-align: right;\">  headline_C20</th><th style=\"text-align: right;\">  headline_C21</th><th style=\"text-align: right;\">  headline_C22</th><th style=\"text-align: right;\">  headline_C23</th><th style=\"text-align: right;\">  headline_C24</th><th style=\"text-align: right;\">  headline_C25</th><th style=\"text-align: right;\">  headline_C26</th><th style=\"text-align: right;\">  headline_C27</th><th style=\"text-align: right;\">  headline_C28</th><th style=\"text-align: right;\">  headline_C29</th><th style=\"text-align: right;\">  headline_C30</th><th style=\"text-align: right;\">  headline_C31</th><th style=\"text-align: right;\">  headline_C32</th><th style=\"text-align: right;\">  headline_C33</th><th style=\"text-align: right;\">  headline_C34</th><th style=\"text-align: right;\">  headline_C35</th><th style=\"text-align: right;\">  headline_C36</th><th style=\"text-align: right;\">  headline_C37</th><th style=\"text-align: right;\">  headline_C38</th><th style=\"text-align: right;\">  headline_C39</th><th style=\"text-align: right;\">  headline_C40</th><th style=\"text-align: right;\">  headline_C41</th><th style=\"text-align: right;\">  headline_C42</th><th style=\"text-align: right;\">  headline_C43</th><th style=\"text-align: right;\">  headline_C44</th><th style=\"text-align: right;\">  headline_C45</th><th style=\"text-align: right;\">  headline_C46</th><th style=\"text-align: right;\">  headline_C47</th><th style=\"text-align: right;\">  headline_C48</th><th style=\"text-align: right;\">  headline_C49</th><th style=\"text-align: right;\">  headline_C50</th><th style=\"text-align: right;\">  headline_C51</th><th style=\"text-align: right;\">  headline_C52</th><th style=\"text-align: right;\">  headline_C53</th><th style=\"text-align: right;\">  headline_C54</th><th style=\"text-align: right;\">  headline_C55</th><th style=\"text-align: right;\">  headline_C56</th><th style=\"text-align: right;\">  headline_C57</th><th style=\"text-align: right;\">  headline_C58</th><th style=\"text-align: right;\">  headline_C59</th><th style=\"text-align: right;\">  headline_C60</th><th style=\"text-align: right;\">  headline_C61</th><th style=\"text-align: right;\">  headline_C62</th><th style=\"text-align: right;\">  headline_C63</th><th style=\"text-align: right;\">  headline_C64</th><th style=\"text-align: right;\">  headline_C65</th><th style=\"text-align: right;\">  headline_C66</th><th style=\"text-align: right;\">  headline_C67</th><th style=\"text-align: right;\">  headline_C68</th><th style=\"text-align: right;\">  headline_C69</th><th style=\"text-align: right;\">  headline_C70</th><th style=\"text-align: right;\">  headline_C71</th><th style=\"text-align: right;\">  headline_C72</th><th style=\"text-align: right;\">  headline_C73</th><th style=\"text-align: right;\">  headline_C74</th><th style=\"text-align: right;\">  headline_C75</th><th style=\"text-align: right;\">  headline_C76</th><th style=\"text-align: right;\">  headline_C77</th><th style=\"text-align: right;\">  headline_C78</th><th style=\"text-align: right;\">  headline_C79</th><th style=\"text-align: right;\">  headline_C80</th><th style=\"text-align: right;\">  headline_C81</th><th style=\"text-align: right;\">  headline_C82</th><th style=\"text-align: right;\">  headline_C83</th><th style=\"text-align: right;\">  headline_C84</th><th style=\"text-align: right;\">  headline_C85</th><th style=\"text-align: right;\">  headline_C86</th><th style=\"text-align: right;\">  headline_C87</th><th style=\"text-align: right;\">  headline_C88</th><th style=\"text-align: right;\">  headline_C89</th><th style=\"text-align: right;\">  headline_C90</th><th style=\"text-align: right;\">  headline_C91</th><th style=\"text-align: right;\">  headline_C92</th><th style=\"text-align: right;\">  headline_C93</th><th style=\"text-align: right;\">  headline_C94</th><th style=\"text-align: right;\">  headline_C95</th><th style=\"text-align: right;\">  headline_C96</th><th style=\"text-align: right;\">  headline_C97</th><th style=\"text-align: right;\">  headline_C98</th><th style=\"text-align: right;\">  headline_C99</th><th style=\"text-align: right;\">  headline_C100</th></tr>\n",
              "</thead>\n",
              "<tbody>\n",
              "<tr><td style=\"text-align: right;\">      0</td><td>b&#x27;These glasses are an excellent value. The fit is good and they are ...&#x27;</td><td>b&quot;These glasses are an excellent value.  The fit is good and they are very comfortable.  Because of my legal blindness, there aren&#x27;t a lot of options to try to see better, but I believe these help with my other visual aids, and because they are reasonably priced I can have more than one pair available.&quot;                                                                                                                                                                                                                                                                                                                                                                                                                                                                                                                                                                                                                                                                                                                                                                                                                  </td><td style=\"text-align: right;\">       4</td><td style=\"text-align: right;\">       1</td><td style=\"text-align: right;\">-0.0223054 </td><td style=\"text-align: right;\">-0.097403  </td><td style=\"text-align: right;\">-0.0902446 </td><td style=\"text-align: right;\"> 0.0415447 </td><td style=\"text-align: right;\">-0.000602854</td><td style=\"text-align: right;\">-0.155336 </td><td style=\"text-align: right;\"> 0.0898385 </td><td style=\"text-align: right;\">-0.00791429</td><td style=\"text-align: right;\">-0.0352954</td><td style=\"text-align: right;\">-0.0655031</td><td style=\"text-align: right;\"> 0.151506 </td><td style=\"text-align: right;\">-0.0129329 </td><td style=\"text-align: right;\">-0.0307159</td><td style=\"text-align: right;\">-0.0395665</td><td style=\"text-align: right;\">0.255093 </td><td style=\"text-align: right;\">-0.0891762 </td><td style=\"text-align: right;\"> 0.00159779</td><td style=\"text-align: right;\">-0.0997844 </td><td style=\"text-align: right;\">-0.143443 </td><td style=\"text-align: right;\">-0.174569 </td><td style=\"text-align: right;\"> 0.0331017 </td><td style=\"text-align: right;\"> 0.123965 </td><td style=\"text-align: right;\"> 0.0497346</td><td style=\"text-align: right;\">-0.0340244</td><td style=\"text-align: right;\"> 0.0782553</td><td style=\"text-align: right;\">-0.00260607</td><td style=\"text-align: right;\">-0.0907684 </td><td style=\"text-align: right;\">-0.144671 </td><td style=\"text-align: right;\"> 0.0119615</td><td style=\"text-align: right;\">-0.0638019 </td><td style=\"text-align: right;\"> 0.0298206</td><td style=\"text-align: right;\">0.0424338</td><td style=\"text-align: right;\">-0.178381  </td><td style=\"text-align: right;\"> 0.0466796</td><td style=\"text-align: right;\"> 0.0305532  </td><td style=\"text-align: right;\">-0.118479  </td><td style=\"text-align: right;\">-0.0498394</td><td style=\"text-align: right;\">-0.0137169 </td><td style=\"text-align: right;\"> 0.0248918</td><td style=\"text-align: right;\"> 0.0198951  </td><td style=\"text-align: right;\">-0.0356314 </td><td style=\"text-align: right;\"> 0.00913305</td><td style=\"text-align: right;\"> 0.0299729</td><td style=\"text-align: right;\">0.141106 </td><td style=\"text-align: right;\">-0.168193 </td><td style=\"text-align: right;\">-0.0343686  </td><td style=\"text-align: right;\"> 0.111217  </td><td style=\"text-align: right;\"> 0.0585724</td><td style=\"text-align: right;\"> 0.202082  </td><td style=\"text-align: right;\">-0.120071 </td><td style=\"text-align: right;\">-0.0236533</td><td style=\"text-align: right;\">0.17221  </td><td style=\"text-align: right;\"> 0.0215457 </td><td style=\"text-align: right;\"> 0.0125799</td><td style=\"text-align: right;\">-0.172928 </td><td style=\"text-align: right;\"> 0.0168013  </td><td style=\"text-align: right;\">-0.178447</td><td style=\"text-align: right;\">-0.0335994</td><td style=\"text-align: right;\">-0.0803279 </td><td style=\"text-align: right;\">-0.0463177</td><td style=\"text-align: right;\"> 0.020263 </td><td style=\"text-align: right;\"> 0.0645335 </td><td style=\"text-align: right;\">0.0630409</td><td style=\"text-align: right;\">-0.0488939 </td><td style=\"text-align: right;\">-0.157298 </td><td style=\"text-align: right;\"> 0.0816818 </td><td style=\"text-align: right;\">-0.020394 </td><td style=\"text-align: right;\"> 0.169327 </td><td style=\"text-align: right;\">-0.0426057 </td><td style=\"text-align: right;\"> 0.0779309 </td><td style=\"text-align: right;\"> 0.039201  </td><td style=\"text-align: right;\">-0.0651404</td><td style=\"text-align: right;\">-0.069881  </td><td style=\"text-align: right;\"> 0.0636406 </td><td style=\"text-align: right;\">-0.214784 </td><td style=\"text-align: right;\">-0.0604335 </td><td style=\"text-align: right;\"> 0.0558199  </td><td style=\"text-align: right;\"> 0.0157014 </td><td style=\"text-align: right;\">-0.0408238</td><td style=\"text-align: right;\">-0.0793816</td><td style=\"text-align: right;\"> 0.140054  </td><td style=\"text-align: right;\">-0.0168977 </td><td style=\"text-align: right;\">0.100993 </td><td style=\"text-align: right;\">-0.125157 </td><td style=\"text-align: right;\">-0.128134 </td><td style=\"text-align: right;\">-0.00453497</td><td style=\"text-align: right;\">0.0818559</td><td style=\"text-align: right;\"> 0.1113    </td><td style=\"text-align: right;\">-0.122983 </td><td style=\"text-align: right;\">0.0622663</td><td style=\"text-align: right;\">-0.11818  </td><td style=\"text-align: right;\">-0.0154305 </td><td style=\"text-align: right;\">-0.0434444 </td><td style=\"text-align: right;\">0.105345 </td><td style=\"text-align: right;\">-0.0827423</td><td style=\"text-align: right;\"> 0.0181928 </td><td style=\"text-align: right;\"> 0.0166681 </td><td style=\"text-align: right;\"> 0.102492 </td><td style=\"text-align: right;\">0.0082405 </td><td style=\"text-align: right;\"> 0.0483725</td><td style=\"text-align: right;\">   -0.142587 </td><td style=\"text-align: right;\">  -0.207322  </td><td style=\"text-align: right;\">  -0.195126  </td><td style=\"text-align: right;\">   -0.0325131</td><td style=\"text-align: right;\">    0.122627 </td><td style=\"text-align: right;\">   -0.159321 </td><td style=\"text-align: right;\">    0.0811314</td><td style=\"text-align: right;\">   0.0242118 </td><td style=\"text-align: right;\">  -0.0598186 </td><td style=\"text-align: right;\">     0.0263764</td><td style=\"text-align: right;\">     0.171613 </td><td style=\"text-align: right;\">    -0.0666216</td><td style=\"text-align: right;\">     0.0211528</td><td style=\"text-align: right;\">    0.0135981 </td><td style=\"text-align: right;\">     0.369783 </td><td style=\"text-align: right;\">    -0.0611427</td><td style=\"text-align: right;\">     0.0640624</td><td style=\"text-align: right;\">   -0.298975  </td><td style=\"text-align: right;\">    -0.140003 </td><td style=\"text-align: right;\">   -0.253817  </td><td style=\"text-align: right;\">   0.0232456  </td><td style=\"text-align: right;\">     0.19695  </td><td style=\"text-align: right;\">    -0.166394 </td><td style=\"text-align: right;\">    -0.114844 </td><td style=\"text-align: right;\">     0.0958868</td><td style=\"text-align: right;\">    -0.053698 </td><td style=\"text-align: right;\">    -0.064121 </td><td style=\"text-align: right;\">    0.00901843</td><td style=\"text-align: right;\">   -0.0151919 </td><td style=\"text-align: right;\">   -0.00335059</td><td style=\"text-align: right;\">    -0.0445504</td><td style=\"text-align: right;\">   -0.0869199 </td><td style=\"text-align: right;\">    -0.259502 </td><td style=\"text-align: right;\">     0.0412746</td><td style=\"text-align: right;\">     0.0839988</td><td style=\"text-align: right;\">   -0.00690481</td><td style=\"text-align: right;\">   -0.0707252 </td><td style=\"text-align: right;\">   -0.00110433</td><td style=\"text-align: right;\">     0.0260201</td><td style=\"text-align: right;\">     0.0416519</td><td style=\"text-align: right;\">    -0.0135374</td><td style=\"text-align: right;\">    0.0614546 </td><td style=\"text-align: right;\">     0.114449 </td><td style=\"text-align: right;\">     0.110345 </td><td style=\"text-align: right;\">    -0.13459  </td><td style=\"text-align: right;\">    0.110868  </td><td style=\"text-align: right;\">     0.202625 </td><td style=\"text-align: right;\">    -0.0145109</td><td style=\"text-align: right;\">     0.133143 </td><td style=\"text-align: right;\">  -0.105128   </td><td style=\"text-align: right;\">    -0.108121 </td><td style=\"text-align: right;\">     0.266922 </td><td style=\"text-align: right;\">    0.110269  </td><td style=\"text-align: right;\">    0.060982  </td><td style=\"text-align: right;\">    -0.259914 </td><td style=\"text-align: right;\">    -0.0229419</td><td style=\"text-align: right;\">    -0.123633 </td><td style=\"text-align: right;\">    -0.0455505</td><td style=\"text-align: right;\">    -0.127575 </td><td style=\"text-align: right;\">   0.0565086  </td><td style=\"text-align: right;\">     0.0841078</td><td style=\"text-align: right;\">     0.100052 </td><td style=\"text-align: right;\">    0.14793   </td><td style=\"text-align: right;\">    -0.0425709</td><td style=\"text-align: right;\">     -0.169272</td><td style=\"text-align: right;\">    -0.105317 </td><td style=\"text-align: right;\">    -0.178574 </td><td style=\"text-align: right;\">     0.194598 </td><td style=\"text-align: right;\">   -0.0232016 </td><td style=\"text-align: right;\">    -0.0366197</td><td style=\"text-align: right;\">    -0.0084299</td><td style=\"text-align: right;\">    -0.138595 </td><td style=\"text-align: right;\">   -0.190717  </td><td style=\"text-align: right;\">     0.177817 </td><td style=\"text-align: right;\">    -0.358321 </td><td style=\"text-align: right;\">  -0.0456243  </td><td style=\"text-align: right;\">     0.0944748</td><td style=\"text-align: right;\">     0.0912351</td><td style=\"text-align: right;\">  -0.0984684  </td><td style=\"text-align: right;\">    0.0193783 </td><td style=\"text-align: right;\">     0.089072 </td><td style=\"text-align: right;\">    -0.109828 </td><td style=\"text-align: right;\">     0.16155  </td><td style=\"text-align: right;\">    -0.111235 </td><td style=\"text-align: right;\">   -0.183754  </td><td style=\"text-align: right;\">     0.090618 </td><td style=\"text-align: right;\">     0.0629192</td><td style=\"text-align: right;\">     0.203456 </td><td style=\"text-align: right;\">    -0.234743 </td><td style=\"text-align: right;\">     0.121867 </td><td style=\"text-align: right;\">    -0.145015 </td><td style=\"text-align: right;\">   -0.0483539 </td><td style=\"text-align: right;\">    -0.206076 </td><td style=\"text-align: right;\">     0.107533 </td><td style=\"text-align: right;\">    -0.154065 </td><td style=\"text-align: right;\">   -0.0986274 </td><td style=\"text-align: right;\">   -0.00810617</td><td style=\"text-align: right;\">     0.028561 </td><td style=\"text-align: right;\">     0.0222094</td><td style=\"text-align: right;\">     -0.0308867</td></tr>\n",
              "<tr><td style=\"text-align: right;\">      3</td><td>b&#x27;A fantastic way to cheaply try straight razor shaving.&#x27;                </td><td>b&quot;Always wanted to try straight razor shaving (as a DE safety razor user), and this was a cheap way for me to determine I was not into it.&lt;br /&gt;&lt;br /&gt;Because the blades are disposable and always sharp, I could put a new one in and reasonably rely upon that fact that cuts were probably due to my technique and not the blade.&lt;br /&gt;&lt;br /&gt;It&#x27;s very hard to do straight razor shaving on yourself because the ANGLE is difficult to control without switching hands. Being very right-handed, I really couldn&#x27;t do that. I bet I could shave someone else&#x27;s face with it though.&lt;br /&gt;&lt;br /&gt;An immediate upside? Using a DE safety razor (slant edged even) seems SUPER safe now! I&#x27;m increased my speed with the DE due to that confidence, and I&#x27;d been using it for years now.&quot;                                                                                                                                                                                                                                                                                                                                          </td><td style=\"text-align: right;\">       5</td><td style=\"text-align: right;\">       1</td><td style=\"text-align: right;\">-0.107511  </td><td style=\"text-align: right;\">-0.0126846 </td><td style=\"text-align: right;\">-0.096559  </td><td style=\"text-align: right;\">-0.0340658 </td><td style=\"text-align: right;\">-0.205121   </td><td style=\"text-align: right;\">-0.234747 </td><td style=\"text-align: right;\">-0.208153  </td><td style=\"text-align: right;\">-0.0615555 </td><td style=\"text-align: right;\">-0.16989  </td><td style=\"text-align: right;\">-0.0746852</td><td style=\"text-align: right;\"> 0.0167632</td><td style=\"text-align: right;\"> 0.066778  </td><td style=\"text-align: right;\"> 0.0346558</td><td style=\"text-align: right;\">-0.0648843</td><td style=\"text-align: right;\">0.212056 </td><td style=\"text-align: right;\">-0.0377561 </td><td style=\"text-align: right;\"> 0.0882356 </td><td style=\"text-align: right;\"> 0.0460584 </td><td style=\"text-align: right;\">-0.0762372</td><td style=\"text-align: right;\">-0.113578 </td><td style=\"text-align: right;\">-0.183544  </td><td style=\"text-align: right;\">-0.0391418</td><td style=\"text-align: right;\"> 0.0417602</td><td style=\"text-align: right;\"> 0.0412221</td><td style=\"text-align: right;\"> 0.0726909</td><td style=\"text-align: right;\">-0.153522  </td><td style=\"text-align: right;\">-0.20301   </td><td style=\"text-align: right;\">-0.121132 </td><td style=\"text-align: right;\">-0.0309457</td><td style=\"text-align: right;\"> 0.00419275</td><td style=\"text-align: right;\">-0.0211458</td><td style=\"text-align: right;\">0.124747 </td><td style=\"text-align: right;\">-0.0105071 </td><td style=\"text-align: right;\"> 0.053246 </td><td style=\"text-align: right;\">-0.000928475</td><td style=\"text-align: right;\"> 0.00325405</td><td style=\"text-align: right;\"> 0.0408215</td><td style=\"text-align: right;\">-0.0413378 </td><td style=\"text-align: right;\"> 0.0124793</td><td style=\"text-align: right;\">-0.0185724  </td><td style=\"text-align: right;\">-0.116819  </td><td style=\"text-align: right;\"> 0.0674913 </td><td style=\"text-align: right;\">-0.0214319</td><td style=\"text-align: right;\">0.126133 </td><td style=\"text-align: right;\">-0.119262 </td><td style=\"text-align: right;\">-0.0305301  </td><td style=\"text-align: right;\"> 0.0754631 </td><td style=\"text-align: right;\">-0.112755 </td><td style=\"text-align: right;\"> 0.0379799 </td><td style=\"text-align: right;\"> 0.0369178</td><td style=\"text-align: right;\"> 0.0791458</td><td style=\"text-align: right;\">0.0952401</td><td style=\"text-align: right;\">-0.0107511 </td><td style=\"text-align: right;\">-0.117731 </td><td style=\"text-align: right;\">-0.192922 </td><td style=\"text-align: right;\"> 0.0448207  </td><td style=\"text-align: right;\">-0.216944</td><td style=\"text-align: right;\"> 0.0123216</td><td style=\"text-align: right;\">-0.0782549 </td><td style=\"text-align: right;\">-0.0636979</td><td style=\"text-align: right;\">-0.0015354</td><td style=\"text-align: right;\">-0.00404434</td><td style=\"text-align: right;\">0.0660226</td><td style=\"text-align: right;\">-0.00123272</td><td style=\"text-align: right;\">-0.16883  </td><td style=\"text-align: right;\"> 0.10859   </td><td style=\"text-align: right;\"> 0.0530704</td><td style=\"text-align: right;\">-0.0753458</td><td style=\"text-align: right;\"> 0.030885  </td><td style=\"text-align: right;\">-0.0533182 </td><td style=\"text-align: right;\">-0.0295383 </td><td style=\"text-align: right;\">-0.0179188</td><td style=\"text-align: right;\">-0.0869747 </td><td style=\"text-align: right;\"> 0.0523148 </td><td style=\"text-align: right;\">-0.184258 </td><td style=\"text-align: right;\">-0.00484966</td><td style=\"text-align: right;\"> 0.0606801  </td><td style=\"text-align: right;\">-0.0281541 </td><td style=\"text-align: right;\">-0.017817 </td><td style=\"text-align: right;\"> 0.0139462</td><td style=\"text-align: right;\">-0.0264891 </td><td style=\"text-align: right;\">-0.063101  </td><td style=\"text-align: right;\">0.0422784</td><td style=\"text-align: right;\">-0.134539 </td><td style=\"text-align: right;\">-0.0332137</td><td style=\"text-align: right;\">-0.0768777 </td><td style=\"text-align: right;\">0.142283 </td><td style=\"text-align: right;\"> 0.086025  </td><td style=\"text-align: right;\">-0.0436606</td><td style=\"text-align: right;\">0.114164 </td><td style=\"text-align: right;\">-0.155337 </td><td style=\"text-align: right;\">-0.00846325</td><td style=\"text-align: right;\"> 0.0176193 </td><td style=\"text-align: right;\">0.0261915</td><td style=\"text-align: right;\">-0.0832959</td><td style=\"text-align: right;\"> 0.0530141 </td><td style=\"text-align: right;\">-0.0159271 </td><td style=\"text-align: right;\"> 0.12684  </td><td style=\"text-align: right;\">0.150595  </td><td style=\"text-align: right;\"> 0.0653353</td><td style=\"text-align: right;\">   -0.0753051</td><td style=\"text-align: right;\">  -0.029736  </td><td style=\"text-align: right;\">  -0.0866247 </td><td style=\"text-align: right;\">    0.0452243</td><td style=\"text-align: right;\">   -0.171942 </td><td style=\"text-align: right;\">   -0.234882 </td><td style=\"text-align: right;\">   -0.232682 </td><td style=\"text-align: right;\">  -0.106724  </td><td style=\"text-align: right;\">  -0.0975142 </td><td style=\"text-align: right;\">    -0.169541 </td><td style=\"text-align: right;\">    -0.0493916</td><td style=\"text-align: right;\">     0.118106 </td><td style=\"text-align: right;\">     0.164532 </td><td style=\"text-align: right;\">    0.0607037 </td><td style=\"text-align: right;\">     0.221974 </td><td style=\"text-align: right;\">    -0.0457913</td><td style=\"text-align: right;\">     0.108774 </td><td style=\"text-align: right;\">    0.100701  </td><td style=\"text-align: right;\">    -0.0942214</td><td style=\"text-align: right;\">   -0.178402  </td><td style=\"text-align: right;\">  -0.107356   </td><td style=\"text-align: right;\">     0.0474268</td><td style=\"text-align: right;\">     0.0787934</td><td style=\"text-align: right;\">     0.0677089</td><td style=\"text-align: right;\">     0.0632699</td><td style=\"text-align: right;\">    -0.17356  </td><td style=\"text-align: right;\">    -0.266976 </td><td style=\"text-align: right;\">   -0.0970447 </td><td style=\"text-align: right;\">   -0.00549366</td><td style=\"text-align: right;\">    0.158572  </td><td style=\"text-align: right;\">    -0.0623787</td><td style=\"text-align: right;\">    0.18733   </td><td style=\"text-align: right;\">     0.0645387</td><td style=\"text-align: right;\">     0.0351733</td><td style=\"text-align: right;\">     0.0461669</td><td style=\"text-align: right;\">    0.0571764 </td><td style=\"text-align: right;\">    0.105794  </td><td style=\"text-align: right;\">   -0.116249  </td><td style=\"text-align: right;\">     0.0736771</td><td style=\"text-align: right;\">     0.0693784</td><td style=\"text-align: right;\">    -0.19697  </td><td style=\"text-align: right;\">    0.0226191 </td><td style=\"text-align: right;\">    -0.0385749</td><td style=\"text-align: right;\">     0.0907388</td><td style=\"text-align: right;\">    -0.0842025</td><td style=\"text-align: right;\">    0.0144077 </td><td style=\"text-align: right;\">     0.170383 </td><td style=\"text-align: right;\">    -0.208389 </td><td style=\"text-align: right;\">     0.0431261</td><td style=\"text-align: right;\">   0.0854874  </td><td style=\"text-align: right;\">     0.0143755</td><td style=\"text-align: right;\">     0.0766355</td><td style=\"text-align: right;\">    0.0404916 </td><td style=\"text-align: right;\">   -0.0246873 </td><td style=\"text-align: right;\">    -0.149412 </td><td style=\"text-align: right;\">    -0.11319  </td><td style=\"text-align: right;\">    -0.271795 </td><td style=\"text-align: right;\">     0.0803647</td><td style=\"text-align: right;\">    -0.0941988</td><td style=\"text-align: right;\">  -0.0657854  </td><td style=\"text-align: right;\">     0.0594988</td><td style=\"text-align: right;\">    -0.0483363</td><td style=\"text-align: right;\">    0.0152341 </td><td style=\"text-align: right;\">     0.0388135</td><td style=\"text-align: right;\">     -0.251932</td><td style=\"text-align: right;\">     0.133531 </td><td style=\"text-align: right;\">    -0.0275767</td><td style=\"text-align: right;\">    -0.0160121</td><td style=\"text-align: right;\">    0.0303643 </td><td style=\"text-align: right;\">    -0.101131 </td><td style=\"text-align: right;\">    -0.0414314</td><td style=\"text-align: right;\">     0.0351777</td><td style=\"text-align: right;\">   -0.0884434 </td><td style=\"text-align: right;\">     0.0747404</td><td style=\"text-align: right;\">    -0.243366 </td><td style=\"text-align: right;\">  -0.0620985  </td><td style=\"text-align: right;\">     0.168957 </td><td style=\"text-align: right;\">    -0.0246683</td><td style=\"text-align: right;\">  -0.0950542  </td><td style=\"text-align: right;\">    0.191417  </td><td style=\"text-align: right;\">     0.0586529</td><td style=\"text-align: right;\">    -0.128473 </td><td style=\"text-align: right;\">    -0.0367326</td><td style=\"text-align: right;\">    -0.158696 </td><td style=\"text-align: right;\">    0.0386317 </td><td style=\"text-align: right;\">    -0.161553 </td><td style=\"text-align: right;\">     0.200769 </td><td style=\"text-align: right;\">     0.100733 </td><td style=\"text-align: right;\">     0.0248522</td><td style=\"text-align: right;\">     0.194724 </td><td style=\"text-align: right;\">    -0.257885 </td><td style=\"text-align: right;\">    0.0225525 </td><td style=\"text-align: right;\">    -0.0999832</td><td style=\"text-align: right;\">     0.009002 </td><td style=\"text-align: right;\">    -0.0804036</td><td style=\"text-align: right;\">    0.0642708 </td><td style=\"text-align: right;\">    0.0790278 </td><td style=\"text-align: right;\">     0.0594839</td><td style=\"text-align: right;\">     0.217891 </td><td style=\"text-align: right;\">      0.0848228</td></tr>\n",
              "<tr><td style=\"text-align: right;\">      0</td><td>b&#x27;Great for travel&#x27;                                                      </td><td>b&#x27;I usually either throw my toothbrush in a plastic bag with spare head so this product is very convenient for keeping all the parts apart, dry and undamaged, and i now keep it in my travel bag all the time ready to go.&#x27;                                                                                                                                                                                                                                                                                                                                                                                                                                                                                                                                                                                                                                                                                                                                                                                                                                                                                                      </td><td style=\"text-align: right;\">       4</td><td style=\"text-align: right;\">       1</td><td style=\"text-align: right;\">-0.172815  </td><td style=\"text-align: right;\">-0.0587656 </td><td style=\"text-align: right;\">-0.0889072 </td><td style=\"text-align: right;\"> 0.0497795 </td><td style=\"text-align: right;\"> 0.0114461  </td><td style=\"text-align: right;\">-0.104394 </td><td style=\"text-align: right;\">-0.0417466 </td><td style=\"text-align: right;\"> 0.00495517</td><td style=\"text-align: right;\">-0.069904 </td><td style=\"text-align: right;\">-0.126889 </td><td style=\"text-align: right;\"> 0.0956593</td><td style=\"text-align: right;\"> 0.00300087</td><td style=\"text-align: right;\"> 0.040877 </td><td style=\"text-align: right;\"> 0.0713547</td><td style=\"text-align: right;\">0.109928 </td><td style=\"text-align: right;\"> 0.107341  </td><td style=\"text-align: right;\">-0.0439956 </td><td style=\"text-align: right;\"> 0.0784169 </td><td style=\"text-align: right;\">-0.0473216</td><td style=\"text-align: right;\">-0.21542  </td><td style=\"text-align: right;\">-0.0878525 </td><td style=\"text-align: right;\"> 0.0303333</td><td style=\"text-align: right;\"> 0.0512189</td><td style=\"text-align: right;\"> 0.0334724</td><td style=\"text-align: right;\">-0.0405721</td><td style=\"text-align: right;\">-0.179878  </td><td style=\"text-align: right;\">-0.01899   </td><td style=\"text-align: right;\">-0.139355 </td><td style=\"text-align: right;\"> 0.105212 </td><td style=\"text-align: right;\">-0.148144  </td><td style=\"text-align: right;\"> 0.0994786</td><td style=\"text-align: right;\">0.170663 </td><td style=\"text-align: right;\">-0.0881245 </td><td style=\"text-align: right;\"> 0.0523938</td><td style=\"text-align: right;\"> 0.108103   </td><td style=\"text-align: right;\">-0.140714  </td><td style=\"text-align: right;\"> 0.0678852</td><td style=\"text-align: right;\">-0.131594  </td><td style=\"text-align: right;\">-0.139709 </td><td style=\"text-align: right;\"> 0.112271   </td><td style=\"text-align: right;\">-0.158751  </td><td style=\"text-align: right;\"> 0.0719815 </td><td style=\"text-align: right;\">-0.0353427</td><td style=\"text-align: right;\">0.079349 </td><td style=\"text-align: right;\">-0.0763726</td><td style=\"text-align: right;\"> 0.0862679  </td><td style=\"text-align: right;\"> 0.135778  </td><td style=\"text-align: right;\">-0.102849 </td><td style=\"text-align: right;\"> 0.0302586 </td><td style=\"text-align: right;\">-0.0396604</td><td style=\"text-align: right;\"> 0.129587 </td><td style=\"text-align: right;\">0.134783 </td><td style=\"text-align: right;\"> 0.0264353 </td><td style=\"text-align: right;\">-0.133374 </td><td style=\"text-align: right;\">-0.127687 </td><td style=\"text-align: right;\"> 0.0255274  </td><td style=\"text-align: right;\">-0.10975 </td><td style=\"text-align: right;\">-0.155122 </td><td style=\"text-align: right;\"> 0.0566256 </td><td style=\"text-align: right;\">-0.149231 </td><td style=\"text-align: right;\">-0.102032 </td><td style=\"text-align: right;\"> 0.155817  </td><td style=\"text-align: right;\">0.144932 </td><td style=\"text-align: right;\"> 0.121271  </td><td style=\"text-align: right;\">-0.0394657</td><td style=\"text-align: right;\"> 0.0739121 </td><td style=\"text-align: right;\">-0.121869 </td><td style=\"text-align: right;\"> 0.0751354</td><td style=\"text-align: right;\"> 0.117778  </td><td style=\"text-align: right;\">-0.0407588 </td><td style=\"text-align: right;\">-0.0237813 </td><td style=\"text-align: right;\">-0.121385 </td><td style=\"text-align: right;\"> 0.0483733 </td><td style=\"text-align: right;\"> 0.137392  </td><td style=\"text-align: right;\">-0.0253799</td><td style=\"text-align: right;\">-0.0723383 </td><td style=\"text-align: right;\"> 0.116652   </td><td style=\"text-align: right;\"> 0.120502  </td><td style=\"text-align: right;\">-0.0527462</td><td style=\"text-align: right;\"> 0.0253209</td><td style=\"text-align: right;\"> 0.0302687 </td><td style=\"text-align: right;\">-0.0675395 </td><td style=\"text-align: right;\">0.112218 </td><td style=\"text-align: right;\">-0.09267  </td><td style=\"text-align: right;\">-0.0583255</td><td style=\"text-align: right;\">-0.0912491 </td><td style=\"text-align: right;\">0.0524688</td><td style=\"text-align: right;\"> 0.0554571 </td><td style=\"text-align: right;\">-0.0509934</td><td style=\"text-align: right;\">0.116041 </td><td style=\"text-align: right;\">-0.0214648</td><td style=\"text-align: right;\"> 0.154934  </td><td style=\"text-align: right;\">-0.0616671 </td><td style=\"text-align: right;\">0.0680852</td><td style=\"text-align: right;\">-0.15759  </td><td style=\"text-align: right;\">-0.111854  </td><td style=\"text-align: right;\"> 0.0704045 </td><td style=\"text-align: right;\">-0.0133356</td><td style=\"text-align: right;\">0.140298  </td><td style=\"text-align: right;\">-0.110333 </td><td style=\"text-align: right;\">    0.0159858</td><td style=\"text-align: right;\">  -0.130099  </td><td style=\"text-align: right;\">  -0.292608  </td><td style=\"text-align: right;\">    0.136071 </td><td style=\"text-align: right;\">    0.0495401</td><td style=\"text-align: right;\">   -0.0165489</td><td style=\"text-align: right;\">    0.037489 </td><td style=\"text-align: right;\">  -0.0100392 </td><td style=\"text-align: right;\">   0.0243967 </td><td style=\"text-align: right;\">     0.0676814</td><td style=\"text-align: right;\">     0.136345 </td><td style=\"text-align: right;\">    -0.102295 </td><td style=\"text-align: right;\">     0.117749 </td><td style=\"text-align: right;\">    0.035015  </td><td style=\"text-align: right;\">     0.0553645</td><td style=\"text-align: right;\">     0.13658  </td><td style=\"text-align: right;\">    -0.128237 </td><td style=\"text-align: right;\">   -0.0225042 </td><td style=\"text-align: right;\">    -0.0781563</td><td style=\"text-align: right;\">   -0.0813458 </td><td style=\"text-align: right;\">  -0.195139   </td><td style=\"text-align: right;\">     0.0510913</td><td style=\"text-align: right;\">    -0.177928 </td><td style=\"text-align: right;\">     0.18862  </td><td style=\"text-align: right;\">     0.177182 </td><td style=\"text-align: right;\">     0.0338801</td><td style=\"text-align: right;\">    -0.034505 </td><td style=\"text-align: right;\">   -0.0894634 </td><td style=\"text-align: right;\">    0.0867028 </td><td style=\"text-align: right;\">   -0.200403  </td><td style=\"text-align: right;\">    -0.111456 </td><td style=\"text-align: right;\">   -0.00582913</td><td style=\"text-align: right;\">    -0.369416 </td><td style=\"text-align: right;\">    -0.0566374</td><td style=\"text-align: right;\">     0.33573  </td><td style=\"text-align: right;\">   -0.0963549 </td><td style=\"text-align: right;\">    0.00683951</td><td style=\"text-align: right;\">   -0.140458  </td><td style=\"text-align: right;\">    -0.12345  </td><td style=\"text-align: right;\">     0.279402 </td><td style=\"text-align: right;\">    -0.244301 </td><td style=\"text-align: right;\">   -0.0503962 </td><td style=\"text-align: right;\">    -0.13131  </td><td style=\"text-align: right;\">     0.0326477</td><td style=\"text-align: right;\">    -0.153764 </td><td style=\"text-align: right;\">   -0.00215324</td><td style=\"text-align: right;\">     0.351761 </td><td style=\"text-align: right;\">    -0.0759095</td><td style=\"text-align: right;\">     0.19855  </td><td style=\"text-align: right;\">  -0.0247263  </td><td style=\"text-align: right;\">     0.243996 </td><td style=\"text-align: right;\">     0.0281044</td><td style=\"text-align: right;\">    0.0848695 </td><td style=\"text-align: right;\">    0.00600712</td><td style=\"text-align: right;\">    -0.176672 </td><td style=\"text-align: right;\">    -0.047064 </td><td style=\"text-align: right;\">    -0.245033 </td><td style=\"text-align: right;\">    -0.206481 </td><td style=\"text-align: right;\">     0.093054 </td><td style=\"text-align: right;\">  -0.148778   </td><td style=\"text-align: right;\">     0.0487734</td><td style=\"text-align: right;\">     0.112229 </td><td style=\"text-align: right;\">    0.234467  </td><td style=\"text-align: right;\">    -0.0106185</td><td style=\"text-align: right;\">      0.011115</td><td style=\"text-align: right;\">    -0.098115 </td><td style=\"text-align: right;\">    -0.102227 </td><td style=\"text-align: right;\">     0.0624942</td><td style=\"text-align: right;\">    0.00558738</td><td style=\"text-align: right;\">    -0.0430058</td><td style=\"text-align: right;\">    -0.0981975</td><td style=\"text-align: right;\">    -0.195521 </td><td style=\"text-align: right;\">   -0.0232906 </td><td style=\"text-align: right;\">     0.151758 </td><td style=\"text-align: right;\">     0.0803685</td><td style=\"text-align: right;\">  -0.0401689  </td><td style=\"text-align: right;\">     0.132255 </td><td style=\"text-align: right;\">     0.190483 </td><td style=\"text-align: right;\">  -0.158525   </td><td style=\"text-align: right;\">   -0.0120377 </td><td style=\"text-align: right;\">     0.0683431</td><td style=\"text-align: right;\">    -0.176084 </td><td style=\"text-align: right;\">     0.154417 </td><td style=\"text-align: right;\">    -0.0981588</td><td style=\"text-align: right;\">   -0.104148  </td><td style=\"text-align: right;\">    -0.280725 </td><td style=\"text-align: right;\">     0.331379 </td><td style=\"text-align: right;\">     0.315097 </td><td style=\"text-align: right;\">    -0.21498  </td><td style=\"text-align: right;\">     0.147214 </td><td style=\"text-align: right;\">    -0.0787417</td><td style=\"text-align: right;\">    0.190093  </td><td style=\"text-align: right;\">    -0.20008  </td><td style=\"text-align: right;\">     0.0708431</td><td style=\"text-align: right;\">    -0.0808615</td><td style=\"text-align: right;\">   -0.295076  </td><td style=\"text-align: right;\">    0.0470871 </td><td style=\"text-align: right;\">     0.0862201</td><td style=\"text-align: right;\">    -0.0588466</td><td style=\"text-align: right;\">     -0.241196 </td></tr>\n",
              "<tr><td style=\"text-align: right;\">      0</td><td>b&#x27;Five Stars&#x27;                                                            </td><td>b&#x27;Top quality.&#x27;                                                                                                                                                                                                                                                                                                                                                                                                                                                                                                                                                                                                                                                                                                                                                                                                                                                                                                                                                                                                                                                                                                                   </td><td style=\"text-align: right;\">       5</td><td style=\"text-align: right;\">       1</td><td style=\"text-align: right;\">-0.310827  </td><td style=\"text-align: right;\">-0.160608  </td><td style=\"text-align: right;\">-0.1274    </td><td style=\"text-align: right;\"> 0.0173114 </td><td style=\"text-align: right;\"> 0.0992162  </td><td style=\"text-align: right;\">-0.21487  </td><td style=\"text-align: right;\"> 0.0294656 </td><td style=\"text-align: right;\">-0.0276328 </td><td style=\"text-align: right;\">-0.13903  </td><td style=\"text-align: right;\">-0.165399 </td><td style=\"text-align: right;\"> 0.0354868</td><td style=\"text-align: right;\"> 0.00743709</td><td style=\"text-align: right;\">-0.156466 </td><td style=\"text-align: right;\"> 0.0548282</td><td style=\"text-align: right;\">0.0628496</td><td style=\"text-align: right;\"> 0.0436055 </td><td style=\"text-align: right;\"> 0.104     </td><td style=\"text-align: right;\">-0.118708  </td><td style=\"text-align: right;\">-0.0772754</td><td style=\"text-align: right;\">-0.370285 </td><td style=\"text-align: right;\">-0.00171005</td><td style=\"text-align: right;\"> 0.0167156</td><td style=\"text-align: right;\">-0.0387887</td><td style=\"text-align: right;\">-0.157198 </td><td style=\"text-align: right;\"> 0.180839 </td><td style=\"text-align: right;\"> 0.0631772 </td><td style=\"text-align: right;\">-0.158485  </td><td style=\"text-align: right;\"> 0.0408197</td><td style=\"text-align: right;\"> 0.166148 </td><td style=\"text-align: right;\"> 0.0648308 </td><td style=\"text-align: right;\">-0.0866678</td><td style=\"text-align: right;\">0.090499 </td><td style=\"text-align: right;\"> 0.0595605 </td><td style=\"text-align: right;\">-0.0112761</td><td style=\"text-align: right;\"> 0.145485   </td><td style=\"text-align: right;\"> 0.213908  </td><td style=\"text-align: right;\">-0.097934 </td><td style=\"text-align: right;\">-0.0825539 </td><td style=\"text-align: right;\">-0.219183 </td><td style=\"text-align: right;\"> 0.0768907  </td><td style=\"text-align: right;\"> 0.0639737 </td><td style=\"text-align: right;\">-0.0663617 </td><td style=\"text-align: right;\"> 0.111291 </td><td style=\"text-align: right;\">0.0269483</td><td style=\"text-align: right;\">-0.290576 </td><td style=\"text-align: right;\"> 0.0677275  </td><td style=\"text-align: right;\"> 0.0669747 </td><td style=\"text-align: right;\">-0.232135 </td><td style=\"text-align: right;\">-0.00572447</td><td style=\"text-align: right;\">-0.105835 </td><td style=\"text-align: right;\">-0.0298688</td><td style=\"text-align: right;\">0.313886 </td><td style=\"text-align: right;\"> 0.144445  </td><td style=\"text-align: right;\">-0.275253 </td><td style=\"text-align: right;\">-0.164498 </td><td style=\"text-align: right;\">-0.152943   </td><td style=\"text-align: right;\">-0.200945</td><td style=\"text-align: right;\"> 0.0558273</td><td style=\"text-align: right;\">-0.0575803 </td><td style=\"text-align: right;\"> 0.0114271</td><td style=\"text-align: right;\">-0.125954 </td><td style=\"text-align: right;\"> 0.152885  </td><td style=\"text-align: right;\">0.281458 </td><td style=\"text-align: right;\"> 0.0923846 </td><td style=\"text-align: right;\">-0.0783901</td><td style=\"text-align: right;\"> 0.00265348</td><td style=\"text-align: right;\"> 0.142614 </td><td style=\"text-align: right;\"> 0.0293402</td><td style=\"text-align: right;\">-0.061695  </td><td style=\"text-align: right;\"> 0.243551  </td><td style=\"text-align: right;\">-0.136037  </td><td style=\"text-align: right;\">-0.059607 </td><td style=\"text-align: right;\">-0.0687882 </td><td style=\"text-align: right;\"> 0.103979  </td><td style=\"text-align: right;\">-0.199887 </td><td style=\"text-align: right;\">-0.0501023 </td><td style=\"text-align: right;\"> 0.257136   </td><td style=\"text-align: right;\"> 0.122893  </td><td style=\"text-align: right;\">-0.0812215</td><td style=\"text-align: right;\"> 0.183653 </td><td style=\"text-align: right;\"> 0.047506  </td><td style=\"text-align: right;\"> 0.176205  </td><td style=\"text-align: right;\">0.0143862</td><td style=\"text-align: right;\">-0.125763 </td><td style=\"text-align: right;\">-0.0291094</td><td style=\"text-align: right;\"> 0.0912375 </td><td style=\"text-align: right;\">0.0548747</td><td style=\"text-align: right;\"> 0.0944186 </td><td style=\"text-align: right;\">-0.0265309</td><td style=\"text-align: right;\">0.165091 </td><td style=\"text-align: right;\"> 0.0439272</td><td style=\"text-align: right;\">-0.031927  </td><td style=\"text-align: right;\">-0.199789  </td><td style=\"text-align: right;\">0.355327 </td><td style=\"text-align: right;\">-0.105094 </td><td style=\"text-align: right;\"> 0.133785  </td><td style=\"text-align: right;\"> 0.0373113 </td><td style=\"text-align: right;\"> 0.198479 </td><td style=\"text-align: right;\">0.162912  </td><td style=\"text-align: right;\">-0.0727373</td><td style=\"text-align: right;\">   -0.163492 </td><td style=\"text-align: right;\">   0.227906  </td><td style=\"text-align: right;\">   0.343718  </td><td style=\"text-align: right;\">    0.115404 </td><td style=\"text-align: right;\">    0.099769 </td><td style=\"text-align: right;\">    0.317651 </td><td style=\"text-align: right;\">    0.169797 </td><td style=\"text-align: right;\">  -0.144071  </td><td style=\"text-align: right;\">  -0.0637036 </td><td style=\"text-align: right;\">    -0.198106 </td><td style=\"text-align: right;\">     0.185684 </td><td style=\"text-align: right;\">     0.20869  </td><td style=\"text-align: right;\">    -0.103908 </td><td style=\"text-align: right;\">    0.00807382</td><td style=\"text-align: right;\">    -0.0879187</td><td style=\"text-align: right;\">     0.256705 </td><td style=\"text-align: right;\">     0.0984654</td><td style=\"text-align: right;\">   -0.330611  </td><td style=\"text-align: right;\">    -0.0211544</td><td style=\"text-align: right;\">   -0.108807  </td><td style=\"text-align: right;\">   0.0193155  </td><td style=\"text-align: right;\">     0.0444877</td><td style=\"text-align: right;\">    -0.0887004</td><td style=\"text-align: right;\">    -0.0831728</td><td style=\"text-align: right;\">     0.262776 </td><td style=\"text-align: right;\">     0.0554914</td><td style=\"text-align: right;\">    -0.394176 </td><td style=\"text-align: right;\">    0.0436384 </td><td style=\"text-align: right;\">   -0.253982  </td><td style=\"text-align: right;\">    0.097633  </td><td style=\"text-align: right;\">     0.110637 </td><td style=\"text-align: right;\">    0.0311873 </td><td style=\"text-align: right;\">     0.2647   </td><td style=\"text-align: right;\">     0.289807 </td><td style=\"text-align: right;\">     0.0534869</td><td style=\"text-align: right;\">   -0.58494   </td><td style=\"text-align: right;\">    0.210906  </td><td style=\"text-align: right;\">    0.194954  </td><td style=\"text-align: right;\">     0.0737826</td><td style=\"text-align: right;\">     0.0803208</td><td style=\"text-align: right;\">    -0.323545 </td><td style=\"text-align: right;\">    0.231497  </td><td style=\"text-align: right;\">     0.299723 </td><td style=\"text-align: right;\">     0.165013 </td><td style=\"text-align: right;\">    -0.112519 </td><td style=\"text-align: right;\">   -0.0598674 </td><td style=\"text-align: right;\">     0.180259 </td><td style=\"text-align: right;\">    -0.112975 </td><td style=\"text-align: right;\">    -0.0708379</td><td style=\"text-align: right;\">  -0.0254223  </td><td style=\"text-align: right;\">    -0.165732 </td><td style=\"text-align: right;\">     0.152686 </td><td style=\"text-align: right;\">    0.069473  </td><td style=\"text-align: right;\">   -0.0987884 </td><td style=\"text-align: right;\">    -0.253572 </td><td style=\"text-align: right;\">    -0.0820571</td><td style=\"text-align: right;\">    -0.402326 </td><td style=\"text-align: right;\">     0.0570955</td><td style=\"text-align: right;\">    -0.181198 </td><td style=\"text-align: right;\">  -0.478283   </td><td style=\"text-align: right;\">    -0.263315 </td><td style=\"text-align: right;\">     0.280114 </td><td style=\"text-align: right;\">    0.00972638</td><td style=\"text-align: right;\">    -0.108035 </td><td style=\"text-align: right;\">      0.54481 </td><td style=\"text-align: right;\">    -0.030762 </td><td style=\"text-align: right;\">    -0.148161 </td><td style=\"text-align: right;\">    -0.0645242</td><td style=\"text-align: right;\">   -0.0651717 </td><td style=\"text-align: right;\">    -0.0786369</td><td style=\"text-align: right;\">     0.169278 </td><td style=\"text-align: right;\">    -0.636376 </td><td style=\"text-align: right;\">   -0.013607  </td><td style=\"text-align: right;\">     0.200184 </td><td style=\"text-align: right;\">    -0.379153 </td><td style=\"text-align: right;\">  -0.127044   </td><td style=\"text-align: right;\">     0.0323053</td><td style=\"text-align: right;\">    -0.305556 </td><td style=\"text-align: right;\">   0.0697777  </td><td style=\"text-align: right;\">   -0.145857  </td><td style=\"text-align: right;\">     0.19429  </td><td style=\"text-align: right;\">    -0.126272 </td><td style=\"text-align: right;\">    -0.126947 </td><td style=\"text-align: right;\">     0.0617282</td><td style=\"text-align: right;\">   -0.340992  </td><td style=\"text-align: right;\">     0.161228 </td><td style=\"text-align: right;\">     0.234744 </td><td style=\"text-align: right;\">    -0.0791148</td><td style=\"text-align: right;\">     0.245406 </td><td style=\"text-align: right;\">     0.373384 </td><td style=\"text-align: right;\">    -0.377758 </td><td style=\"text-align: right;\">   -0.233728  </td><td style=\"text-align: right;\">    -0.0925465</td><td style=\"text-align: right;\">    -0.0903181</td><td style=\"text-align: right;\">     0.438945 </td><td style=\"text-align: right;\">   -0.221212  </td><td style=\"text-align: right;\">    0.412024  </td><td style=\"text-align: right;\">     0.547271 </td><td style=\"text-align: right;\">     0.367762 </td><td style=\"text-align: right;\">      0.267793 </td></tr>\n",
              "<tr><td style=\"text-align: right;\">      1</td><td>b&#x27;*Product sent not as shown&#x27;                                            </td><td>b&#x27;Today I received  1 Fl. Oz, Natures Balance AlkaMAX alkaline booster liquid unflavored (formally TriMedica) a glass brown bottle with eye dropper.&lt;br /&gt;Supplement Facts; Serving Size: 10 Drops (Approx. 0.5 mL). Servings per Container: Approx. 60&lt;br /&gt;Amount Per Serving % Daily Value&lt;br /&gt;Magnesium (as Magnesium Chloride) 40 mg 10%&lt;br /&gt;Chloride (as Magnesium Chloride) 64 mg 2%&lt;br /&gt;Other Ingredients: Deionized water and trace mineral complex.&lt;br /&gt;Directions: Add 10 drops to 8 oz. of water or other beverage daily as needed or as directed by your health care practitioner. Store in a cool, dry place.&lt;br /&gt;&lt;br /&gt;I have not used product as of yet with changed ingredients of original/as shown in AlkaMax alkaline support white squeeze bottle.&lt;br /&gt;but had to rate to post...heck this new may be better for all I know.&#x27;                                                                                                                                                                                                                                                                          </td><td style=\"text-align: right;\">       3</td><td style=\"text-align: right;\">       0</td><td style=\"text-align: right;\">-0.00903655</td><td style=\"text-align: right;\">-0.0253567 </td><td style=\"text-align: right;\">-0.00494405</td><td style=\"text-align: right;\"> 0.00626514</td><td style=\"text-align: right;\"> 0.131414   </td><td style=\"text-align: right;\">-0.109395 </td><td style=\"text-align: right;\">-0.00473868</td><td style=\"text-align: right;\"> 0.0788463 </td><td style=\"text-align: right;\"> 0.0275241</td><td style=\"text-align: right;\">-0.113157 </td><td style=\"text-align: right;\"> 0.126383 </td><td style=\"text-align: right;\"> 0.0860847 </td><td style=\"text-align: right;\">-0.0770381</td><td style=\"text-align: right;\"> 0.0421612</td><td style=\"text-align: right;\">0.0559417</td><td style=\"text-align: right;\"> 0.055557  </td><td style=\"text-align: right;\"> 0.0237766 </td><td style=\"text-align: right;\"> 0.109108  </td><td style=\"text-align: right;\">-0.0338206</td><td style=\"text-align: right;\"> 0.01657  </td><td style=\"text-align: right;\">-0.0564186 </td><td style=\"text-align: right;\">-0.127234 </td><td style=\"text-align: right;\">-0.073103 </td><td style=\"text-align: right;\"> 0.0669444</td><td style=\"text-align: right;\">-0.0905245</td><td style=\"text-align: right;\"> 0.034314  </td><td style=\"text-align: right;\">-0.159686  </td><td style=\"text-align: right;\">-0.107026 </td><td style=\"text-align: right;\"> 0.0597512</td><td style=\"text-align: right;\">-0.0719245 </td><td style=\"text-align: right;\"> 0.178934 </td><td style=\"text-align: right;\">0.257192 </td><td style=\"text-align: right;\">-0.148003  </td><td style=\"text-align: right;\"> 0.141521 </td><td style=\"text-align: right;\">-0.076624   </td><td style=\"text-align: right;\">-0.0414647 </td><td style=\"text-align: right;\"> 0.0236792</td><td style=\"text-align: right;\">-0.134808  </td><td style=\"text-align: right;\">-0.172939 </td><td style=\"text-align: right;\">-0.0576639  </td><td style=\"text-align: right;\">-0.113476  </td><td style=\"text-align: right;\"> 0.011008  </td><td style=\"text-align: right;\"> 0.108475 </td><td style=\"text-align: right;\">0.267594 </td><td style=\"text-align: right;\">-0.0744766</td><td style=\"text-align: right;\">-0.0929624  </td><td style=\"text-align: right;\"> 0.00113948</td><td style=\"text-align: right;\"> 0.0601175</td><td style=\"text-align: right;\"> 0.117734  </td><td style=\"text-align: right;\">-0.0234827</td><td style=\"text-align: right;\">-0.121909 </td><td style=\"text-align: right;\">0.0894875</td><td style=\"text-align: right;\"> 0.0652853 </td><td style=\"text-align: right;\">-0.0736613</td><td style=\"text-align: right;\">-0.10772  </td><td style=\"text-align: right;\"> 0.0587148  </td><td style=\"text-align: right;\">-0.176323</td><td style=\"text-align: right;\">-0.121361 </td><td style=\"text-align: right;\"> 0.00616967</td><td style=\"text-align: right;\">-0.0268212</td><td style=\"text-align: right;\"> 0.0260295</td><td style=\"text-align: right;\"> 0.120866  </td><td style=\"text-align: right;\">0.0971529</td><td style=\"text-align: right;\">-0.0587863 </td><td style=\"text-align: right;\">-0.10428  </td><td style=\"text-align: right;\">-0.15477   </td><td style=\"text-align: right;\"> 0.117864 </td><td style=\"text-align: right;\"> 0.152536 </td><td style=\"text-align: right;\">-0.0377076 </td><td style=\"text-align: right;\">-0.183933  </td><td style=\"text-align: right;\">-0.0860289 </td><td style=\"text-align: right;\">-0.0826109</td><td style=\"text-align: right;\"> 0.104963  </td><td style=\"text-align: right;\"> 0.189023  </td><td style=\"text-align: right;\">-0.169084 </td><td style=\"text-align: right;\">-0.166634  </td><td style=\"text-align: right;\">-0.000557473</td><td style=\"text-align: right;\">-0.0233066 </td><td style=\"text-align: right;\"> 0.11605  </td><td style=\"text-align: right;\">-0.0866745</td><td style=\"text-align: right;\"> 0.0702089 </td><td style=\"text-align: right;\"> 0.0293469 </td><td style=\"text-align: right;\">0.0908583</td><td style=\"text-align: right;\">-0.0481588</td><td style=\"text-align: right;\">-0.0555113</td><td style=\"text-align: right;\">-0.00149253</td><td style=\"text-align: right;\">0.0144749</td><td style=\"text-align: right;\"> 0.203332  </td><td style=\"text-align: right;\"> 0.10715  </td><td style=\"text-align: right;\">0.191666 </td><td style=\"text-align: right;\">-0.111055 </td><td style=\"text-align: right;\"> 0.0780266 </td><td style=\"text-align: right;\">-0.0758129 </td><td style=\"text-align: right;\">0.156245 </td><td style=\"text-align: right;\"> 0.0879951</td><td style=\"text-align: right;\"> 0.0404993 </td><td style=\"text-align: right;\">-0.0786247 </td><td style=\"text-align: right;\"> 0.177025 </td><td style=\"text-align: right;\">0.0825289 </td><td style=\"text-align: right;\">-0.0812524</td><td style=\"text-align: right;\">    0.120979 </td><td style=\"text-align: right;\">   0.0829748 </td><td style=\"text-align: right;\">   0.00620563</td><td style=\"text-align: right;\">    0.235714 </td><td style=\"text-align: right;\">    0.139916 </td><td style=\"text-align: right;\">   -0.106569 </td><td style=\"text-align: right;\">    0.148907 </td><td style=\"text-align: right;\">  -0.186155  </td><td style=\"text-align: right;\">   0.00624897</td><td style=\"text-align: right;\">    -0.238608 </td><td style=\"text-align: right;\">     0.0501071</td><td style=\"text-align: right;\">     0.219891 </td><td style=\"text-align: right;\">    -0.0231906</td><td style=\"text-align: right;\">    0.0311765 </td><td style=\"text-align: right;\">     0.0715004</td><td style=\"text-align: right;\">    -0.212322 </td><td style=\"text-align: right;\">     0.0430828</td><td style=\"text-align: right;\">    0.0502371 </td><td style=\"text-align: right;\">     0.0219896</td><td style=\"text-align: right;\">   -0.18375   </td><td style=\"text-align: right;\">  -0.000593603</td><td style=\"text-align: right;\">    -0.125209 </td><td style=\"text-align: right;\">     0.126269 </td><td style=\"text-align: right;\">    -0.0149627</td><td style=\"text-align: right;\">    -0.102425 </td><td style=\"text-align: right;\">     0.322089 </td><td style=\"text-align: right;\">    -0.103639 </td><td style=\"text-align: right;\">   -0.0578406 </td><td style=\"text-align: right;\">    0.00515002</td><td style=\"text-align: right;\">   -0.0602323 </td><td style=\"text-align: right;\">     0.124229 </td><td style=\"text-align: right;\">    0.00584132</td><td style=\"text-align: right;\">    -0.0704987</td><td style=\"text-align: right;\">    -0.069396 </td><td style=\"text-align: right;\">    -0.116577 </td><td style=\"text-align: right;\">   -0.236966  </td><td style=\"text-align: right;\">   -0.113808  </td><td style=\"text-align: right;\">    0.120964  </td><td style=\"text-align: right;\">     0.0161592</td><td style=\"text-align: right;\">     0.0663608</td><td style=\"text-align: right;\">     0.103697 </td><td style=\"text-align: right;\">   -0.0189221 </td><td style=\"text-align: right;\">     0.252153 </td><td style=\"text-align: right;\">     0.207364 </td><td style=\"text-align: right;\">     0.141745 </td><td style=\"text-align: right;\">    0.14385   </td><td style=\"text-align: right;\">    -0.0545072</td><td style=\"text-align: right;\">     0.072775 </td><td style=\"text-align: right;\">    -0.101649 </td><td style=\"text-align: right;\">  -0.000393887</td><td style=\"text-align: right;\">    -0.103998 </td><td style=\"text-align: right;\">     0.117507 </td><td style=\"text-align: right;\">    0.0246566 </td><td style=\"text-align: right;\">   -0.00938989</td><td style=\"text-align: right;\">    -0.162575 </td><td style=\"text-align: right;\">    -0.025051 </td><td style=\"text-align: right;\">    -0.182779 </td><td style=\"text-align: right;\">     0.0190634</td><td style=\"text-align: right;\">    -0.0272356</td><td style=\"text-align: right;\">  -0.332022   </td><td style=\"text-align: right;\">    -0.0132634</td><td style=\"text-align: right;\">     0.0846195</td><td style=\"text-align: right;\">    0.0595077 </td><td style=\"text-align: right;\">     0.0575317</td><td style=\"text-align: right;\">     -0.1298  </td><td style=\"text-align: right;\">    -0.0796421</td><td style=\"text-align: right;\">    -0.0477919</td><td style=\"text-align: right;\">     0.211294 </td><td style=\"text-align: right;\">   -0.0115874 </td><td style=\"text-align: right;\">    -0.152123 </td><td style=\"text-align: right;\">     0.158317 </td><td style=\"text-align: right;\">    -0.0646823</td><td style=\"text-align: right;\">   -0.134587  </td><td style=\"text-align: right;\">     0.105937 </td><td style=\"text-align: right;\">     0.0259681</td><td style=\"text-align: right;\">  -0.13421    </td><td style=\"text-align: right;\">     0.09089  </td><td style=\"text-align: right;\">    -0.0902111</td><td style=\"text-align: right;\">  -0.222519   </td><td style=\"text-align: right;\">    0.193557  </td><td style=\"text-align: right;\">     0.130661 </td><td style=\"text-align: right;\">    -0.128633 </td><td style=\"text-align: right;\">     0.0834356</td><td style=\"text-align: right;\">    -0.0995167</td><td style=\"text-align: right;\">   -0.266671  </td><td style=\"text-align: right;\">     0.105102 </td><td style=\"text-align: right;\">     0.0167775</td><td style=\"text-align: right;\">     0.107398 </td><td style=\"text-align: right;\">    -0.2842   </td><td style=\"text-align: right;\">     0.112822 </td><td style=\"text-align: right;\">    -0.152263 </td><td style=\"text-align: right;\">   -0.00529977</td><td style=\"text-align: right;\">     0.0379796</td><td style=\"text-align: right;\">     0.544932 </td><td style=\"text-align: right;\">    -0.250814 </td><td style=\"text-align: right;\">   -0.117135  </td><td style=\"text-align: right;\">   -0.101536  </td><td style=\"text-align: right;\">     0.217794 </td><td style=\"text-align: right;\">     0.254569 </td><td style=\"text-align: right;\">      0.119594 </td></tr>\n",
              "<tr><td style=\"text-align: right;\">      6</td><td>b&#x27;Seems to work well!&#x27;                                                   </td><td>b&#x27;I recently picked this unit up at Bed and Bath where it was $99.00. With a 20% coupon the price was $80 (so comparison shop!) It\\&#x27;s easy to use and seems to work well. I agree with other reviewers about the noise level (loud like a tea kettle boiling), but I use this unit in the living room area so sleeping is not an issue. Having the 2 separate water reservoirs to fill is much easier, weight-wise, as I previously had another humidifier which had one large water reservoir and it was very heavy when full. The unit comes apart quite easily for cleaning and since frequent cleaning is recommended (I usually do it 1x per week, not daily) this is a definite plus. Additionally, one only needs to use vinegar to clean the inside reservoir, which is a lot cheaper than having to buy some kind of \\\\\\\\&quot;special\\\\\\\\&quot; cleaning solution. My one complaint is that it doesn\\&#x27;t, but should, have an automatic shut off when both tanks are empty.I have to remember to turn the unit off when I leave the house. My previous humidifiers all had this auto turn off; seems like every humidifier should.&#x27;</td><td style=\"text-align: right;\">       4</td><td style=\"text-align: right;\">       1</td><td style=\"text-align: right;\">-0.0700123 </td><td style=\"text-align: right;\">-0.0755902 </td><td style=\"text-align: right;\">-0.0441099 </td><td style=\"text-align: right;\"> 0.114852  </td><td style=\"text-align: right;\"> 0.0179222  </td><td style=\"text-align: right;\">-0.0657074</td><td style=\"text-align: right;\">-0.0816291 </td><td style=\"text-align: right;\">-0.0217387 </td><td style=\"text-align: right;\">-0.0773562</td><td style=\"text-align: right;\">-0.0925149</td><td style=\"text-align: right;\"> 0.0656858</td><td style=\"text-align: right;\"> 0.0678702 </td><td style=\"text-align: right;\">-0.0106703</td><td style=\"text-align: right;\">-0.0337555</td><td style=\"text-align: right;\">0.0646884</td><td style=\"text-align: right;\"> 0.0373544 </td><td style=\"text-align: right;\">-0.0783837 </td><td style=\"text-align: right;\"> 0.0582447 </td><td style=\"text-align: right;\"> 0.0361225</td><td style=\"text-align: right;\">-0.0694977</td><td style=\"text-align: right;\">-0.0672691 </td><td style=\"text-align: right;\"> 0.10625  </td><td style=\"text-align: right;\">-0.0152559</td><td style=\"text-align: right;\"> 0.0413629</td><td style=\"text-align: right;\"> 0.0345047</td><td style=\"text-align: right;\">-0.0671647 </td><td style=\"text-align: right;\">-0.0133872 </td><td style=\"text-align: right;\">-0.18897  </td><td style=\"text-align: right;\"> 0.0698947</td><td style=\"text-align: right;\">-0.0836058 </td><td style=\"text-align: right;\"> 0.0560247</td><td style=\"text-align: right;\">0.191988 </td><td style=\"text-align: right;\">-0.0502634 </td><td style=\"text-align: right;\"> 0.0122876</td><td style=\"text-align: right;\"> 0.0357647  </td><td style=\"text-align: right;\">-0.081288  </td><td style=\"text-align: right;\">-0.0310883</td><td style=\"text-align: right;\">-0.222141  </td><td style=\"text-align: right;\">-0.0880815</td><td style=\"text-align: right;\">-0.0416519  </td><td style=\"text-align: right;\">-0.0792918 </td><td style=\"text-align: right;\"> 0.0146957 </td><td style=\"text-align: right;\"> 0.0303462</td><td style=\"text-align: right;\">0.196525 </td><td style=\"text-align: right;\">-0.14988  </td><td style=\"text-align: right;\">-0.0345581  </td><td style=\"text-align: right;\">-0.0213494 </td><td style=\"text-align: right;\"> 0.0113084</td><td style=\"text-align: right;\"> 0.0878097 </td><td style=\"text-align: right;\">-0.042217 </td><td style=\"text-align: right;\">-0.0179971</td><td style=\"text-align: right;\">0.132255 </td><td style=\"text-align: right;\"> 0.112736  </td><td style=\"text-align: right;\">-0.162002 </td><td style=\"text-align: right;\">-0.160944 </td><td style=\"text-align: right;\"> 0.0416077  </td><td style=\"text-align: right;\">-0.15637 </td><td style=\"text-align: right;\">-0.101512 </td><td style=\"text-align: right;\"> 0.0648536 </td><td style=\"text-align: right;\">-0.112224 </td><td style=\"text-align: right;\">-0.0645472</td><td style=\"text-align: right;\"> 0.0757341 </td><td style=\"text-align: right;\">0.0987148</td><td style=\"text-align: right;\">-0.0306532 </td><td style=\"text-align: right;\">-0.0436045</td><td style=\"text-align: right;\"> 0.0583583 </td><td style=\"text-align: right;\"> 0.0531949</td><td style=\"text-align: right;\"> 0.0175965</td><td style=\"text-align: right;\">-0.087538  </td><td style=\"text-align: right;\">-0.0395171 </td><td style=\"text-align: right;\">-0.0165688 </td><td style=\"text-align: right;\">-0.0919945</td><td style=\"text-align: right;\"> 0.082564  </td><td style=\"text-align: right;\"> 0.00260392</td><td style=\"text-align: right;\">-0.0554851</td><td style=\"text-align: right;\">-0.0573758 </td><td style=\"text-align: right;\"> 0.0547042  </td><td style=\"text-align: right;\"> 0.104837  </td><td style=\"text-align: right;\"> 0.0324786</td><td style=\"text-align: right;\">-0.0866499</td><td style=\"text-align: right;\">-0.00104786</td><td style=\"text-align: right;\">-0.00241115</td><td style=\"text-align: right;\">0.120915 </td><td style=\"text-align: right;\">-0.0649063</td><td style=\"text-align: right;\">-0.0613906</td><td style=\"text-align: right;\">-0.066647  </td><td style=\"text-align: right;\">0.123555 </td><td style=\"text-align: right;\"> 0.0546419 </td><td style=\"text-align: right;\">-0.0261739</td><td style=\"text-align: right;\">0.18747  </td><td style=\"text-align: right;\">-0.109922 </td><td style=\"text-align: right;\"> 0.0994844 </td><td style=\"text-align: right;\">-0.0492771 </td><td style=\"text-align: right;\">0.111745 </td><td style=\"text-align: right;\">-0.0736841</td><td style=\"text-align: right;\"> 0.0114081 </td><td style=\"text-align: right;\">-0.00857411</td><td style=\"text-align: right;\"> 0.105202 </td><td style=\"text-align: right;\">0.0998995 </td><td style=\"text-align: right;\">-0.0485713</td><td style=\"text-align: right;\">   -0.140626 </td><td style=\"text-align: right;\">  -0.25491   </td><td style=\"text-align: right;\">  -0.11924   </td><td style=\"text-align: right;\">    0.260664 </td><td style=\"text-align: right;\">    0.246141 </td><td style=\"text-align: right;\">   -0.0687733</td><td style=\"text-align: right;\">   -0.195607 </td><td style=\"text-align: right;\">  -0.0318834 </td><td style=\"text-align: right;\">  -0.0679092 </td><td style=\"text-align: right;\">    -0.113408 </td><td style=\"text-align: right;\">     0.208079 </td><td style=\"text-align: right;\">     0.0576236</td><td style=\"text-align: right;\">     0.0844069</td><td style=\"text-align: right;\">   -0.0292689 </td><td style=\"text-align: right;\">     0.203864 </td><td style=\"text-align: right;\">    -0.158849 </td><td style=\"text-align: right;\">    -0.0546527</td><td style=\"text-align: right;\">    0.0428316 </td><td style=\"text-align: right;\">    -0.0729102</td><td style=\"text-align: right;\">   -0.155115  </td><td style=\"text-align: right;\">  -0.0505295  </td><td style=\"text-align: right;\">     0.0923113</td><td style=\"text-align: right;\">     0.0218914</td><td style=\"text-align: right;\">    -0.130164 </td><td style=\"text-align: right;\">     0.0657225</td><td style=\"text-align: right;\">    -0.0133251</td><td style=\"text-align: right;\">    -0.0839259</td><td style=\"text-align: right;\">   -0.0268477 </td><td style=\"text-align: right;\">   -0.0480479 </td><td style=\"text-align: right;\">    0.11718   </td><td style=\"text-align: right;\">     0.0853756</td><td style=\"text-align: right;\">   -0.0336284 </td><td style=\"text-align: right;\">    -0.119251 </td><td style=\"text-align: right;\">     0.0119533</td><td style=\"text-align: right;\">     0.0807213</td><td style=\"text-align: right;\">   -0.0318277 </td><td style=\"text-align: right;\">   -0.223547  </td><td style=\"text-align: right;\">   -0.0859483 </td><td style=\"text-align: right;\">    -0.0152153</td><td style=\"text-align: right;\">     0.171051 </td><td style=\"text-align: right;\">    -0.156245 </td><td style=\"text-align: right;\">    0.0603891 </td><td style=\"text-align: right;\">    -0.0218855</td><td style=\"text-align: right;\">     0.034061 </td><td style=\"text-align: right;\">    -0.0393275</td><td style=\"text-align: right;\">    0.0234857 </td><td style=\"text-align: right;\">     0.0411991</td><td style=\"text-align: right;\">     0.0732481</td><td style=\"text-align: right;\">     0.0949444</td><td style=\"text-align: right;\">  -0.0903191  </td><td style=\"text-align: right;\">     0.0279208</td><td style=\"text-align: right;\">     0.104066 </td><td style=\"text-align: right;\">    0.0842026 </td><td style=\"text-align: right;\">   -0.0799557 </td><td style=\"text-align: right;\">    -0.0171494</td><td style=\"text-align: right;\">     0.189929 </td><td style=\"text-align: right;\">    -0.0814502</td><td style=\"text-align: right;\">    -0.101632 </td><td style=\"text-align: right;\">    -0.0416616</td><td style=\"text-align: right;\">   0.074845   </td><td style=\"text-align: right;\">     0.0791772</td><td style=\"text-align: right;\">     0.059109 </td><td style=\"text-align: right;\">    0.156143  </td><td style=\"text-align: right;\">     0.0649848</td><td style=\"text-align: right;\">     -0.233657</td><td style=\"text-align: right;\">     0.0540461</td><td style=\"text-align: right;\">     0.151241 </td><td style=\"text-align: right;\">     0.173787 </td><td style=\"text-align: right;\">   -0.0857801 </td><td style=\"text-align: right;\">    -0.0572734</td><td style=\"text-align: right;\">     0.032547 </td><td style=\"text-align: right;\">    -0.185388 </td><td style=\"text-align: right;\">    0.00178564</td><td style=\"text-align: right;\">     0.0544838</td><td style=\"text-align: right;\">    -0.0914003</td><td style=\"text-align: right;\">  -0.0677825  </td><td style=\"text-align: right;\">     0.0110373</td><td style=\"text-align: right;\">     0.11155  </td><td style=\"text-align: right;\">  -0.000485164</td><td style=\"text-align: right;\">    0.00368561</td><td style=\"text-align: right;\">     0.0937775</td><td style=\"text-align: right;\">    -0.0323634</td><td style=\"text-align: right;\">     0.0139231</td><td style=\"text-align: right;\">    -0.0658518</td><td style=\"text-align: right;\">   -0.0951342 </td><td style=\"text-align: right;\">    -0.0833336</td><td style=\"text-align: right;\">     0.266806 </td><td style=\"text-align: right;\">     0.0166819</td><td style=\"text-align: right;\">    -0.0197855</td><td style=\"text-align: right;\">     0.196836 </td><td style=\"text-align: right;\">    -0.217558 </td><td style=\"text-align: right;\">    0.0452936 </td><td style=\"text-align: right;\">    -0.0912337</td><td style=\"text-align: right;\">     0.175194 </td><td style=\"text-align: right;\">    -0.038956 </td><td style=\"text-align: right;\">   -0.0210938 </td><td style=\"text-align: right;\">    0.171683  </td><td style=\"text-align: right;\">    -0.0604218</td><td style=\"text-align: right;\">     0.0554926</td><td style=\"text-align: right;\">      0.177162 </td></tr>\n",
              "<tr><td style=\"text-align: right;\">      8</td><td>b&#x27;deep heat?????&#x27;                                                        </td><td>b&#x27;Not sure what previous reviewer was talking about. The product uses ULTRASOUND waves for pain relief NOT heat.  After repeated use, the pain in my knee and shoulder was feeling great. I think you should re-read the description and reconsider your opinion. Great product sold by a great company.&#x27;                                                                                                                                                                                                                                                                                                                                                                                                                                                                                                                                                                                                                                                                                                                                                                                                                         </td><td style=\"text-align: right;\">       5</td><td style=\"text-align: right;\">       1</td><td style=\"text-align: right;\"> 0.0840595 </td><td style=\"text-align: right;\"> 0.0317886 </td><td style=\"text-align: right;\">-0.1149    </td><td style=\"text-align: right;\"> 0.0947545 </td><td style=\"text-align: right;\"> 0.0398061  </td><td style=\"text-align: right;\">-0.0974046</td><td style=\"text-align: right;\">-0.0450777 </td><td style=\"text-align: right;\">-0.0990161 </td><td style=\"text-align: right;\">-0.0290951</td><td style=\"text-align: right;\">-0.149748 </td><td style=\"text-align: right;\">-0.0119095</td><td style=\"text-align: right;\"> 0.10379   </td><td style=\"text-align: right;\"> 0.0485063</td><td style=\"text-align: right;\">-0.0293204</td><td style=\"text-align: right;\">0.144991 </td><td style=\"text-align: right;\">-0.0563021 </td><td style=\"text-align: right;\"> 0.0414489 </td><td style=\"text-align: right;\"> 0.056878  </td><td style=\"text-align: right;\">-0.15167  </td><td style=\"text-align: right;\">-0.0786006</td><td style=\"text-align: right;\"> 0.0159198 </td><td style=\"text-align: right;\"> 0.0795398</td><td style=\"text-align: right;\"> 0.11442  </td><td style=\"text-align: right;\"> 0.0639463</td><td style=\"text-align: right;\"> 0.0343668</td><td style=\"text-align: right;\"> 0.0619479 </td><td style=\"text-align: right;\"> 0.00264803</td><td style=\"text-align: right;\">-0.252737 </td><td style=\"text-align: right;\">-0.0914874</td><td style=\"text-align: right;\">-0.102676  </td><td style=\"text-align: right;\"> 0.025669 </td><td style=\"text-align: right;\">0.0823435</td><td style=\"text-align: right;\"> 0.00164884</td><td style=\"text-align: right;\">-0.0171837</td><td style=\"text-align: right;\"> 0.0174331  </td><td style=\"text-align: right;\">-0.0762064 </td><td style=\"text-align: right;\">-0.0936401</td><td style=\"text-align: right;\">-0.00253468</td><td style=\"text-align: right;\"> 0.0246649</td><td style=\"text-align: right;\">-0.000505813</td><td style=\"text-align: right;\">-0.074779  </td><td style=\"text-align: right;\"> 0.132116  </td><td style=\"text-align: right;\"> 0.0538422</td><td style=\"text-align: right;\">0.135271 </td><td style=\"text-align: right;\">-0.0197144</td><td style=\"text-align: right;\">-0.0270327  </td><td style=\"text-align: right;\"> 0.132716  </td><td style=\"text-align: right;\"> 0.0378224</td><td style=\"text-align: right;\"> 0.0386385 </td><td style=\"text-align: right;\">-0.0566851</td><td style=\"text-align: right;\"> 0.0229601</td><td style=\"text-align: right;\">0.148181 </td><td style=\"text-align: right;\">-0.0353839 </td><td style=\"text-align: right;\">-0.153741 </td><td style=\"text-align: right;\">-0.1224   </td><td style=\"text-align: right;\"> 6.24577e-05</td><td style=\"text-align: right;\">-0.172379</td><td style=\"text-align: right;\">-0.0604564</td><td style=\"text-align: right;\"> 0.0472272 </td><td style=\"text-align: right;\">-0.0764659</td><td style=\"text-align: right;\"> 0.0475961</td><td style=\"text-align: right;\"> 0.129683  </td><td style=\"text-align: right;\">0.0306189</td><td style=\"text-align: right;\">-0.0130726 </td><td style=\"text-align: right;\">-0.0634564</td><td style=\"text-align: right;\">-0.0597532 </td><td style=\"text-align: right;\"> 0.0714917</td><td style=\"text-align: right;\"> 0.0409405</td><td style=\"text-align: right;\">-0.113003  </td><td style=\"text-align: right;\">-0.00936155</td><td style=\"text-align: right;\"> 0.0733388 </td><td style=\"text-align: right;\">-0.0602114</td><td style=\"text-align: right;\">-0.0275399 </td><td style=\"text-align: right;\"> 0.0545474 </td><td style=\"text-align: right;\"> 0.0165447</td><td style=\"text-align: right;\">-0.0336585 </td><td style=\"text-align: right;\">-0.0149745  </td><td style=\"text-align: right;\">-0.086931  </td><td style=\"text-align: right;\">-0.0519207</td><td style=\"text-align: right;\">-0.0800841</td><td style=\"text-align: right;\">-0.00913092</td><td style=\"text-align: right;\">-0.0203093 </td><td style=\"text-align: right;\">0.131352 </td><td style=\"text-align: right;\">-0.0835398</td><td style=\"text-align: right;\">-0.0801039</td><td style=\"text-align: right;\"> 0.0313949 </td><td style=\"text-align: right;\">0.265224 </td><td style=\"text-align: right;\"> 0.0817965 </td><td style=\"text-align: right;\">-0.0631238</td><td style=\"text-align: right;\">0.185527 </td><td style=\"text-align: right;\">-0.113298 </td><td style=\"text-align: right;\"> 0.0875401 </td><td style=\"text-align: right;\">-0.034366  </td><td style=\"text-align: right;\">0.148932 </td><td style=\"text-align: right;\">-0.0406646</td><td style=\"text-align: right;\"> 0.0206936 </td><td style=\"text-align: right;\">-0.0179154 </td><td style=\"text-align: right;\"> 0.161598 </td><td style=\"text-align: right;\">0.0667575 </td><td style=\"text-align: right;\"> 0.0707948</td><td style=\"text-align: right;\">    0.299311 </td><td style=\"text-align: right;\">   0.0232813 </td><td style=\"text-align: right;\">  -0.431845  </td><td style=\"text-align: right;\">    0.0317446</td><td style=\"text-align: right;\">    0.0318922</td><td style=\"text-align: right;\">   -0.131417 </td><td style=\"text-align: right;\">   -0.0809407</td><td style=\"text-align: right;\">   0.243573  </td><td style=\"text-align: right;\">  -0.0385871 </td><td style=\"text-align: right;\">    -0.269517 </td><td style=\"text-align: right;\">    -0.189584 </td><td style=\"text-align: right;\">    -0.0964828</td><td style=\"text-align: right;\">     0.0386357</td><td style=\"text-align: right;\">    0.122704  </td><td style=\"text-align: right;\">     0.10685  </td><td style=\"text-align: right;\">     0.10513  </td><td style=\"text-align: right;\">     0.0733714</td><td style=\"text-align: right;\">   -0.304302  </td><td style=\"text-align: right;\">    -0.159484 </td><td style=\"text-align: right;\">    0.140032  </td><td style=\"text-align: right;\">   0.112795   </td><td style=\"text-align: right;\">     0.0167339</td><td style=\"text-align: right;\">    -0.0493411</td><td style=\"text-align: right;\">    -0.0643649</td><td style=\"text-align: right;\">     0.0345789</td><td style=\"text-align: right;\">     0.0114013</td><td style=\"text-align: right;\">     0.265888 </td><td style=\"text-align: right;\">   -0.213838  </td><td style=\"text-align: right;\">    0.0406624 </td><td style=\"text-align: right;\">   -0.144165  </td><td style=\"text-align: right;\">     0.215478 </td><td style=\"text-align: right;\">    0.0630156 </td><td style=\"text-align: right;\">     0.267403 </td><td style=\"text-align: right;\">     0.165976 </td><td style=\"text-align: right;\">     0.181256 </td><td style=\"text-align: right;\">   -0.0700189 </td><td style=\"text-align: right;\">   -0.291373  </td><td style=\"text-align: right;\">   -0.339512  </td><td style=\"text-align: right;\">     0.0986073</td><td style=\"text-align: right;\">    -0.0374243</td><td style=\"text-align: right;\">    -0.338471 </td><td style=\"text-align: right;\">    0.225302  </td><td style=\"text-align: right;\">    -0.170626 </td><td style=\"text-align: right;\">     0.11854  </td><td style=\"text-align: right;\">    -0.11664  </td><td style=\"text-align: right;\">   -0.105014  </td><td style=\"text-align: right;\">     0.19124  </td><td style=\"text-align: right;\">     0.0472556</td><td style=\"text-align: right;\">    -0.149348 </td><td style=\"text-align: right;\">   0.0229902  </td><td style=\"text-align: right;\">     0.0481453</td><td style=\"text-align: right;\">     0.223754 </td><td style=\"text-align: right;\">   -0.0306592 </td><td style=\"text-align: right;\">   -0.25777   </td><td style=\"text-align: right;\">    -0.293906 </td><td style=\"text-align: right;\">     0.493481 </td><td style=\"text-align: right;\">    -0.0765686</td><td style=\"text-align: right;\">    -0.265361 </td><td style=\"text-align: right;\">     0.0631294</td><td style=\"text-align: right;\">  -0.128462   </td><td style=\"text-align: right;\">     0.214689 </td><td style=\"text-align: right;\">     0.154513 </td><td style=\"text-align: right;\">    0.146466  </td><td style=\"text-align: right;\">    -0.143243 </td><td style=\"text-align: right;\">      0.198576</td><td style=\"text-align: right;\">     0.0250991</td><td style=\"text-align: right;\">     0.214719 </td><td style=\"text-align: right;\">     0.137103 </td><td style=\"text-align: right;\">    0.44273   </td><td style=\"text-align: right;\">     0.258633 </td><td style=\"text-align: right;\">     0.190277 </td><td style=\"text-align: right;\">     0.26416  </td><td style=\"text-align: right;\">    0.136906  </td><td style=\"text-align: right;\">    -0.0257348</td><td style=\"text-align: right;\">     0.0133232</td><td style=\"text-align: right;\">  -0.0519813  </td><td style=\"text-align: right;\">     0.0884682</td><td style=\"text-align: right;\">    -0.0168245</td><td style=\"text-align: right;\">   0.25061    </td><td style=\"text-align: right;\">   -0.064566  </td><td style=\"text-align: right;\">    -0.220488 </td><td style=\"text-align: right;\">     0.18126  </td><td style=\"text-align: right;\">     0.0825793</td><td style=\"text-align: right;\">    -0.0507196</td><td style=\"text-align: right;\">    0.0176986 </td><td style=\"text-align: right;\">     0.15905  </td><td style=\"text-align: right;\">     0.354624 </td><td style=\"text-align: right;\">    -0.30753  </td><td style=\"text-align: right;\">    -0.265513 </td><td style=\"text-align: right;\">     0.545701 </td><td style=\"text-align: right;\">    -0.27205  </td><td style=\"text-align: right;\">    0.0540399 </td><td style=\"text-align: right;\">    -0.183207 </td><td style=\"text-align: right;\">     0.19261  </td><td style=\"text-align: right;\">     0.273618 </td><td style=\"text-align: right;\">   -0.00504708</td><td style=\"text-align: right;\">   -0.170694  </td><td style=\"text-align: right;\">     0.337991 </td><td style=\"text-align: right;\">     0.162529 </td><td style=\"text-align: right;\">     -0.129925 </td></tr>\n",
              "<tr><td style=\"text-align: right;\">      2</td><td>b&#x27;Thermometer for a toddler&#x27;                                             </td><td>b&quot;The shippers were great....willing to consider speedier shipping options, but in the end the standard shipping arrived quickly enough. The thermometer is fun and easy to use, but with an inquisitive toddler, it would be nice to have the plastic cap attached to the body so that it doesn&#x27;t disappear.  Would buy it again from these sellers.&quot;                                                                                                                                                                                                                                                                                                                                                                                                                                                                                                                                                                                                                                                                                                                                                                            </td><td style=\"text-align: right;\">       4</td><td style=\"text-align: right;\">       1</td><td style=\"text-align: right;\">-0.0849908 </td><td style=\"text-align: right;\">-0.062714  </td><td style=\"text-align: right;\">-0.121164  </td><td style=\"text-align: right;\"> 0.106578  </td><td style=\"text-align: right;\">-0.0425393  </td><td style=\"text-align: right;\">-0.185519 </td><td style=\"text-align: right;\">-0.0505359 </td><td style=\"text-align: right;\">-0.0836633 </td><td style=\"text-align: right;\">-0.110553 </td><td style=\"text-align: right;\">-0.0236404</td><td style=\"text-align: right;\"> 0.0216428</td><td style=\"text-align: right;\"> 0.0220242 </td><td style=\"text-align: right;\">-0.0182792</td><td style=\"text-align: right;\"> 0.0563114</td><td style=\"text-align: right;\">0.102158 </td><td style=\"text-align: right;\">-0.00764907</td><td style=\"text-align: right;\"> 0.0884398 </td><td style=\"text-align: right;\"> 0.00739399</td><td style=\"text-align: right;\">-0.0720289</td><td style=\"text-align: right;\">-0.181937 </td><td style=\"text-align: right;\">-0.083894  </td><td style=\"text-align: right;\"> 0.0157597</td><td style=\"text-align: right;\"> 0.147528 </td><td style=\"text-align: right;\">-0.0085156</td><td style=\"text-align: right;\">-0.0096997</td><td style=\"text-align: right;\">-0.0139153 </td><td style=\"text-align: right;\">-0.0420663 </td><td style=\"text-align: right;\">-0.0745466</td><td style=\"text-align: right;\">-0.0717167</td><td style=\"text-align: right;\">-0.170344  </td><td style=\"text-align: right;\"> 0.0321518</td><td style=\"text-align: right;\">0.0957299</td><td style=\"text-align: right;\">-0.0925658 </td><td style=\"text-align: right;\"> 0.106943 </td><td style=\"text-align: right;\"> 0.0632964  </td><td style=\"text-align: right;\">-0.0953753 </td><td style=\"text-align: right;\">-0.0333437</td><td style=\"text-align: right;\">-0.0928539 </td><td style=\"text-align: right;\">-0.0713421</td><td style=\"text-align: right;\"> 0.105415   </td><td style=\"text-align: right;\">-0.00649964</td><td style=\"text-align: right;\">-0.0208706 </td><td style=\"text-align: right;\"> 0.077052 </td><td style=\"text-align: right;\">0.0896145</td><td style=\"text-align: right;\">-0.0909913</td><td style=\"text-align: right;\">-0.000885718</td><td style=\"text-align: right;\"> 0.0493907 </td><td style=\"text-align: right;\">-0.0328254</td><td style=\"text-align: right;\"> 0.00130843</td><td style=\"text-align: right;\">-0.0513432</td><td style=\"text-align: right;\"> 0.0321302</td><td style=\"text-align: right;\">0.120137 </td><td style=\"text-align: right;\"> 0.0116222 </td><td style=\"text-align: right;\">-0.0637078</td><td style=\"text-align: right;\">-0.142518 </td><td style=\"text-align: right;\">-0.0383079  </td><td style=\"text-align: right;\">-0.138323</td><td style=\"text-align: right;\">-0.0747884</td><td style=\"text-align: right;\"> 0.070589  </td><td style=\"text-align: right;\">-0.143215 </td><td style=\"text-align: right;\"> 0.0165615</td><td style=\"text-align: right;\"> 0.0967231 </td><td style=\"text-align: right;\">0.0590231</td><td style=\"text-align: right;\"> 0.0235435 </td><td style=\"text-align: right;\">-0.0565074</td><td style=\"text-align: right;\"> 0.0524896 </td><td style=\"text-align: right;\">-0.0726494</td><td style=\"text-align: right;\"> 0.127563 </td><td style=\"text-align: right;\">-0.0449377 </td><td style=\"text-align: right;\">-0.0170753 </td><td style=\"text-align: right;\">-0.037836  </td><td style=\"text-align: right;\">-0.0687208</td><td style=\"text-align: right;\"> 0.0508954 </td><td style=\"text-align: right;\"> 0.147309  </td><td style=\"text-align: right;\">-0.118728 </td><td style=\"text-align: right;\">-0.0855443 </td><td style=\"text-align: right;\"> 0.0772917  </td><td style=\"text-align: right;\"> 0.0420196 </td><td style=\"text-align: right;\">-0.0352316</td><td style=\"text-align: right;\">-0.140368 </td><td style=\"text-align: right;\"> 0.0315235 </td><td style=\"text-align: right;\">-0.10422   </td><td style=\"text-align: right;\">0.118639 </td><td style=\"text-align: right;\">-0.0210698</td><td style=\"text-align: right;\">-0.0627733</td><td style=\"text-align: right;\"> 0.0813124 </td><td style=\"text-align: right;\">0.100555 </td><td style=\"text-align: right;\"> 0.0463809 </td><td style=\"text-align: right;\">-0.0964949</td><td style=\"text-align: right;\">0.137309 </td><td style=\"text-align: right;\">-0.120406 </td><td style=\"text-align: right;\"> 0.0641728 </td><td style=\"text-align: right;\">-0.100043  </td><td style=\"text-align: right;\">0.194678 </td><td style=\"text-align: right;\">-0.0837309</td><td style=\"text-align: right;\"> 0.00120358</td><td style=\"text-align: right;\"> 0.0293834 </td><td style=\"text-align: right;\"> 0.0902609</td><td style=\"text-align: right;\">0.143333  </td><td style=\"text-align: right;\">-0.0131671</td><td style=\"text-align: right;\">   -0.0714275</td><td style=\"text-align: right;\">   0.00554033</td><td style=\"text-align: right;\">  -0.39875   </td><td style=\"text-align: right;\">    0.0253764</td><td style=\"text-align: right;\">   -0.201058 </td><td style=\"text-align: right;\">   -0.092701 </td><td style=\"text-align: right;\">   -0.331389 </td><td style=\"text-align: right;\">  -0.418853  </td><td style=\"text-align: right;\">  -0.0557784 </td><td style=\"text-align: right;\">     0.233857 </td><td style=\"text-align: right;\">     0.309992 </td><td style=\"text-align: right;\">    -0.132375 </td><td style=\"text-align: right;\">    -0.180643 </td><td style=\"text-align: right;\">   -0.0503634 </td><td style=\"text-align: right;\">    -0.122035 </td><td style=\"text-align: right;\">    -0.151011 </td><td style=\"text-align: right;\">     0.24435  </td><td style=\"text-align: right;\">    0.00557573</td><td style=\"text-align: right;\">    -0.441932 </td><td style=\"text-align: right;\">   -0.00367953</td><td style=\"text-align: right;\">  -0.148467   </td><td style=\"text-align: right;\">    -0.0763268</td><td style=\"text-align: right;\">     0.70178  </td><td style=\"text-align: right;\">    -0.0192712</td><td style=\"text-align: right;\">     0.0386895</td><td style=\"text-align: right;\">    -0.466115 </td><td style=\"text-align: right;\">    -0.111533 </td><td style=\"text-align: right;\">   -0.00565983</td><td style=\"text-align: right;\">    0.139174  </td><td style=\"text-align: right;\">   -0.481665  </td><td style=\"text-align: right;\">    -0.181986 </td><td style=\"text-align: right;\">   -0.123128  </td><td style=\"text-align: right;\">    -0.348753 </td><td style=\"text-align: right;\">    -0.0979024</td><td style=\"text-align: right;\">    -0.0901397</td><td style=\"text-align: right;\">   -0.632769  </td><td style=\"text-align: right;\">    0.344429  </td><td style=\"text-align: right;\">    0.0113514 </td><td style=\"text-align: right;\">     0.151478 </td><td style=\"text-align: right;\">     0.288779 </td><td style=\"text-align: right;\">     0.0581275</td><td style=\"text-align: right;\">   -0.125319  </td><td style=\"text-align: right;\">    -0.166561 </td><td style=\"text-align: right;\">     0.237035 </td><td style=\"text-align: right;\">    -0.0770858</td><td style=\"text-align: right;\">   -0.0557369 </td><td style=\"text-align: right;\">    -0.418872 </td><td style=\"text-align: right;\">     0.0611035</td><td style=\"text-align: right;\">    -0.27578  </td><td style=\"text-align: right;\">   0.0208323  </td><td style=\"text-align: right;\">     0.166612 </td><td style=\"text-align: right;\">    -0.0984145</td><td style=\"text-align: right;\">    0.0159797 </td><td style=\"text-align: right;\">   -0.0671778 </td><td style=\"text-align: right;\">    -0.30028  </td><td style=\"text-align: right;\">     0.139302 </td><td style=\"text-align: right;\">    -0.0591148</td><td style=\"text-align: right;\">    -0.189158 </td><td style=\"text-align: right;\">     0.0701005</td><td style=\"text-align: right;\">   0.0551124  </td><td style=\"text-align: right;\">     0.335717 </td><td style=\"text-align: right;\">     0.335239 </td><td style=\"text-align: right;\">    0.0560688 </td><td style=\"text-align: right;\">     0.353229 </td><td style=\"text-align: right;\">      0.141279</td><td style=\"text-align: right;\">    -0.336376 </td><td style=\"text-align: right;\">    -0.428485 </td><td style=\"text-align: right;\">     0.362744 </td><td style=\"text-align: right;\">   -0.675442  </td><td style=\"text-align: right;\">    -0.195077 </td><td style=\"text-align: right;\">    -0.217799 </td><td style=\"text-align: right;\">     0.373304 </td><td style=\"text-align: right;\">    0.174249  </td><td style=\"text-align: right;\">     0.184251 </td><td style=\"text-align: right;\">    -0.149861 </td><td style=\"text-align: right;\">  -0.000720829</td><td style=\"text-align: right;\">    -0.310162 </td><td style=\"text-align: right;\">     0.215226 </td><td style=\"text-align: right;\">  -0.0426452  </td><td style=\"text-align: right;\">   -0.492803  </td><td style=\"text-align: right;\">    -0.214405 </td><td style=\"text-align: right;\">     0.105945 </td><td style=\"text-align: right;\">     0.185359 </td><td style=\"text-align: right;\">    -0.172777 </td><td style=\"text-align: right;\">    0.242552  </td><td style=\"text-align: right;\">    -0.0913973</td><td style=\"text-align: right;\">    -0.196888 </td><td style=\"text-align: right;\">    -0.34442  </td><td style=\"text-align: right;\">    -0.0287296</td><td style=\"text-align: right;\">     0.461449 </td><td style=\"text-align: right;\">    -0.614639 </td><td style=\"text-align: right;\">   -0.0661779 </td><td style=\"text-align: right;\">     0.11069  </td><td style=\"text-align: right;\">    -0.0386952</td><td style=\"text-align: right;\">    -0.236454 </td><td style=\"text-align: right;\">   -0.0982069 </td><td style=\"text-align: right;\">    0.346972  </td><td style=\"text-align: right;\">     0.113532 </td><td style=\"text-align: right;\">     0.449969 </td><td style=\"text-align: right;\">     -0.291495 </td></tr>\n",
              "<tr><td style=\"text-align: right;\">      2</td><td>b&#x27;Wow!&#x27;                                                                  </td><td>b&quot;Man, for all you who know what I&#x27;m talking about, this is the best thing I&#x27;ve ever had on my back.  I suffer from back pain constantly and find myself waking up in the middle of the night pushing parts of my back and neck on the edges of walls on the corners of doors and sometimes lying down on tennis or racket balls to get pressure on those dang trigger points.  I opted for the body sticks package not knowing what they would do and it was a good thing.  They are like have racket balls on the ends of sticks to beat your muscle spasms and to lie down on them rolling around on your back. It is worth the money.  They use a device similar to this in physical therapy so if you get your doctor to write you a script for it, insurance may very well pay for it like mine did.  Even so, paid or not, buy this sucker.  Buy two, I thought, just in case it breaks and they for some reason stop manufacturing this thing.  Good stuff.&quot;                                                                                                                                                              </td><td style=\"text-align: right;\">       5</td><td style=\"text-align: right;\">       1</td><td style=\"text-align: right;\">-0.110877  </td><td style=\"text-align: right;\">-0.00259527</td><td style=\"text-align: right;\">-0.152266  </td><td style=\"text-align: right;\"> 0.0485062 </td><td style=\"text-align: right;\">-0.0071582  </td><td style=\"text-align: right;\">-0.108389 </td><td style=\"text-align: right;\">-0.0428216 </td><td style=\"text-align: right;\">-0.0332419 </td><td style=\"text-align: right;\">-0.0438787</td><td style=\"text-align: right;\">-0.162783 </td><td style=\"text-align: right;\"> 0.0243054</td><td style=\"text-align: right;\"> 0.0216243 </td><td style=\"text-align: right;\"> 0.0919538</td><td style=\"text-align: right;\">-0.0218899</td><td style=\"text-align: right;\">0.0508308</td><td style=\"text-align: right;\">-0.0061505 </td><td style=\"text-align: right;\"> 0.0718847 </td><td style=\"text-align: right;\"> 0.0707027 </td><td style=\"text-align: right;\">-0.0446554</td><td style=\"text-align: right;\">-0.132158 </td><td style=\"text-align: right;\"> 0.0463972 </td><td style=\"text-align: right;\"> 0.0167101</td><td style=\"text-align: right;\"> 0.111317 </td><td style=\"text-align: right;\"> 0.0425385</td><td style=\"text-align: right;\"> 0.0728563</td><td style=\"text-align: right;\">-0.0751699 </td><td style=\"text-align: right;\">-0.0298243 </td><td style=\"text-align: right;\">-0.194423 </td><td style=\"text-align: right;\">-0.121894 </td><td style=\"text-align: right;\">-0.107325  </td><td style=\"text-align: right;\"> 0.037976 </td><td style=\"text-align: right;\">0.0925969</td><td style=\"text-align: right;\">-0.0259309 </td><td style=\"text-align: right;\"> 0.0874642</td><td style=\"text-align: right;\"> 0.00163731 </td><td style=\"text-align: right;\">-0.0350027 </td><td style=\"text-align: right;\">-0.162082 </td><td style=\"text-align: right;\"> 0.0194025 </td><td style=\"text-align: right;\">-0.0235276</td><td style=\"text-align: right;\">-0.0131249  </td><td style=\"text-align: right;\">-0.0891718 </td><td style=\"text-align: right;\"> 0.0309852 </td><td style=\"text-align: right;\"> 0.0074109</td><td style=\"text-align: right;\">0.15982  </td><td style=\"text-align: right;\"> 0.0271674</td><td style=\"text-align: right;\"> 0.00510577 </td><td style=\"text-align: right;\"> 0.0653896 </td><td style=\"text-align: right;\">-0.0637506</td><td style=\"text-align: right;\"> 0.0256428 </td><td style=\"text-align: right;\">-0.08005  </td><td style=\"text-align: right;\"> 0.062896 </td><td style=\"text-align: right;\">0.0884839</td><td style=\"text-align: right;\"> 0.00536357</td><td style=\"text-align: right;\">-0.183409 </td><td style=\"text-align: right;\">-0.0924869</td><td style=\"text-align: right;\">-0.00279895 </td><td style=\"text-align: right;\">-0.20265 </td><td style=\"text-align: right;\">-0.0522654</td><td style=\"text-align: right;\"> 0.0603872 </td><td style=\"text-align: right;\">-0.0356083</td><td style=\"text-align: right;\">-0.0178062</td><td style=\"text-align: right;\"> 0.0924892 </td><td style=\"text-align: right;\">0.081732 </td><td style=\"text-align: right;\"> 0.0663242 </td><td style=\"text-align: right;\">-0.070935 </td><td style=\"text-align: right;\"> 0.119916  </td><td style=\"text-align: right;\"> 0.0237384</td><td style=\"text-align: right;\"> 0.141392 </td><td style=\"text-align: right;\"> 0.0428572 </td><td style=\"text-align: right;\"> 0.0780684 </td><td style=\"text-align: right;\"> 0.00449282</td><td style=\"text-align: right;\"> 0.0443021</td><td style=\"text-align: right;\"> 0.00048576</td><td style=\"text-align: right;\">-0.0128713 </td><td style=\"text-align: right;\">-0.0219097</td><td style=\"text-align: right;\">-0.112279  </td><td style=\"text-align: right;\"> 0.030618   </td><td style=\"text-align: right;\"> 0.0766889 </td><td style=\"text-align: right;\">-0.0497343</td><td style=\"text-align: right;\">-0.100266 </td><td style=\"text-align: right;\"> 0.0179985 </td><td style=\"text-align: right;\">-0.0742389 </td><td style=\"text-align: right;\">0.139838 </td><td style=\"text-align: right;\">-0.0763072</td><td style=\"text-align: right;\">-0.0589854</td><td style=\"text-align: right;\">-0.0400702 </td><td style=\"text-align: right;\">0.20954  </td><td style=\"text-align: right;\"> 0.0414647 </td><td style=\"text-align: right;\">-0.0156734</td><td style=\"text-align: right;\">0.184692 </td><td style=\"text-align: right;\">-0.0807471</td><td style=\"text-align: right;\"> 0.0117417 </td><td style=\"text-align: right;\">-0.0547703 </td><td style=\"text-align: right;\">0.140357 </td><td style=\"text-align: right;\"> 0.0363618</td><td style=\"text-align: right;\"> 0.0326487 </td><td style=\"text-align: right;\"> 0.0121704 </td><td style=\"text-align: right;\"> 0.13324  </td><td style=\"text-align: right;\">0.0707054 </td><td style=\"text-align: right;\"> 0.0442247</td><td style=\"text-align: right;\">    0.0895982</td><td style=\"text-align: right;\">   0.185272  </td><td style=\"text-align: right;\">  -0.20441   </td><td style=\"text-align: right;\">   -0.0791383</td><td style=\"text-align: right;\">   -0.0330903</td><td style=\"text-align: right;\">   -0.437013 </td><td style=\"text-align: right;\">   -0.142393 </td><td style=\"text-align: right;\">  -0.399167  </td><td style=\"text-align: right;\">  -0.139596  </td><td style=\"text-align: right;\">     0.0127715</td><td style=\"text-align: right;\">    -0.184122 </td><td style=\"text-align: right;\">     0.187153 </td><td style=\"text-align: right;\">     0.0462934</td><td style=\"text-align: right;\">    0.102032  </td><td style=\"text-align: right;\">    -0.191505 </td><td style=\"text-align: right;\">    -0.355359 </td><td style=\"text-align: right;\">    -0.0621547</td><td style=\"text-align: right;\">   -0.115718  </td><td style=\"text-align: right;\">    -0.215226 </td><td style=\"text-align: right;\">   -0.316501  </td><td style=\"text-align: right;\">  -0.174092   </td><td style=\"text-align: right;\">    -0.0771427</td><td style=\"text-align: right;\">    -0.0415121</td><td style=\"text-align: right;\">     0.0437853</td><td style=\"text-align: right;\">     0.0681094</td><td style=\"text-align: right;\">     0.0707119</td><td style=\"text-align: right;\">     0.0158053</td><td style=\"text-align: right;\">   -0.308151  </td><td style=\"text-align: right;\">   -0.16832   </td><td style=\"text-align: right;\">   -0.0248247 </td><td style=\"text-align: right;\">     0.0842345</td><td style=\"text-align: right;\">    0.516124  </td><td style=\"text-align: right;\">     0.0759994</td><td style=\"text-align: right;\">     0.293275 </td><td style=\"text-align: right;\">     0.218589 </td><td style=\"text-align: right;\">    0.177702  </td><td style=\"text-align: right;\">    0.120153  </td><td style=\"text-align: right;\">    0.0864247 </td><td style=\"text-align: right;\">     0.146488 </td><td style=\"text-align: right;\">     0.171484 </td><td style=\"text-align: right;\">    -0.0189434</td><td style=\"text-align: right;\">    0.00363764</td><td style=\"text-align: right;\">    -0.0468599</td><td style=\"text-align: right;\">     0.128687 </td><td style=\"text-align: right;\">     0.179839 </td><td style=\"text-align: right;\">   -0.190009  </td><td style=\"text-align: right;\">    -0.0584695</td><td style=\"text-align: right;\">    -0.280561 </td><td style=\"text-align: right;\">     0.33264  </td><td style=\"text-align: right;\">   0.00649692 </td><td style=\"text-align: right;\">    -0.115309 </td><td style=\"text-align: right;\">     0.0893646</td><td style=\"text-align: right;\">    0.0989052 </td><td style=\"text-align: right;\">    0.187348  </td><td style=\"text-align: right;\">    -0.0910965</td><td style=\"text-align: right;\">    -0.0700785</td><td style=\"text-align: right;\">    -0.0587169</td><td style=\"text-align: right;\">    -0.0626242</td><td style=\"text-align: right;\">     0.172488 </td><td style=\"text-align: right;\">   0.0365008  </td><td style=\"text-align: right;\">     0.115521 </td><td style=\"text-align: right;\">    -0.18174  </td><td style=\"text-align: right;\">   -0.00118897</td><td style=\"text-align: right;\">     0.229697 </td><td style=\"text-align: right;\">      0.112766</td><td style=\"text-align: right;\">    -0.140614 </td><td style=\"text-align: right;\">     0.203142 </td><td style=\"text-align: right;\">     0.0664272</td><td style=\"text-align: right;\">    0.0143976 </td><td style=\"text-align: right;\">     0.191284 </td><td style=\"text-align: right;\">     0.0112243</td><td style=\"text-align: right;\">     0.158859 </td><td style=\"text-align: right;\">   -0.082991  </td><td style=\"text-align: right;\">     0.157081 </td><td style=\"text-align: right;\">    -0.209245 </td><td style=\"text-align: right;\">  -0.0974595  </td><td style=\"text-align: right;\">     0.211877 </td><td style=\"text-align: right;\">     0.131686 </td><td style=\"text-align: right;\">  -0.128591   </td><td style=\"text-align: right;\">    0.0427551 </td><td style=\"text-align: right;\">    -0.326828 </td><td style=\"text-align: right;\">     0.0142577</td><td style=\"text-align: right;\">     0.0972302</td><td style=\"text-align: right;\">    -0.252442 </td><td style=\"text-align: right;\">   -0.271342  </td><td style=\"text-align: right;\">    -0.0469866</td><td style=\"text-align: right;\">     0.340052 </td><td style=\"text-align: right;\">     0.191978 </td><td style=\"text-align: right;\">     0.244575 </td><td style=\"text-align: right;\">    -0.0905102</td><td style=\"text-align: right;\">    -0.453245 </td><td style=\"text-align: right;\">   -0.184185  </td><td style=\"text-align: right;\">     0.039533 </td><td style=\"text-align: right;\">     0.20211  </td><td style=\"text-align: right;\">     0.330094 </td><td style=\"text-align: right;\">    0.0837556 </td><td style=\"text-align: right;\">   -0.144539  </td><td style=\"text-align: right;\">     0.20698  </td><td style=\"text-align: right;\">     0.0150953</td><td style=\"text-align: right;\">      0.14299  </td></tr>\n",
              "<tr><td style=\"text-align: right;\">      1</td><td>b&#x27;Great cane for people with hand and wrist issues&#x27;                      </td><td>b&quot;I purchased this cane to assist me when I have to walk long distances.  I have rheumatoid arthritis that has particularly affected my low back and hips, and it sometimes makes walking difficult.  The problem with using a cane when you have RA is that RA doesn&#x27;t just affect your lower extremities.  My hands, wrists, and shoulders are also affected.  When I tried a normal cane, it was agonizingly painful for my hand and wrist in particular.  That made it not worth using, even though it did help my hip and back.  A friend with similar issues recommended this one, and the difference was amazing.  It is still a bit hard on my hand after awhile, but not to the point that would make it not worth using.  There really is no perfect solution for this circumstance short of a wheelchair, and I&#x27;m nowhere near ready for that yet!  The forearm rest makes it bearable to use this cane, and it does really help me to walk longer distances when I need to!  It is a great product, and I&#x27;m happy that I purchased it!&quot;                                                                               </td><td style=\"text-align: right;\">       4</td><td style=\"text-align: right;\">       1</td><td style=\"text-align: right;\"> 0.0501256 </td><td style=\"text-align: right;\"> 0.0631809 </td><td style=\"text-align: right;\">-0.108242  </td><td style=\"text-align: right;\"> 0.0881713 </td><td style=\"text-align: right;\"> 0.0235702  </td><td style=\"text-align: right;\">-0.156785 </td><td style=\"text-align: right;\">-0.126152  </td><td style=\"text-align: right;\">-0.0477694 </td><td style=\"text-align: right;\">-0.0696486</td><td style=\"text-align: right;\">-0.11583  </td><td style=\"text-align: right;\"> 0.017121 </td><td style=\"text-align: right;\"> 0.0447815 </td><td style=\"text-align: right;\"> 0.0539602</td><td style=\"text-align: right;\"> 0.0686426</td><td style=\"text-align: right;\">0.106992 </td><td style=\"text-align: right;\">-0.037227  </td><td style=\"text-align: right;\"> 0.0944315 </td><td style=\"text-align: right;\"> 0.0599103 </td><td style=\"text-align: right;\">-0.0541336</td><td style=\"text-align: right;\">-0.0653078</td><td style=\"text-align: right;\"> 0.00850048</td><td style=\"text-align: right;\"> 0.0471315</td><td style=\"text-align: right;\"> 0.0485751</td><td style=\"text-align: right;\"> 0.0624131</td><td style=\"text-align: right;\"> 0.0553904</td><td style=\"text-align: right;\">-0.126661  </td><td style=\"text-align: right;\">-0.0235201 </td><td style=\"text-align: right;\">-0.139983 </td><td style=\"text-align: right;\">-0.145601 </td><td style=\"text-align: right;\">-0.145369  </td><td style=\"text-align: right;\"> 0.0424572</td><td style=\"text-align: right;\">0.066932 </td><td style=\"text-align: right;\">-0.127254  </td><td style=\"text-align: right;\"> 0.0503682</td><td style=\"text-align: right;\"> 0.0371654  </td><td style=\"text-align: right;\">-0.114708  </td><td style=\"text-align: right;\">-0.215906 </td><td style=\"text-align: right;\"> 0.0120843 </td><td style=\"text-align: right;\">-0.114349 </td><td style=\"text-align: right;\">-0.100395   </td><td style=\"text-align: right;\">-0.0254444 </td><td style=\"text-align: right;\"> 0.12955   </td><td style=\"text-align: right;\"> 0.0159476</td><td style=\"text-align: right;\">0.0874039</td><td style=\"text-align: right;\">-0.110772 </td><td style=\"text-align: right;\"> 0.0217159  </td><td style=\"text-align: right;\"> 0.0810927 </td><td style=\"text-align: right;\"> 0.0474274</td><td style=\"text-align: right;\"> 0.110689  </td><td style=\"text-align: right;\">-0.127671 </td><td style=\"text-align: right;\"> 0.132974 </td><td style=\"text-align: right;\">0.087483 </td><td style=\"text-align: right;\">-0.00963068</td><td style=\"text-align: right;\">-0.140291 </td><td style=\"text-align: right;\">-0.185115 </td><td style=\"text-align: right;\">-0.0174436  </td><td style=\"text-align: right;\">-0.178409</td><td style=\"text-align: right;\">-0.0994004</td><td style=\"text-align: right;\">-0.0101164 </td><td style=\"text-align: right;\"> 0.0251488</td><td style=\"text-align: right;\">-0.0923824</td><td style=\"text-align: right;\"> 0.0453529 </td><td style=\"text-align: right;\">0.0213113</td><td style=\"text-align: right;\">-0.00868963</td><td style=\"text-align: right;\">-0.109665 </td><td style=\"text-align: right;\"> 0.0882422 </td><td style=\"text-align: right;\"> 0.0129099</td><td style=\"text-align: right;\"> 0.0820866</td><td style=\"text-align: right;\">-0.00574698</td><td style=\"text-align: right;\">-0.0139316 </td><td style=\"text-align: right;\"> 0.0135031 </td><td style=\"text-align: right;\">-0.0779164</td><td style=\"text-align: right;\">-0.0493383 </td><td style=\"text-align: right;\"> 0.00124649</td><td style=\"text-align: right;\">-0.0837232</td><td style=\"text-align: right;\">-0.00983943</td><td style=\"text-align: right;\">-0.0327533  </td><td style=\"text-align: right;\"> 0.00825546</td><td style=\"text-align: right;\">-0.048973 </td><td style=\"text-align: right;\">-0.0820281</td><td style=\"text-align: right;\">-0.0452564 </td><td style=\"text-align: right;\"> 0.0242782 </td><td style=\"text-align: right;\">0.125325 </td><td style=\"text-align: right;\">-0.113046 </td><td style=\"text-align: right;\">-0.0515116</td><td style=\"text-align: right;\">-0.0471182 </td><td style=\"text-align: right;\">0.232736 </td><td style=\"text-align: right;\">-0.00376397</td><td style=\"text-align: right;\">-0.0917237</td><td style=\"text-align: right;\">0.119323 </td><td style=\"text-align: right;\">-0.0513691</td><td style=\"text-align: right;\">-0.0372052 </td><td style=\"text-align: right;\">-0.00736422</td><td style=\"text-align: right;\">0.1277   </td><td style=\"text-align: right;\"> 0.0305515</td><td style=\"text-align: right;\">-0.00751032</td><td style=\"text-align: right;\"> 0.00928484</td><td style=\"text-align: right;\"> 0.0992109</td><td style=\"text-align: right;\">0.00516429</td><td style=\"text-align: right;\"> 0.0977703</td><td style=\"text-align: right;\">   -0.032432 </td><td style=\"text-align: right;\">   0.00310626</td><td style=\"text-align: right;\">  -0.107466  </td><td style=\"text-align: right;\">   -0.100089 </td><td style=\"text-align: right;\">    0.0440797</td><td style=\"text-align: right;\">   -0.118635 </td><td style=\"text-align: right;\">   -0.242906 </td><td style=\"text-align: right;\">   0.00917074</td><td style=\"text-align: right;\">  -0.0170642 </td><td style=\"text-align: right;\">    -0.152892 </td><td style=\"text-align: right;\">    -0.0390083</td><td style=\"text-align: right;\">     0.0566165</td><td style=\"text-align: right;\">     0.050621 </td><td style=\"text-align: right;\">    0.026811  </td><td style=\"text-align: right;\">     0.0613181</td><td style=\"text-align: right;\">    -0.0336189</td><td style=\"text-align: right;\">     0.153927 </td><td style=\"text-align: right;\">   -0.0747469 </td><td style=\"text-align: right;\">    -0.195946 </td><td style=\"text-align: right;\">   -0.156939  </td><td style=\"text-align: right;\">  -0.0132533  </td><td style=\"text-align: right;\">     0.033143 </td><td style=\"text-align: right;\">     0.0529023</td><td style=\"text-align: right;\">     0.169203 </td><td style=\"text-align: right;\">     0.0741362</td><td style=\"text-align: right;\">    -0.176502 </td><td style=\"text-align: right;\">    -0.0621804</td><td style=\"text-align: right;\">   -0.13791   </td><td style=\"text-align: right;\">   -0.209866  </td><td style=\"text-align: right;\">   -0.248011  </td><td style=\"text-align: right;\">    -0.0137401</td><td style=\"text-align: right;\">   -0.0309212 </td><td style=\"text-align: right;\">    -0.246803 </td><td style=\"text-align: right;\">    -0.0372501</td><td style=\"text-align: right;\">     0.0915166</td><td style=\"text-align: right;\">   -0.05712   </td><td style=\"text-align: right;\">   -0.201517  </td><td style=\"text-align: right;\">    0.0355246 </td><td style=\"text-align: right;\">    -0.0925261</td><td style=\"text-align: right;\">    -0.0334749</td><td style=\"text-align: right;\">     0.0527817</td><td style=\"text-align: right;\">    0.0817479 </td><td style=\"text-align: right;\">     0.0798486</td><td style=\"text-align: right;\">     0.110235 </td><td style=\"text-align: right;\">    -0.112949 </td><td style=\"text-align: right;\">   -0.102951  </td><td style=\"text-align: right;\">     0.0927637</td><td style=\"text-align: right;\">     0.0377661</td><td style=\"text-align: right;\">     0.029665 </td><td style=\"text-align: right;\">  -0.224522   </td><td style=\"text-align: right;\">     0.0582192</td><td style=\"text-align: right;\">     0.129522 </td><td style=\"text-align: right;\">   -0.00782007</td><td style=\"text-align: right;\">   -0.081475  </td><td style=\"text-align: right;\">    -0.226869 </td><td style=\"text-align: right;\">    -0.032975 </td><td style=\"text-align: right;\">    -0.165452 </td><td style=\"text-align: right;\">     0.0529351</td><td style=\"text-align: right;\">    -0.103326 </td><td style=\"text-align: right;\">   0.000558545</td><td style=\"text-align: right;\">    -0.110269 </td><td style=\"text-align: right;\">    -0.0257066</td><td style=\"text-align: right;\">   -0.0373881 </td><td style=\"text-align: right;\">    -0.182366 </td><td style=\"text-align: right;\">     -0.134821</td><td style=\"text-align: right;\">    -0.0065053</td><td style=\"text-align: right;\">    -0.0596934</td><td style=\"text-align: right;\">     0.0645834</td><td style=\"text-align: right;\">   -0.0182581 </td><td style=\"text-align: right;\">    -0.0624847</td><td style=\"text-align: right;\">    -0.0353856</td><td style=\"text-align: right;\">    -0.085403 </td><td style=\"text-align: right;\">   -0.135988  </td><td style=\"text-align: right;\">     0.0684918</td><td style=\"text-align: right;\">     0.0923969</td><td style=\"text-align: right;\">  -0.0543496  </td><td style=\"text-align: right;\">    -0.0290132</td><td style=\"text-align: right;\">     0.0379988</td><td style=\"text-align: right;\">  -0.100975   </td><td style=\"text-align: right;\">   -0.0945488 </td><td style=\"text-align: right;\">    -0.0867229</td><td style=\"text-align: right;\">     0.0373785</td><td style=\"text-align: right;\">     0.208128 </td><td style=\"text-align: right;\">    -0.210313 </td><td style=\"text-align: right;\">   -0.00943093</td><td style=\"text-align: right;\">    -0.0936037</td><td style=\"text-align: right;\">     0.344635 </td><td style=\"text-align: right;\">    -0.15407  </td><td style=\"text-align: right;\">    -0.162884 </td><td style=\"text-align: right;\">     0.200608 </td><td style=\"text-align: right;\">    -0.0211463</td><td style=\"text-align: right;\">    0.0490578 </td><td style=\"text-align: right;\">     0.0150974</td><td style=\"text-align: right;\">     0.215292 </td><td style=\"text-align: right;\">     0.0348326</td><td style=\"text-align: right;\">   -0.113397  </td><td style=\"text-align: right;\">    0.0864693 </td><td style=\"text-align: right;\">     0.0377774</td><td style=\"text-align: right;\">     0.015787 </td><td style=\"text-align: right;\">      0.130761 </td></tr>\n",
              "</tbody>\n",
              "</table>"
            ]
          },
          "metadata": {
            "tags": []
          }
        },
        {
          "output_type": "execute_result",
          "data": {
            "text/plain": [
              ""
            ]
          },
          "metadata": {
            "tags": []
          },
          "execution_count": 61
        }
      ]
    },
    {
      "cell_type": "code",
      "metadata": {
        "id": "R79emb1x6mCU",
        "colab_type": "code",
        "colab": {}
      },
      "source": [
        "gbm_all_cols = H2OGradientBoostingEstimator(stopping_metric = \"AUC\", stopping_tolerance = 0.001,\n",
        "                                              stopping_rounds = 5, score_tree_interval = 10\n",
        "                                             )"
      ],
      "execution_count": 62,
      "outputs": []
    },
    {
      "cell_type": "code",
      "metadata": {
        "id": "bPcIO6DV6wpx",
        "colab_type": "code",
        "colab": {
          "base_uri": "https://localhost:8080/",
          "height": 34
        },
        "outputId": "b1659bd5-b79b-4e92-dc88-e9210f872d85"
      },
      "source": [
        "gbm_all_cols.train(x=['votes']+headline_vecs.names+review_vecs.names, y='target', training_frame = h2o_train, validation_frame=h2o_valid)"
      ],
      "execution_count": 63,
      "outputs": [
        {
          "output_type": "stream",
          "text": [
            "gbm Model Build progress: |███████████████████████████████████████████████| 100%\n"
          ],
          "name": "stdout"
        }
      ]
    },
    {
      "cell_type": "code",
      "metadata": {
        "id": "rK9z_7gs7Dso",
        "colab_type": "code",
        "colab": {
          "base_uri": "https://localhost:8080/",
          "height": 34
        },
        "outputId": "47fc426d-4fb4-41e0-f94b-ff06d0f84202"
      },
      "source": [
        "print(\" All Columns AUC: \" + str(round(gbm_all_cols.auc(valid = True), 3)))"
      ],
      "execution_count": 64,
      "outputs": [
        {
          "output_type": "stream",
          "text": [
            " All Columns AUC: 0.923\n"
          ],
          "name": "stdout"
        }
      ]
    },
    {
      "cell_type": "code",
      "metadata": {
        "id": "bLZuJ-5R7Slt",
        "colab_type": "code",
        "colab": {
          "base_uri": "https://localhost:8080/",
          "height": 170
        },
        "outputId": "62547715-7eae-4923-f538-1ce559a155f8"
      },
      "source": [
        "gbm_all_cols.confusion_matrix(valid=True)"
      ],
      "execution_count": 65,
      "outputs": [
        {
          "output_type": "stream",
          "text": [
            "\n",
            "Confusion Matrix (Act/Pred) for max f1 @ threshold = 0.4814199306453704: \n"
          ],
          "name": "stdout"
        },
        {
          "output_type": "display_data",
          "data": {
            "text/html": [
              "<div>\n",
              "<style scoped>\n",
              "    .dataframe tbody tr th:only-of-type {\n",
              "        vertical-align: middle;\n",
              "    }\n",
              "\n",
              "    .dataframe tbody tr th {\n",
              "        vertical-align: top;\n",
              "    }\n",
              "\n",
              "    .dataframe thead th {\n",
              "        text-align: right;\n",
              "    }\n",
              "</style>\n",
              "<table border=\"1\" class=\"dataframe\">\n",
              "  <thead>\n",
              "    <tr style=\"text-align: right;\">\n",
              "      <th></th>\n",
              "      <th></th>\n",
              "      <th>0</th>\n",
              "      <th>1</th>\n",
              "      <th>Error</th>\n",
              "      <th>Rate</th>\n",
              "    </tr>\n",
              "  </thead>\n",
              "  <tbody>\n",
              "    <tr>\n",
              "      <th>0</th>\n",
              "      <td>0</td>\n",
              "      <td>2897.0</td>\n",
              "      <td>1814.0</td>\n",
              "      <td>0.3851</td>\n",
              "      <td>(1814.0/4711.0)</td>\n",
              "    </tr>\n",
              "    <tr>\n",
              "      <th>1</th>\n",
              "      <td>1</td>\n",
              "      <td>464.0</td>\n",
              "      <td>12058.0</td>\n",
              "      <td>0.0371</td>\n",
              "      <td>(464.0/12522.0)</td>\n",
              "    </tr>\n",
              "    <tr>\n",
              "      <th>2</th>\n",
              "      <td>Total</td>\n",
              "      <td>3361.0</td>\n",
              "      <td>13872.0</td>\n",
              "      <td>0.1322</td>\n",
              "      <td>(2278.0/17233.0)</td>\n",
              "    </tr>\n",
              "  </tbody>\n",
              "</table>\n",
              "</div>"
            ],
            "text/plain": [
              "               0        1   Error               Rate\n",
              "0      0  2897.0   1814.0  0.3851    (1814.0/4711.0)\n",
              "1      1   464.0  12058.0  0.0371    (464.0/12522.0)\n",
              "2  Total  3361.0  13872.0  0.1322   (2278.0/17233.0)"
            ]
          },
          "metadata": {
            "tags": []
          }
        },
        {
          "output_type": "execute_result",
          "data": {
            "text/plain": [
              ""
            ]
          },
          "metadata": {
            "tags": []
          },
          "execution_count": 65
        }
      ]
    },
    {
      "cell_type": "code",
      "metadata": {
        "id": "BAzq6jet7WoZ",
        "colab_type": "code",
        "colab": {
          "base_uri": "https://localhost:8080/",
          "height": 612
        },
        "outputId": "1df779fa-e360-43e9-bcee-0302d43ae316"
      },
      "source": [
        "gbm_all_cols.varimp_plot()"
      ],
      "execution_count": 66,
      "outputs": [
        {
          "output_type": "display_data",
          "data": {
            "image/png": "[encoded data removed]",
            "text/plain": [
              "<Figure size 1008x720 with 1 Axes>"
            ]
          },
          "metadata": {
            "tags": [],
            "needs_background": "light"
          }
        }
      ]
    },
    {
      "cell_type": "code",
      "metadata": {
        "id": "4dXaf8x08DbQ",
        "colab_type": "code",
        "colab": {}
      },
      "source": [
        "gbm_hyperparameters = H2OGradientBoostingEstimator(ntrees=100,\n",
        "                                              max_depth = 6,  learn_rate=0.1\n",
        "                                             )"
      ],
      "execution_count": 67,
      "outputs": []
    },
    {
      "cell_type": "code",
      "metadata": {
        "id": "4c0OaxTh8lKX",
        "colab_type": "code",
        "colab": {
          "base_uri": "https://localhost:8080/",
          "height": 34
        },
        "outputId": "4d979eeb-44b4-43c3-87de-ca5a927fd7e3"
      },
      "source": [
        "gbm_hyperparameters.train(x=headline_vecs.names+review_vecs.names, y='target', training_frame = h2o_train, validation_frame=h2o_valid)"
      ],
      "execution_count": 68,
      "outputs": [
        {
          "output_type": "stream",
          "text": [
            "gbm Model Build progress: |███████████████████████████████████████████████| 100%\n"
          ],
          "name": "stdout"
        }
      ]
    },
    {
      "cell_type": "code",
      "metadata": {
        "id": "ntNuKw1D8qMd",
        "colab_type": "code",
        "colab": {
          "base_uri": "https://localhost:8080/",
          "height": 34
        },
        "outputId": "9283f90f-b73a-44b9-9c9f-3d4342582838"
      },
      "source": [
        "print(\" Hyperparameter AUC: \" + str(round(gbm_hyperparameters.auc(valid = True), 3)))"
      ],
      "execution_count": 69,
      "outputs": [
        {
          "output_type": "stream",
          "text": [
            " Hyperparameter AUC: 0.934\n"
          ],
          "name": "stdout"
        }
      ]
    },
    {
      "cell_type": "code",
      "metadata": {
        "id": "NHsxtiB78xWS",
        "colab_type": "code",
        "colab": {
          "base_uri": "https://localhost:8080/",
          "height": 170
        },
        "outputId": "36944873-8f11-474b-8d83-dab2c9b241e1"
      },
      "source": [
        "gbm_hyperparameters.confusion_matrix(valid=True)"
      ],
      "execution_count": 70,
      "outputs": [
        {
          "output_type": "stream",
          "text": [
            "\n",
            "Confusion Matrix (Act/Pred) for max f1 @ threshold = 0.4649788275942757: \n"
          ],
          "name": "stdout"
        },
        {
          "output_type": "display_data",
          "data": {
            "text/html": [
              "<div>\n",
              "<style scoped>\n",
              "    .dataframe tbody tr th:only-of-type {\n",
              "        vertical-align: middle;\n",
              "    }\n",
              "\n",
              "    .dataframe tbody tr th {\n",
              "        vertical-align: top;\n",
              "    }\n",
              "\n",
              "    .dataframe thead th {\n",
              "        text-align: right;\n",
              "    }\n",
              "</style>\n",
              "<table border=\"1\" class=\"dataframe\">\n",
              "  <thead>\n",
              "    <tr style=\"text-align: right;\">\n",
              "      <th></th>\n",
              "      <th></th>\n",
              "      <th>0</th>\n",
              "      <th>1</th>\n",
              "      <th>Error</th>\n",
              "      <th>Rate</th>\n",
              "    </tr>\n",
              "  </thead>\n",
              "  <tbody>\n",
              "    <tr>\n",
              "      <th>0</th>\n",
              "      <td>0</td>\n",
              "      <td>3169.0</td>\n",
              "      <td>1542.0</td>\n",
              "      <td>0.3273</td>\n",
              "      <td>(1542.0/4711.0)</td>\n",
              "    </tr>\n",
              "    <tr>\n",
              "      <th>1</th>\n",
              "      <td>1</td>\n",
              "      <td>525.0</td>\n",
              "      <td>11997.0</td>\n",
              "      <td>0.0419</td>\n",
              "      <td>(525.0/12522.0)</td>\n",
              "    </tr>\n",
              "    <tr>\n",
              "      <th>2</th>\n",
              "      <td>Total</td>\n",
              "      <td>3694.0</td>\n",
              "      <td>13539.0</td>\n",
              "      <td>0.1199</td>\n",
              "      <td>(2067.0/17233.0)</td>\n",
              "    </tr>\n",
              "  </tbody>\n",
              "</table>\n",
              "</div>"
            ],
            "text/plain": [
              "               0        1   Error               Rate\n",
              "0      0  3169.0   1542.0  0.3273    (1542.0/4711.0)\n",
              "1      1   525.0  11997.0  0.0419    (525.0/12522.0)\n",
              "2  Total  3694.0  13539.0  0.1199   (2067.0/17233.0)"
            ]
          },
          "metadata": {
            "tags": []
          }
        },
        {
          "output_type": "execute_result",
          "data": {
            "text/plain": [
              ""
            ]
          },
          "metadata": {
            "tags": []
          },
          "execution_count": 70
        }
      ]
    },
    {
      "cell_type": "code",
      "metadata": {
        "id": "1I0QMuUj9C40",
        "colab_type": "code",
        "colab": {}
      },
      "source": [
        "#Now let's convert the dataframe into Train, Validation, and Test set!"
      ],
      "execution_count": 71,
      "outputs": []
    },
    {
      "cell_type": "code",
      "metadata": {
        "id": "W-rmUoV_-J-R",
        "colab_type": "code",
        "colab": {}
      },
      "source": [
        "h2o_train, h2o_valid, h2o_test = h2o_df_ext.split_frame(ratios=[.7,.15])"
      ],
      "execution_count": 72,
      "outputs": []
    },
    {
      "cell_type": "code",
      "metadata": {
        "id": "4Ma9joqC-NdV",
        "colab_type": "code",
        "colab": {}
      },
      "source": [
        "gbm_final = H2OGradientBoostingEstimator(ntrees=200,\n",
        "                                              max_depth = 6,  learn_rate=0.1\n",
        "                                             )"
      ],
      "execution_count": 73,
      "outputs": []
    },
    {
      "cell_type": "code",
      "metadata": {
        "id": "Rnhb0KcC-P11",
        "colab_type": "code",
        "colab": {
          "base_uri": "https://localhost:8080/",
          "height": 34
        },
        "outputId": "8b56dd62-48ea-4cb5-d643-f5281f5f30f1"
      },
      "source": [
        "gbm_final.train(x=headline_vecs.names+review_vecs.names, y='target', training_frame = h2o_train, validation_frame=h2o_valid)"
      ],
      "execution_count": 74,
      "outputs": [
        {
          "output_type": "stream",
          "text": [
            "gbm Model Build progress: |███████████████████████████████████████████████| 100%\n"
          ],
          "name": "stdout"
        }
      ]
    },
    {
      "cell_type": "code",
      "metadata": {
        "id": "-GiaqKyy-SFf",
        "colab_type": "code",
        "colab": {
          "base_uri": "https://localhost:8080/",
          "height": 34
        },
        "outputId": "7369d8e7-dea4-4fd0-cca6-cee16370a209"
      },
      "source": [
        "print(\" GBM Final AUC: \" + str(round(gbm_final.auc(valid = True), 3)))"
      ],
      "execution_count": 75,
      "outputs": [
        {
          "output_type": "stream",
          "text": [
            " GBM Final AUC: 0.936\n"
          ],
          "name": "stdout"
        }
      ]
    },
    {
      "cell_type": "code",
      "metadata": {
        "id": "E7Mjw0_K-UsW",
        "colab_type": "code",
        "colab": {
          "base_uri": "https://localhost:8080/",
          "height": 170
        },
        "outputId": "56b39db4-eba8-4a8e-e38d-4a5adbf5a7de"
      },
      "source": [
        "gbm_final.confusion_matrix(valid=True)"
      ],
      "execution_count": 76,
      "outputs": [
        {
          "output_type": "stream",
          "text": [
            "\n",
            "Confusion Matrix (Act/Pred) for max f1 @ threshold = 0.49732594104435335: \n"
          ],
          "name": "stdout"
        },
        {
          "output_type": "display_data",
          "data": {
            "text/html": [
              "<div>\n",
              "<style scoped>\n",
              "    .dataframe tbody tr th:only-of-type {\n",
              "        vertical-align: middle;\n",
              "    }\n",
              "\n",
              "    .dataframe tbody tr th {\n",
              "        vertical-align: top;\n",
              "    }\n",
              "\n",
              "    .dataframe thead th {\n",
              "        text-align: right;\n",
              "    }\n",
              "</style>\n",
              "<table border=\"1\" class=\"dataframe\">\n",
              "  <thead>\n",
              "    <tr style=\"text-align: right;\">\n",
              "      <th></th>\n",
              "      <th></th>\n",
              "      <th>0</th>\n",
              "      <th>1</th>\n",
              "      <th>Error</th>\n",
              "      <th>Rate</th>\n",
              "    </tr>\n",
              "  </thead>\n",
              "  <tbody>\n",
              "    <tr>\n",
              "      <th>0</th>\n",
              "      <td>0</td>\n",
              "      <td>2480.0</td>\n",
              "      <td>1014.0</td>\n",
              "      <td>0.2902</td>\n",
              "      <td>(1014.0/3494.0)</td>\n",
              "    </tr>\n",
              "    <tr>\n",
              "      <th>1</th>\n",
              "      <td>1</td>\n",
              "      <td>495.0</td>\n",
              "      <td>8856.0</td>\n",
              "      <td>0.0529</td>\n",
              "      <td>(495.0/9351.0)</td>\n",
              "    </tr>\n",
              "    <tr>\n",
              "      <th>2</th>\n",
              "      <td>Total</td>\n",
              "      <td>2975.0</td>\n",
              "      <td>9870.0</td>\n",
              "      <td>0.1175</td>\n",
              "      <td>(1509.0/12845.0)</td>\n",
              "    </tr>\n",
              "  </tbody>\n",
              "</table>\n",
              "</div>"
            ],
            "text/plain": [
              "               0       1   Error               Rate\n",
              "0      0  2480.0  1014.0  0.2902    (1014.0/3494.0)\n",
              "1      1   495.0  8856.0  0.0529     (495.0/9351.0)\n",
              "2  Total  2975.0  9870.0  0.1175   (1509.0/12845.0)"
            ]
          },
          "metadata": {
            "tags": []
          }
        },
        {
          "output_type": "execute_result",
          "data": {
            "text/plain": [
              ""
            ]
          },
          "metadata": {
            "tags": []
          },
          "execution_count": 76
        }
      ]
    },
    {
      "cell_type": "code",
      "metadata": {
        "id": "fRleijjO-Xi4",
        "colab_type": "code",
        "colab": {
          "base_uri": "https://localhost:8080/",
          "height": 1000
        },
        "outputId": "5cd238a4-f5bf-4569-c25d-c22c39656144"
      },
      "source": [
        "gbm_final.model_performance(h2o_test)"
      ],
      "execution_count": 77,
      "outputs": [
        {
          "output_type": "stream",
          "text": [
            "\n",
            "ModelMetricsBinomial: gbm\n",
            "** Reported on test data. **\n",
            "\n",
            "MSE: 0.08438777131153193\n",
            "RMSE: 0.29049573372346094\n",
            "LogLoss: 0.27280873037982983\n",
            "Mean Per-Class Error: 0.14001509134907708\n",
            "AUC: 0.9388665719594401\n",
            "AUCPR: 0.9746345451987528\n",
            "Gini: 0.8777331439188802\n",
            "\n",
            "Confusion Matrix (Act/Pred) for max f1 @ threshold = 0.5153160852515505: \n"
          ],
          "name": "stdout"
        },
        {
          "output_type": "display_data",
          "data": {
            "text/html": [
              "<div>\n",
              "<style scoped>\n",
              "    .dataframe tbody tr th:only-of-type {\n",
              "        vertical-align: middle;\n",
              "    }\n",
              "\n",
              "    .dataframe tbody tr th {\n",
              "        vertical-align: top;\n",
              "    }\n",
              "\n",
              "    .dataframe thead th {\n",
              "        text-align: right;\n",
              "    }\n",
              "</style>\n",
              "<table border=\"1\" class=\"dataframe\">\n",
              "  <thead>\n",
              "    <tr style=\"text-align: right;\">\n",
              "      <th></th>\n",
              "      <th></th>\n",
              "      <th>0</th>\n",
              "      <th>1</th>\n",
              "      <th>Error</th>\n",
              "      <th>Rate</th>\n",
              "    </tr>\n",
              "  </thead>\n",
              "  <tbody>\n",
              "    <tr>\n",
              "      <th>0</th>\n",
              "      <td>0</td>\n",
              "      <td>2533.0</td>\n",
              "      <td>1011.0</td>\n",
              "      <td>0.2853</td>\n",
              "      <td>(1011.0/3544.0)</td>\n",
              "    </tr>\n",
              "    <tr>\n",
              "      <th>1</th>\n",
              "      <td>1</td>\n",
              "      <td>518.0</td>\n",
              "      <td>8923.0</td>\n",
              "      <td>0.0549</td>\n",
              "      <td>(518.0/9441.0)</td>\n",
              "    </tr>\n",
              "    <tr>\n",
              "      <th>2</th>\n",
              "      <td>Total</td>\n",
              "      <td>3051.0</td>\n",
              "      <td>9934.0</td>\n",
              "      <td>0.1178</td>\n",
              "      <td>(1529.0/12985.0)</td>\n",
              "    </tr>\n",
              "  </tbody>\n",
              "</table>\n",
              "</div>"
            ],
            "text/plain": [
              "               0       1   Error               Rate\n",
              "0      0  2533.0  1011.0  0.2853    (1011.0/3544.0)\n",
              "1      1   518.0  8923.0  0.0549     (518.0/9441.0)\n",
              "2  Total  3051.0  9934.0  0.1178   (1529.0/12985.0)"
            ]
          },
          "metadata": {
            "tags": []
          }
        },
        {
          "output_type": "stream",
          "text": [
            "\n",
            "Maximum Metrics: Maximum metrics at their respective thresholds\n"
          ],
          "name": "stdout"
        },
        {
          "output_type": "display_data",
          "data": {
            "text/html": [
              "<div>\n",
              "<style scoped>\n",
              "    .dataframe tbody tr th:only-of-type {\n",
              "        vertical-align: middle;\n",
              "    }\n",
              "\n",
              "    .dataframe tbody tr th {\n",
              "        vertical-align: top;\n",
              "    }\n",
              "\n",
              "    .dataframe thead th {\n",
              "        text-align: right;\n",
              "    }\n",
              "</style>\n",
              "<table border=\"1\" class=\"dataframe\">\n",
              "  <thead>\n",
              "    <tr style=\"text-align: right;\">\n",
              "      <th></th>\n",
              "      <th>metric</th>\n",
              "      <th>threshold</th>\n",
              "      <th>value</th>\n",
              "      <th>idx</th>\n",
              "    </tr>\n",
              "  </thead>\n",
              "  <tbody>\n",
              "    <tr>\n",
              "      <th>0</th>\n",
              "      <td>max f1</td>\n",
              "      <td>0.515316</td>\n",
              "      <td>0.921084</td>\n",
              "      <td>230.0</td>\n",
              "    </tr>\n",
              "    <tr>\n",
              "      <th>1</th>\n",
              "      <td>max f2</td>\n",
              "      <td>0.194651</td>\n",
              "      <td>0.954085</td>\n",
              "      <td>323.0</td>\n",
              "    </tr>\n",
              "    <tr>\n",
              "      <th>2</th>\n",
              "      <td>max f0point5</td>\n",
              "      <td>0.718439</td>\n",
              "      <td>0.924274</td>\n",
              "      <td>158.0</td>\n",
              "    </tr>\n",
              "    <tr>\n",
              "      <th>3</th>\n",
              "      <td>max accuracy</td>\n",
              "      <td>0.543219</td>\n",
              "      <td>0.882634</td>\n",
              "      <td>220.0</td>\n",
              "    </tr>\n",
              "    <tr>\n",
              "      <th>4</th>\n",
              "      <td>max precision</td>\n",
              "      <td>0.998362</td>\n",
              "      <td>1.000000</td>\n",
              "      <td>0.0</td>\n",
              "    </tr>\n",
              "    <tr>\n",
              "      <th>5</th>\n",
              "      <td>max recall</td>\n",
              "      <td>0.010023</td>\n",
              "      <td>1.000000</td>\n",
              "      <td>393.0</td>\n",
              "    </tr>\n",
              "    <tr>\n",
              "      <th>6</th>\n",
              "      <td>max specificity</td>\n",
              "      <td>0.998362</td>\n",
              "      <td>1.000000</td>\n",
              "      <td>0.0</td>\n",
              "    </tr>\n",
              "    <tr>\n",
              "      <th>7</th>\n",
              "      <td>max absolute_mcc</td>\n",
              "      <td>0.661621</td>\n",
              "      <td>0.701901</td>\n",
              "      <td>180.0</td>\n",
              "    </tr>\n",
              "    <tr>\n",
              "      <th>8</th>\n",
              "      <td>max min_per_class_accuracy</td>\n",
              "      <td>0.760391</td>\n",
              "      <td>0.856377</td>\n",
              "      <td>142.0</td>\n",
              "    </tr>\n",
              "    <tr>\n",
              "      <th>9</th>\n",
              "      <td>max mean_per_class_accuracy</td>\n",
              "      <td>0.718439</td>\n",
              "      <td>0.859985</td>\n",
              "      <td>158.0</td>\n",
              "    </tr>\n",
              "    <tr>\n",
              "      <th>10</th>\n",
              "      <td>max tns</td>\n",
              "      <td>0.998362</td>\n",
              "      <td>3544.000000</td>\n",
              "      <td>0.0</td>\n",
              "    </tr>\n",
              "    <tr>\n",
              "      <th>11</th>\n",
              "      <td>max fns</td>\n",
              "      <td>0.998362</td>\n",
              "      <td>9197.000000</td>\n",
              "      <td>0.0</td>\n",
              "    </tr>\n",
              "    <tr>\n",
              "      <th>12</th>\n",
              "      <td>max fps</td>\n",
              "      <td>0.001603</td>\n",
              "      <td>3544.000000</td>\n",
              "      <td>399.0</td>\n",
              "    </tr>\n",
              "    <tr>\n",
              "      <th>13</th>\n",
              "      <td>max tps</td>\n",
              "      <td>0.010023</td>\n",
              "      <td>9441.000000</td>\n",
              "      <td>393.0</td>\n",
              "    </tr>\n",
              "    <tr>\n",
              "      <th>14</th>\n",
              "      <td>max tnr</td>\n",
              "      <td>0.998362</td>\n",
              "      <td>1.000000</td>\n",
              "      <td>0.0</td>\n",
              "    </tr>\n",
              "    <tr>\n",
              "      <th>15</th>\n",
              "      <td>max fnr</td>\n",
              "      <td>0.998362</td>\n",
              "      <td>0.974155</td>\n",
              "      <td>0.0</td>\n",
              "    </tr>\n",
              "    <tr>\n",
              "      <th>16</th>\n",
              "      <td>max fpr</td>\n",
              "      <td>0.001603</td>\n",
              "      <td>1.000000</td>\n",
              "      <td>399.0</td>\n",
              "    </tr>\n",
              "    <tr>\n",
              "      <th>17</th>\n",
              "      <td>max tpr</td>\n",
              "      <td>0.010023</td>\n",
              "      <td>1.000000</td>\n",
              "      <td>393.0</td>\n",
              "    </tr>\n",
              "  </tbody>\n",
              "</table>\n",
              "</div>"
            ],
            "text/plain": [
              "                         metric  threshold        value    idx\n",
              "0                        max f1   0.515316     0.921084  230.0\n",
              "1                        max f2   0.194651     0.954085  323.0\n",
              "2                  max f0point5   0.718439     0.924274  158.0\n",
              "3                  max accuracy   0.543219     0.882634  220.0\n",
              "4                 max precision   0.998362     1.000000    0.0\n",
              "5                    max recall   0.010023     1.000000  393.0\n",
              "6               max specificity   0.998362     1.000000    0.0\n",
              "7              max absolute_mcc   0.661621     0.701901  180.0\n",
              "8    max min_per_class_accuracy   0.760391     0.856377  142.0\n",
              "9   max mean_per_class_accuracy   0.718439     0.859985  158.0\n",
              "10                      max tns   0.998362  3544.000000    0.0\n",
              "11                      max fns   0.998362  9197.000000    0.0\n",
              "12                      max fps   0.001603  3544.000000  399.0\n",
              "13                      max tps   0.010023  9441.000000  393.0\n",
              "14                      max tnr   0.998362     1.000000    0.0\n",
              "15                      max fnr   0.998362     0.974155    0.0\n",
              "16                      max fpr   0.001603     1.000000  399.0\n",
              "17                      max tpr   0.010023     1.000000  393.0"
            ]
          },
          "metadata": {
            "tags": []
          }
        },
        {
          "output_type": "stream",
          "text": [
            "\n",
            "Gains/Lift Table: Avg response rate: 72.71 %, avg score: 73.41 %\n"
          ],
          "name": "stdout"
        },
        {
          "output_type": "display_data",
          "data": {
            "text/html": [
              "<div>\n",
              "<style scoped>\n",
              "    .dataframe tbody tr th:only-of-type {\n",
              "        vertical-align: middle;\n",
              "    }\n",
              "\n",
              "    .dataframe tbody tr th {\n",
              "        vertical-align: top;\n",
              "    }\n",
              "\n",
              "    .dataframe thead th {\n",
              "        text-align: right;\n",
              "    }\n",
              "</style>\n",
              "<table border=\"1\" class=\"dataframe\">\n",
              "  <thead>\n",
              "    <tr style=\"text-align: right;\">\n",
              "      <th></th>\n",
              "      <th></th>\n",
              "      <th>group</th>\n",
              "      <th>cumulative_data_fraction</th>\n",
              "      <th>lower_threshold</th>\n",
              "      <th>lift</th>\n",
              "      <th>cumulative_lift</th>\n",
              "      <th>response_rate</th>\n",
              "      <th>score</th>\n",
              "      <th>cumulative_response_rate</th>\n",
              "      <th>cumulative_score</th>\n",
              "      <th>capture_rate</th>\n",
              "      <th>cumulative_capture_rate</th>\n",
              "      <th>gain</th>\n",
              "      <th>cumulative_gain</th>\n",
              "    </tr>\n",
              "  </thead>\n",
              "  <tbody>\n",
              "    <tr>\n",
              "      <th>0</th>\n",
              "      <td></td>\n",
              "      <td>1</td>\n",
              "      <td>0.010397</td>\n",
              "      <td>0.998361</td>\n",
              "      <td>1.375384</td>\n",
              "      <td>1.375384</td>\n",
              "      <td>1.000000</td>\n",
              "      <td>0.998502</td>\n",
              "      <td>1.000000</td>\n",
              "      <td>0.998502</td>\n",
              "      <td>0.014299</td>\n",
              "      <td>0.014299</td>\n",
              "      <td>37.538396</td>\n",
              "      <td>37.538396</td>\n",
              "    </tr>\n",
              "    <tr>\n",
              "      <th>1</th>\n",
              "      <td></td>\n",
              "      <td>2</td>\n",
              "      <td>0.020023</td>\n",
              "      <td>0.998056</td>\n",
              "      <td>1.375384</td>\n",
              "      <td>1.375384</td>\n",
              "      <td>1.000000</td>\n",
              "      <td>0.998222</td>\n",
              "      <td>1.000000</td>\n",
              "      <td>0.998368</td>\n",
              "      <td>0.013240</td>\n",
              "      <td>0.027539</td>\n",
              "      <td>37.538396</td>\n",
              "      <td>37.538396</td>\n",
              "    </tr>\n",
              "    <tr>\n",
              "      <th>2</th>\n",
              "      <td></td>\n",
              "      <td>3</td>\n",
              "      <td>0.030497</td>\n",
              "      <td>0.997660</td>\n",
              "      <td>1.375384</td>\n",
              "      <td>1.375384</td>\n",
              "      <td>1.000000</td>\n",
              "      <td>0.997861</td>\n",
              "      <td>1.000000</td>\n",
              "      <td>0.998193</td>\n",
              "      <td>0.014405</td>\n",
              "      <td>0.041945</td>\n",
              "      <td>37.538396</td>\n",
              "      <td>37.538396</td>\n",
              "    </tr>\n",
              "    <tr>\n",
              "      <th>3</th>\n",
              "      <td></td>\n",
              "      <td>4</td>\n",
              "      <td>0.040046</td>\n",
              "      <td>0.997238</td>\n",
              "      <td>1.375384</td>\n",
              "      <td>1.375384</td>\n",
              "      <td>1.000000</td>\n",
              "      <td>0.997467</td>\n",
              "      <td>1.000000</td>\n",
              "      <td>0.998020</td>\n",
              "      <td>0.013134</td>\n",
              "      <td>0.055079</td>\n",
              "      <td>37.538396</td>\n",
              "      <td>37.538396</td>\n",
              "    </tr>\n",
              "    <tr>\n",
              "      <th>4</th>\n",
              "      <td></td>\n",
              "      <td>5</td>\n",
              "      <td>0.050058</td>\n",
              "      <td>0.996882</td>\n",
              "      <td>1.364804</td>\n",
              "      <td>1.373268</td>\n",
              "      <td>0.992308</td>\n",
              "      <td>0.997082</td>\n",
              "      <td>0.998462</td>\n",
              "      <td>0.997833</td>\n",
              "      <td>0.013664</td>\n",
              "      <td>0.068743</td>\n",
              "      <td>36.480409</td>\n",
              "      <td>37.326799</td>\n",
              "    </tr>\n",
              "    <tr>\n",
              "      <th>5</th>\n",
              "      <td></td>\n",
              "      <td>6</td>\n",
              "      <td>0.100039</td>\n",
              "      <td>0.994608</td>\n",
              "      <td>1.373265</td>\n",
              "      <td>1.373266</td>\n",
              "      <td>0.998459</td>\n",
              "      <td>0.995739</td>\n",
              "      <td>0.998460</td>\n",
              "      <td>0.996787</td>\n",
              "      <td>0.068637</td>\n",
              "      <td>0.137380</td>\n",
              "      <td>37.326473</td>\n",
              "      <td>37.326636</td>\n",
              "    </tr>\n",
              "    <tr>\n",
              "      <th>6</th>\n",
              "      <td></td>\n",
              "      <td>7</td>\n",
              "      <td>0.150019</td>\n",
              "      <td>0.991487</td>\n",
              "      <td>1.371145</td>\n",
              "      <td>1.372560</td>\n",
              "      <td>0.996918</td>\n",
              "      <td>0.993049</td>\n",
              "      <td>0.997947</td>\n",
              "      <td>0.995541</td>\n",
              "      <td>0.068531</td>\n",
              "      <td>0.205910</td>\n",
              "      <td>37.114549</td>\n",
              "      <td>37.255977</td>\n",
              "    </tr>\n",
              "    <tr>\n",
              "      <th>7</th>\n",
              "      <td></td>\n",
              "      <td>8</td>\n",
              "      <td>0.200000</td>\n",
              "      <td>0.987682</td>\n",
              "      <td>1.358430</td>\n",
              "      <td>1.369029</td>\n",
              "      <td>0.987673</td>\n",
              "      <td>0.989670</td>\n",
              "      <td>0.995379</td>\n",
              "      <td>0.994074</td>\n",
              "      <td>0.067895</td>\n",
              "      <td>0.273806</td>\n",
              "      <td>35.843008</td>\n",
              "      <td>36.902870</td>\n",
              "    </tr>\n",
              "    <tr>\n",
              "      <th>8</th>\n",
              "      <td></td>\n",
              "      <td>9</td>\n",
              "      <td>0.300039</td>\n",
              "      <td>0.975729</td>\n",
              "      <td>1.365855</td>\n",
              "      <td>1.367970</td>\n",
              "      <td>0.993072</td>\n",
              "      <td>0.982083</td>\n",
              "      <td>0.994610</td>\n",
              "      <td>0.990076</td>\n",
              "      <td>0.136638</td>\n",
              "      <td>0.410444</td>\n",
              "      <td>36.585474</td>\n",
              "      <td>36.797045</td>\n",
              "    </tr>\n",
              "    <tr>\n",
              "      <th>9</th>\n",
              "      <td></td>\n",
              "      <td>10</td>\n",
              "      <td>0.400000</td>\n",
              "      <td>0.955877</td>\n",
              "      <td>1.336178</td>\n",
              "      <td>1.360025</td>\n",
              "      <td>0.971495</td>\n",
              "      <td>0.966564</td>\n",
              "      <td>0.988833</td>\n",
              "      <td>0.984200</td>\n",
              "      <td>0.133566</td>\n",
              "      <td>0.544010</td>\n",
              "      <td>33.617810</td>\n",
              "      <td>36.002542</td>\n",
              "    </tr>\n",
              "    <tr>\n",
              "      <th>10</th>\n",
              "      <td></td>\n",
              "      <td>11</td>\n",
              "      <td>0.500039</td>\n",
              "      <td>0.918482</td>\n",
              "      <td>1.281151</td>\n",
              "      <td>1.344246</td>\n",
              "      <td>0.931486</td>\n",
              "      <td>0.939621</td>\n",
              "      <td>0.977360</td>\n",
              "      <td>0.975282</td>\n",
              "      <td>0.128164</td>\n",
              "      <td>0.672175</td>\n",
              "      <td>28.115057</td>\n",
              "      <td>34.424559</td>\n",
              "    </tr>\n",
              "    <tr>\n",
              "      <th>11</th>\n",
              "      <td></td>\n",
              "      <td>12</td>\n",
              "      <td>0.600000</td>\n",
              "      <td>0.842848</td>\n",
              "      <td>1.201607</td>\n",
              "      <td>1.320482</td>\n",
              "      <td>0.873652</td>\n",
              "      <td>0.885887</td>\n",
              "      <td>0.960082</td>\n",
              "      <td>0.960388</td>\n",
              "      <td>0.120114</td>\n",
              "      <td>0.792289</td>\n",
              "      <td>20.160664</td>\n",
              "      <td>32.048159</td>\n",
              "    </tr>\n",
              "    <tr>\n",
              "      <th>12</th>\n",
              "      <td></td>\n",
              "      <td>13</td>\n",
              "      <td>0.699961</td>\n",
              "      <td>0.685513</td>\n",
              "      <td>1.035247</td>\n",
              "      <td>1.279747</td>\n",
              "      <td>0.752696</td>\n",
              "      <td>0.774438</td>\n",
              "      <td>0.930465</td>\n",
              "      <td>0.933833</td>\n",
              "      <td>0.103485</td>\n",
              "      <td>0.895774</td>\n",
              "      <td>3.524664</td>\n",
              "      <td>27.974719</td>\n",
              "    </tr>\n",
              "    <tr>\n",
              "      <th>13</th>\n",
              "      <td></td>\n",
              "      <td>14</td>\n",
              "      <td>0.800000</td>\n",
              "      <td>0.387310</td>\n",
              "      <td>0.693515</td>\n",
              "      <td>1.206440</td>\n",
              "      <td>0.504234</td>\n",
              "      <td>0.550533</td>\n",
              "      <td>0.877166</td>\n",
              "      <td>0.885902</td>\n",
              "      <td>0.069378</td>\n",
              "      <td>0.965152</td>\n",
              "      <td>-30.648461</td>\n",
              "      <td>20.644000</td>\n",
              "    </tr>\n",
              "    <tr>\n",
              "      <th>14</th>\n",
              "      <td></td>\n",
              "      <td>15</td>\n",
              "      <td>0.899961</td>\n",
              "      <td>0.086419</td>\n",
              "      <td>0.311528</td>\n",
              "      <td>1.107039</td>\n",
              "      <td>0.226502</td>\n",
              "      <td>0.223769</td>\n",
              "      <td>0.804895</td>\n",
              "      <td>0.812357</td>\n",
              "      <td>0.031141</td>\n",
              "      <td>0.996293</td>\n",
              "      <td>-68.847235</td>\n",
              "      <td>10.703933</td>\n",
              "    </tr>\n",
              "    <tr>\n",
              "      <th>15</th>\n",
              "      <td></td>\n",
              "      <td>16</td>\n",
              "      <td>1.000000</td>\n",
              "      <td>0.000398</td>\n",
              "      <td>0.037058</td>\n",
              "      <td>1.000000</td>\n",
              "      <td>0.026944</td>\n",
              "      <td>0.029855</td>\n",
              "      <td>0.727070</td>\n",
              "      <td>0.734076</td>\n",
              "      <td>0.003707</td>\n",
              "      <td>1.000000</td>\n",
              "      <td>-96.294193</td>\n",
              "      <td>0.000000</td>\n",
              "    </tr>\n",
              "  </tbody>\n",
              "</table>\n",
              "</div>"
            ],
            "text/plain": [
              "      group  ...       gain  cumulative_gain\n",
              "0         1  ...  37.538396        37.538396\n",
              "1         2  ...  37.538396        37.538396\n",
              "2         3  ...  37.538396        37.538396\n",
              "3         4  ...  37.538396        37.538396\n",
              "4         5  ...  36.480409        37.326799\n",
              "5         6  ...  37.326473        37.326636\n",
              "6         7  ...  37.114549        37.255977\n",
              "7         8  ...  35.843008        36.902870\n",
              "8         9  ...  36.585474        36.797045\n",
              "9        10  ...  33.617810        36.002542\n",
              "10       11  ...  28.115057        34.424559\n",
              "11       12  ...  20.160664        32.048159\n",
              "12       13  ...   3.524664        27.974719\n",
              "13       14  ... -30.648461        20.644000\n",
              "14       15  ... -68.847235        10.703933\n",
              "15       16  ... -96.294193         0.000000\n",
              "\n",
              "[16 rows x 14 columns]"
            ]
          },
          "metadata": {
            "tags": []
          }
        },
        {
          "output_type": "stream",
          "text": [
            "\n"
          ],
          "name": "stdout"
        },
        {
          "output_type": "execute_result",
          "data": {
            "text/plain": [
              ""
            ]
          },
          "metadata": {
            "tags": []
          },
          "execution_count": 77
        }
      ]
    },
    {
      "cell_type": "code",
      "metadata": {
        "id": "PAlWBB4Z_AYZ",
        "colab_type": "code",
        "colab": {}
      },
      "source": [
        ""
      ],
      "execution_count": null,
      "outputs": []
    }
  ]
}